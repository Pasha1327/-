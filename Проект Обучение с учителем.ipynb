{
  "metadata": {
    "kernelspec": {
      "name": "python",
      "display_name": "Python (Pyodide)",
      "language": "python"
    },
    "language_info": {
      "codemirror_mode": {
        "name": "python",
        "version": 3
      },
      "file_extension": ".py",
      "mimetype": "text/x-python",
      "name": "python",
      "nbconvert_exporter": "python",
      "pygments_lexer": "ipython3",
      "version": "3.8"
    },
    "ExecuteTimeLog": [
      {
        "duration": 1416,
        "start_time": "2024-11-29T12:19:06.336Z"
      },
      {
        "duration": 110,
        "start_time": "2024-11-29T12:19:39.969Z"
      },
      {
        "duration": 3823,
        "start_time": "2024-11-29T12:19:50.538Z"
      },
      {
        "duration": 7574,
        "start_time": "2024-11-29T12:20:07.220Z"
      },
      {
        "duration": 50,
        "start_time": "2024-11-29T12:30:15.678Z"
      },
      {
        "duration": 8,
        "start_time": "2024-11-29T12:30:28.215Z"
      },
      {
        "duration": 432,
        "start_time": "2024-11-29T12:48:30.035Z"
      },
      {
        "duration": 33,
        "start_time": "2024-11-29T12:52:46.716Z"
      },
      {
        "duration": 19,
        "start_time": "2024-11-29T12:53:20.488Z"
      },
      {
        "duration": 17,
        "start_time": "2024-11-29T12:54:08.148Z"
      },
      {
        "duration": 19,
        "start_time": "2024-11-29T12:54:48.797Z"
      },
      {
        "duration": 16,
        "start_time": "2024-11-29T12:54:57.531Z"
      },
      {
        "duration": 113,
        "start_time": "2024-11-29T15:45:47.776Z"
      },
      {
        "duration": 26,
        "start_time": "2024-11-29T15:45:48.708Z"
      },
      {
        "duration": 17,
        "start_time": "2024-11-29T15:45:49.522Z"
      },
      {
        "duration": 18,
        "start_time": "2024-11-29T15:45:50.023Z"
      },
      {
        "duration": 14,
        "start_time": "2024-11-29T15:45:50.529Z"
      },
      {
        "duration": 120,
        "start_time": "2024-11-29T15:57:26.958Z"
      },
      {
        "duration": 5,
        "start_time": "2024-11-29T15:57:34.951Z"
      },
      {
        "duration": 49,
        "start_time": "2024-11-30T19:53:59.359Z"
      },
      {
        "duration": 9570,
        "start_time": "2024-11-30T19:54:04.369Z"
      },
      {
        "duration": 6,
        "start_time": "2024-11-30T19:55:16.982Z"
      },
      {
        "duration": 349,
        "start_time": "2024-11-30T19:55:18.173Z"
      },
      {
        "duration": 29,
        "start_time": "2024-11-30T19:55:18.777Z"
      },
      {
        "duration": 17,
        "start_time": "2024-11-30T19:55:19.615Z"
      },
      {
        "duration": 16,
        "start_time": "2024-11-30T19:55:20.212Z"
      },
      {
        "duration": 15,
        "start_time": "2024-11-30T19:55:20.744Z"
      },
      {
        "duration": 5,
        "start_time": "2024-11-30T19:55:22.083Z"
      },
      {
        "duration": 14,
        "start_time": "2024-11-30T19:55:23.112Z"
      },
      {
        "duration": 11370,
        "start_time": "2024-12-01T09:06:40.426Z"
      },
      {
        "duration": 6,
        "start_time": "2024-12-01T09:07:03.774Z"
      },
      {
        "duration": 438,
        "start_time": "2024-12-01T09:07:04.653Z"
      },
      {
        "duration": 31,
        "start_time": "2024-12-01T09:07:05.552Z"
      },
      {
        "duration": 18,
        "start_time": "2024-12-01T09:07:06.300Z"
      },
      {
        "duration": 18,
        "start_time": "2024-12-01T09:07:06.886Z"
      },
      {
        "duration": 15,
        "start_time": "2024-12-01T09:07:07.843Z"
      },
      {
        "duration": 4,
        "start_time": "2024-12-01T09:07:09.476Z"
      },
      {
        "duration": 17,
        "start_time": "2024-12-01T09:07:10.344Z"
      },
      {
        "duration": 9,
        "start_time": "2024-12-01T09:35:00.833Z"
      },
      {
        "duration": 5,
        "start_time": "2024-12-01T09:38:04.647Z"
      },
      {
        "duration": 4,
        "start_time": "2024-12-01T09:43:52.205Z"
      },
      {
        "duration": 3,
        "start_time": "2024-12-01T09:44:39.718Z"
      },
      {
        "duration": 7,
        "start_time": "2024-12-01T09:46:16.850Z"
      },
      {
        "duration": 17,
        "start_time": "2024-12-01T09:49:36.398Z"
      },
      {
        "duration": 37,
        "start_time": "2024-12-01T09:50:02.703Z"
      },
      {
        "duration": 158,
        "start_time": "2024-12-01T10:07:09.229Z"
      },
      {
        "duration": 1544,
        "start_time": "2024-12-01T10:07:16.932Z"
      },
      {
        "duration": 41,
        "start_time": "2024-12-01T10:08:15.344Z"
      },
      {
        "duration": 33,
        "start_time": "2024-12-01T10:08:30.983Z"
      },
      {
        "duration": 8,
        "start_time": "2024-12-01T10:09:37.735Z"
      },
      {
        "duration": 19,
        "start_time": "2024-12-01T10:10:11.148Z"
      },
      {
        "duration": 7,
        "start_time": "2024-12-01T10:10:37.312Z"
      },
      {
        "duration": 3047,
        "start_time": "2024-12-01T10:30:18.845Z"
      },
      {
        "duration": 2985,
        "start_time": "2024-12-01T10:30:52.244Z"
      },
      {
        "duration": 3162,
        "start_time": "2024-12-01T10:30:59.196Z"
      },
      {
        "duration": 3287,
        "start_time": "2024-12-01T10:31:10.993Z"
      },
      {
        "duration": 1147,
        "start_time": "2024-12-01T11:43:57.774Z"
      },
      {
        "duration": 165,
        "start_time": "2024-12-01T11:44:06.125Z"
      },
      {
        "duration": 18,
        "start_time": "2024-12-01T11:45:10.539Z"
      },
      {
        "duration": 147,
        "start_time": "2024-12-01T11:52:43.391Z"
      },
      {
        "duration": 140,
        "start_time": "2024-12-01T11:52:54.174Z"
      },
      {
        "duration": 216,
        "start_time": "2024-12-01T11:53:03.416Z"
      },
      {
        "duration": 214,
        "start_time": "2024-12-01T11:54:56.173Z"
      },
      {
        "duration": 242,
        "start_time": "2024-12-01T11:55:03.344Z"
      },
      {
        "duration": 64,
        "start_time": "2024-12-01T11:55:26.057Z"
      },
      {
        "duration": 171,
        "start_time": "2024-12-01T11:57:37.105Z"
      },
      {
        "duration": 7524,
        "start_time": "2024-12-01T11:58:05.047Z"
      },
      {
        "duration": 9,
        "start_time": "2024-12-01T11:58:12.573Z"
      },
      {
        "duration": 136,
        "start_time": "2024-12-01T11:58:12.583Z"
      },
      {
        "duration": 34,
        "start_time": "2024-12-01T11:58:12.720Z"
      },
      {
        "duration": 25,
        "start_time": "2024-12-01T11:58:12.761Z"
      },
      {
        "duration": 16,
        "start_time": "2024-12-01T11:58:12.788Z"
      },
      {
        "duration": 15,
        "start_time": "2024-12-01T11:58:12.805Z"
      },
      {
        "duration": 5,
        "start_time": "2024-12-01T11:58:12.821Z"
      },
      {
        "duration": 56,
        "start_time": "2024-12-01T11:58:12.828Z"
      },
      {
        "duration": 7,
        "start_time": "2024-12-01T11:58:12.886Z"
      },
      {
        "duration": 10,
        "start_time": "2024-12-01T11:58:12.895Z"
      },
      {
        "duration": 11,
        "start_time": "2024-12-01T11:58:12.907Z"
      },
      {
        "duration": 4,
        "start_time": "2024-12-01T11:58:12.920Z"
      },
      {
        "duration": 34,
        "start_time": "2024-12-01T11:58:12.928Z"
      },
      {
        "duration": 21,
        "start_time": "2024-12-01T11:58:12.964Z"
      },
      {
        "duration": 37,
        "start_time": "2024-12-01T11:58:12.986Z"
      },
      {
        "duration": 63,
        "start_time": "2024-12-01T11:58:13.025Z"
      },
      {
        "duration": 9,
        "start_time": "2024-12-01T11:58:13.090Z"
      },
      {
        "duration": 7,
        "start_time": "2024-12-01T11:58:13.101Z"
      },
      {
        "duration": 9,
        "start_time": "2024-12-01T11:58:13.110Z"
      },
      {
        "duration": 3609,
        "start_time": "2024-12-01T11:58:13.154Z"
      },
      {
        "duration": 330,
        "start_time": "2024-12-01T11:58:16.769Z"
      },
      {
        "duration": 12,
        "start_time": "2024-12-01T12:54:02.246Z"
      },
      {
        "duration": 7,
        "start_time": "2024-12-01T12:58:16.402Z"
      },
      {
        "duration": 533,
        "start_time": "2024-12-01T12:58:36.773Z"
      },
      {
        "duration": 7,
        "start_time": "2024-12-01T12:59:02.727Z"
      },
      {
        "duration": 490,
        "start_time": "2024-12-01T12:59:04.392Z"
      },
      {
        "duration": 10,
        "start_time": "2024-12-01T13:00:42.465Z"
      },
      {
        "duration": 524,
        "start_time": "2024-12-01T13:00:43.397Z"
      },
      {
        "duration": 7,
        "start_time": "2024-12-01T13:01:02.602Z"
      },
      {
        "duration": 828,
        "start_time": "2024-12-01T13:01:03.917Z"
      },
      {
        "duration": 7,
        "start_time": "2024-12-01T13:01:20.008Z"
      },
      {
        "duration": 728,
        "start_time": "2024-12-01T13:01:20.399Z"
      },
      {
        "duration": 10,
        "start_time": "2024-12-01T13:01:38.465Z"
      },
      {
        "duration": 4222,
        "start_time": "2024-12-01T13:01:39.430Z"
      },
      {
        "duration": 7,
        "start_time": "2024-12-01T13:01:54.788Z"
      },
      {
        "duration": 3842,
        "start_time": "2024-12-01T13:01:55.350Z"
      },
      {
        "duration": 11,
        "start_time": "2024-12-01T13:02:32.656Z"
      },
      {
        "duration": 3420,
        "start_time": "2024-12-01T13:02:35.388Z"
      },
      {
        "duration": 6,
        "start_time": "2024-12-01T13:02:47.025Z"
      },
      {
        "duration": 335,
        "start_time": "2024-12-01T13:02:47.606Z"
      },
      {
        "duration": 6,
        "start_time": "2024-12-01T13:03:02.891Z"
      },
      {
        "duration": 4725,
        "start_time": "2024-12-01T13:03:03.447Z"
      },
      {
        "duration": 7,
        "start_time": "2024-12-01T13:03:28.282Z"
      },
      {
        "duration": 605,
        "start_time": "2024-12-01T13:03:28.673Z"
      },
      {
        "duration": 12,
        "start_time": "2024-12-01T13:03:53.949Z"
      },
      {
        "duration": 15,
        "start_time": "2024-12-01T13:03:54.833Z"
      },
      {
        "duration": 6,
        "start_time": "2024-12-01T13:04:18.774Z"
      },
      {
        "duration": 3241,
        "start_time": "2024-12-01T13:04:19.255Z"
      },
      {
        "duration": 6,
        "start_time": "2024-12-01T13:04:27.536Z"
      },
      {
        "duration": 3639,
        "start_time": "2024-12-01T13:04:27.922Z"
      },
      {
        "duration": 3442,
        "start_time": "2024-12-01T13:04:39.187Z"
      },
      {
        "duration": 6,
        "start_time": "2024-12-01T13:04:49.693Z"
      },
      {
        "duration": 3271,
        "start_time": "2024-12-01T13:04:50.033Z"
      },
      {
        "duration": 3538,
        "start_time": "2024-12-01T13:05:29.812Z"
      },
      {
        "duration": 7486,
        "start_time": "2024-12-01T13:05:50.664Z"
      },
      {
        "duration": 14,
        "start_time": "2024-12-01T13:05:58.152Z"
      },
      {
        "duration": 121,
        "start_time": "2024-12-01T13:05:58.168Z"
      },
      {
        "duration": 29,
        "start_time": "2024-12-01T13:05:58.291Z"
      },
      {
        "duration": 18,
        "start_time": "2024-12-01T13:05:58.322Z"
      },
      {
        "duration": 26,
        "start_time": "2024-12-01T13:05:58.342Z"
      },
      {
        "duration": 21,
        "start_time": "2024-12-01T13:05:58.370Z"
      },
      {
        "duration": 5,
        "start_time": "2024-12-01T13:05:58.392Z"
      },
      {
        "duration": 28,
        "start_time": "2024-12-01T13:05:58.399Z"
      },
      {
        "duration": 31,
        "start_time": "2024-12-01T13:05:58.429Z"
      },
      {
        "duration": 6,
        "start_time": "2024-12-01T13:05:58.462Z"
      },
      {
        "duration": 8,
        "start_time": "2024-12-01T13:05:58.470Z"
      },
      {
        "duration": 8,
        "start_time": "2024-12-01T13:05:58.479Z"
      },
      {
        "duration": 6,
        "start_time": "2024-12-01T13:05:58.490Z"
      },
      {
        "duration": 18,
        "start_time": "2024-12-01T13:05:58.498Z"
      },
      {
        "duration": 82,
        "start_time": "2024-12-01T13:05:58.517Z"
      },
      {
        "duration": 58,
        "start_time": "2024-12-01T13:05:58.601Z"
      },
      {
        "duration": 10,
        "start_time": "2024-12-01T13:05:58.670Z"
      },
      {
        "duration": 8,
        "start_time": "2024-12-01T13:05:58.682Z"
      },
      {
        "duration": 8,
        "start_time": "2024-12-01T13:05:58.692Z"
      },
      {
        "duration": 3519,
        "start_time": "2024-12-01T13:05:58.702Z"
      },
      {
        "duration": 8,
        "start_time": "2024-12-01T13:06:02.223Z"
      },
      {
        "duration": 3586,
        "start_time": "2024-12-01T13:06:02.233Z"
      },
      {
        "duration": 66,
        "start_time": "2024-12-01T13:07:44.326Z"
      },
      {
        "duration": 3,
        "start_time": "2024-12-01T13:07:50.731Z"
      },
      {
        "duration": 3470,
        "start_time": "2024-12-01T13:07:58.445Z"
      },
      {
        "duration": 423,
        "start_time": "2024-12-01T13:08:27.849Z"
      },
      {
        "duration": 447,
        "start_time": "2024-12-01T13:22:57.170Z"
      },
      {
        "duration": 3915,
        "start_time": "2024-12-01T13:23:22.834Z"
      },
      {
        "duration": 3393,
        "start_time": "2024-12-01T13:23:37.264Z"
      },
      {
        "duration": 511,
        "start_time": "2024-12-01T13:24:02.825Z"
      },
      {
        "duration": 487,
        "start_time": "2024-12-01T13:24:46.840Z"
      },
      {
        "duration": 7,
        "start_time": "2024-12-01T13:25:06.256Z"
      },
      {
        "duration": 432,
        "start_time": "2024-12-01T13:25:09.282Z"
      },
      {
        "duration": 193,
        "start_time": "2024-12-01T14:26:07.449Z"
      },
      {
        "duration": 188,
        "start_time": "2024-12-01T14:26:20.240Z"
      },
      {
        "duration": 351,
        "start_time": "2024-12-01T14:49:39.066Z"
      },
      {
        "duration": 4,
        "start_time": "2024-12-01T14:55:07.913Z"
      },
      {
        "duration": 12,
        "start_time": "2024-12-01T14:55:13.150Z"
      },
      {
        "duration": 8,
        "start_time": "2024-12-01T14:55:20.134Z"
      },
      {
        "duration": 6,
        "start_time": "2024-12-01T14:55:30.515Z"
      },
      {
        "duration": 6,
        "start_time": "2024-12-01T15:09:46.446Z"
      },
      {
        "duration": 8,
        "start_time": "2024-12-01T15:10:53.048Z"
      },
      {
        "duration": 31,
        "start_time": "2024-12-01T15:20:14.703Z"
      },
      {
        "duration": 188,
        "start_time": "2024-12-01T15:21:17.964Z"
      },
      {
        "duration": 18,
        "start_time": "2024-12-01T16:10:17.259Z"
      },
      {
        "duration": 11,
        "start_time": "2024-12-01T16:17:09.551Z"
      },
      {
        "duration": 45,
        "start_time": "2024-12-01T16:17:18.249Z"
      },
      {
        "duration": 56,
        "start_time": "2024-12-02T12:29:30.284Z"
      },
      {
        "duration": 10302,
        "start_time": "2024-12-02T12:29:41.135Z"
      },
      {
        "duration": 6,
        "start_time": "2024-12-02T12:29:51.439Z"
      },
      {
        "duration": 339,
        "start_time": "2024-12-02T12:29:51.446Z"
      },
      {
        "duration": 31,
        "start_time": "2024-12-02T12:29:51.787Z"
      },
      {
        "duration": 46,
        "start_time": "2024-12-02T12:29:51.820Z"
      },
      {
        "duration": 100,
        "start_time": "2024-12-02T12:29:51.868Z"
      },
      {
        "duration": 101,
        "start_time": "2024-12-02T12:29:51.971Z"
      },
      {
        "duration": 31,
        "start_time": "2024-12-02T12:29:52.073Z"
      },
      {
        "duration": 180,
        "start_time": "2024-12-02T12:29:52.106Z"
      },
      {
        "duration": 27,
        "start_time": "2024-12-02T12:29:52.287Z"
      },
      {
        "duration": 34,
        "start_time": "2024-12-02T12:29:52.316Z"
      },
      {
        "duration": 28,
        "start_time": "2024-12-02T12:29:52.352Z"
      },
      {
        "duration": 24,
        "start_time": "2024-12-02T12:29:52.382Z"
      },
      {
        "duration": 17,
        "start_time": "2024-12-02T12:29:52.410Z"
      },
      {
        "duration": 23,
        "start_time": "2024-12-02T12:29:52.429Z"
      },
      {
        "duration": 43,
        "start_time": "2024-12-02T12:29:52.455Z"
      },
      {
        "duration": 70,
        "start_time": "2024-12-02T12:29:52.500Z"
      },
      {
        "duration": 8,
        "start_time": "2024-12-02T12:29:52.573Z"
      },
      {
        "duration": 33,
        "start_time": "2024-12-02T12:29:52.583Z"
      },
      {
        "duration": 12,
        "start_time": "2024-12-02T12:29:52.619Z"
      },
      {
        "duration": 35,
        "start_time": "2024-12-02T12:29:52.633Z"
      },
      {
        "duration": 25,
        "start_time": "2024-12-02T12:29:52.671Z"
      },
      {
        "duration": 3510,
        "start_time": "2024-12-02T12:29:52.698Z"
      },
      {
        "duration": 518,
        "start_time": "2024-12-02T12:29:56.210Z"
      },
      {
        "duration": 530,
        "start_time": "2024-12-02T12:29:56.729Z"
      },
      {
        "duration": 454,
        "start_time": "2024-12-02T12:29:57.261Z"
      },
      {
        "duration": 417,
        "start_time": "2024-12-02T12:29:57.718Z"
      },
      {
        "duration": 181,
        "start_time": "2024-12-02T12:29:58.142Z"
      },
      {
        "duration": 18,
        "start_time": "2024-12-02T12:29:58.325Z"
      },
      {
        "duration": 30,
        "start_time": "2024-12-02T12:29:58.345Z"
      },
      {
        "duration": 192,
        "start_time": "2024-12-02T12:29:58.377Z"
      },
      {
        "duration": 9,
        "start_time": "2024-12-02T12:29:58.571Z"
      },
      {
        "duration": 7,
        "start_time": "2024-12-02T12:29:58.582Z"
      },
      {
        "duration": 29,
        "start_time": "2024-12-02T12:29:58.591Z"
      },
      {
        "duration": 33,
        "start_time": "2024-12-02T12:29:58.622Z"
      },
      {
        "duration": 22,
        "start_time": "2024-12-02T12:36:18.860Z"
      },
      {
        "duration": 139,
        "start_time": "2024-12-02T12:42:29.430Z"
      },
      {
        "duration": 6998,
        "start_time": "2024-12-02T12:42:45.509Z"
      },
      {
        "duration": 6,
        "start_time": "2024-12-02T12:42:52.509Z"
      },
      {
        "duration": 113,
        "start_time": "2024-12-02T12:42:52.516Z"
      },
      {
        "duration": 28,
        "start_time": "2024-12-02T12:42:52.631Z"
      },
      {
        "duration": 45,
        "start_time": "2024-12-02T12:42:52.662Z"
      },
      {
        "duration": 34,
        "start_time": "2024-12-02T12:42:52.708Z"
      },
      {
        "duration": 163,
        "start_time": "2024-12-02T12:42:52.744Z"
      },
      {
        "duration": 18,
        "start_time": "2024-12-02T12:42:52.909Z"
      },
      {
        "duration": 45,
        "start_time": "2024-12-02T12:42:52.929Z"
      },
      {
        "duration": 16,
        "start_time": "2024-12-02T12:42:52.976Z"
      },
      {
        "duration": 20,
        "start_time": "2024-12-02T12:42:52.994Z"
      },
      {
        "duration": 41,
        "start_time": "2024-12-02T12:42:53.016Z"
      },
      {
        "duration": 14,
        "start_time": "2024-12-02T12:42:53.059Z"
      },
      {
        "duration": 26,
        "start_time": "2024-12-02T12:42:53.077Z"
      },
      {
        "duration": 32,
        "start_time": "2024-12-02T12:42:53.105Z"
      },
      {
        "duration": 43,
        "start_time": "2024-12-02T12:42:53.139Z"
      },
      {
        "duration": 32,
        "start_time": "2024-12-02T12:42:53.183Z"
      },
      {
        "duration": 8,
        "start_time": "2024-12-02T12:42:53.216Z"
      },
      {
        "duration": 23,
        "start_time": "2024-12-02T12:42:53.225Z"
      },
      {
        "duration": 15,
        "start_time": "2024-12-02T12:42:53.250Z"
      },
      {
        "duration": 16,
        "start_time": "2024-12-02T12:42:53.267Z"
      },
      {
        "duration": 24,
        "start_time": "2024-12-02T12:42:53.285Z"
      },
      {
        "duration": 3309,
        "start_time": "2024-12-02T12:42:53.311Z"
      },
      {
        "duration": 499,
        "start_time": "2024-12-02T12:42:56.622Z"
      },
      {
        "duration": 506,
        "start_time": "2024-12-02T12:42:57.122Z"
      },
      {
        "duration": 455,
        "start_time": "2024-12-02T12:42:57.630Z"
      },
      {
        "duration": 432,
        "start_time": "2024-12-02T12:42:58.087Z"
      },
      {
        "duration": 175,
        "start_time": "2024-12-02T12:42:58.521Z"
      },
      {
        "duration": 8,
        "start_time": "2024-12-02T12:42:58.697Z"
      },
      {
        "duration": 45,
        "start_time": "2024-12-02T12:42:58.706Z"
      },
      {
        "duration": 179,
        "start_time": "2024-12-02T12:42:58.753Z"
      },
      {
        "duration": 10,
        "start_time": "2024-12-02T12:42:58.934Z"
      },
      {
        "duration": 7,
        "start_time": "2024-12-02T12:42:58.945Z"
      },
      {
        "duration": 28,
        "start_time": "2024-12-02T12:42:58.953Z"
      },
      {
        "duration": 14,
        "start_time": "2024-12-02T12:42:58.983Z"
      },
      {
        "duration": 45,
        "start_time": "2024-12-02T12:42:58.998Z"
      },
      {
        "duration": 18,
        "start_time": "2024-12-02T12:56:02.156Z"
      },
      {
        "duration": 141,
        "start_time": "2024-12-02T12:56:41.237Z"
      },
      {
        "duration": 6993,
        "start_time": "2024-12-02T12:56:48.003Z"
      },
      {
        "duration": 6,
        "start_time": "2024-12-02T12:56:54.998Z"
      },
      {
        "duration": 90,
        "start_time": "2024-12-02T12:56:55.006Z"
      },
      {
        "duration": 29,
        "start_time": "2024-12-02T12:56:55.098Z"
      },
      {
        "duration": 16,
        "start_time": "2024-12-02T12:56:55.129Z"
      },
      {
        "duration": 22,
        "start_time": "2024-12-02T12:56:55.146Z"
      },
      {
        "duration": 14,
        "start_time": "2024-12-02T12:56:55.170Z"
      },
      {
        "duration": 4,
        "start_time": "2024-12-02T12:56:55.186Z"
      },
      {
        "duration": 14,
        "start_time": "2024-12-02T12:56:55.192Z"
      },
      {
        "duration": 6,
        "start_time": "2024-12-02T12:56:55.207Z"
      },
      {
        "duration": 30,
        "start_time": "2024-12-02T12:56:55.215Z"
      },
      {
        "duration": 6,
        "start_time": "2024-12-02T12:56:55.247Z"
      },
      {
        "duration": 4,
        "start_time": "2024-12-02T12:56:55.254Z"
      },
      {
        "duration": 9,
        "start_time": "2024-12-02T12:56:55.260Z"
      },
      {
        "duration": 16,
        "start_time": "2024-12-02T12:56:55.270Z"
      },
      {
        "duration": 77,
        "start_time": "2024-12-02T12:56:55.287Z"
      },
      {
        "duration": 32,
        "start_time": "2024-12-02T12:56:55.366Z"
      },
      {
        "duration": 8,
        "start_time": "2024-12-02T12:56:55.399Z"
      },
      {
        "duration": 36,
        "start_time": "2024-12-02T12:56:55.409Z"
      },
      {
        "duration": 9,
        "start_time": "2024-12-02T12:56:55.447Z"
      },
      {
        "duration": 98,
        "start_time": "2024-12-02T12:56:55.458Z"
      },
      {
        "duration": 21,
        "start_time": "2024-12-02T12:56:55.558Z"
      },
      {
        "duration": 3275,
        "start_time": "2024-12-02T12:56:55.580Z"
      },
      {
        "duration": 475,
        "start_time": "2024-12-02T12:56:58.857Z"
      },
      {
        "duration": 492,
        "start_time": "2024-12-02T12:56:59.334Z"
      },
      {
        "duration": 464,
        "start_time": "2024-12-02T12:56:59.828Z"
      },
      {
        "duration": 411,
        "start_time": "2024-12-02T12:57:00.294Z"
      },
      {
        "duration": 191,
        "start_time": "2024-12-02T12:57:00.707Z"
      },
      {
        "duration": 8,
        "start_time": "2024-12-02T12:57:00.900Z"
      },
      {
        "duration": 44,
        "start_time": "2024-12-02T12:57:00.910Z"
      },
      {
        "duration": 186,
        "start_time": "2024-12-02T12:57:00.956Z"
      },
      {
        "duration": 9,
        "start_time": "2024-12-02T12:57:01.144Z"
      },
      {
        "duration": 40,
        "start_time": "2024-12-02T12:57:01.155Z"
      },
      {
        "duration": 61,
        "start_time": "2024-12-02T12:57:01.196Z"
      },
      {
        "duration": 23,
        "start_time": "2024-12-02T12:57:01.259Z"
      },
      {
        "duration": 41,
        "start_time": "2024-12-02T12:57:01.283Z"
      },
      {
        "duration": 26,
        "start_time": "2024-12-02T12:57:01.326Z"
      },
      {
        "duration": 22,
        "start_time": "2024-12-02T13:38:21.647Z"
      },
      {
        "duration": 29,
        "start_time": "2024-12-02T13:38:41.681Z"
      },
      {
        "duration": 32,
        "start_time": "2024-12-02T13:42:00.732Z"
      },
      {
        "duration": 169,
        "start_time": "2024-12-02T15:10:12.523Z"
      },
      {
        "duration": 7,
        "start_time": "2024-12-02T15:11:03.766Z"
      },
      {
        "duration": 2935,
        "start_time": "2024-12-02T15:15:53.440Z"
      },
      {
        "duration": 3006,
        "start_time": "2024-12-02T15:16:17.354Z"
      },
      {
        "duration": 2880,
        "start_time": "2024-12-02T15:16:30.572Z"
      },
      {
        "duration": 3123,
        "start_time": "2024-12-02T15:16:39.557Z"
      },
      {
        "duration": 2898,
        "start_time": "2024-12-02T15:17:05.034Z"
      },
      {
        "duration": 3184,
        "start_time": "2024-12-02T15:17:17.377Z"
      },
      {
        "duration": 2791,
        "start_time": "2024-12-02T15:17:31.537Z"
      },
      {
        "duration": 1492,
        "start_time": "2024-12-02T15:21:17.262Z"
      },
      {
        "duration": 2861,
        "start_time": "2024-12-02T15:21:23.763Z"
      },
      {
        "duration": 9546,
        "start_time": "2024-12-03T08:12:40.830Z"
      },
      {
        "duration": 15,
        "start_time": "2024-12-03T08:12:50.378Z"
      },
      {
        "duration": 382,
        "start_time": "2024-12-03T08:12:50.394Z"
      },
      {
        "duration": 29,
        "start_time": "2024-12-03T08:12:50.778Z"
      },
      {
        "duration": 15,
        "start_time": "2024-12-03T08:12:50.809Z"
      },
      {
        "duration": 14,
        "start_time": "2024-12-03T08:12:50.826Z"
      },
      {
        "duration": 12,
        "start_time": "2024-12-03T08:12:50.842Z"
      },
      {
        "duration": 36,
        "start_time": "2024-12-03T08:12:50.856Z"
      },
      {
        "duration": 14,
        "start_time": "2024-12-03T08:12:50.893Z"
      },
      {
        "duration": 5,
        "start_time": "2024-12-03T08:12:50.909Z"
      },
      {
        "duration": 9,
        "start_time": "2024-12-03T08:12:50.915Z"
      },
      {
        "duration": 7,
        "start_time": "2024-12-03T08:12:50.925Z"
      },
      {
        "duration": 6,
        "start_time": "2024-12-03T08:12:50.934Z"
      },
      {
        "duration": 5,
        "start_time": "2024-12-03T08:12:50.942Z"
      },
      {
        "duration": 48,
        "start_time": "2024-12-03T08:12:50.948Z"
      },
      {
        "duration": 34,
        "start_time": "2024-12-03T08:12:50.998Z"
      },
      {
        "duration": 31,
        "start_time": "2024-12-03T08:12:51.033Z"
      },
      {
        "duration": 8,
        "start_time": "2024-12-03T08:12:51.091Z"
      },
      {
        "duration": 8,
        "start_time": "2024-12-03T08:12:51.101Z"
      },
      {
        "duration": 8,
        "start_time": "2024-12-03T08:12:51.110Z"
      },
      {
        "duration": 13,
        "start_time": "2024-12-03T08:12:51.120Z"
      },
      {
        "duration": 4,
        "start_time": "2024-12-03T08:12:51.135Z"
      },
      {
        "duration": 3238,
        "start_time": "2024-12-03T08:12:51.140Z"
      },
      {
        "duration": 470,
        "start_time": "2024-12-03T08:12:54.380Z"
      },
      {
        "duration": 492,
        "start_time": "2024-12-03T08:12:54.851Z"
      },
      {
        "duration": 429,
        "start_time": "2024-12-03T08:12:55.345Z"
      },
      {
        "duration": 372,
        "start_time": "2024-12-03T08:12:55.776Z"
      },
      {
        "duration": 172,
        "start_time": "2024-12-03T08:12:56.152Z"
      },
      {
        "duration": 7,
        "start_time": "2024-12-03T08:12:56.326Z"
      },
      {
        "duration": 28,
        "start_time": "2024-12-03T08:12:56.334Z"
      },
      {
        "duration": 185,
        "start_time": "2024-12-03T08:12:56.364Z"
      },
      {
        "duration": 10,
        "start_time": "2024-12-03T08:12:56.550Z"
      },
      {
        "duration": 31,
        "start_time": "2024-12-03T08:12:56.561Z"
      },
      {
        "duration": 39,
        "start_time": "2024-12-03T08:12:56.593Z"
      },
      {
        "duration": 15,
        "start_time": "2024-12-03T08:12:56.633Z"
      },
      {
        "duration": 19,
        "start_time": "2024-12-03T08:12:56.649Z"
      },
      {
        "duration": 32,
        "start_time": "2024-12-03T08:12:56.669Z"
      },
      {
        "duration": 29,
        "start_time": "2024-12-03T08:12:56.702Z"
      },
      {
        "duration": 29,
        "start_time": "2024-12-03T08:12:56.733Z"
      },
      {
        "duration": 3049,
        "start_time": "2024-12-03T08:12:56.764Z"
      },
      {
        "duration": 2769,
        "start_time": "2024-12-03T08:15:32.756Z"
      },
      {
        "duration": 1043,
        "start_time": "2024-12-03T08:16:09.836Z"
      },
      {
        "duration": 2931,
        "start_time": "2024-12-03T08:16:18.398Z"
      },
      {
        "duration": 16,
        "start_time": "2024-12-03T08:29:29.493Z"
      },
      {
        "duration": 9,
        "start_time": "2024-12-03T08:30:27.297Z"
      },
      {
        "duration": 11,
        "start_time": "2024-12-03T08:31:28.321Z"
      },
      {
        "duration": 10,
        "start_time": "2024-12-03T08:31:40.949Z"
      },
      {
        "duration": 82,
        "start_time": "2024-12-03T09:45:37.820Z"
      },
      {
        "duration": 24,
        "start_time": "2024-12-03T09:54:02.406Z"
      },
      {
        "duration": 9,
        "start_time": "2024-12-03T09:54:11.563Z"
      },
      {
        "duration": 23,
        "start_time": "2024-12-03T10:13:14.027Z"
      },
      {
        "duration": 7084,
        "start_time": "2024-12-03T10:14:11.349Z"
      },
      {
        "duration": 6,
        "start_time": "2024-12-03T10:14:18.435Z"
      },
      {
        "duration": 92,
        "start_time": "2024-12-03T10:14:18.442Z"
      },
      {
        "duration": 30,
        "start_time": "2024-12-03T10:14:18.536Z"
      },
      {
        "duration": 17,
        "start_time": "2024-12-03T10:14:18.568Z"
      },
      {
        "duration": 39,
        "start_time": "2024-12-03T10:14:18.587Z"
      },
      {
        "duration": 23,
        "start_time": "2024-12-03T10:14:18.628Z"
      },
      {
        "duration": 5,
        "start_time": "2024-12-03T10:14:18.653Z"
      },
      {
        "duration": 14,
        "start_time": "2024-12-03T10:14:18.660Z"
      },
      {
        "duration": 7,
        "start_time": "2024-12-03T10:14:18.676Z"
      },
      {
        "duration": 10,
        "start_time": "2024-12-03T10:14:18.684Z"
      },
      {
        "duration": 7,
        "start_time": "2024-12-03T10:14:18.696Z"
      },
      {
        "duration": 6,
        "start_time": "2024-12-03T10:14:18.704Z"
      },
      {
        "duration": 5,
        "start_time": "2024-12-03T10:14:18.712Z"
      },
      {
        "duration": 15,
        "start_time": "2024-12-03T10:14:18.718Z"
      },
      {
        "duration": 69,
        "start_time": "2024-12-03T10:14:18.735Z"
      },
      {
        "duration": 31,
        "start_time": "2024-12-03T10:14:18.806Z"
      },
      {
        "duration": 8,
        "start_time": "2024-12-03T10:14:18.839Z"
      },
      {
        "duration": 9,
        "start_time": "2024-12-03T10:14:18.848Z"
      },
      {
        "duration": 40,
        "start_time": "2024-12-03T10:14:18.858Z"
      },
      {
        "duration": 6,
        "start_time": "2024-12-03T10:14:18.900Z"
      },
      {
        "duration": 6,
        "start_time": "2024-12-03T10:14:18.908Z"
      },
      {
        "duration": 3278,
        "start_time": "2024-12-03T10:14:18.915Z"
      },
      {
        "duration": 472,
        "start_time": "2024-12-03T10:14:22.195Z"
      },
      {
        "duration": 513,
        "start_time": "2024-12-03T10:14:22.668Z"
      },
      {
        "duration": 442,
        "start_time": "2024-12-03T10:14:23.191Z"
      },
      {
        "duration": 411,
        "start_time": "2024-12-03T10:14:23.635Z"
      },
      {
        "duration": 178,
        "start_time": "2024-12-03T10:14:24.049Z"
      },
      {
        "duration": 8,
        "start_time": "2024-12-03T10:14:24.228Z"
      },
      {
        "duration": 27,
        "start_time": "2024-12-03T10:14:24.238Z"
      },
      {
        "duration": 202,
        "start_time": "2024-12-03T10:14:24.267Z"
      },
      {
        "duration": 8,
        "start_time": "2024-12-03T10:14:24.470Z"
      },
      {
        "duration": 16,
        "start_time": "2024-12-03T10:14:24.480Z"
      },
      {
        "duration": 28,
        "start_time": "2024-12-03T10:14:24.497Z"
      },
      {
        "duration": 21,
        "start_time": "2024-12-03T10:14:24.527Z"
      },
      {
        "duration": 21,
        "start_time": "2024-12-03T10:14:24.550Z"
      },
      {
        "duration": 17,
        "start_time": "2024-12-03T10:14:24.593Z"
      },
      {
        "duration": 32,
        "start_time": "2024-12-03T10:14:24.613Z"
      },
      {
        "duration": 60,
        "start_time": "2024-12-03T10:14:24.646Z"
      },
      {
        "duration": 3020,
        "start_time": "2024-12-03T10:14:24.708Z"
      },
      {
        "duration": 11,
        "start_time": "2024-12-03T10:14:27.730Z"
      },
      {
        "duration": 222,
        "start_time": "2024-12-03T10:14:27.742Z"
      },
      {
        "duration": 11,
        "start_time": "2024-12-03T10:15:56.430Z"
      },
      {
        "duration": 25,
        "start_time": "2024-12-03T10:19:02.358Z"
      },
      {
        "duration": 27,
        "start_time": "2024-12-03T10:20:54.025Z"
      },
      {
        "duration": 6820,
        "start_time": "2024-12-03T10:28:31.242Z"
      },
      {
        "duration": 5,
        "start_time": "2024-12-03T10:28:38.064Z"
      },
      {
        "duration": 103,
        "start_time": "2024-12-03T10:28:38.070Z"
      },
      {
        "duration": 42,
        "start_time": "2024-12-03T10:28:38.176Z"
      },
      {
        "duration": 23,
        "start_time": "2024-12-03T10:28:38.221Z"
      },
      {
        "duration": 19,
        "start_time": "2024-12-03T10:28:38.246Z"
      },
      {
        "duration": 65,
        "start_time": "2024-12-03T10:28:38.267Z"
      },
      {
        "duration": 7,
        "start_time": "2024-12-03T10:28:38.334Z"
      },
      {
        "duration": 15,
        "start_time": "2024-12-03T10:28:38.342Z"
      },
      {
        "duration": 10,
        "start_time": "2024-12-03T10:28:38.361Z"
      },
      {
        "duration": 13,
        "start_time": "2024-12-03T10:28:38.373Z"
      },
      {
        "duration": 10,
        "start_time": "2024-12-03T10:28:38.387Z"
      },
      {
        "duration": 5,
        "start_time": "2024-12-03T10:28:38.398Z"
      },
      {
        "duration": 6,
        "start_time": "2024-12-03T10:28:38.405Z"
      },
      {
        "duration": 27,
        "start_time": "2024-12-03T10:28:38.412Z"
      },
      {
        "duration": 51,
        "start_time": "2024-12-03T10:28:38.441Z"
      },
      {
        "duration": 31,
        "start_time": "2024-12-03T10:28:38.493Z"
      },
      {
        "duration": 7,
        "start_time": "2024-12-03T10:28:38.526Z"
      },
      {
        "duration": 7,
        "start_time": "2024-12-03T10:28:38.535Z"
      },
      {
        "duration": 7,
        "start_time": "2024-12-03T10:28:38.544Z"
      },
      {
        "duration": 40,
        "start_time": "2024-12-03T10:28:38.552Z"
      },
      {
        "duration": 4,
        "start_time": "2024-12-03T10:28:38.593Z"
      },
      {
        "duration": 3295,
        "start_time": "2024-12-03T10:28:38.598Z"
      },
      {
        "duration": 464,
        "start_time": "2024-12-03T10:28:41.895Z"
      },
      {
        "duration": 471,
        "start_time": "2024-12-03T10:28:42.361Z"
      },
      {
        "duration": 442,
        "start_time": "2024-12-03T10:28:42.833Z"
      },
      {
        "duration": 378,
        "start_time": "2024-12-03T10:28:43.276Z"
      },
      {
        "duration": 168,
        "start_time": "2024-12-03T10:28:43.657Z"
      },
      {
        "duration": 7,
        "start_time": "2024-12-03T10:28:43.827Z"
      },
      {
        "duration": 69,
        "start_time": "2024-12-03T10:28:43.835Z"
      },
      {
        "duration": 174,
        "start_time": "2024-12-03T10:28:43.906Z"
      },
      {
        "duration": 13,
        "start_time": "2024-12-03T10:28:44.081Z"
      },
      {
        "duration": 7,
        "start_time": "2024-12-03T10:28:44.095Z"
      },
      {
        "duration": 31,
        "start_time": "2024-12-03T10:28:44.103Z"
      },
      {
        "duration": 13,
        "start_time": "2024-12-03T10:28:44.136Z"
      },
      {
        "duration": 47,
        "start_time": "2024-12-03T10:28:44.151Z"
      },
      {
        "duration": 16,
        "start_time": "2024-12-03T10:28:44.199Z"
      },
      {
        "duration": 29,
        "start_time": "2024-12-03T10:28:44.216Z"
      },
      {
        "duration": 53,
        "start_time": "2024-12-03T10:28:44.246Z"
      },
      {
        "duration": 2871,
        "start_time": "2024-12-03T10:28:44.301Z"
      },
      {
        "duration": 12,
        "start_time": "2024-12-03T10:28:47.174Z"
      },
      {
        "duration": 28,
        "start_time": "2024-12-03T10:28:47.188Z"
      },
      {
        "duration": 3,
        "start_time": "2024-12-03T11:55:40.724Z"
      },
      {
        "duration": 6,
        "start_time": "2024-12-03T12:47:30.865Z"
      },
      {
        "duration": 146,
        "start_time": "2024-12-03T12:49:45.457Z"
      },
      {
        "duration": 6867,
        "start_time": "2024-12-03T12:50:49.881Z"
      },
      {
        "duration": 6,
        "start_time": "2024-12-03T12:50:56.750Z"
      },
      {
        "duration": 95,
        "start_time": "2024-12-03T12:50:56.757Z"
      },
      {
        "duration": 28,
        "start_time": "2024-12-03T12:50:56.853Z"
      },
      {
        "duration": 16,
        "start_time": "2024-12-03T12:50:56.883Z"
      },
      {
        "duration": 14,
        "start_time": "2024-12-03T12:50:56.901Z"
      },
      {
        "duration": 14,
        "start_time": "2024-12-03T12:50:56.916Z"
      },
      {
        "duration": 5,
        "start_time": "2024-12-03T12:50:56.933Z"
      },
      {
        "duration": 14,
        "start_time": "2024-12-03T12:50:56.940Z"
      },
      {
        "duration": 40,
        "start_time": "2024-12-03T12:50:56.955Z"
      },
      {
        "duration": 22,
        "start_time": "2024-12-03T12:50:56.996Z"
      },
      {
        "duration": 6,
        "start_time": "2024-12-03T12:50:57.020Z"
      },
      {
        "duration": 4,
        "start_time": "2024-12-03T12:50:57.027Z"
      },
      {
        "duration": 5,
        "start_time": "2024-12-03T12:50:57.034Z"
      },
      {
        "duration": 14,
        "start_time": "2024-12-03T12:50:57.040Z"
      },
      {
        "duration": 56,
        "start_time": "2024-12-03T12:50:57.056Z"
      },
      {
        "duration": 29,
        "start_time": "2024-12-03T12:50:57.114Z"
      },
      {
        "duration": 21,
        "start_time": "2024-12-03T12:50:57.144Z"
      },
      {
        "duration": 27,
        "start_time": "2024-12-03T12:50:57.166Z"
      },
      {
        "duration": 7,
        "start_time": "2024-12-03T12:50:57.195Z"
      },
      {
        "duration": 6,
        "start_time": "2024-12-03T12:50:57.204Z"
      },
      {
        "duration": 5,
        "start_time": "2024-12-03T12:50:57.211Z"
      },
      {
        "duration": 3192,
        "start_time": "2024-12-03T12:50:57.217Z"
      },
      {
        "duration": 471,
        "start_time": "2024-12-03T12:51:00.410Z"
      },
      {
        "duration": 490,
        "start_time": "2024-12-03T12:51:00.882Z"
      },
      {
        "duration": 427,
        "start_time": "2024-12-03T12:51:01.374Z"
      },
      {
        "duration": 375,
        "start_time": "2024-12-03T12:51:01.803Z"
      },
      {
        "duration": 165,
        "start_time": "2024-12-03T12:51:02.180Z"
      },
      {
        "duration": 7,
        "start_time": "2024-12-03T12:51:02.346Z"
      },
      {
        "duration": 158,
        "start_time": "2024-12-03T12:51:02.355Z"
      },
      {
        "duration": 177,
        "start_time": "2024-12-03T12:51:02.515Z"
      },
      {
        "duration": 9,
        "start_time": "2024-12-03T12:51:02.693Z"
      },
      {
        "duration": 78,
        "start_time": "2024-12-03T12:51:02.703Z"
      },
      {
        "duration": 78,
        "start_time": "2024-12-03T12:51:02.782Z"
      },
      {
        "duration": 14,
        "start_time": "2024-12-03T12:51:02.861Z"
      },
      {
        "duration": 26,
        "start_time": "2024-12-03T12:51:02.876Z"
      },
      {
        "duration": 21,
        "start_time": "2024-12-03T12:51:02.904Z"
      },
      {
        "duration": 50,
        "start_time": "2024-12-03T12:51:02.927Z"
      },
      {
        "duration": 29,
        "start_time": "2024-12-03T12:51:02.978Z"
      },
      {
        "duration": 2904,
        "start_time": "2024-12-03T12:51:03.009Z"
      },
      {
        "duration": 11,
        "start_time": "2024-12-03T12:51:05.916Z"
      },
      {
        "duration": 39,
        "start_time": "2024-12-03T12:51:05.928Z"
      },
      {
        "duration": 4,
        "start_time": "2024-12-03T12:51:05.969Z"
      },
      {
        "duration": 24,
        "start_time": "2024-12-03T12:51:05.974Z"
      },
      {
        "duration": 165,
        "start_time": "2024-12-03T12:51:06.000Z"
      },
      {
        "duration": 6,
        "start_time": "2024-12-03T13:58:40.026Z"
      },
      {
        "duration": 33,
        "start_time": "2024-12-03T13:58:40.034Z"
      },
      {
        "duration": 35,
        "start_time": "2024-12-03T14:18:24.223Z"
      },
      {
        "duration": 3,
        "start_time": "2024-12-03T14:18:25.161Z"
      },
      {
        "duration": 5,
        "start_time": "2024-12-03T14:18:26.702Z"
      },
      {
        "duration": 16,
        "start_time": "2024-12-03T14:18:31.739Z"
      },
      {
        "duration": 6903,
        "start_time": "2024-12-03T14:18:38.843Z"
      },
      {
        "duration": 5,
        "start_time": "2024-12-03T14:18:45.749Z"
      },
      {
        "duration": 97,
        "start_time": "2024-12-03T14:18:45.755Z"
      },
      {
        "duration": 28,
        "start_time": "2024-12-03T14:18:45.854Z"
      },
      {
        "duration": 16,
        "start_time": "2024-12-03T14:18:45.884Z"
      },
      {
        "duration": 17,
        "start_time": "2024-12-03T14:18:45.901Z"
      },
      {
        "duration": 16,
        "start_time": "2024-12-03T14:18:45.919Z"
      },
      {
        "duration": 5,
        "start_time": "2024-12-03T14:18:45.936Z"
      },
      {
        "duration": 50,
        "start_time": "2024-12-03T14:18:45.942Z"
      },
      {
        "duration": 6,
        "start_time": "2024-12-03T14:18:45.993Z"
      },
      {
        "duration": 4,
        "start_time": "2024-12-03T14:18:46.000Z"
      },
      {
        "duration": 8,
        "start_time": "2024-12-03T14:18:46.006Z"
      },
      {
        "duration": 5,
        "start_time": "2024-12-03T14:18:46.015Z"
      },
      {
        "duration": 7,
        "start_time": "2024-12-03T14:18:46.023Z"
      },
      {
        "duration": 18,
        "start_time": "2024-12-03T14:18:46.031Z"
      },
      {
        "duration": 65,
        "start_time": "2024-12-03T14:18:46.051Z"
      },
      {
        "duration": 30,
        "start_time": "2024-12-03T14:18:46.117Z"
      },
      {
        "duration": 7,
        "start_time": "2024-12-03T14:18:46.149Z"
      },
      {
        "duration": 36,
        "start_time": "2024-12-03T14:18:46.157Z"
      },
      {
        "duration": 8,
        "start_time": "2024-12-03T14:18:46.194Z"
      },
      {
        "duration": 6,
        "start_time": "2024-12-03T14:18:46.203Z"
      },
      {
        "duration": 11,
        "start_time": "2024-12-03T14:18:46.210Z"
      },
      {
        "duration": 3195,
        "start_time": "2024-12-03T14:18:46.222Z"
      },
      {
        "duration": 473,
        "start_time": "2024-12-03T14:18:49.419Z"
      },
      {
        "duration": 480,
        "start_time": "2024-12-03T14:18:49.893Z"
      },
      {
        "duration": 429,
        "start_time": "2024-12-03T14:18:50.374Z"
      },
      {
        "duration": 379,
        "start_time": "2024-12-03T14:18:50.805Z"
      },
      {
        "duration": 175,
        "start_time": "2024-12-03T14:18:51.186Z"
      },
      {
        "duration": 8,
        "start_time": "2024-12-03T14:18:51.362Z"
      },
      {
        "duration": 46,
        "start_time": "2024-12-03T14:18:51.371Z"
      },
      {
        "duration": 183,
        "start_time": "2024-12-03T14:18:51.419Z"
      },
      {
        "duration": 8,
        "start_time": "2024-12-03T14:18:51.604Z"
      },
      {
        "duration": 9,
        "start_time": "2024-12-03T14:18:51.614Z"
      },
      {
        "duration": 29,
        "start_time": "2024-12-03T14:18:51.625Z"
      },
      {
        "duration": 39,
        "start_time": "2024-12-03T14:18:51.656Z"
      },
      {
        "duration": 24,
        "start_time": "2024-12-03T14:18:51.697Z"
      },
      {
        "duration": 17,
        "start_time": "2024-12-03T14:18:51.723Z"
      },
      {
        "duration": 27,
        "start_time": "2024-12-03T14:18:51.741Z"
      },
      {
        "duration": 29,
        "start_time": "2024-12-03T14:18:51.792Z"
      },
      {
        "duration": 2854,
        "start_time": "2024-12-03T14:18:51.822Z"
      },
      {
        "duration": 12,
        "start_time": "2024-12-03T14:18:54.680Z"
      },
      {
        "duration": 60,
        "start_time": "2024-12-03T14:18:54.694Z"
      },
      {
        "duration": 3,
        "start_time": "2024-12-03T14:18:54.756Z"
      },
      {
        "duration": 14,
        "start_time": "2024-12-03T14:18:54.761Z"
      },
      {
        "duration": 165,
        "start_time": "2024-12-03T14:18:54.777Z"
      },
      {
        "duration": 25,
        "start_time": "2024-12-03T14:27:57.749Z"
      },
      {
        "duration": 3,
        "start_time": "2024-12-03T14:27:59.017Z"
      },
      {
        "duration": 5,
        "start_time": "2024-12-03T14:28:00.428Z"
      },
      {
        "duration": 15,
        "start_time": "2024-12-03T14:28:01.860Z"
      },
      {
        "duration": 12,
        "start_time": "2024-12-03T14:29:06.161Z"
      },
      {
        "duration": 14,
        "start_time": "2024-12-03T14:29:50.501Z"
      },
      {
        "duration": 23,
        "start_time": "2024-12-03T14:30:25.316Z"
      },
      {
        "duration": 13,
        "start_time": "2024-12-03T14:30:34.953Z"
      },
      {
        "duration": 6787,
        "start_time": "2024-12-03T14:30:59.736Z"
      },
      {
        "duration": 5,
        "start_time": "2024-12-03T14:31:06.525Z"
      },
      {
        "duration": 93,
        "start_time": "2024-12-03T14:31:06.532Z"
      },
      {
        "duration": 29,
        "start_time": "2024-12-03T14:31:06.627Z"
      },
      {
        "duration": 35,
        "start_time": "2024-12-03T14:31:06.657Z"
      },
      {
        "duration": 39,
        "start_time": "2024-12-03T14:31:06.693Z"
      },
      {
        "duration": 59,
        "start_time": "2024-12-03T14:31:06.734Z"
      },
      {
        "duration": 48,
        "start_time": "2024-12-03T14:31:06.795Z"
      },
      {
        "duration": 74,
        "start_time": "2024-12-03T14:31:06.845Z"
      },
      {
        "duration": 19,
        "start_time": "2024-12-03T14:31:06.922Z"
      },
      {
        "duration": 20,
        "start_time": "2024-12-03T14:31:06.943Z"
      },
      {
        "duration": 20,
        "start_time": "2024-12-03T14:31:06.965Z"
      },
      {
        "duration": 16,
        "start_time": "2024-12-03T14:31:06.986Z"
      },
      {
        "duration": 13,
        "start_time": "2024-12-03T14:31:07.004Z"
      },
      {
        "duration": 34,
        "start_time": "2024-12-03T14:31:07.018Z"
      },
      {
        "duration": 97,
        "start_time": "2024-12-03T14:31:07.053Z"
      },
      {
        "duration": 31,
        "start_time": "2024-12-03T14:31:07.151Z"
      },
      {
        "duration": 11,
        "start_time": "2024-12-03T14:31:07.184Z"
      },
      {
        "duration": 36,
        "start_time": "2024-12-03T14:31:07.196Z"
      },
      {
        "duration": 14,
        "start_time": "2024-12-03T14:31:07.234Z"
      },
      {
        "duration": 27,
        "start_time": "2024-12-03T14:31:07.250Z"
      },
      {
        "duration": 17,
        "start_time": "2024-12-03T14:31:07.279Z"
      },
      {
        "duration": 3286,
        "start_time": "2024-12-03T14:31:07.298Z"
      },
      {
        "duration": 481,
        "start_time": "2024-12-03T14:31:10.585Z"
      },
      {
        "duration": 458,
        "start_time": "2024-12-03T14:31:11.068Z"
      },
      {
        "duration": 440,
        "start_time": "2024-12-03T14:31:11.527Z"
      },
      {
        "duration": 369,
        "start_time": "2024-12-03T14:31:11.969Z"
      },
      {
        "duration": 167,
        "start_time": "2024-12-03T14:31:12.341Z"
      },
      {
        "duration": 7,
        "start_time": "2024-12-03T14:31:12.510Z"
      },
      {
        "duration": 33,
        "start_time": "2024-12-03T14:31:12.518Z"
      },
      {
        "duration": 184,
        "start_time": "2024-12-03T14:31:12.553Z"
      },
      {
        "duration": 8,
        "start_time": "2024-12-03T14:31:12.738Z"
      },
      {
        "duration": 38,
        "start_time": "2024-12-03T14:31:12.747Z"
      },
      {
        "duration": 37,
        "start_time": "2024-12-03T14:31:12.786Z"
      },
      {
        "duration": 14,
        "start_time": "2024-12-03T14:31:12.824Z"
      },
      {
        "duration": 74,
        "start_time": "2024-12-03T14:31:12.840Z"
      },
      {
        "duration": 15,
        "start_time": "2024-12-03T14:31:12.916Z"
      },
      {
        "duration": 27,
        "start_time": "2024-12-03T14:31:12.933Z"
      },
      {
        "duration": 46,
        "start_time": "2024-12-03T14:31:12.961Z"
      },
      {
        "duration": 2957,
        "start_time": "2024-12-03T14:31:13.008Z"
      },
      {
        "duration": 10,
        "start_time": "2024-12-03T14:31:15.966Z"
      },
      {
        "duration": 33,
        "start_time": "2024-12-03T14:31:15.978Z"
      },
      {
        "duration": 20,
        "start_time": "2024-12-03T14:31:16.013Z"
      },
      {
        "duration": 12,
        "start_time": "2024-12-03T14:31:16.034Z"
      },
      {
        "duration": 135,
        "start_time": "2024-12-03T14:31:16.048Z"
      },
      {
        "duration": 13,
        "start_time": "2024-12-03T14:32:05.810Z"
      },
      {
        "duration": 14,
        "start_time": "2024-12-03T14:32:14.050Z"
      },
      {
        "duration": 6805,
        "start_time": "2024-12-03T14:36:40.334Z"
      },
      {
        "duration": 6,
        "start_time": "2024-12-03T14:36:47.141Z"
      },
      {
        "duration": 103,
        "start_time": "2024-12-03T14:36:47.148Z"
      },
      {
        "duration": 27,
        "start_time": "2024-12-03T14:36:47.253Z"
      },
      {
        "duration": 15,
        "start_time": "2024-12-03T14:36:47.282Z"
      },
      {
        "duration": 13,
        "start_time": "2024-12-03T14:36:47.299Z"
      },
      {
        "duration": 22,
        "start_time": "2024-12-03T14:36:47.314Z"
      },
      {
        "duration": 4,
        "start_time": "2024-12-03T14:36:47.338Z"
      },
      {
        "duration": 24,
        "start_time": "2024-12-03T14:36:47.344Z"
      },
      {
        "duration": 24,
        "start_time": "2024-12-03T14:36:47.371Z"
      },
      {
        "duration": 5,
        "start_time": "2024-12-03T14:36:47.396Z"
      },
      {
        "duration": 12,
        "start_time": "2024-12-03T14:36:47.402Z"
      },
      {
        "duration": 7,
        "start_time": "2024-12-03T14:36:47.416Z"
      },
      {
        "duration": 6,
        "start_time": "2024-12-03T14:36:47.425Z"
      },
      {
        "duration": 16,
        "start_time": "2024-12-03T14:36:47.432Z"
      },
      {
        "duration": 59,
        "start_time": "2024-12-03T14:36:47.449Z"
      },
      {
        "duration": 29,
        "start_time": "2024-12-03T14:36:47.509Z"
      },
      {
        "duration": 22,
        "start_time": "2024-12-03T14:36:47.540Z"
      },
      {
        "duration": 28,
        "start_time": "2024-12-03T14:36:47.564Z"
      },
      {
        "duration": 9,
        "start_time": "2024-12-03T14:36:47.594Z"
      },
      {
        "duration": 6,
        "start_time": "2024-12-03T14:36:47.604Z"
      },
      {
        "duration": 10,
        "start_time": "2024-12-03T14:36:47.612Z"
      },
      {
        "duration": 3260,
        "start_time": "2024-12-03T14:36:47.624Z"
      },
      {
        "duration": 474,
        "start_time": "2024-12-03T14:36:50.885Z"
      },
      {
        "duration": 487,
        "start_time": "2024-12-03T14:36:51.361Z"
      },
      {
        "duration": 430,
        "start_time": "2024-12-03T14:36:51.850Z"
      },
      {
        "duration": 400,
        "start_time": "2024-12-03T14:36:52.282Z"
      },
      {
        "duration": 179,
        "start_time": "2024-12-03T14:36:52.685Z"
      },
      {
        "duration": 7,
        "start_time": "2024-12-03T14:36:52.865Z"
      },
      {
        "duration": 70,
        "start_time": "2024-12-03T14:36:52.874Z"
      },
      {
        "duration": 164,
        "start_time": "2024-12-03T14:36:52.945Z"
      },
      {
        "duration": 9,
        "start_time": "2024-12-03T14:36:53.111Z"
      },
      {
        "duration": 7,
        "start_time": "2024-12-03T14:36:53.122Z"
      },
      {
        "duration": 27,
        "start_time": "2024-12-03T14:36:53.131Z"
      },
      {
        "duration": 39,
        "start_time": "2024-12-03T14:36:53.160Z"
      },
      {
        "duration": 17,
        "start_time": "2024-12-03T14:36:53.200Z"
      },
      {
        "duration": 27,
        "start_time": "2024-12-03T14:36:53.218Z"
      },
      {
        "duration": 50,
        "start_time": "2024-12-03T14:36:53.246Z"
      },
      {
        "duration": 2898,
        "start_time": "2024-12-03T14:36:53.298Z"
      },
      {
        "duration": 9,
        "start_time": "2024-12-03T14:36:56.198Z"
      },
      {
        "duration": 25,
        "start_time": "2024-12-03T14:36:56.209Z"
      },
      {
        "duration": 3,
        "start_time": "2024-12-03T14:36:56.236Z"
      },
      {
        "duration": 6,
        "start_time": "2024-12-03T14:36:56.240Z"
      },
      {
        "duration": 159,
        "start_time": "2024-12-03T14:36:56.247Z"
      },
      {
        "duration": 15,
        "start_time": "2024-12-03T14:52:15.153Z"
      },
      {
        "duration": 37,
        "start_time": "2024-12-03T14:52:31.585Z"
      },
      {
        "duration": 4,
        "start_time": "2024-12-03T14:52:37.178Z"
      },
      {
        "duration": 5,
        "start_time": "2024-12-03T14:52:39.812Z"
      },
      {
        "duration": 16,
        "start_time": "2024-12-03T14:52:44.501Z"
      },
      {
        "duration": 26,
        "start_time": "2024-12-03T14:53:22.614Z"
      },
      {
        "duration": 3,
        "start_time": "2024-12-03T14:53:23.609Z"
      },
      {
        "duration": 5,
        "start_time": "2024-12-03T14:53:24.569Z"
      },
      {
        "duration": 3012,
        "start_time": "2024-12-03T14:53:25.536Z"
      },
      {
        "duration": 58,
        "start_time": "2024-12-03T14:54:31.628Z"
      },
      {
        "duration": 457,
        "start_time": "2024-12-03T14:54:36.158Z"
      },
      {
        "duration": 17,
        "start_time": "2024-12-03T14:57:54.128Z"
      },
      {
        "duration": 17,
        "start_time": "2024-12-03T14:58:14.540Z"
      },
      {
        "duration": 23,
        "start_time": "2024-12-03T14:58:31.121Z"
      },
      {
        "duration": 3,
        "start_time": "2024-12-03T14:58:32.926Z"
      },
      {
        "duration": 5,
        "start_time": "2024-12-03T14:58:33.851Z"
      },
      {
        "duration": 407,
        "start_time": "2024-12-03T14:58:35.206Z"
      },
      {
        "duration": 37,
        "start_time": "2024-12-03T15:00:03.714Z"
      },
      {
        "duration": 3,
        "start_time": "2024-12-03T15:00:04.792Z"
      },
      {
        "duration": 6,
        "start_time": "2024-12-03T15:00:06.299Z"
      },
      {
        "duration": 6120,
        "start_time": "2024-12-03T15:00:07.346Z"
      },
      {
        "duration": 4824,
        "start_time": "2024-12-03T15:02:57.858Z"
      },
      {
        "duration": 31,
        "start_time": "2024-12-03T15:04:08.159Z"
      },
      {
        "duration": 3,
        "start_time": "2024-12-03T15:04:08.762Z"
      },
      {
        "duration": 5,
        "start_time": "2024-12-03T15:04:09.357Z"
      },
      {
        "duration": 7304,
        "start_time": "2024-12-03T15:04:09.840Z"
      },
      {
        "duration": 6845,
        "start_time": "2024-12-03T15:04:28.459Z"
      },
      {
        "duration": 5,
        "start_time": "2024-12-03T15:04:35.306Z"
      },
      {
        "duration": 108,
        "start_time": "2024-12-03T15:04:35.313Z"
      },
      {
        "duration": 27,
        "start_time": "2024-12-03T15:04:35.423Z"
      },
      {
        "duration": 14,
        "start_time": "2024-12-03T15:04:35.452Z"
      },
      {
        "duration": 43,
        "start_time": "2024-12-03T15:04:35.468Z"
      },
      {
        "duration": 46,
        "start_time": "2024-12-03T15:04:35.513Z"
      },
      {
        "duration": 32,
        "start_time": "2024-12-03T15:04:35.561Z"
      },
      {
        "duration": 16,
        "start_time": "2024-12-03T15:04:35.595Z"
      },
      {
        "duration": 35,
        "start_time": "2024-12-03T15:04:35.612Z"
      },
      {
        "duration": 37,
        "start_time": "2024-12-03T15:04:35.648Z"
      },
      {
        "duration": 30,
        "start_time": "2024-12-03T15:04:35.687Z"
      },
      {
        "duration": 37,
        "start_time": "2024-12-03T15:04:35.718Z"
      },
      {
        "duration": 35,
        "start_time": "2024-12-03T15:04:35.758Z"
      },
      {
        "duration": 50,
        "start_time": "2024-12-03T15:04:35.794Z"
      },
      {
        "duration": 46,
        "start_time": "2024-12-03T15:04:35.846Z"
      },
      {
        "duration": 31,
        "start_time": "2024-12-03T15:04:35.893Z"
      },
      {
        "duration": 8,
        "start_time": "2024-12-03T15:04:35.926Z"
      },
      {
        "duration": 17,
        "start_time": "2024-12-03T15:04:35.935Z"
      },
      {
        "duration": 13,
        "start_time": "2024-12-03T15:04:35.953Z"
      },
      {
        "duration": 17,
        "start_time": "2024-12-03T15:04:35.967Z"
      },
      {
        "duration": 22,
        "start_time": "2024-12-03T15:04:35.992Z"
      },
      {
        "duration": 3189,
        "start_time": "2024-12-03T15:04:36.015Z"
      },
      {
        "duration": 481,
        "start_time": "2024-12-03T15:04:39.205Z"
      },
      {
        "duration": 482,
        "start_time": "2024-12-03T15:04:39.691Z"
      },
      {
        "duration": 408,
        "start_time": "2024-12-03T15:04:40.174Z"
      },
      {
        "duration": 403,
        "start_time": "2024-12-03T15:04:40.583Z"
      },
      {
        "duration": 163,
        "start_time": "2024-12-03T15:04:40.987Z"
      },
      {
        "duration": 7,
        "start_time": "2024-12-03T15:04:41.152Z"
      },
      {
        "duration": 40,
        "start_time": "2024-12-03T15:04:41.161Z"
      },
      {
        "duration": 178,
        "start_time": "2024-12-03T15:04:41.202Z"
      },
      {
        "duration": 16,
        "start_time": "2024-12-03T15:04:41.382Z"
      },
      {
        "duration": 6,
        "start_time": "2024-12-03T15:04:41.400Z"
      },
      {
        "duration": 28,
        "start_time": "2024-12-03T15:04:41.408Z"
      },
      {
        "duration": 18,
        "start_time": "2024-12-03T15:04:41.437Z"
      },
      {
        "duration": 44,
        "start_time": "2024-12-03T15:04:41.457Z"
      },
      {
        "duration": 26,
        "start_time": "2024-12-03T15:04:41.502Z"
      },
      {
        "duration": 26,
        "start_time": "2024-12-03T15:04:41.529Z"
      },
      {
        "duration": 2880,
        "start_time": "2024-12-03T15:04:41.556Z"
      },
      {
        "duration": 14,
        "start_time": "2024-12-03T15:04:44.439Z"
      },
      {
        "duration": 25,
        "start_time": "2024-12-03T15:04:44.457Z"
      },
      {
        "duration": 9,
        "start_time": "2024-12-03T15:04:44.483Z"
      },
      {
        "duration": 6,
        "start_time": "2024-12-03T15:04:44.494Z"
      },
      {
        "duration": 7246,
        "start_time": "2024-12-03T15:04:44.501Z"
      },
      {
        "duration": 6855,
        "start_time": "2024-12-03T15:06:11.051Z"
      },
      {
        "duration": 6,
        "start_time": "2024-12-03T15:06:17.908Z"
      },
      {
        "duration": 96,
        "start_time": "2024-12-03T15:06:17.916Z"
      },
      {
        "duration": 28,
        "start_time": "2024-12-03T15:06:18.014Z"
      },
      {
        "duration": 18,
        "start_time": "2024-12-03T15:06:18.045Z"
      },
      {
        "duration": 16,
        "start_time": "2024-12-03T15:06:18.065Z"
      },
      {
        "duration": 14,
        "start_time": "2024-12-03T15:06:18.092Z"
      },
      {
        "duration": 4,
        "start_time": "2024-12-03T15:06:18.108Z"
      },
      {
        "duration": 16,
        "start_time": "2024-12-03T15:06:18.114Z"
      },
      {
        "duration": 7,
        "start_time": "2024-12-03T15:06:18.131Z"
      },
      {
        "duration": 9,
        "start_time": "2024-12-03T15:06:18.139Z"
      },
      {
        "duration": 7,
        "start_time": "2024-12-03T15:06:18.149Z"
      },
      {
        "duration": 34,
        "start_time": "2024-12-03T15:06:18.158Z"
      },
      {
        "duration": 7,
        "start_time": "2024-12-03T15:06:18.197Z"
      },
      {
        "duration": 29,
        "start_time": "2024-12-03T15:06:18.206Z"
      },
      {
        "duration": 70,
        "start_time": "2024-12-03T15:06:18.237Z"
      },
      {
        "duration": 31,
        "start_time": "2024-12-03T15:06:18.308Z"
      },
      {
        "duration": 7,
        "start_time": "2024-12-03T15:06:18.340Z"
      },
      {
        "duration": 7,
        "start_time": "2024-12-03T15:06:18.349Z"
      },
      {
        "duration": 37,
        "start_time": "2024-12-03T15:06:18.359Z"
      },
      {
        "duration": 7,
        "start_time": "2024-12-03T15:06:18.397Z"
      },
      {
        "duration": 7,
        "start_time": "2024-12-03T15:06:18.405Z"
      },
      {
        "duration": 3140,
        "start_time": "2024-12-03T15:06:18.413Z"
      },
      {
        "duration": 472,
        "start_time": "2024-12-03T15:06:21.554Z"
      },
      {
        "duration": 513,
        "start_time": "2024-12-03T15:06:22.028Z"
      },
      {
        "duration": 433,
        "start_time": "2024-12-03T15:06:22.543Z"
      },
      {
        "duration": 360,
        "start_time": "2024-12-03T15:06:22.978Z"
      },
      {
        "duration": 173,
        "start_time": "2024-12-03T15:06:23.339Z"
      },
      {
        "duration": 8,
        "start_time": "2024-12-03T15:06:23.513Z"
      },
      {
        "duration": 31,
        "start_time": "2024-12-03T15:06:23.523Z"
      },
      {
        "duration": 180,
        "start_time": "2024-12-03T15:06:23.556Z"
      },
      {
        "duration": 9,
        "start_time": "2024-12-03T15:06:23.737Z"
      },
      {
        "duration": 7,
        "start_time": "2024-12-03T15:06:23.748Z"
      },
      {
        "duration": 49,
        "start_time": "2024-12-03T15:06:23.756Z"
      },
      {
        "duration": 19,
        "start_time": "2024-12-03T15:06:23.807Z"
      },
      {
        "duration": 15,
        "start_time": "2024-12-03T15:06:23.828Z"
      },
      {
        "duration": 53,
        "start_time": "2024-12-03T15:06:23.844Z"
      },
      {
        "duration": 28,
        "start_time": "2024-12-03T15:06:23.898Z"
      },
      {
        "duration": 2893,
        "start_time": "2024-12-03T15:06:23.928Z"
      },
      {
        "duration": 15,
        "start_time": "2024-12-03T15:06:26.823Z"
      },
      {
        "duration": 43,
        "start_time": "2024-12-03T15:06:26.842Z"
      },
      {
        "duration": 3,
        "start_time": "2024-12-03T15:06:26.887Z"
      },
      {
        "duration": 6,
        "start_time": "2024-12-03T15:06:26.892Z"
      },
      {
        "duration": 4856,
        "start_time": "2024-12-03T15:06:26.899Z"
      },
      {
        "duration": 4831,
        "start_time": "2024-12-03T15:13:00.332Z"
      },
      {
        "duration": 23,
        "start_time": "2024-12-03T15:13:17.708Z"
      },
      {
        "duration": 6687,
        "start_time": "2024-12-03T15:13:24.228Z"
      },
      {
        "duration": 5,
        "start_time": "2024-12-03T15:13:30.917Z"
      },
      {
        "duration": 97,
        "start_time": "2024-12-03T15:13:30.924Z"
      },
      {
        "duration": 26,
        "start_time": "2024-12-03T15:13:31.022Z"
      },
      {
        "duration": 14,
        "start_time": "2024-12-03T15:13:31.050Z"
      },
      {
        "duration": 32,
        "start_time": "2024-12-03T15:13:31.066Z"
      },
      {
        "duration": 13,
        "start_time": "2024-12-03T15:13:31.100Z"
      },
      {
        "duration": 14,
        "start_time": "2024-12-03T15:13:31.115Z"
      },
      {
        "duration": 33,
        "start_time": "2024-12-03T15:13:31.130Z"
      },
      {
        "duration": 29,
        "start_time": "2024-12-03T15:13:31.165Z"
      },
      {
        "duration": 58,
        "start_time": "2024-12-03T15:13:31.195Z"
      },
      {
        "duration": 12,
        "start_time": "2024-12-03T15:13:31.254Z"
      },
      {
        "duration": 25,
        "start_time": "2024-12-03T15:13:31.267Z"
      },
      {
        "duration": 42,
        "start_time": "2024-12-03T15:13:31.295Z"
      },
      {
        "duration": 26,
        "start_time": "2024-12-03T15:13:31.338Z"
      },
      {
        "duration": 33,
        "start_time": "2024-12-03T15:13:31.365Z"
      },
      {
        "duration": 30,
        "start_time": "2024-12-03T15:13:31.400Z"
      },
      {
        "duration": 8,
        "start_time": "2024-12-03T15:13:31.432Z"
      },
      {
        "duration": 15,
        "start_time": "2024-12-03T15:13:31.442Z"
      },
      {
        "duration": 19,
        "start_time": "2024-12-03T15:13:31.458Z"
      },
      {
        "duration": 17,
        "start_time": "2024-12-03T15:13:31.478Z"
      },
      {
        "duration": 6,
        "start_time": "2024-12-03T15:13:31.497Z"
      },
      {
        "duration": 3165,
        "start_time": "2024-12-03T15:13:31.504Z"
      },
      {
        "duration": 471,
        "start_time": "2024-12-03T15:13:34.670Z"
      },
      {
        "duration": 472,
        "start_time": "2024-12-03T15:13:35.142Z"
      },
      {
        "duration": 456,
        "start_time": "2024-12-03T15:13:35.616Z"
      },
      {
        "duration": 376,
        "start_time": "2024-12-03T15:13:36.073Z"
      },
      {
        "duration": 162,
        "start_time": "2024-12-03T15:13:36.450Z"
      },
      {
        "duration": 7,
        "start_time": "2024-12-03T15:13:36.614Z"
      },
      {
        "duration": 59,
        "start_time": "2024-12-03T15:13:36.623Z"
      },
      {
        "duration": 168,
        "start_time": "2024-12-03T15:13:36.684Z"
      },
      {
        "duration": 8,
        "start_time": "2024-12-03T15:13:36.854Z"
      },
      {
        "duration": 45,
        "start_time": "2024-12-03T15:13:36.863Z"
      },
      {
        "duration": 38,
        "start_time": "2024-12-03T15:13:36.910Z"
      },
      {
        "duration": 19,
        "start_time": "2024-12-03T15:13:36.949Z"
      },
      {
        "duration": 15,
        "start_time": "2024-12-03T15:13:36.970Z"
      },
      {
        "duration": 29,
        "start_time": "2024-12-03T15:13:36.987Z"
      },
      {
        "duration": 27,
        "start_time": "2024-12-03T15:13:37.019Z"
      },
      {
        "duration": 2858,
        "start_time": "2024-12-03T15:13:37.047Z"
      },
      {
        "duration": 14,
        "start_time": "2024-12-03T15:13:39.907Z"
      },
      {
        "duration": 23,
        "start_time": "2024-12-03T15:13:39.924Z"
      },
      {
        "duration": 3,
        "start_time": "2024-12-03T15:13:39.948Z"
      },
      {
        "duration": 6,
        "start_time": "2024-12-03T15:13:39.952Z"
      },
      {
        "duration": 5971,
        "start_time": "2024-12-03T15:13:39.959Z"
      },
      {
        "duration": 25,
        "start_time": "2024-12-03T15:33:24.686Z"
      },
      {
        "duration": 3,
        "start_time": "2024-12-03T15:33:26.570Z"
      },
      {
        "duration": 5,
        "start_time": "2024-12-03T15:33:27.719Z"
      },
      {
        "duration": 8251,
        "start_time": "2024-12-03T15:34:00.511Z"
      },
      {
        "duration": 5,
        "start_time": "2024-12-03T15:34:08.764Z"
      },
      {
        "duration": 101,
        "start_time": "2024-12-03T15:34:08.770Z"
      },
      {
        "duration": 27,
        "start_time": "2024-12-03T15:34:08.873Z"
      },
      {
        "duration": 16,
        "start_time": "2024-12-03T15:34:08.902Z"
      },
      {
        "duration": 16,
        "start_time": "2024-12-03T15:34:08.919Z"
      },
      {
        "duration": 14,
        "start_time": "2024-12-03T15:34:08.936Z"
      },
      {
        "duration": 5,
        "start_time": "2024-12-03T15:34:08.951Z"
      },
      {
        "duration": 43,
        "start_time": "2024-12-03T15:34:08.958Z"
      },
      {
        "duration": 6,
        "start_time": "2024-12-03T15:34:09.002Z"
      },
      {
        "duration": 5,
        "start_time": "2024-12-03T15:34:09.009Z"
      },
      {
        "duration": 6,
        "start_time": "2024-12-03T15:34:09.015Z"
      },
      {
        "duration": 4,
        "start_time": "2024-12-03T15:34:09.022Z"
      },
      {
        "duration": 6,
        "start_time": "2024-12-03T15:34:09.029Z"
      },
      {
        "duration": 15,
        "start_time": "2024-12-03T15:34:09.036Z"
      },
      {
        "duration": 70,
        "start_time": "2024-12-03T15:34:09.052Z"
      },
      {
        "duration": 30,
        "start_time": "2024-12-03T15:34:09.123Z"
      },
      {
        "duration": 7,
        "start_time": "2024-12-03T15:34:09.155Z"
      },
      {
        "duration": 8,
        "start_time": "2024-12-03T15:34:09.192Z"
      },
      {
        "duration": 8,
        "start_time": "2024-12-03T15:34:09.201Z"
      },
      {
        "duration": 6,
        "start_time": "2024-12-03T15:34:09.210Z"
      },
      {
        "duration": 4,
        "start_time": "2024-12-03T15:34:09.218Z"
      },
      {
        "duration": 3359,
        "start_time": "2024-12-03T15:34:09.223Z"
      },
      {
        "duration": 467,
        "start_time": "2024-12-03T15:34:12.591Z"
      },
      {
        "duration": 477,
        "start_time": "2024-12-03T15:34:13.059Z"
      },
      {
        "duration": 465,
        "start_time": "2024-12-03T15:34:13.538Z"
      },
      {
        "duration": 385,
        "start_time": "2024-12-03T15:34:14.004Z"
      },
      {
        "duration": 170,
        "start_time": "2024-12-03T15:34:14.392Z"
      },
      {
        "duration": 7,
        "start_time": "2024-12-03T15:34:14.564Z"
      },
      {
        "duration": 38,
        "start_time": "2024-12-03T15:34:14.572Z"
      },
      {
        "duration": 176,
        "start_time": "2024-12-03T15:34:14.612Z"
      },
      {
        "duration": 8,
        "start_time": "2024-12-03T15:34:14.792Z"
      },
      {
        "duration": 12,
        "start_time": "2024-12-03T15:34:14.802Z"
      },
      {
        "duration": 29,
        "start_time": "2024-12-03T15:34:14.815Z"
      },
      {
        "duration": 21,
        "start_time": "2024-12-03T15:34:14.845Z"
      },
      {
        "duration": 39,
        "start_time": "2024-12-03T15:34:14.867Z"
      },
      {
        "duration": 58,
        "start_time": "2024-12-03T15:34:14.907Z"
      },
      {
        "duration": 27,
        "start_time": "2024-12-03T15:34:14.967Z"
      },
      {
        "duration": 2893,
        "start_time": "2024-12-03T15:34:14.996Z"
      },
      {
        "duration": 15,
        "start_time": "2024-12-03T15:34:17.890Z"
      },
      {
        "duration": 28,
        "start_time": "2024-12-03T15:34:17.909Z"
      },
      {
        "duration": 3,
        "start_time": "2024-12-03T15:34:17.939Z"
      },
      {
        "duration": 5,
        "start_time": "2024-12-03T15:34:17.944Z"
      },
      {
        "duration": 8746,
        "start_time": "2024-12-03T15:37:56.452Z"
      },
      {
        "duration": 6,
        "start_time": "2024-12-03T15:38:05.200Z"
      },
      {
        "duration": 121,
        "start_time": "2024-12-03T15:38:05.208Z"
      },
      {
        "duration": 27,
        "start_time": "2024-12-03T15:38:05.331Z"
      },
      {
        "duration": 14,
        "start_time": "2024-12-03T15:38:05.360Z"
      },
      {
        "duration": 12,
        "start_time": "2024-12-03T15:38:05.376Z"
      },
      {
        "duration": 15,
        "start_time": "2024-12-03T15:38:05.390Z"
      },
      {
        "duration": 11,
        "start_time": "2024-12-03T15:38:05.406Z"
      },
      {
        "duration": 31,
        "start_time": "2024-12-03T15:38:05.419Z"
      },
      {
        "duration": 19,
        "start_time": "2024-12-03T15:38:05.451Z"
      },
      {
        "duration": 12,
        "start_time": "2024-12-03T15:38:05.472Z"
      },
      {
        "duration": 24,
        "start_time": "2024-12-03T15:38:05.486Z"
      },
      {
        "duration": 28,
        "start_time": "2024-12-03T15:38:05.511Z"
      },
      {
        "duration": 28,
        "start_time": "2024-12-03T15:38:05.544Z"
      },
      {
        "duration": 45,
        "start_time": "2024-12-03T15:38:05.573Z"
      },
      {
        "duration": 33,
        "start_time": "2024-12-03T15:38:05.619Z"
      },
      {
        "duration": 40,
        "start_time": "2024-12-03T15:38:05.653Z"
      },
      {
        "duration": 8,
        "start_time": "2024-12-03T15:38:05.694Z"
      },
      {
        "duration": 16,
        "start_time": "2024-12-03T15:38:05.703Z"
      },
      {
        "duration": 43,
        "start_time": "2024-12-03T15:38:05.721Z"
      },
      {
        "duration": 12,
        "start_time": "2024-12-03T15:38:05.766Z"
      },
      {
        "duration": 21,
        "start_time": "2024-12-03T15:38:05.780Z"
      },
      {
        "duration": 3271,
        "start_time": "2024-12-03T15:38:05.802Z"
      },
      {
        "duration": 483,
        "start_time": "2024-12-03T15:38:09.074Z"
      },
      {
        "duration": 471,
        "start_time": "2024-12-03T15:38:09.558Z"
      },
      {
        "duration": 448,
        "start_time": "2024-12-03T15:38:10.031Z"
      },
      {
        "duration": 374,
        "start_time": "2024-12-03T15:38:10.480Z"
      },
      {
        "duration": 172,
        "start_time": "2024-12-03T15:38:10.856Z"
      },
      {
        "duration": 9,
        "start_time": "2024-12-03T15:38:11.030Z"
      },
      {
        "duration": 33,
        "start_time": "2024-12-03T15:38:11.040Z"
      },
      {
        "duration": 178,
        "start_time": "2024-12-03T15:38:11.091Z"
      },
      {
        "duration": 9,
        "start_time": "2024-12-03T15:38:11.271Z"
      },
      {
        "duration": 7,
        "start_time": "2024-12-03T15:38:11.292Z"
      },
      {
        "duration": 30,
        "start_time": "2024-12-03T15:38:11.300Z"
      },
      {
        "duration": 19,
        "start_time": "2024-12-03T15:38:11.331Z"
      },
      {
        "duration": 41,
        "start_time": "2024-12-03T15:38:11.351Z"
      },
      {
        "duration": 29,
        "start_time": "2024-12-03T15:38:11.393Z"
      },
      {
        "duration": 27,
        "start_time": "2024-12-03T15:38:11.423Z"
      },
      {
        "duration": 2908,
        "start_time": "2024-12-03T15:38:11.452Z"
      },
      {
        "duration": 15,
        "start_time": "2024-12-03T15:38:14.362Z"
      },
      {
        "duration": 24,
        "start_time": "2024-12-03T15:38:14.380Z"
      },
      {
        "duration": 3,
        "start_time": "2024-12-03T15:38:14.405Z"
      },
      {
        "duration": 5,
        "start_time": "2024-12-03T15:38:14.409Z"
      },
      {
        "duration": 6799,
        "start_time": "2024-12-03T15:39:38.459Z"
      },
      {
        "duration": 7,
        "start_time": "2024-12-03T15:39:45.260Z"
      },
      {
        "duration": 125,
        "start_time": "2024-12-03T15:39:45.269Z"
      },
      {
        "duration": 28,
        "start_time": "2024-12-03T15:39:45.396Z"
      },
      {
        "duration": 16,
        "start_time": "2024-12-03T15:39:45.425Z"
      },
      {
        "duration": 16,
        "start_time": "2024-12-03T15:39:45.442Z"
      },
      {
        "duration": 41,
        "start_time": "2024-12-03T15:39:45.460Z"
      },
      {
        "duration": 12,
        "start_time": "2024-12-03T15:39:45.503Z"
      },
      {
        "duration": 23,
        "start_time": "2024-12-03T15:39:45.516Z"
      },
      {
        "duration": 5,
        "start_time": "2024-12-03T15:39:45.542Z"
      },
      {
        "duration": 21,
        "start_time": "2024-12-03T15:39:45.548Z"
      },
      {
        "duration": 21,
        "start_time": "2024-12-03T15:39:45.570Z"
      },
      {
        "duration": 7,
        "start_time": "2024-12-03T15:39:45.593Z"
      },
      {
        "duration": 18,
        "start_time": "2024-12-03T15:39:45.602Z"
      },
      {
        "duration": 21,
        "start_time": "2024-12-03T15:39:45.622Z"
      },
      {
        "duration": 32,
        "start_time": "2024-12-03T15:39:45.644Z"
      },
      {
        "duration": 42,
        "start_time": "2024-12-03T15:39:45.677Z"
      },
      {
        "duration": 8,
        "start_time": "2024-12-03T15:39:45.720Z"
      },
      {
        "duration": 45,
        "start_time": "2024-12-03T15:39:45.730Z"
      },
      {
        "duration": 9,
        "start_time": "2024-12-03T15:39:45.777Z"
      },
      {
        "duration": 7,
        "start_time": "2024-12-03T15:39:45.787Z"
      },
      {
        "duration": 6,
        "start_time": "2024-12-03T15:39:45.796Z"
      },
      {
        "duration": 3171,
        "start_time": "2024-12-03T15:39:45.803Z"
      },
      {
        "duration": 471,
        "start_time": "2024-12-03T15:39:48.975Z"
      },
      {
        "duration": 473,
        "start_time": "2024-12-03T15:39:49.448Z"
      },
      {
        "duration": 442,
        "start_time": "2024-12-03T15:39:49.923Z"
      },
      {
        "duration": 391,
        "start_time": "2024-12-03T15:39:50.367Z"
      },
      {
        "duration": 175,
        "start_time": "2024-12-03T15:39:50.761Z"
      },
      {
        "duration": 8,
        "start_time": "2024-12-03T15:39:50.937Z"
      },
      {
        "duration": 87,
        "start_time": "2024-12-03T15:39:50.947Z"
      },
      {
        "duration": 179,
        "start_time": "2024-12-03T15:39:51.035Z"
      },
      {
        "duration": 9,
        "start_time": "2024-12-03T15:39:51.216Z"
      },
      {
        "duration": 10,
        "start_time": "2024-12-03T15:39:51.226Z"
      },
      {
        "duration": 37,
        "start_time": "2024-12-03T15:39:51.237Z"
      },
      {
        "duration": 77,
        "start_time": "2024-12-03T15:39:51.276Z"
      },
      {
        "duration": 16,
        "start_time": "2024-12-03T15:39:51.355Z"
      },
      {
        "duration": 28,
        "start_time": "2024-12-03T15:39:51.373Z"
      },
      {
        "duration": 28,
        "start_time": "2024-12-03T15:39:51.403Z"
      },
      {
        "duration": 2939,
        "start_time": "2024-12-03T15:39:51.433Z"
      },
      {
        "duration": 15,
        "start_time": "2024-12-03T15:39:54.374Z"
      },
      {
        "duration": 26,
        "start_time": "2024-12-03T15:39:54.390Z"
      },
      {
        "duration": 3,
        "start_time": "2024-12-03T15:39:54.417Z"
      },
      {
        "duration": 9,
        "start_time": "2024-12-03T15:39:54.421Z"
      },
      {
        "duration": 5968,
        "start_time": "2024-12-03T15:39:54.432Z"
      },
      {
        "duration": 4,
        "start_time": "2024-12-03T15:42:23.551Z"
      },
      {
        "duration": 33,
        "start_time": "2024-12-03T15:43:46.625Z"
      },
      {
        "duration": 2,
        "start_time": "2024-12-03T15:43:49.181Z"
      },
      {
        "duration": 5,
        "start_time": "2024-12-03T15:43:50.106Z"
      },
      {
        "duration": 5877,
        "start_time": "2024-12-03T15:43:51.067Z"
      },
      {
        "duration": 135,
        "start_time": "2024-12-03T15:45:01.041Z"
      },
      {
        "duration": 15,
        "start_time": "2024-12-03T15:45:10.848Z"
      },
      {
        "duration": 33,
        "start_time": "2024-12-03T15:48:16.680Z"
      },
      {
        "duration": 3,
        "start_time": "2024-12-03T15:48:17.473Z"
      },
      {
        "duration": 5,
        "start_time": "2024-12-03T15:48:18.819Z"
      },
      {
        "duration": 17,
        "start_time": "2024-12-03T15:48:25.155Z"
      },
      {
        "duration": 6848,
        "start_time": "2024-12-03T15:49:27.359Z"
      },
      {
        "duration": 5,
        "start_time": "2024-12-03T15:49:34.209Z"
      },
      {
        "duration": 163,
        "start_time": "2024-12-03T15:49:34.216Z"
      },
      {
        "duration": 28,
        "start_time": "2024-12-03T15:49:34.381Z"
      },
      {
        "duration": 25,
        "start_time": "2024-12-03T15:49:34.411Z"
      },
      {
        "duration": 13,
        "start_time": "2024-12-03T15:49:34.438Z"
      },
      {
        "duration": 13,
        "start_time": "2024-12-03T15:49:34.452Z"
      },
      {
        "duration": 25,
        "start_time": "2024-12-03T15:49:34.467Z"
      },
      {
        "duration": 28,
        "start_time": "2024-12-03T15:49:34.494Z"
      },
      {
        "duration": 6,
        "start_time": "2024-12-03T15:49:34.523Z"
      },
      {
        "duration": 7,
        "start_time": "2024-12-03T15:49:34.530Z"
      },
      {
        "duration": 5,
        "start_time": "2024-12-03T15:49:34.538Z"
      },
      {
        "duration": 4,
        "start_time": "2024-12-03T15:49:34.545Z"
      },
      {
        "duration": 5,
        "start_time": "2024-12-03T15:49:34.552Z"
      },
      {
        "duration": 38,
        "start_time": "2024-12-03T15:49:34.559Z"
      },
      {
        "duration": 33,
        "start_time": "2024-12-03T15:49:34.599Z"
      },
      {
        "duration": 59,
        "start_time": "2024-12-03T15:49:34.634Z"
      },
      {
        "duration": 8,
        "start_time": "2024-12-03T15:49:34.694Z"
      },
      {
        "duration": 26,
        "start_time": "2024-12-03T15:49:34.703Z"
      },
      {
        "duration": 15,
        "start_time": "2024-12-03T15:49:34.731Z"
      },
      {
        "duration": 8,
        "start_time": "2024-12-03T15:49:34.748Z"
      },
      {
        "duration": 25,
        "start_time": "2024-12-03T15:49:34.758Z"
      },
      {
        "duration": 3285,
        "start_time": "2024-12-03T15:49:34.786Z"
      },
      {
        "duration": 512,
        "start_time": "2024-12-03T15:49:38.072Z"
      },
      {
        "duration": 469,
        "start_time": "2024-12-03T15:49:38.585Z"
      },
      {
        "duration": 438,
        "start_time": "2024-12-03T15:49:39.055Z"
      },
      {
        "duration": 390,
        "start_time": "2024-12-03T15:49:39.495Z"
      },
      {
        "duration": 172,
        "start_time": "2024-12-03T15:49:39.887Z"
      },
      {
        "duration": 7,
        "start_time": "2024-12-03T15:49:40.061Z"
      },
      {
        "duration": 42,
        "start_time": "2024-12-03T15:49:40.069Z"
      },
      {
        "duration": 183,
        "start_time": "2024-12-03T15:49:40.113Z"
      },
      {
        "duration": 9,
        "start_time": "2024-12-03T15:49:40.297Z"
      },
      {
        "duration": 24,
        "start_time": "2024-12-03T15:49:40.307Z"
      },
      {
        "duration": 29,
        "start_time": "2024-12-03T15:49:40.332Z"
      },
      {
        "duration": 32,
        "start_time": "2024-12-03T15:49:40.362Z"
      },
      {
        "duration": 17,
        "start_time": "2024-12-03T15:49:40.395Z"
      },
      {
        "duration": 30,
        "start_time": "2024-12-03T15:49:40.414Z"
      },
      {
        "duration": 54,
        "start_time": "2024-12-03T15:49:40.446Z"
      },
      {
        "duration": 3007,
        "start_time": "2024-12-03T15:49:40.501Z"
      },
      {
        "duration": 14,
        "start_time": "2024-12-03T15:49:43.510Z"
      },
      {
        "duration": 35,
        "start_time": "2024-12-03T15:49:43.528Z"
      },
      {
        "duration": 3,
        "start_time": "2024-12-03T15:49:43.565Z"
      },
      {
        "duration": 7,
        "start_time": "2024-12-03T15:49:43.569Z"
      },
      {
        "duration": 147,
        "start_time": "2024-12-03T15:49:43.577Z"
      },
      {
        "duration": 33755,
        "start_time": "2024-12-03T15:50:00.537Z"
      },
      {
        "duration": 6865,
        "start_time": "2024-12-03T15:52:08.021Z"
      },
      {
        "duration": 5,
        "start_time": "2024-12-03T15:52:14.891Z"
      },
      {
        "duration": 109,
        "start_time": "2024-12-03T15:52:14.898Z"
      },
      {
        "duration": 29,
        "start_time": "2024-12-03T15:52:15.009Z"
      },
      {
        "duration": 47,
        "start_time": "2024-12-03T15:52:15.040Z"
      },
      {
        "duration": 32,
        "start_time": "2024-12-03T15:52:15.089Z"
      },
      {
        "duration": 21,
        "start_time": "2024-12-03T15:52:15.123Z"
      },
      {
        "duration": 13,
        "start_time": "2024-12-03T15:52:15.146Z"
      },
      {
        "duration": 68,
        "start_time": "2024-12-03T15:52:15.160Z"
      },
      {
        "duration": 25,
        "start_time": "2024-12-03T15:52:15.230Z"
      },
      {
        "duration": 26,
        "start_time": "2024-12-03T15:52:15.257Z"
      },
      {
        "duration": 80,
        "start_time": "2024-12-03T15:52:15.284Z"
      },
      {
        "duration": 25,
        "start_time": "2024-12-03T15:52:15.365Z"
      },
      {
        "duration": 27,
        "start_time": "2024-12-03T15:52:15.393Z"
      },
      {
        "duration": 18,
        "start_time": "2024-12-03T15:52:15.421Z"
      },
      {
        "duration": 32,
        "start_time": "2024-12-03T15:52:15.441Z"
      },
      {
        "duration": 41,
        "start_time": "2024-12-03T15:52:15.475Z"
      },
      {
        "duration": 7,
        "start_time": "2024-12-03T15:52:15.518Z"
      },
      {
        "duration": 8,
        "start_time": "2024-12-03T15:52:15.527Z"
      },
      {
        "duration": 8,
        "start_time": "2024-12-03T15:52:15.536Z"
      },
      {
        "duration": 13,
        "start_time": "2024-12-03T15:52:15.545Z"
      },
      {
        "duration": 33,
        "start_time": "2024-12-03T15:52:15.559Z"
      },
      {
        "duration": 3216,
        "start_time": "2024-12-03T15:52:15.594Z"
      },
      {
        "duration": 467,
        "start_time": "2024-12-03T15:52:18.812Z"
      },
      {
        "duration": 482,
        "start_time": "2024-12-03T15:52:19.281Z"
      },
      {
        "duration": 416,
        "start_time": "2024-12-03T15:52:19.764Z"
      },
      {
        "duration": 372,
        "start_time": "2024-12-03T15:52:20.181Z"
      },
      {
        "duration": 198,
        "start_time": "2024-12-03T15:52:20.555Z"
      },
      {
        "duration": 8,
        "start_time": "2024-12-03T15:52:20.754Z"
      },
      {
        "duration": 39,
        "start_time": "2024-12-03T15:52:20.764Z"
      },
      {
        "duration": 173,
        "start_time": "2024-12-03T15:52:20.805Z"
      },
      {
        "duration": 13,
        "start_time": "2024-12-03T15:52:20.980Z"
      },
      {
        "duration": 46,
        "start_time": "2024-12-03T15:52:20.994Z"
      },
      {
        "duration": 40,
        "start_time": "2024-12-03T15:52:21.041Z"
      },
      {
        "duration": 21,
        "start_time": "2024-12-03T15:52:21.083Z"
      },
      {
        "duration": 16,
        "start_time": "2024-12-03T15:52:21.105Z"
      },
      {
        "duration": 26,
        "start_time": "2024-12-03T15:52:21.122Z"
      },
      {
        "duration": 52,
        "start_time": "2024-12-03T15:52:21.150Z"
      },
      {
        "duration": 2869,
        "start_time": "2024-12-03T15:52:21.203Z"
      },
      {
        "duration": 13,
        "start_time": "2024-12-03T15:52:24.074Z"
      },
      {
        "duration": 35,
        "start_time": "2024-12-03T15:52:24.094Z"
      },
      {
        "duration": 3,
        "start_time": "2024-12-03T15:52:24.130Z"
      },
      {
        "duration": 9,
        "start_time": "2024-12-03T15:52:24.134Z"
      },
      {
        "duration": 24411,
        "start_time": "2024-12-03T15:52:24.144Z"
      },
      {
        "duration": 6753,
        "start_time": "2024-12-03T15:54:16.704Z"
      },
      {
        "duration": 5,
        "start_time": "2024-12-03T15:54:23.459Z"
      },
      {
        "duration": 136,
        "start_time": "2024-12-03T15:54:23.465Z"
      },
      {
        "duration": 28,
        "start_time": "2024-12-03T15:54:23.603Z"
      },
      {
        "duration": 16,
        "start_time": "2024-12-03T15:54:23.633Z"
      },
      {
        "duration": 14,
        "start_time": "2024-12-03T15:54:23.650Z"
      },
      {
        "duration": 32,
        "start_time": "2024-12-03T15:54:23.666Z"
      },
      {
        "duration": 5,
        "start_time": "2024-12-03T15:54:23.699Z"
      },
      {
        "duration": 28,
        "start_time": "2024-12-03T15:54:23.706Z"
      },
      {
        "duration": 6,
        "start_time": "2024-12-03T15:54:23.736Z"
      },
      {
        "duration": 54,
        "start_time": "2024-12-03T15:54:23.743Z"
      },
      {
        "duration": 5,
        "start_time": "2024-12-03T15:54:23.799Z"
      },
      {
        "duration": 4,
        "start_time": "2024-12-03T15:54:23.806Z"
      },
      {
        "duration": 6,
        "start_time": "2024-12-03T15:54:23.813Z"
      },
      {
        "duration": 16,
        "start_time": "2024-12-03T15:54:23.821Z"
      },
      {
        "duration": 59,
        "start_time": "2024-12-03T15:54:23.838Z"
      },
      {
        "duration": 31,
        "start_time": "2024-12-03T15:54:23.899Z"
      },
      {
        "duration": 7,
        "start_time": "2024-12-03T15:54:23.932Z"
      },
      {
        "duration": 7,
        "start_time": "2024-12-03T15:54:23.941Z"
      },
      {
        "duration": 8,
        "start_time": "2024-12-03T15:54:23.949Z"
      },
      {
        "duration": 35,
        "start_time": "2024-12-03T15:54:23.958Z"
      },
      {
        "duration": 4,
        "start_time": "2024-12-03T15:54:23.995Z"
      },
      {
        "duration": 3137,
        "start_time": "2024-12-03T15:54:24.001Z"
      },
      {
        "duration": 453,
        "start_time": "2024-12-03T15:54:27.140Z"
      },
      {
        "duration": 476,
        "start_time": "2024-12-03T15:54:27.595Z"
      },
      {
        "duration": 420,
        "start_time": "2024-12-03T15:54:28.072Z"
      },
      {
        "duration": 354,
        "start_time": "2024-12-03T15:54:28.493Z"
      },
      {
        "duration": 169,
        "start_time": "2024-12-03T15:54:28.848Z"
      },
      {
        "duration": 7,
        "start_time": "2024-12-03T15:54:29.019Z"
      },
      {
        "duration": 48,
        "start_time": "2024-12-03T15:54:29.027Z"
      },
      {
        "duration": 161,
        "start_time": "2024-12-03T15:54:29.077Z"
      },
      {
        "duration": 8,
        "start_time": "2024-12-03T15:54:29.239Z"
      },
      {
        "duration": 13,
        "start_time": "2024-12-03T15:54:29.248Z"
      },
      {
        "duration": 37,
        "start_time": "2024-12-03T15:54:29.262Z"
      },
      {
        "duration": 26,
        "start_time": "2024-12-03T15:54:29.302Z"
      },
      {
        "duration": 27,
        "start_time": "2024-12-03T15:54:29.330Z"
      },
      {
        "duration": 33,
        "start_time": "2024-12-03T15:54:29.360Z"
      },
      {
        "duration": 26,
        "start_time": "2024-12-03T15:54:29.395Z"
      },
      {
        "duration": 2849,
        "start_time": "2024-12-03T15:54:29.423Z"
      },
      {
        "duration": 14,
        "start_time": "2024-12-03T15:54:32.274Z"
      },
      {
        "duration": 30,
        "start_time": "2024-12-03T15:54:32.291Z"
      },
      {
        "duration": 4,
        "start_time": "2024-12-03T15:54:32.322Z"
      },
      {
        "duration": 23,
        "start_time": "2024-12-03T15:54:32.328Z"
      },
      {
        "duration": 52650,
        "start_time": "2024-12-03T15:54:32.353Z"
      },
      {
        "duration": 5,
        "start_time": "2024-12-03T16:03:28.128Z"
      },
      {
        "duration": 7359,
        "start_time": "2024-12-03T16:03:54.593Z"
      },
      {
        "duration": 5,
        "start_time": "2024-12-03T16:04:01.954Z"
      },
      {
        "duration": 125,
        "start_time": "2024-12-03T16:04:01.960Z"
      },
      {
        "duration": 36,
        "start_time": "2024-12-03T16:04:02.086Z"
      },
      {
        "duration": 24,
        "start_time": "2024-12-03T16:04:02.126Z"
      },
      {
        "duration": 14,
        "start_time": "2024-12-03T16:04:02.152Z"
      },
      {
        "duration": 40,
        "start_time": "2024-12-03T16:04:02.168Z"
      },
      {
        "duration": 4,
        "start_time": "2024-12-03T16:04:02.210Z"
      },
      {
        "duration": 64,
        "start_time": "2024-12-03T16:04:02.216Z"
      },
      {
        "duration": 10,
        "start_time": "2024-12-03T16:04:02.281Z"
      },
      {
        "duration": 38,
        "start_time": "2024-12-03T16:04:02.293Z"
      },
      {
        "duration": 24,
        "start_time": "2024-12-03T16:04:02.333Z"
      },
      {
        "duration": 19,
        "start_time": "2024-12-03T16:04:02.358Z"
      },
      {
        "duration": 31,
        "start_time": "2024-12-03T16:04:02.380Z"
      },
      {
        "duration": 28,
        "start_time": "2024-12-03T16:04:02.412Z"
      },
      {
        "duration": 41,
        "start_time": "2024-12-03T16:04:02.441Z"
      },
      {
        "duration": 40,
        "start_time": "2024-12-03T16:04:02.484Z"
      },
      {
        "duration": 7,
        "start_time": "2024-12-03T16:04:02.525Z"
      },
      {
        "duration": 21,
        "start_time": "2024-12-03T16:04:02.534Z"
      },
      {
        "duration": 16,
        "start_time": "2024-12-03T16:04:02.557Z"
      },
      {
        "duration": 6,
        "start_time": "2024-12-03T16:04:02.574Z"
      },
      {
        "duration": 19,
        "start_time": "2024-12-03T16:04:02.582Z"
      },
      {
        "duration": 3340,
        "start_time": "2024-12-03T16:04:02.604Z"
      },
      {
        "duration": 498,
        "start_time": "2024-12-03T16:04:05.946Z"
      },
      {
        "duration": 511,
        "start_time": "2024-12-03T16:04:06.446Z"
      },
      {
        "duration": 456,
        "start_time": "2024-12-03T16:04:06.959Z"
      },
      {
        "duration": 441,
        "start_time": "2024-12-03T16:04:07.417Z"
      },
      {
        "duration": 195,
        "start_time": "2024-12-03T16:04:07.860Z"
      },
      {
        "duration": 8,
        "start_time": "2024-12-03T16:04:08.056Z"
      },
      {
        "duration": 48,
        "start_time": "2024-12-03T16:04:08.065Z"
      },
      {
        "duration": 220,
        "start_time": "2024-12-03T16:04:08.114Z"
      },
      {
        "duration": 8,
        "start_time": "2024-12-03T16:04:08.336Z"
      },
      {
        "duration": 6,
        "start_time": "2024-12-03T16:04:08.346Z"
      },
      {
        "duration": 62,
        "start_time": "2024-12-03T16:04:08.354Z"
      },
      {
        "duration": 20,
        "start_time": "2024-12-03T16:04:08.418Z"
      },
      {
        "duration": 16,
        "start_time": "2024-12-03T16:04:08.439Z"
      },
      {
        "duration": 57,
        "start_time": "2024-12-03T16:04:08.457Z"
      },
      {
        "duration": 31,
        "start_time": "2024-12-03T16:04:08.515Z"
      },
      {
        "duration": 3069,
        "start_time": "2024-12-03T16:04:08.547Z"
      },
      {
        "duration": 18,
        "start_time": "2024-12-03T16:04:11.619Z"
      },
      {
        "duration": 32,
        "start_time": "2024-12-03T16:04:11.640Z"
      },
      {
        "duration": 3,
        "start_time": "2024-12-03T16:04:11.673Z"
      },
      {
        "duration": 18,
        "start_time": "2024-12-03T16:04:11.677Z"
      },
      {
        "duration": 56868,
        "start_time": "2024-12-03T16:04:11.697Z"
      },
      {
        "duration": 3740,
        "start_time": "2024-12-03T16:05:40.375Z"
      },
      {
        "duration": 3031,
        "start_time": "2024-12-03T16:07:49.747Z"
      },
      {
        "duration": 337,
        "start_time": "2024-12-03T16:37:14.899Z"
      },
      {
        "duration": 6870,
        "start_time": "2024-12-03T16:38:34.666Z"
      },
      {
        "duration": 6,
        "start_time": "2024-12-03T16:38:41.539Z"
      },
      {
        "duration": 90,
        "start_time": "2024-12-03T16:38:41.546Z"
      },
      {
        "duration": 29,
        "start_time": "2024-12-03T16:38:41.637Z"
      },
      {
        "duration": 16,
        "start_time": "2024-12-03T16:38:41.669Z"
      },
      {
        "duration": 20,
        "start_time": "2024-12-03T16:38:41.687Z"
      },
      {
        "duration": 17,
        "start_time": "2024-12-03T16:38:41.709Z"
      },
      {
        "duration": 5,
        "start_time": "2024-12-03T16:38:41.729Z"
      },
      {
        "duration": 20,
        "start_time": "2024-12-03T16:38:41.735Z"
      },
      {
        "duration": 5,
        "start_time": "2024-12-03T16:38:41.756Z"
      },
      {
        "duration": 30,
        "start_time": "2024-12-03T16:38:41.762Z"
      },
      {
        "duration": 4,
        "start_time": "2024-12-03T16:38:41.794Z"
      },
      {
        "duration": 6,
        "start_time": "2024-12-03T16:38:41.800Z"
      },
      {
        "duration": 5,
        "start_time": "2024-12-03T16:38:41.809Z"
      },
      {
        "duration": 21,
        "start_time": "2024-12-03T16:38:41.816Z"
      },
      {
        "duration": 72,
        "start_time": "2024-12-03T16:38:41.839Z"
      },
      {
        "duration": 29,
        "start_time": "2024-12-03T16:38:41.912Z"
      },
      {
        "duration": 7,
        "start_time": "2024-12-03T16:38:41.943Z"
      },
      {
        "duration": 7,
        "start_time": "2024-12-03T16:38:41.952Z"
      },
      {
        "duration": 9,
        "start_time": "2024-12-03T16:38:41.992Z"
      },
      {
        "duration": 6,
        "start_time": "2024-12-03T16:38:42.003Z"
      },
      {
        "duration": 4,
        "start_time": "2024-12-03T16:38:42.012Z"
      },
      {
        "duration": 3134,
        "start_time": "2024-12-03T16:38:42.017Z"
      },
      {
        "duration": 475,
        "start_time": "2024-12-03T16:38:45.153Z"
      },
      {
        "duration": 518,
        "start_time": "2024-12-03T16:38:45.629Z"
      },
      {
        "duration": 445,
        "start_time": "2024-12-03T16:38:46.148Z"
      },
      {
        "duration": 358,
        "start_time": "2024-12-03T16:38:46.595Z"
      },
      {
        "duration": 172,
        "start_time": "2024-12-03T16:38:46.954Z"
      },
      {
        "duration": 7,
        "start_time": "2024-12-03T16:38:47.128Z"
      },
      {
        "duration": 26,
        "start_time": "2024-12-03T16:38:47.137Z"
      },
      {
        "duration": 195,
        "start_time": "2024-12-03T16:38:47.164Z"
      },
      {
        "duration": 8,
        "start_time": "2024-12-03T16:38:47.360Z"
      },
      {
        "duration": 6,
        "start_time": "2024-12-03T16:38:47.370Z"
      },
      {
        "duration": 40,
        "start_time": "2024-12-03T16:38:47.377Z"
      },
      {
        "duration": 93,
        "start_time": "2024-12-03T16:38:47.419Z"
      },
      {
        "duration": 15,
        "start_time": "2024-12-03T16:38:47.513Z"
      },
      {
        "duration": 27,
        "start_time": "2024-12-03T16:38:47.530Z"
      },
      {
        "duration": 48,
        "start_time": "2024-12-03T16:38:47.559Z"
      },
      {
        "duration": 2851,
        "start_time": "2024-12-03T16:38:47.609Z"
      },
      {
        "duration": 14,
        "start_time": "2024-12-03T16:38:50.462Z"
      },
      {
        "duration": 35,
        "start_time": "2024-12-03T16:38:50.480Z"
      },
      {
        "duration": 2,
        "start_time": "2024-12-03T16:38:50.517Z"
      },
      {
        "duration": 6,
        "start_time": "2024-12-03T16:38:50.521Z"
      },
      {
        "duration": 3226,
        "start_time": "2024-12-03T16:38:50.528Z"
      },
      {
        "duration": 15,
        "start_time": "2024-12-03T16:38:53.755Z"
      },
      {
        "duration": 15,
        "start_time": "2024-12-03T16:56:45.538Z"
      },
      {
        "duration": 155,
        "start_time": "2024-12-03T17:34:32.063Z"
      },
      {
        "duration": 28,
        "start_time": "2024-12-03T17:34:52.889Z"
      },
      {
        "duration": 36,
        "start_time": "2024-12-03T17:39:37.877Z"
      },
      {
        "duration": 36,
        "start_time": "2024-12-03T17:39:44.894Z"
      },
      {
        "duration": 35,
        "start_time": "2024-12-03T17:39:58.295Z"
      },
      {
        "duration": 40,
        "start_time": "2024-12-03T17:43:34.046Z"
      },
      {
        "duration": 37,
        "start_time": "2024-12-03T17:48:43.287Z"
      },
      {
        "duration": 44,
        "start_time": "2024-12-03T17:48:50.582Z"
      },
      {
        "duration": 38,
        "start_time": "2024-12-03T17:50:37.008Z"
      },
      {
        "duration": 35,
        "start_time": "2024-12-03T17:50:47.382Z"
      },
      {
        "duration": 27,
        "start_time": "2024-12-03T18:39:06.928Z"
      },
      {
        "duration": 20,
        "start_time": "2024-12-03T18:39:16.442Z"
      },
      {
        "duration": 440589,
        "start_time": "2024-12-03T18:42:22.255Z"
      },
      {
        "duration": 16,
        "start_time": "2024-12-03T18:51:00.006Z"
      },
      {
        "duration": 16,
        "start_time": "2024-12-03T18:51:01.879Z"
      },
      {
        "duration": 39,
        "start_time": "2024-12-03T18:51:08.654Z"
      },
      {
        "duration": 39,
        "start_time": "2024-12-03T18:51:14.208Z"
      },
      {
        "duration": 22,
        "start_time": "2024-12-03T18:51:17.899Z"
      },
      {
        "duration": 1866,
        "start_time": "2024-12-03T18:51:55.447Z"
      },
      {
        "duration": 15,
        "start_time": "2024-12-03T18:52:26.011Z"
      },
      {
        "duration": 6603,
        "start_time": "2024-12-03T18:52:35.635Z"
      },
      {
        "duration": 6,
        "start_time": "2024-12-03T18:52:42.240Z"
      },
      {
        "duration": 93,
        "start_time": "2024-12-03T18:52:42.247Z"
      },
      {
        "duration": 27,
        "start_time": "2024-12-03T18:52:42.342Z"
      },
      {
        "duration": 17,
        "start_time": "2024-12-03T18:52:42.372Z"
      },
      {
        "duration": 15,
        "start_time": "2024-12-03T18:52:42.390Z"
      },
      {
        "duration": 13,
        "start_time": "2024-12-03T18:52:42.406Z"
      },
      {
        "duration": 5,
        "start_time": "2024-12-03T18:52:42.420Z"
      },
      {
        "duration": 54,
        "start_time": "2024-12-03T18:52:42.426Z"
      },
      {
        "duration": 6,
        "start_time": "2024-12-03T18:52:42.483Z"
      },
      {
        "duration": 8,
        "start_time": "2024-12-03T18:52:42.490Z"
      },
      {
        "duration": 5,
        "start_time": "2024-12-03T18:52:42.499Z"
      },
      {
        "duration": 4,
        "start_time": "2024-12-03T18:52:42.505Z"
      },
      {
        "duration": 5,
        "start_time": "2024-12-03T18:52:42.510Z"
      },
      {
        "duration": 15,
        "start_time": "2024-12-03T18:52:42.517Z"
      },
      {
        "duration": 66,
        "start_time": "2024-12-03T18:52:42.534Z"
      },
      {
        "duration": 31,
        "start_time": "2024-12-03T18:52:42.601Z"
      },
      {
        "duration": 7,
        "start_time": "2024-12-03T18:52:42.634Z"
      },
      {
        "duration": 8,
        "start_time": "2024-12-03T18:52:42.643Z"
      },
      {
        "duration": 43,
        "start_time": "2024-12-03T18:52:42.653Z"
      },
      {
        "duration": 6,
        "start_time": "2024-12-03T18:52:42.698Z"
      },
      {
        "duration": 4,
        "start_time": "2024-12-03T18:52:42.706Z"
      },
      {
        "duration": 3260,
        "start_time": "2024-12-03T18:52:42.712Z"
      },
      {
        "duration": 473,
        "start_time": "2024-12-03T18:52:45.973Z"
      },
      {
        "duration": 469,
        "start_time": "2024-12-03T18:52:46.448Z"
      },
      {
        "duration": 445,
        "start_time": "2024-12-03T18:52:46.919Z"
      },
      {
        "duration": 379,
        "start_time": "2024-12-03T18:52:47.366Z"
      },
      {
        "duration": 171,
        "start_time": "2024-12-03T18:52:47.749Z"
      },
      {
        "duration": 9,
        "start_time": "2024-12-03T18:52:47.921Z"
      },
      {
        "duration": 32,
        "start_time": "2024-12-03T18:52:47.931Z"
      },
      {
        "duration": 203,
        "start_time": "2024-12-03T18:52:47.964Z"
      },
      {
        "duration": 13,
        "start_time": "2024-12-03T18:52:48.169Z"
      },
      {
        "duration": 10,
        "start_time": "2024-12-03T18:52:48.194Z"
      },
      {
        "duration": 45,
        "start_time": "2024-12-03T18:52:48.206Z"
      },
      {
        "duration": 41,
        "start_time": "2024-12-03T18:52:48.253Z"
      },
      {
        "duration": 17,
        "start_time": "2024-12-03T18:52:48.296Z"
      },
      {
        "duration": 28,
        "start_time": "2024-12-03T18:52:48.314Z"
      },
      {
        "duration": 53,
        "start_time": "2024-12-03T18:52:48.343Z"
      },
      {
        "duration": 3135,
        "start_time": "2024-12-03T18:52:48.397Z"
      },
      {
        "duration": 15,
        "start_time": "2024-12-03T18:52:51.534Z"
      },
      {
        "duration": 35,
        "start_time": "2024-12-03T18:52:51.551Z"
      },
      {
        "duration": 2,
        "start_time": "2024-12-03T18:52:51.588Z"
      },
      {
        "duration": 39,
        "start_time": "2024-12-03T18:52:51.592Z"
      },
      {
        "duration": 6994,
        "start_time": "2024-12-03T18:56:25.951Z"
      },
      {
        "duration": 6,
        "start_time": "2024-12-03T18:56:32.947Z"
      },
      {
        "duration": 121,
        "start_time": "2024-12-03T18:56:32.955Z"
      },
      {
        "duration": 28,
        "start_time": "2024-12-03T18:56:33.078Z"
      },
      {
        "duration": 20,
        "start_time": "2024-12-03T18:56:33.108Z"
      },
      {
        "duration": 27,
        "start_time": "2024-12-03T18:56:33.130Z"
      },
      {
        "duration": 28,
        "start_time": "2024-12-03T18:56:33.159Z"
      },
      {
        "duration": 21,
        "start_time": "2024-12-03T18:56:33.189Z"
      },
      {
        "duration": 17,
        "start_time": "2024-12-03T18:56:33.211Z"
      },
      {
        "duration": 6,
        "start_time": "2024-12-03T18:56:33.230Z"
      },
      {
        "duration": 17,
        "start_time": "2024-12-03T18:56:33.237Z"
      },
      {
        "duration": 30,
        "start_time": "2024-12-03T18:56:33.255Z"
      },
      {
        "duration": 23,
        "start_time": "2024-12-03T18:56:33.287Z"
      },
      {
        "duration": 31,
        "start_time": "2024-12-03T18:56:33.311Z"
      },
      {
        "duration": 19,
        "start_time": "2024-12-03T18:56:33.343Z"
      },
      {
        "duration": 45,
        "start_time": "2024-12-03T18:56:33.364Z"
      },
      {
        "duration": 30,
        "start_time": "2024-12-03T18:56:33.410Z"
      },
      {
        "duration": 7,
        "start_time": "2024-12-03T18:56:33.442Z"
      },
      {
        "duration": 22,
        "start_time": "2024-12-03T18:56:33.450Z"
      },
      {
        "duration": 20,
        "start_time": "2024-12-03T18:56:33.473Z"
      },
      {
        "duration": 19,
        "start_time": "2024-12-03T18:56:33.495Z"
      },
      {
        "duration": 5,
        "start_time": "2024-12-03T18:56:33.515Z"
      },
      {
        "duration": 3214,
        "start_time": "2024-12-03T18:56:33.521Z"
      },
      {
        "duration": 482,
        "start_time": "2024-12-03T18:56:36.736Z"
      },
      {
        "duration": 498,
        "start_time": "2024-12-03T18:56:37.220Z"
      },
      {
        "duration": 449,
        "start_time": "2024-12-03T18:56:37.719Z"
      },
      {
        "duration": 409,
        "start_time": "2024-12-03T18:56:38.169Z"
      },
      {
        "duration": 171,
        "start_time": "2024-12-03T18:56:38.581Z"
      },
      {
        "duration": 8,
        "start_time": "2024-12-03T18:56:38.754Z"
      },
      {
        "duration": 40,
        "start_time": "2024-12-03T18:56:38.763Z"
      },
      {
        "duration": 174,
        "start_time": "2024-12-03T18:56:38.805Z"
      },
      {
        "duration": 14,
        "start_time": "2024-12-03T18:56:38.981Z"
      },
      {
        "duration": 8,
        "start_time": "2024-12-03T18:56:38.997Z"
      },
      {
        "duration": 30,
        "start_time": "2024-12-03T18:56:39.006Z"
      },
      {
        "duration": 19,
        "start_time": "2024-12-03T18:56:39.038Z"
      },
      {
        "duration": 48,
        "start_time": "2024-12-03T18:56:39.058Z"
      },
      {
        "duration": 25,
        "start_time": "2024-12-03T18:56:39.108Z"
      },
      {
        "duration": 26,
        "start_time": "2024-12-03T18:56:39.135Z"
      },
      {
        "duration": 2893,
        "start_time": "2024-12-03T18:56:39.163Z"
      },
      {
        "duration": 13,
        "start_time": "2024-12-03T18:56:42.058Z"
      },
      {
        "duration": 82,
        "start_time": "2024-12-03T18:56:42.073Z"
      },
      {
        "duration": 3,
        "start_time": "2024-12-03T18:56:42.156Z"
      },
      {
        "duration": 13,
        "start_time": "2024-12-03T18:56:42.160Z"
      },
      {
        "duration": 63,
        "start_time": "2024-12-03T18:56:42.175Z"
      },
      {
        "duration": 0,
        "start_time": "2024-12-03T18:56:42.240Z"
      },
      {
        "duration": 0,
        "start_time": "2024-12-03T18:56:42.241Z"
      },
      {
        "duration": 0,
        "start_time": "2024-12-03T18:56:42.242Z"
      },
      {
        "duration": 0,
        "start_time": "2024-12-03T18:56:42.243Z"
      },
      {
        "duration": 3206,
        "start_time": "2024-12-03T19:10:03.976Z"
      },
      {
        "duration": 14,
        "start_time": "2024-12-03T19:10:12.848Z"
      },
      {
        "duration": 15,
        "start_time": "2024-12-03T19:10:14.335Z"
      },
      {
        "duration": 172,
        "start_time": "2024-12-03T19:10:19.199Z"
      },
      {
        "duration": 19,
        "start_time": "2024-12-03T19:10:20.346Z"
      },
      {
        "duration": 28,
        "start_time": "2024-12-03T19:18:05.162Z"
      },
      {
        "duration": 36,
        "start_time": "2024-12-03T19:18:13.221Z"
      },
      {
        "duration": 209,
        "start_time": "2024-12-03T19:18:49.984Z"
      },
      {
        "duration": 30,
        "start_time": "2024-12-03T19:20:10.230Z"
      },
      {
        "duration": 3,
        "start_time": "2024-12-03T19:20:12.689Z"
      },
      {
        "duration": 5,
        "start_time": "2024-12-03T19:20:14.273Z"
      },
      {
        "duration": 468,
        "start_time": "2024-12-03T19:20:18.036Z"
      },
      {
        "duration": 6858,
        "start_time": "2024-12-03T19:22:34.798Z"
      },
      {
        "duration": 5,
        "start_time": "2024-12-03T19:22:41.658Z"
      },
      {
        "duration": 91,
        "start_time": "2024-12-03T19:22:41.665Z"
      },
      {
        "duration": 29,
        "start_time": "2024-12-03T19:22:41.757Z"
      },
      {
        "duration": 57,
        "start_time": "2024-12-03T19:22:41.787Z"
      },
      {
        "duration": 13,
        "start_time": "2024-12-03T19:22:41.846Z"
      },
      {
        "duration": 14,
        "start_time": "2024-12-03T19:22:41.860Z"
      },
      {
        "duration": 4,
        "start_time": "2024-12-03T19:22:41.876Z"
      },
      {
        "duration": 14,
        "start_time": "2024-12-03T19:22:41.882Z"
      },
      {
        "duration": 5,
        "start_time": "2024-12-03T19:22:41.898Z"
      },
      {
        "duration": 6,
        "start_time": "2024-12-03T19:22:41.905Z"
      },
      {
        "duration": 4,
        "start_time": "2024-12-03T19:22:41.913Z"
      },
      {
        "duration": 7,
        "start_time": "2024-12-03T19:22:41.918Z"
      },
      {
        "duration": 6,
        "start_time": "2024-12-03T19:22:41.928Z"
      },
      {
        "duration": 15,
        "start_time": "2024-12-03T19:22:41.935Z"
      },
      {
        "duration": 63,
        "start_time": "2024-12-03T19:22:41.952Z"
      },
      {
        "duration": 30,
        "start_time": "2024-12-03T19:22:42.016Z"
      },
      {
        "duration": 7,
        "start_time": "2024-12-03T19:22:42.047Z"
      },
      {
        "duration": 36,
        "start_time": "2024-12-03T19:22:42.056Z"
      },
      {
        "duration": 8,
        "start_time": "2024-12-03T19:22:42.094Z"
      },
      {
        "duration": 6,
        "start_time": "2024-12-03T19:22:42.103Z"
      },
      {
        "duration": 4,
        "start_time": "2024-12-03T19:22:42.110Z"
      },
      {
        "duration": 3148,
        "start_time": "2024-12-03T19:22:42.115Z"
      },
      {
        "duration": 487,
        "start_time": "2024-12-03T19:22:45.265Z"
      },
      {
        "duration": 474,
        "start_time": "2024-12-03T19:22:45.754Z"
      },
      {
        "duration": 436,
        "start_time": "2024-12-03T19:22:46.229Z"
      },
      {
        "duration": 370,
        "start_time": "2024-12-03T19:22:46.667Z"
      },
      {
        "duration": 167,
        "start_time": "2024-12-03T19:22:47.038Z"
      },
      {
        "duration": 8,
        "start_time": "2024-12-03T19:22:47.207Z"
      },
      {
        "duration": 32,
        "start_time": "2024-12-03T19:22:47.217Z"
      },
      {
        "duration": 182,
        "start_time": "2024-12-03T19:22:47.250Z"
      },
      {
        "duration": 9,
        "start_time": "2024-12-03T19:22:47.433Z"
      },
      {
        "duration": 7,
        "start_time": "2024-12-03T19:22:47.443Z"
      },
      {
        "duration": 51,
        "start_time": "2024-12-03T19:22:47.452Z"
      },
      {
        "duration": 18,
        "start_time": "2024-12-03T19:22:47.505Z"
      },
      {
        "duration": 14,
        "start_time": "2024-12-03T19:22:47.525Z"
      },
      {
        "duration": 24,
        "start_time": "2024-12-03T19:22:47.541Z"
      },
      {
        "duration": 27,
        "start_time": "2024-12-03T19:22:47.591Z"
      },
      {
        "duration": 2933,
        "start_time": "2024-12-03T19:22:47.619Z"
      },
      {
        "duration": 13,
        "start_time": "2024-12-03T19:22:50.554Z"
      },
      {
        "duration": 56,
        "start_time": "2024-12-03T19:22:50.571Z"
      },
      {
        "duration": 10,
        "start_time": "2024-12-03T19:22:50.630Z"
      },
      {
        "duration": 7,
        "start_time": "2024-12-03T19:22:50.642Z"
      },
      {
        "duration": 554,
        "start_time": "2024-12-03T19:22:50.650Z"
      },
      {
        "duration": 0,
        "start_time": "2024-12-03T19:22:51.206Z"
      },
      {
        "duration": 0,
        "start_time": "2024-12-03T19:22:51.207Z"
      },
      {
        "duration": 0,
        "start_time": "2024-12-03T19:22:51.208Z"
      },
      {
        "duration": 7356,
        "start_time": "2024-12-03T19:25:31.908Z"
      },
      {
        "duration": 388,
        "start_time": "2024-12-03T19:25:52.416Z"
      },
      {
        "duration": 32,
        "start_time": "2024-12-03T19:27:00.631Z"
      },
      {
        "duration": 30,
        "start_time": "2024-12-03T19:27:36.626Z"
      },
      {
        "duration": 3,
        "start_time": "2024-12-03T19:27:38.313Z"
      },
      {
        "duration": 7,
        "start_time": "2024-12-03T19:27:39.252Z"
      },
      {
        "duration": 385,
        "start_time": "2024-12-03T19:27:40.129Z"
      },
      {
        "duration": 36,
        "start_time": "2024-12-03T19:28:20.622Z"
      },
      {
        "duration": 3,
        "start_time": "2024-12-03T19:28:20.955Z"
      },
      {
        "duration": 5,
        "start_time": "2024-12-03T19:28:21.721Z"
      },
      {
        "duration": 390,
        "start_time": "2024-12-03T19:28:22.902Z"
      },
      {
        "duration": 42,
        "start_time": "2024-12-03T19:30:42.213Z"
      },
      {
        "duration": 2,
        "start_time": "2024-12-03T19:30:42.913Z"
      },
      {
        "duration": 5,
        "start_time": "2024-12-03T19:30:43.568Z"
      },
      {
        "duration": 3132,
        "start_time": "2024-12-03T19:30:44.438Z"
      },
      {
        "duration": 14,
        "start_time": "2024-12-03T19:30:52.842Z"
      },
      {
        "duration": 16,
        "start_time": "2024-12-03T19:30:54.271Z"
      },
      {
        "duration": 224,
        "start_time": "2024-12-03T19:30:56.076Z"
      },
      {
        "duration": 36,
        "start_time": "2024-12-03T19:32:26.425Z"
      },
      {
        "duration": 35,
        "start_time": "2024-12-03T19:32:32.730Z"
      },
      {
        "duration": 64,
        "start_time": "2024-12-03T19:47:05.722Z"
      },
      {
        "duration": 40,
        "start_time": "2024-12-03T19:47:10.910Z"
      },
      {
        "duration": 36,
        "start_time": "2024-12-03T19:47:34.025Z"
      },
      {
        "duration": 38,
        "start_time": "2024-12-03T19:48:11.361Z"
      },
      {
        "duration": 16,
        "start_time": "2024-12-03T19:56:25.071Z"
      },
      {
        "duration": 6547,
        "start_time": "2024-12-03T19:56:32.686Z"
      },
      {
        "duration": 4,
        "start_time": "2024-12-03T19:56:39.235Z"
      },
      {
        "duration": 94,
        "start_time": "2024-12-03T19:56:39.241Z"
      },
      {
        "duration": 31,
        "start_time": "2024-12-03T19:56:39.336Z"
      },
      {
        "duration": 16,
        "start_time": "2024-12-03T19:56:39.369Z"
      },
      {
        "duration": 14,
        "start_time": "2024-12-03T19:56:39.386Z"
      },
      {
        "duration": 15,
        "start_time": "2024-12-03T19:56:39.402Z"
      },
      {
        "duration": 5,
        "start_time": "2024-12-03T19:56:39.419Z"
      },
      {
        "duration": 14,
        "start_time": "2024-12-03T19:56:39.426Z"
      },
      {
        "duration": 5,
        "start_time": "2024-12-03T19:56:39.441Z"
      },
      {
        "duration": 5,
        "start_time": "2024-12-03T19:56:39.495Z"
      },
      {
        "duration": 6,
        "start_time": "2024-12-03T19:56:39.501Z"
      },
      {
        "duration": 7,
        "start_time": "2024-12-03T19:56:39.508Z"
      },
      {
        "duration": 5,
        "start_time": "2024-12-03T19:56:39.518Z"
      },
      {
        "duration": 13,
        "start_time": "2024-12-03T19:56:39.524Z"
      },
      {
        "duration": 65,
        "start_time": "2024-12-03T19:56:39.538Z"
      },
      {
        "duration": 31,
        "start_time": "2024-12-03T19:56:39.604Z"
      },
      {
        "duration": 7,
        "start_time": "2024-12-03T19:56:39.636Z"
      },
      {
        "duration": 6,
        "start_time": "2024-12-03T19:56:39.644Z"
      },
      {
        "duration": 6,
        "start_time": "2024-12-03T19:56:39.652Z"
      },
      {
        "duration": 6,
        "start_time": "2024-12-03T19:56:39.692Z"
      },
      {
        "duration": 3,
        "start_time": "2024-12-03T19:56:39.699Z"
      },
      {
        "duration": 3119,
        "start_time": "2024-12-03T19:56:39.703Z"
      },
      {
        "duration": 463,
        "start_time": "2024-12-03T19:56:42.824Z"
      },
      {
        "duration": 471,
        "start_time": "2024-12-03T19:56:43.291Z"
      },
      {
        "duration": 428,
        "start_time": "2024-12-03T19:56:43.764Z"
      },
      {
        "duration": 378,
        "start_time": "2024-12-03T19:56:44.194Z"
      },
      {
        "duration": 168,
        "start_time": "2024-12-03T19:56:44.574Z"
      },
      {
        "duration": 9,
        "start_time": "2024-12-03T19:56:44.744Z"
      },
      {
        "duration": 44,
        "start_time": "2024-12-03T19:56:44.754Z"
      },
      {
        "duration": 177,
        "start_time": "2024-12-03T19:56:44.799Z"
      },
      {
        "duration": 17,
        "start_time": "2024-12-03T19:56:44.978Z"
      },
      {
        "duration": 7,
        "start_time": "2024-12-03T19:56:44.996Z"
      },
      {
        "duration": 52,
        "start_time": "2024-12-03T19:56:45.005Z"
      },
      {
        "duration": 18,
        "start_time": "2024-12-03T19:56:45.058Z"
      },
      {
        "duration": 30,
        "start_time": "2024-12-03T19:56:45.077Z"
      },
      {
        "duration": 26,
        "start_time": "2024-12-03T19:56:45.109Z"
      },
      {
        "duration": 26,
        "start_time": "2024-12-03T19:56:45.136Z"
      },
      {
        "duration": 2870,
        "start_time": "2024-12-03T19:56:45.163Z"
      },
      {
        "duration": 14,
        "start_time": "2024-12-03T19:56:48.034Z"
      },
      {
        "duration": 48,
        "start_time": "2024-12-03T19:56:48.051Z"
      },
      {
        "duration": 3,
        "start_time": "2024-12-03T19:56:48.100Z"
      },
      {
        "duration": 11,
        "start_time": "2024-12-03T19:56:48.104Z"
      },
      {
        "duration": 2866,
        "start_time": "2024-12-03T19:56:48.117Z"
      },
      {
        "duration": 23,
        "start_time": "2024-12-03T19:56:50.985Z"
      },
      {
        "duration": 25,
        "start_time": "2024-12-03T19:56:51.009Z"
      },
      {
        "duration": 152,
        "start_time": "2024-12-03T19:56:51.036Z"
      },
      {
        "duration": 13,
        "start_time": "2024-12-03T19:58:24.680Z"
      },
      {
        "duration": 11,
        "start_time": "2024-12-03T20:12:17.618Z"
      },
      {
        "duration": 7320,
        "start_time": "2024-12-03T20:13:34.657Z"
      },
      {
        "duration": 8887,
        "start_time": "2024-12-03T20:13:55.330Z"
      },
      {
        "duration": 4,
        "start_time": "2024-12-03T20:14:04.219Z"
      },
      {
        "duration": 105,
        "start_time": "2024-12-03T20:14:04.225Z"
      },
      {
        "duration": 30,
        "start_time": "2024-12-03T20:14:04.332Z"
      },
      {
        "duration": 15,
        "start_time": "2024-12-03T20:14:04.363Z"
      },
      {
        "duration": 79,
        "start_time": "2024-12-03T20:14:04.379Z"
      },
      {
        "duration": 47,
        "start_time": "2024-12-03T20:14:04.459Z"
      },
      {
        "duration": 7,
        "start_time": "2024-12-03T20:14:04.507Z"
      },
      {
        "duration": 22,
        "start_time": "2024-12-03T20:14:04.515Z"
      },
      {
        "duration": 7,
        "start_time": "2024-12-03T20:14:04.539Z"
      },
      {
        "duration": 25,
        "start_time": "2024-12-03T20:14:04.548Z"
      },
      {
        "duration": 11,
        "start_time": "2024-12-03T20:14:04.575Z"
      },
      {
        "duration": 16,
        "start_time": "2024-12-03T20:14:04.588Z"
      },
      {
        "duration": 16,
        "start_time": "2024-12-03T20:14:04.605Z"
      },
      {
        "duration": 17,
        "start_time": "2024-12-03T20:14:04.623Z"
      },
      {
        "duration": 34,
        "start_time": "2024-12-03T20:14:04.641Z"
      },
      {
        "duration": 42,
        "start_time": "2024-12-03T20:14:04.677Z"
      },
      {
        "duration": 23,
        "start_time": "2024-12-03T20:14:04.721Z"
      },
      {
        "duration": 28,
        "start_time": "2024-12-03T20:14:04.745Z"
      },
      {
        "duration": 10,
        "start_time": "2024-12-03T20:14:04.775Z"
      },
      {
        "duration": 25,
        "start_time": "2024-12-03T20:14:04.786Z"
      },
      {
        "duration": 23,
        "start_time": "2024-12-03T20:14:04.813Z"
      },
      {
        "duration": 3281,
        "start_time": "2024-12-03T20:14:04.837Z"
      },
      {
        "duration": 507,
        "start_time": "2024-12-03T20:14:08.121Z"
      },
      {
        "duration": 551,
        "start_time": "2024-12-03T20:14:08.630Z"
      },
      {
        "duration": 468,
        "start_time": "2024-12-03T20:14:09.182Z"
      },
      {
        "duration": 401,
        "start_time": "2024-12-03T20:14:09.651Z"
      },
      {
        "duration": 191,
        "start_time": "2024-12-03T20:14:10.056Z"
      },
      {
        "duration": 8,
        "start_time": "2024-12-03T20:14:10.249Z"
      },
      {
        "duration": 45,
        "start_time": "2024-12-03T20:14:10.259Z"
      },
      {
        "duration": 182,
        "start_time": "2024-12-03T20:14:10.306Z"
      },
      {
        "duration": 8,
        "start_time": "2024-12-03T20:14:10.491Z"
      },
      {
        "duration": 15,
        "start_time": "2024-12-03T20:14:10.501Z"
      },
      {
        "duration": 41,
        "start_time": "2024-12-03T20:14:10.517Z"
      },
      {
        "duration": 19,
        "start_time": "2024-12-03T20:14:10.560Z"
      },
      {
        "duration": 23,
        "start_time": "2024-12-03T20:14:10.580Z"
      },
      {
        "duration": 32,
        "start_time": "2024-12-03T20:14:10.605Z"
      },
      {
        "duration": 65,
        "start_time": "2024-12-03T20:14:10.638Z"
      },
      {
        "duration": 2859,
        "start_time": "2024-12-03T20:14:10.705Z"
      },
      {
        "duration": 14,
        "start_time": "2024-12-03T20:14:13.566Z"
      },
      {
        "duration": 48,
        "start_time": "2024-12-03T20:14:13.582Z"
      },
      {
        "duration": 3,
        "start_time": "2024-12-03T20:14:13.631Z"
      },
      {
        "duration": 14,
        "start_time": "2024-12-03T20:14:13.635Z"
      },
      {
        "duration": 2793,
        "start_time": "2024-12-03T20:14:13.651Z"
      },
      {
        "duration": 18,
        "start_time": "2024-12-03T20:14:16.445Z"
      },
      {
        "duration": 34,
        "start_time": "2024-12-03T20:14:16.464Z"
      },
      {
        "duration": 166,
        "start_time": "2024-12-03T20:14:16.500Z"
      },
      {
        "duration": 17452,
        "start_time": "2024-12-09T07:12:09.485Z"
      },
      {
        "duration": 154,
        "start_time": "2024-12-09T07:14:06.192Z"
      },
      {
        "duration": 10485,
        "start_time": "2024-12-09T07:14:29.451Z"
      },
      {
        "duration": 5,
        "start_time": "2024-12-09T07:14:39.939Z"
      },
      {
        "duration": 407,
        "start_time": "2024-12-09T07:14:39.945Z"
      },
      {
        "duration": 35,
        "start_time": "2024-12-09T07:14:40.354Z"
      },
      {
        "duration": 18,
        "start_time": "2024-12-09T07:14:40.391Z"
      },
      {
        "duration": 16,
        "start_time": "2024-12-09T07:14:40.410Z"
      },
      {
        "duration": 44,
        "start_time": "2024-12-09T07:14:40.427Z"
      },
      {
        "duration": 15,
        "start_time": "2024-12-09T07:14:40.472Z"
      },
      {
        "duration": 18,
        "start_time": "2024-12-09T07:14:40.489Z"
      },
      {
        "duration": 7,
        "start_time": "2024-12-09T07:14:40.509Z"
      },
      {
        "duration": 8,
        "start_time": "2024-12-09T07:14:40.517Z"
      },
      {
        "duration": 12,
        "start_time": "2024-12-09T07:14:40.526Z"
      },
      {
        "duration": 23,
        "start_time": "2024-12-09T07:14:40.539Z"
      },
      {
        "duration": 13,
        "start_time": "2024-12-09T07:14:40.564Z"
      },
      {
        "duration": 29,
        "start_time": "2024-12-09T07:14:40.579Z"
      },
      {
        "duration": 57,
        "start_time": "2024-12-09T07:14:40.610Z"
      },
      {
        "duration": 36,
        "start_time": "2024-12-09T07:14:40.670Z"
      },
      {
        "duration": 8,
        "start_time": "2024-12-09T07:14:40.708Z"
      },
      {
        "duration": 12,
        "start_time": "2024-12-09T07:14:40.718Z"
      },
      {
        "duration": 39,
        "start_time": "2024-12-09T07:14:40.731Z"
      },
      {
        "duration": 8,
        "start_time": "2024-12-09T07:14:40.772Z"
      },
      {
        "duration": 5,
        "start_time": "2024-12-09T07:14:40.781Z"
      },
      {
        "duration": 3405,
        "start_time": "2024-12-09T07:14:40.787Z"
      },
      {
        "duration": 502,
        "start_time": "2024-12-09T07:14:44.193Z"
      },
      {
        "duration": 521,
        "start_time": "2024-12-09T07:14:44.697Z"
      },
      {
        "duration": 462,
        "start_time": "2024-12-09T07:14:45.219Z"
      },
      {
        "duration": 428,
        "start_time": "2024-12-09T07:14:45.683Z"
      },
      {
        "duration": 191,
        "start_time": "2024-12-09T07:14:46.115Z"
      },
      {
        "duration": 8,
        "start_time": "2024-12-09T07:14:46.308Z"
      },
      {
        "duration": 52,
        "start_time": "2024-12-09T07:14:46.317Z"
      },
      {
        "duration": 185,
        "start_time": "2024-12-09T07:14:46.370Z"
      },
      {
        "duration": 14,
        "start_time": "2024-12-09T07:14:46.556Z"
      },
      {
        "duration": 32,
        "start_time": "2024-12-09T07:14:46.572Z"
      },
      {
        "duration": 39,
        "start_time": "2024-12-09T07:14:46.606Z"
      },
      {
        "duration": 24,
        "start_time": "2024-12-09T07:14:46.647Z"
      },
      {
        "duration": 18,
        "start_time": "2024-12-09T07:14:46.672Z"
      },
      {
        "duration": 29,
        "start_time": "2024-12-09T07:14:46.691Z"
      },
      {
        "duration": 55,
        "start_time": "2024-12-09T07:14:46.721Z"
      },
      {
        "duration": 3156,
        "start_time": "2024-12-09T07:14:46.778Z"
      },
      {
        "duration": 17,
        "start_time": "2024-12-09T07:14:49.936Z"
      },
      {
        "duration": 50,
        "start_time": "2024-12-09T07:14:49.963Z"
      },
      {
        "duration": 3,
        "start_time": "2024-12-09T07:14:50.014Z"
      },
      {
        "duration": 44,
        "start_time": "2024-12-09T07:14:50.019Z"
      },
      {
        "duration": 3216,
        "start_time": "2024-12-09T07:14:50.065Z"
      },
      {
        "duration": 20,
        "start_time": "2024-12-09T07:14:53.284Z"
      },
      {
        "duration": 61,
        "start_time": "2024-12-09T07:14:53.306Z"
      },
      {
        "duration": 168,
        "start_time": "2024-12-09T07:14:53.368Z"
      },
      {
        "duration": 19,
        "start_time": "2024-12-09T07:58:11.185Z"
      },
      {
        "duration": 213,
        "start_time": "2024-12-09T07:58:19.896Z"
      },
      {
        "duration": 229,
        "start_time": "2024-12-09T07:58:37.794Z"
      },
      {
        "duration": 226,
        "start_time": "2024-12-09T07:58:59.893Z"
      },
      {
        "duration": 1139,
        "start_time": "2024-12-09T08:01:01.761Z"
      },
      {
        "duration": 51,
        "start_time": "2024-12-09T08:02:18.614Z"
      },
      {
        "duration": 235,
        "start_time": "2024-12-09T08:02:40.452Z"
      },
      {
        "duration": 224,
        "start_time": "2024-12-09T08:02:50.151Z"
      },
      {
        "duration": 10432,
        "start_time": "2024-12-09T08:06:37.855Z"
      },
      {
        "duration": 33075,
        "start_time": "2024-12-09T08:07:11.830Z"
      },
      {
        "duration": 8474,
        "start_time": "2024-12-09T08:08:58.519Z"
      },
      {
        "duration": 0,
        "start_time": "2024-12-09T08:09:06.999Z"
      },
      {
        "duration": 0,
        "start_time": "2024-12-09T08:09:07.000Z"
      },
      {
        "duration": 0,
        "start_time": "2024-12-09T08:09:07.001Z"
      },
      {
        "duration": 0,
        "start_time": "2024-12-09T08:09:07.002Z"
      },
      {
        "duration": 0,
        "start_time": "2024-12-09T08:09:07.003Z"
      },
      {
        "duration": 0,
        "start_time": "2024-12-09T08:09:07.004Z"
      },
      {
        "duration": 0,
        "start_time": "2024-12-09T08:09:07.005Z"
      },
      {
        "duration": 0,
        "start_time": "2024-12-09T08:09:07.007Z"
      },
      {
        "duration": 0,
        "start_time": "2024-12-09T08:09:07.008Z"
      },
      {
        "duration": 0,
        "start_time": "2024-12-09T08:09:07.009Z"
      },
      {
        "duration": 0,
        "start_time": "2024-12-09T08:09:07.010Z"
      },
      {
        "duration": 0,
        "start_time": "2024-12-09T08:09:07.011Z"
      },
      {
        "duration": 0,
        "start_time": "2024-12-09T08:09:07.012Z"
      },
      {
        "duration": 0,
        "start_time": "2024-12-09T08:09:07.014Z"
      },
      {
        "duration": 0,
        "start_time": "2024-12-09T08:09:07.015Z"
      },
      {
        "duration": 0,
        "start_time": "2024-12-09T08:09:07.016Z"
      },
      {
        "duration": 0,
        "start_time": "2024-12-09T08:09:07.017Z"
      },
      {
        "duration": 0,
        "start_time": "2024-12-09T08:09:07.018Z"
      },
      {
        "duration": 0,
        "start_time": "2024-12-09T08:09:07.019Z"
      },
      {
        "duration": 0,
        "start_time": "2024-12-09T08:09:07.020Z"
      },
      {
        "duration": 0,
        "start_time": "2024-12-09T08:09:07.021Z"
      },
      {
        "duration": 0,
        "start_time": "2024-12-09T08:09:07.022Z"
      },
      {
        "duration": 0,
        "start_time": "2024-12-09T08:09:07.023Z"
      },
      {
        "duration": 0,
        "start_time": "2024-12-09T08:09:07.024Z"
      },
      {
        "duration": 0,
        "start_time": "2024-12-09T08:09:07.025Z"
      },
      {
        "duration": 0,
        "start_time": "2024-12-09T08:09:07.062Z"
      },
      {
        "duration": 0,
        "start_time": "2024-12-09T08:09:07.063Z"
      },
      {
        "duration": 0,
        "start_time": "2024-12-09T08:09:07.064Z"
      },
      {
        "duration": 0,
        "start_time": "2024-12-09T08:09:07.066Z"
      },
      {
        "duration": 0,
        "start_time": "2024-12-09T08:09:07.067Z"
      },
      {
        "duration": 0,
        "start_time": "2024-12-09T08:09:07.068Z"
      },
      {
        "duration": 0,
        "start_time": "2024-12-09T08:09:07.069Z"
      },
      {
        "duration": 0,
        "start_time": "2024-12-09T08:09:07.070Z"
      },
      {
        "duration": 0,
        "start_time": "2024-12-09T08:09:07.071Z"
      },
      {
        "duration": 0,
        "start_time": "2024-12-09T08:09:07.073Z"
      },
      {
        "duration": 0,
        "start_time": "2024-12-09T08:09:07.074Z"
      },
      {
        "duration": 0,
        "start_time": "2024-12-09T08:09:07.075Z"
      },
      {
        "duration": 0,
        "start_time": "2024-12-09T08:09:07.076Z"
      },
      {
        "duration": 0,
        "start_time": "2024-12-09T08:09:07.078Z"
      },
      {
        "duration": 0,
        "start_time": "2024-12-09T08:09:07.078Z"
      },
      {
        "duration": 0,
        "start_time": "2024-12-09T08:09:07.079Z"
      },
      {
        "duration": 0,
        "start_time": "2024-12-09T08:09:07.081Z"
      },
      {
        "duration": 0,
        "start_time": "2024-12-09T08:09:07.082Z"
      },
      {
        "duration": 0,
        "start_time": "2024-12-09T08:09:07.083Z"
      },
      {
        "duration": 0,
        "start_time": "2024-12-09T08:09:07.084Z"
      },
      {
        "duration": 0,
        "start_time": "2024-12-09T08:09:07.085Z"
      },
      {
        "duration": 0,
        "start_time": "2024-12-09T08:09:07.087Z"
      },
      {
        "duration": 30514,
        "start_time": "2024-12-09T08:10:32.504Z"
      },
      {
        "duration": 38670,
        "start_time": "2024-12-09T08:11:10.952Z"
      },
      {
        "duration": 23882,
        "start_time": "2024-12-09T08:12:31.359Z"
      },
      {
        "duration": 0,
        "start_time": "2024-12-09T08:12:55.245Z"
      },
      {
        "duration": 0,
        "start_time": "2024-12-09T08:12:55.247Z"
      },
      {
        "duration": 0,
        "start_time": "2024-12-09T08:12:55.248Z"
      },
      {
        "duration": 1,
        "start_time": "2024-12-09T08:12:55.248Z"
      },
      {
        "duration": 0,
        "start_time": "2024-12-09T08:12:55.262Z"
      },
      {
        "duration": 0,
        "start_time": "2024-12-09T08:12:55.265Z"
      },
      {
        "duration": 0,
        "start_time": "2024-12-09T08:12:55.266Z"
      },
      {
        "duration": 0,
        "start_time": "2024-12-09T08:12:55.268Z"
      },
      {
        "duration": 0,
        "start_time": "2024-12-09T08:12:55.269Z"
      },
      {
        "duration": 0,
        "start_time": "2024-12-09T08:12:55.271Z"
      },
      {
        "duration": 0,
        "start_time": "2024-12-09T08:12:55.272Z"
      },
      {
        "duration": 0,
        "start_time": "2024-12-09T08:12:55.274Z"
      },
      {
        "duration": 0,
        "start_time": "2024-12-09T08:12:55.275Z"
      },
      {
        "duration": 0,
        "start_time": "2024-12-09T08:12:55.277Z"
      },
      {
        "duration": 0,
        "start_time": "2024-12-09T08:12:55.278Z"
      },
      {
        "duration": 0,
        "start_time": "2024-12-09T08:12:55.280Z"
      },
      {
        "duration": 0,
        "start_time": "2024-12-09T08:12:55.281Z"
      },
      {
        "duration": 0,
        "start_time": "2024-12-09T08:12:55.282Z"
      },
      {
        "duration": 0,
        "start_time": "2024-12-09T08:12:55.284Z"
      },
      {
        "duration": 0,
        "start_time": "2024-12-09T08:12:55.285Z"
      },
      {
        "duration": 0,
        "start_time": "2024-12-09T08:12:55.287Z"
      },
      {
        "duration": 0,
        "start_time": "2024-12-09T08:12:55.288Z"
      },
      {
        "duration": 0,
        "start_time": "2024-12-09T08:12:55.290Z"
      },
      {
        "duration": 0,
        "start_time": "2024-12-09T08:12:55.291Z"
      },
      {
        "duration": 0,
        "start_time": "2024-12-09T08:12:55.293Z"
      },
      {
        "duration": 0,
        "start_time": "2024-12-09T08:12:55.295Z"
      },
      {
        "duration": 0,
        "start_time": "2024-12-09T08:12:55.296Z"
      },
      {
        "duration": 0,
        "start_time": "2024-12-09T08:12:55.298Z"
      },
      {
        "duration": 0,
        "start_time": "2024-12-09T08:12:55.300Z"
      },
      {
        "duration": 0,
        "start_time": "2024-12-09T08:12:55.301Z"
      },
      {
        "duration": 0,
        "start_time": "2024-12-09T08:12:55.303Z"
      },
      {
        "duration": 0,
        "start_time": "2024-12-09T08:12:55.362Z"
      },
      {
        "duration": 0,
        "start_time": "2024-12-09T08:12:55.364Z"
      },
      {
        "duration": 0,
        "start_time": "2024-12-09T08:12:55.365Z"
      },
      {
        "duration": 0,
        "start_time": "2024-12-09T08:12:55.367Z"
      },
      {
        "duration": 0,
        "start_time": "2024-12-09T08:12:55.368Z"
      },
      {
        "duration": 0,
        "start_time": "2024-12-09T08:12:55.370Z"
      },
      {
        "duration": 0,
        "start_time": "2024-12-09T08:12:55.371Z"
      },
      {
        "duration": 0,
        "start_time": "2024-12-09T08:12:55.372Z"
      },
      {
        "duration": 0,
        "start_time": "2024-12-09T08:12:55.374Z"
      },
      {
        "duration": 0,
        "start_time": "2024-12-09T08:12:55.375Z"
      },
      {
        "duration": 0,
        "start_time": "2024-12-09T08:12:55.377Z"
      },
      {
        "duration": 0,
        "start_time": "2024-12-09T08:12:55.378Z"
      },
      {
        "duration": 0,
        "start_time": "2024-12-09T08:12:55.380Z"
      },
      {
        "duration": 0,
        "start_time": "2024-12-09T08:12:55.381Z"
      },
      {
        "duration": 0,
        "start_time": "2024-12-09T08:12:55.383Z"
      },
      {
        "duration": 0,
        "start_time": "2024-12-09T08:12:55.385Z"
      },
      {
        "duration": 12884,
        "start_time": "2024-12-09T08:14:42.465Z"
      },
      {
        "duration": 0,
        "start_time": "2024-12-09T08:14:55.354Z"
      },
      {
        "duration": 0,
        "start_time": "2024-12-09T08:14:55.355Z"
      },
      {
        "duration": 0,
        "start_time": "2024-12-09T08:14:55.356Z"
      },
      {
        "duration": 0,
        "start_time": "2024-12-09T08:14:55.362Z"
      },
      {
        "duration": 0,
        "start_time": "2024-12-09T08:14:55.363Z"
      },
      {
        "duration": 0,
        "start_time": "2024-12-09T08:14:55.364Z"
      },
      {
        "duration": 0,
        "start_time": "2024-12-09T08:14:55.365Z"
      },
      {
        "duration": 0,
        "start_time": "2024-12-09T08:14:55.367Z"
      },
      {
        "duration": 0,
        "start_time": "2024-12-09T08:14:55.368Z"
      },
      {
        "duration": 0,
        "start_time": "2024-12-09T08:14:55.369Z"
      },
      {
        "duration": 0,
        "start_time": "2024-12-09T08:14:55.370Z"
      },
      {
        "duration": 0,
        "start_time": "2024-12-09T08:14:55.371Z"
      },
      {
        "duration": 0,
        "start_time": "2024-12-09T08:14:55.372Z"
      },
      {
        "duration": 0,
        "start_time": "2024-12-09T08:14:55.373Z"
      },
      {
        "duration": 0,
        "start_time": "2024-12-09T08:14:55.373Z"
      },
      {
        "duration": 0,
        "start_time": "2024-12-09T08:14:55.374Z"
      },
      {
        "duration": 0,
        "start_time": "2024-12-09T08:14:55.375Z"
      },
      {
        "duration": 0,
        "start_time": "2024-12-09T08:14:55.376Z"
      },
      {
        "duration": 0,
        "start_time": "2024-12-09T08:14:55.377Z"
      },
      {
        "duration": 0,
        "start_time": "2024-12-09T08:14:55.378Z"
      },
      {
        "duration": 0,
        "start_time": "2024-12-09T08:14:55.379Z"
      },
      {
        "duration": 0,
        "start_time": "2024-12-09T08:14:55.380Z"
      },
      {
        "duration": 0,
        "start_time": "2024-12-09T08:14:55.381Z"
      },
      {
        "duration": 0,
        "start_time": "2024-12-09T08:14:55.382Z"
      },
      {
        "duration": 0,
        "start_time": "2024-12-09T08:14:55.383Z"
      },
      {
        "duration": 1,
        "start_time": "2024-12-09T08:14:55.383Z"
      },
      {
        "duration": 0,
        "start_time": "2024-12-09T08:14:55.384Z"
      },
      {
        "duration": 0,
        "start_time": "2024-12-09T08:14:55.385Z"
      },
      {
        "duration": 0,
        "start_time": "2024-12-09T08:14:55.386Z"
      },
      {
        "duration": 0,
        "start_time": "2024-12-09T08:14:55.387Z"
      },
      {
        "duration": 0,
        "start_time": "2024-12-09T08:14:55.388Z"
      },
      {
        "duration": 0,
        "start_time": "2024-12-09T08:14:55.389Z"
      },
      {
        "duration": 0,
        "start_time": "2024-12-09T08:14:55.390Z"
      },
      {
        "duration": 0,
        "start_time": "2024-12-09T08:14:55.392Z"
      },
      {
        "duration": 0,
        "start_time": "2024-12-09T08:14:55.393Z"
      },
      {
        "duration": 0,
        "start_time": "2024-12-09T08:14:55.394Z"
      },
      {
        "duration": 0,
        "start_time": "2024-12-09T08:14:55.395Z"
      },
      {
        "duration": 0,
        "start_time": "2024-12-09T08:14:55.396Z"
      },
      {
        "duration": 0,
        "start_time": "2024-12-09T08:14:55.397Z"
      },
      {
        "duration": 0,
        "start_time": "2024-12-09T08:14:55.399Z"
      },
      {
        "duration": 0,
        "start_time": "2024-12-09T08:14:55.462Z"
      },
      {
        "duration": 0,
        "start_time": "2024-12-09T08:14:55.463Z"
      },
      {
        "duration": 0,
        "start_time": "2024-12-09T08:14:55.464Z"
      },
      {
        "duration": 0,
        "start_time": "2024-12-09T08:14:55.465Z"
      },
      {
        "duration": 0,
        "start_time": "2024-12-09T08:14:55.467Z"
      },
      {
        "duration": 0,
        "start_time": "2024-12-09T08:14:55.468Z"
      },
      {
        "duration": 0,
        "start_time": "2024-12-09T08:14:55.469Z"
      },
      {
        "duration": 12,
        "start_time": "2024-12-09T08:16:15.941Z"
      },
      {
        "duration": 529,
        "start_time": "2024-12-09T08:17:33.805Z"
      },
      {
        "duration": 0,
        "start_time": "2024-12-09T08:17:34.337Z"
      },
      {
        "duration": 0,
        "start_time": "2024-12-09T08:17:34.338Z"
      },
      {
        "duration": 0,
        "start_time": "2024-12-09T08:17:34.340Z"
      },
      {
        "duration": 0,
        "start_time": "2024-12-09T08:17:34.341Z"
      },
      {
        "duration": 0,
        "start_time": "2024-12-09T08:17:34.342Z"
      },
      {
        "duration": 0,
        "start_time": "2024-12-09T08:17:34.343Z"
      },
      {
        "duration": 0,
        "start_time": "2024-12-09T08:17:34.344Z"
      },
      {
        "duration": 0,
        "start_time": "2024-12-09T08:17:34.345Z"
      },
      {
        "duration": 0,
        "start_time": "2024-12-09T08:17:34.362Z"
      },
      {
        "duration": 0,
        "start_time": "2024-12-09T08:17:34.363Z"
      },
      {
        "duration": 0,
        "start_time": "2024-12-09T08:17:34.364Z"
      },
      {
        "duration": 0,
        "start_time": "2024-12-09T08:17:34.365Z"
      },
      {
        "duration": 0,
        "start_time": "2024-12-09T08:17:34.366Z"
      },
      {
        "duration": 0,
        "start_time": "2024-12-09T08:17:34.367Z"
      },
      {
        "duration": 0,
        "start_time": "2024-12-09T08:17:34.369Z"
      },
      {
        "duration": 0,
        "start_time": "2024-12-09T08:17:34.369Z"
      },
      {
        "duration": 1,
        "start_time": "2024-12-09T08:17:34.370Z"
      },
      {
        "duration": 0,
        "start_time": "2024-12-09T08:17:34.372Z"
      },
      {
        "duration": 0,
        "start_time": "2024-12-09T08:17:34.373Z"
      },
      {
        "duration": 0,
        "start_time": "2024-12-09T08:17:34.374Z"
      },
      {
        "duration": 0,
        "start_time": "2024-12-09T08:17:34.375Z"
      },
      {
        "duration": 0,
        "start_time": "2024-12-09T08:17:34.376Z"
      },
      {
        "duration": 0,
        "start_time": "2024-12-09T08:17:34.377Z"
      },
      {
        "duration": 0,
        "start_time": "2024-12-09T08:17:34.378Z"
      },
      {
        "duration": 0,
        "start_time": "2024-12-09T08:17:34.379Z"
      },
      {
        "duration": 0,
        "start_time": "2024-12-09T08:17:34.380Z"
      },
      {
        "duration": 0,
        "start_time": "2024-12-09T08:17:34.381Z"
      },
      {
        "duration": 0,
        "start_time": "2024-12-09T08:17:34.382Z"
      },
      {
        "duration": 0,
        "start_time": "2024-12-09T08:17:34.383Z"
      },
      {
        "duration": 0,
        "start_time": "2024-12-09T08:17:34.383Z"
      },
      {
        "duration": 0,
        "start_time": "2024-12-09T08:17:34.385Z"
      },
      {
        "duration": 0,
        "start_time": "2024-12-09T08:17:34.386Z"
      },
      {
        "duration": 0,
        "start_time": "2024-12-09T08:17:34.387Z"
      },
      {
        "duration": 0,
        "start_time": "2024-12-09T08:17:34.388Z"
      },
      {
        "duration": 0,
        "start_time": "2024-12-09T08:17:34.389Z"
      },
      {
        "duration": 1,
        "start_time": "2024-12-09T08:17:34.390Z"
      },
      {
        "duration": 0,
        "start_time": "2024-12-09T08:17:34.392Z"
      },
      {
        "duration": 0,
        "start_time": "2024-12-09T08:17:34.393Z"
      },
      {
        "duration": 0,
        "start_time": "2024-12-09T08:17:34.394Z"
      },
      {
        "duration": 0,
        "start_time": "2024-12-09T08:17:34.395Z"
      },
      {
        "duration": 0,
        "start_time": "2024-12-09T08:17:34.396Z"
      },
      {
        "duration": 0,
        "start_time": "2024-12-09T08:17:34.398Z"
      },
      {
        "duration": 0,
        "start_time": "2024-12-09T08:17:34.461Z"
      },
      {
        "duration": 0,
        "start_time": "2024-12-09T08:17:34.463Z"
      },
      {
        "duration": 0,
        "start_time": "2024-12-09T08:17:34.464Z"
      },
      {
        "duration": 0,
        "start_time": "2024-12-09T08:17:34.465Z"
      },
      {
        "duration": 0,
        "start_time": "2024-12-09T08:17:34.466Z"
      },
      {
        "duration": 599,
        "start_time": "2024-12-09T08:17:58.471Z"
      },
      {
        "duration": 0,
        "start_time": "2024-12-09T08:17:59.074Z"
      },
      {
        "duration": 0,
        "start_time": "2024-12-09T08:17:59.075Z"
      },
      {
        "duration": 0,
        "start_time": "2024-12-09T08:17:59.076Z"
      },
      {
        "duration": 0,
        "start_time": "2024-12-09T08:17:59.079Z"
      },
      {
        "duration": 0,
        "start_time": "2024-12-09T08:17:59.080Z"
      },
      {
        "duration": 0,
        "start_time": "2024-12-09T08:17:59.081Z"
      },
      {
        "duration": 0,
        "start_time": "2024-12-09T08:17:59.083Z"
      },
      {
        "duration": 0,
        "start_time": "2024-12-09T08:17:59.084Z"
      },
      {
        "duration": 0,
        "start_time": "2024-12-09T08:17:59.085Z"
      },
      {
        "duration": 0,
        "start_time": "2024-12-09T08:17:59.086Z"
      },
      {
        "duration": 0,
        "start_time": "2024-12-09T08:17:59.088Z"
      },
      {
        "duration": 0,
        "start_time": "2024-12-09T08:17:59.089Z"
      },
      {
        "duration": 0,
        "start_time": "2024-12-09T08:17:59.090Z"
      },
      {
        "duration": 0,
        "start_time": "2024-12-09T08:17:59.091Z"
      },
      {
        "duration": 0,
        "start_time": "2024-12-09T08:17:59.092Z"
      },
      {
        "duration": 0,
        "start_time": "2024-12-09T08:17:59.093Z"
      },
      {
        "duration": 0,
        "start_time": "2024-12-09T08:17:59.094Z"
      },
      {
        "duration": 0,
        "start_time": "2024-12-09T08:17:59.095Z"
      },
      {
        "duration": 0,
        "start_time": "2024-12-09T08:17:59.097Z"
      },
      {
        "duration": 0,
        "start_time": "2024-12-09T08:17:59.098Z"
      },
      {
        "duration": 0,
        "start_time": "2024-12-09T08:17:59.099Z"
      },
      {
        "duration": 0,
        "start_time": "2024-12-09T08:17:59.101Z"
      },
      {
        "duration": 0,
        "start_time": "2024-12-09T08:17:59.102Z"
      },
      {
        "duration": 0,
        "start_time": "2024-12-09T08:17:59.103Z"
      },
      {
        "duration": 0,
        "start_time": "2024-12-09T08:17:59.104Z"
      },
      {
        "duration": 0,
        "start_time": "2024-12-09T08:17:59.105Z"
      },
      {
        "duration": 0,
        "start_time": "2024-12-09T08:17:59.162Z"
      },
      {
        "duration": 0,
        "start_time": "2024-12-09T08:17:59.163Z"
      },
      {
        "duration": 0,
        "start_time": "2024-12-09T08:17:59.164Z"
      },
      {
        "duration": 0,
        "start_time": "2024-12-09T08:17:59.166Z"
      },
      {
        "duration": 0,
        "start_time": "2024-12-09T08:17:59.167Z"
      },
      {
        "duration": 0,
        "start_time": "2024-12-09T08:17:59.168Z"
      },
      {
        "duration": 0,
        "start_time": "2024-12-09T08:17:59.169Z"
      },
      {
        "duration": 0,
        "start_time": "2024-12-09T08:17:59.170Z"
      },
      {
        "duration": 0,
        "start_time": "2024-12-09T08:17:59.171Z"
      },
      {
        "duration": 0,
        "start_time": "2024-12-09T08:17:59.172Z"
      },
      {
        "duration": 0,
        "start_time": "2024-12-09T08:17:59.173Z"
      },
      {
        "duration": 0,
        "start_time": "2024-12-09T08:17:59.174Z"
      },
      {
        "duration": 0,
        "start_time": "2024-12-09T08:17:59.176Z"
      },
      {
        "duration": 0,
        "start_time": "2024-12-09T08:17:59.177Z"
      },
      {
        "duration": 0,
        "start_time": "2024-12-09T08:17:59.178Z"
      },
      {
        "duration": 0,
        "start_time": "2024-12-09T08:17:59.179Z"
      },
      {
        "duration": 0,
        "start_time": "2024-12-09T08:17:59.180Z"
      },
      {
        "duration": 0,
        "start_time": "2024-12-09T08:17:59.181Z"
      },
      {
        "duration": 0,
        "start_time": "2024-12-09T08:17:59.183Z"
      },
      {
        "duration": 0,
        "start_time": "2024-12-09T08:17:59.183Z"
      },
      {
        "duration": 0,
        "start_time": "2024-12-09T08:17:59.185Z"
      },
      {
        "duration": 7201,
        "start_time": "2024-12-09T08:19:17.026Z"
      },
      {
        "duration": 7074,
        "start_time": "2024-12-09T08:19:41.562Z"
      },
      {
        "duration": 2915,
        "start_time": "2024-12-09T08:20:03.648Z"
      },
      {
        "duration": 13528,
        "start_time": "2024-12-09T08:20:16.842Z"
      },
      {
        "duration": 0,
        "start_time": "2024-12-09T08:20:30.373Z"
      },
      {
        "duration": 0,
        "start_time": "2024-12-09T08:20:30.374Z"
      },
      {
        "duration": 0,
        "start_time": "2024-12-09T08:20:30.375Z"
      },
      {
        "duration": 0,
        "start_time": "2024-12-09T08:20:30.376Z"
      },
      {
        "duration": 0,
        "start_time": "2024-12-09T08:20:30.377Z"
      },
      {
        "duration": 0,
        "start_time": "2024-12-09T08:20:30.378Z"
      },
      {
        "duration": 0,
        "start_time": "2024-12-09T08:20:30.379Z"
      },
      {
        "duration": 0,
        "start_time": "2024-12-09T08:20:30.380Z"
      },
      {
        "duration": 0,
        "start_time": "2024-12-09T08:20:30.381Z"
      },
      {
        "duration": 0,
        "start_time": "2024-12-09T08:20:30.382Z"
      },
      {
        "duration": 0,
        "start_time": "2024-12-09T08:20:30.383Z"
      },
      {
        "duration": 1,
        "start_time": "2024-12-09T08:20:30.384Z"
      },
      {
        "duration": 0,
        "start_time": "2024-12-09T08:20:30.386Z"
      },
      {
        "duration": 0,
        "start_time": "2024-12-09T08:20:30.387Z"
      },
      {
        "duration": 0,
        "start_time": "2024-12-09T08:20:30.388Z"
      },
      {
        "duration": 0,
        "start_time": "2024-12-09T08:20:30.389Z"
      },
      {
        "duration": 0,
        "start_time": "2024-12-09T08:20:30.390Z"
      },
      {
        "duration": 0,
        "start_time": "2024-12-09T08:20:30.391Z"
      },
      {
        "duration": 0,
        "start_time": "2024-12-09T08:20:30.392Z"
      },
      {
        "duration": 0,
        "start_time": "2024-12-09T08:20:30.393Z"
      },
      {
        "duration": 0,
        "start_time": "2024-12-09T08:20:30.395Z"
      },
      {
        "duration": 0,
        "start_time": "2024-12-09T08:20:30.396Z"
      },
      {
        "duration": 0,
        "start_time": "2024-12-09T08:20:30.397Z"
      },
      {
        "duration": 0,
        "start_time": "2024-12-09T08:20:30.398Z"
      },
      {
        "duration": 0,
        "start_time": "2024-12-09T08:20:30.399Z"
      },
      {
        "duration": 0,
        "start_time": "2024-12-09T08:20:30.400Z"
      },
      {
        "duration": 0,
        "start_time": "2024-12-09T08:20:30.401Z"
      },
      {
        "duration": 0,
        "start_time": "2024-12-09T08:20:30.402Z"
      },
      {
        "duration": 0,
        "start_time": "2024-12-09T08:20:30.404Z"
      },
      {
        "duration": 0,
        "start_time": "2024-12-09T08:20:30.405Z"
      },
      {
        "duration": 0,
        "start_time": "2024-12-09T08:20:30.406Z"
      },
      {
        "duration": 0,
        "start_time": "2024-12-09T08:20:30.407Z"
      },
      {
        "duration": 0,
        "start_time": "2024-12-09T08:20:30.462Z"
      },
      {
        "duration": 1,
        "start_time": "2024-12-09T08:20:30.463Z"
      },
      {
        "duration": 0,
        "start_time": "2024-12-09T08:20:30.464Z"
      },
      {
        "duration": 0,
        "start_time": "2024-12-09T08:20:30.466Z"
      },
      {
        "duration": 0,
        "start_time": "2024-12-09T08:20:30.467Z"
      },
      {
        "duration": 0,
        "start_time": "2024-12-09T08:20:30.468Z"
      },
      {
        "duration": 0,
        "start_time": "2024-12-09T08:20:30.470Z"
      },
      {
        "duration": 0,
        "start_time": "2024-12-09T08:20:30.471Z"
      },
      {
        "duration": 0,
        "start_time": "2024-12-09T08:20:30.472Z"
      },
      {
        "duration": 0,
        "start_time": "2024-12-09T08:20:30.474Z"
      },
      {
        "duration": 0,
        "start_time": "2024-12-09T08:20:30.476Z"
      },
      {
        "duration": 0,
        "start_time": "2024-12-09T08:20:30.478Z"
      },
      {
        "duration": 0,
        "start_time": "2024-12-09T08:20:30.480Z"
      },
      {
        "duration": 0,
        "start_time": "2024-12-09T08:20:30.481Z"
      },
      {
        "duration": 0,
        "start_time": "2024-12-09T08:20:30.483Z"
      },
      {
        "duration": 18231,
        "start_time": "2024-12-09T08:21:26.027Z"
      },
      {
        "duration": 6,
        "start_time": "2024-12-09T08:21:44.260Z"
      },
      {
        "duration": 125,
        "start_time": "2024-12-09T08:21:44.267Z"
      },
      {
        "duration": 35,
        "start_time": "2024-12-09T08:21:44.394Z"
      },
      {
        "duration": 17,
        "start_time": "2024-12-09T08:21:44.432Z"
      },
      {
        "duration": 15,
        "start_time": "2024-12-09T08:21:44.451Z"
      },
      {
        "duration": 15,
        "start_time": "2024-12-09T08:21:44.468Z"
      },
      {
        "duration": 9,
        "start_time": "2024-12-09T08:21:44.484Z"
      },
      {
        "duration": 29,
        "start_time": "2024-12-09T08:21:44.494Z"
      },
      {
        "duration": 6,
        "start_time": "2024-12-09T08:21:44.525Z"
      },
      {
        "duration": 7,
        "start_time": "2024-12-09T08:21:44.533Z"
      },
      {
        "duration": 23,
        "start_time": "2024-12-09T08:21:44.541Z"
      },
      {
        "duration": 10,
        "start_time": "2024-12-09T08:21:44.566Z"
      },
      {
        "duration": 6,
        "start_time": "2024-12-09T08:21:44.581Z"
      },
      {
        "duration": 15,
        "start_time": "2024-12-09T08:21:44.588Z"
      },
      {
        "duration": 71,
        "start_time": "2024-12-09T08:21:44.604Z"
      },
      {
        "duration": 34,
        "start_time": "2024-12-09T08:21:44.677Z"
      },
      {
        "duration": 8,
        "start_time": "2024-12-09T08:21:44.713Z"
      },
      {
        "duration": 8,
        "start_time": "2024-12-09T08:21:44.723Z"
      },
      {
        "duration": 9,
        "start_time": "2024-12-09T08:21:44.762Z"
      },
      {
        "duration": 23,
        "start_time": "2024-12-09T08:21:44.773Z"
      },
      {
        "duration": 19,
        "start_time": "2024-12-09T08:21:44.797Z"
      },
      {
        "duration": 148,
        "start_time": "2024-12-09T08:21:44.817Z"
      },
      {
        "duration": 0,
        "start_time": "2024-12-09T08:21:44.967Z"
      },
      {
        "duration": 0,
        "start_time": "2024-12-09T08:21:44.968Z"
      },
      {
        "duration": 0,
        "start_time": "2024-12-09T08:21:44.969Z"
      },
      {
        "duration": 0,
        "start_time": "2024-12-09T08:21:44.970Z"
      },
      {
        "duration": 0,
        "start_time": "2024-12-09T08:21:44.971Z"
      },
      {
        "duration": 0,
        "start_time": "2024-12-09T08:21:44.972Z"
      },
      {
        "duration": 0,
        "start_time": "2024-12-09T08:21:44.973Z"
      },
      {
        "duration": 0,
        "start_time": "2024-12-09T08:21:44.974Z"
      },
      {
        "duration": 0,
        "start_time": "2024-12-09T08:21:44.975Z"
      },
      {
        "duration": 0,
        "start_time": "2024-12-09T08:21:44.976Z"
      },
      {
        "duration": 0,
        "start_time": "2024-12-09T08:21:44.978Z"
      },
      {
        "duration": 0,
        "start_time": "2024-12-09T08:21:44.979Z"
      },
      {
        "duration": 0,
        "start_time": "2024-12-09T08:21:44.980Z"
      },
      {
        "duration": 0,
        "start_time": "2024-12-09T08:21:44.980Z"
      },
      {
        "duration": 0,
        "start_time": "2024-12-09T08:21:44.982Z"
      },
      {
        "duration": 1,
        "start_time": "2024-12-09T08:21:44.982Z"
      },
      {
        "duration": 0,
        "start_time": "2024-12-09T08:21:44.984Z"
      },
      {
        "duration": 0,
        "start_time": "2024-12-09T08:21:44.985Z"
      },
      {
        "duration": 0,
        "start_time": "2024-12-09T08:21:44.986Z"
      },
      {
        "duration": 0,
        "start_time": "2024-12-09T08:21:44.987Z"
      },
      {
        "duration": 0,
        "start_time": "2024-12-09T08:21:44.988Z"
      },
      {
        "duration": 0,
        "start_time": "2024-12-09T08:21:44.989Z"
      },
      {
        "duration": 0,
        "start_time": "2024-12-09T08:21:44.990Z"
      },
      {
        "duration": 0,
        "start_time": "2024-12-09T08:21:44.992Z"
      },
      {
        "duration": 0,
        "start_time": "2024-12-09T08:21:44.992Z"
      },
      {
        "duration": 16,
        "start_time": "2024-12-09T08:22:00.858Z"
      },
      {
        "duration": 599,
        "start_time": "2024-12-09T08:22:22.647Z"
      },
      {
        "duration": 0,
        "start_time": "2024-12-09T08:22:23.250Z"
      },
      {
        "duration": 0,
        "start_time": "2024-12-09T08:22:23.252Z"
      },
      {
        "duration": 0,
        "start_time": "2024-12-09T08:22:23.253Z"
      },
      {
        "duration": 0,
        "start_time": "2024-12-09T08:22:23.254Z"
      },
      {
        "duration": 0,
        "start_time": "2024-12-09T08:22:23.255Z"
      },
      {
        "duration": 0,
        "start_time": "2024-12-09T08:22:23.262Z"
      },
      {
        "duration": 0,
        "start_time": "2024-12-09T08:22:23.263Z"
      },
      {
        "duration": 0,
        "start_time": "2024-12-09T08:22:23.264Z"
      },
      {
        "duration": 0,
        "start_time": "2024-12-09T08:22:23.265Z"
      },
      {
        "duration": 0,
        "start_time": "2024-12-09T08:22:23.266Z"
      },
      {
        "duration": 0,
        "start_time": "2024-12-09T08:22:23.267Z"
      },
      {
        "duration": 0,
        "start_time": "2024-12-09T08:22:23.268Z"
      },
      {
        "duration": 0,
        "start_time": "2024-12-09T08:22:23.269Z"
      },
      {
        "duration": 0,
        "start_time": "2024-12-09T08:22:23.270Z"
      },
      {
        "duration": 0,
        "start_time": "2024-12-09T08:22:23.271Z"
      },
      {
        "duration": 0,
        "start_time": "2024-12-09T08:22:23.272Z"
      },
      {
        "duration": 0,
        "start_time": "2024-12-09T08:22:23.273Z"
      },
      {
        "duration": 0,
        "start_time": "2024-12-09T08:22:23.274Z"
      },
      {
        "duration": 0,
        "start_time": "2024-12-09T08:22:23.275Z"
      },
      {
        "duration": 0,
        "start_time": "2024-12-09T08:22:23.276Z"
      },
      {
        "duration": 0,
        "start_time": "2024-12-09T08:22:23.277Z"
      },
      {
        "duration": 0,
        "start_time": "2024-12-09T08:22:23.279Z"
      },
      {
        "duration": 0,
        "start_time": "2024-12-09T08:22:23.280Z"
      },
      {
        "duration": 0,
        "start_time": "2024-12-09T08:22:23.281Z"
      },
      {
        "duration": 0,
        "start_time": "2024-12-09T08:22:23.282Z"
      },
      {
        "duration": 0,
        "start_time": "2024-12-09T08:22:23.284Z"
      },
      {
        "duration": 0,
        "start_time": "2024-12-09T08:22:23.285Z"
      },
      {
        "duration": 0,
        "start_time": "2024-12-09T08:22:23.287Z"
      },
      {
        "duration": 0,
        "start_time": "2024-12-09T08:22:23.288Z"
      },
      {
        "duration": 0,
        "start_time": "2024-12-09T08:22:23.289Z"
      },
      {
        "duration": 0,
        "start_time": "2024-12-09T08:22:23.290Z"
      },
      {
        "duration": 0,
        "start_time": "2024-12-09T08:22:23.291Z"
      },
      {
        "duration": 0,
        "start_time": "2024-12-09T08:22:23.292Z"
      },
      {
        "duration": 0,
        "start_time": "2024-12-09T08:22:23.293Z"
      },
      {
        "duration": 0,
        "start_time": "2024-12-09T08:22:23.294Z"
      },
      {
        "duration": 0,
        "start_time": "2024-12-09T08:22:23.295Z"
      },
      {
        "duration": 0,
        "start_time": "2024-12-09T08:22:23.296Z"
      },
      {
        "duration": 0,
        "start_time": "2024-12-09T08:22:23.297Z"
      },
      {
        "duration": 0,
        "start_time": "2024-12-09T08:22:23.298Z"
      },
      {
        "duration": 0,
        "start_time": "2024-12-09T08:22:23.299Z"
      },
      {
        "duration": 0,
        "start_time": "2024-12-09T08:22:23.300Z"
      },
      {
        "duration": 0,
        "start_time": "2024-12-09T08:22:23.361Z"
      },
      {
        "duration": 0,
        "start_time": "2024-12-09T08:22:23.363Z"
      },
      {
        "duration": 0,
        "start_time": "2024-12-09T08:22:23.364Z"
      },
      {
        "duration": 0,
        "start_time": "2024-12-09T08:22:23.365Z"
      },
      {
        "duration": 0,
        "start_time": "2024-12-09T08:22:23.366Z"
      },
      {
        "duration": 0,
        "start_time": "2024-12-09T08:22:23.367Z"
      },
      {
        "duration": 14,
        "start_time": "2024-12-09T09:29:46.526Z"
      },
      {
        "duration": 6639,
        "start_time": "2024-12-09T09:31:24.412Z"
      },
      {
        "duration": 614,
        "start_time": "2024-12-09T09:32:50.332Z"
      },
      {
        "duration": 0,
        "start_time": "2024-12-09T09:32:50.951Z"
      },
      {
        "duration": 0,
        "start_time": "2024-12-09T09:32:50.952Z"
      },
      {
        "duration": 0,
        "start_time": "2024-12-09T09:32:50.953Z"
      },
      {
        "duration": 0,
        "start_time": "2024-12-09T09:32:50.954Z"
      },
      {
        "duration": 0,
        "start_time": "2024-12-09T09:32:50.955Z"
      },
      {
        "duration": 0,
        "start_time": "2024-12-09T09:32:50.956Z"
      },
      {
        "duration": 0,
        "start_time": "2024-12-09T09:32:50.957Z"
      },
      {
        "duration": 0,
        "start_time": "2024-12-09T09:32:50.958Z"
      },
      {
        "duration": 0,
        "start_time": "2024-12-09T09:32:50.959Z"
      },
      {
        "duration": 0,
        "start_time": "2024-12-09T09:32:50.960Z"
      },
      {
        "duration": 0,
        "start_time": "2024-12-09T09:32:50.961Z"
      },
      {
        "duration": 0,
        "start_time": "2024-12-09T09:32:50.962Z"
      },
      {
        "duration": 0,
        "start_time": "2024-12-09T09:32:50.963Z"
      },
      {
        "duration": 0,
        "start_time": "2024-12-09T09:32:50.964Z"
      },
      {
        "duration": 0,
        "start_time": "2024-12-09T09:32:50.965Z"
      },
      {
        "duration": 0,
        "start_time": "2024-12-09T09:32:50.966Z"
      },
      {
        "duration": 0,
        "start_time": "2024-12-09T09:32:50.967Z"
      },
      {
        "duration": 0,
        "start_time": "2024-12-09T09:32:50.968Z"
      },
      {
        "duration": 0,
        "start_time": "2024-12-09T09:32:50.969Z"
      },
      {
        "duration": 0,
        "start_time": "2024-12-09T09:32:50.970Z"
      },
      {
        "duration": 0,
        "start_time": "2024-12-09T09:32:50.971Z"
      },
      {
        "duration": 0,
        "start_time": "2024-12-09T09:32:50.972Z"
      },
      {
        "duration": 0,
        "start_time": "2024-12-09T09:32:50.973Z"
      },
      {
        "duration": 0,
        "start_time": "2024-12-09T09:32:50.974Z"
      },
      {
        "duration": 0,
        "start_time": "2024-12-09T09:32:50.975Z"
      },
      {
        "duration": 0,
        "start_time": "2024-12-09T09:32:50.976Z"
      },
      {
        "duration": 0,
        "start_time": "2024-12-09T09:32:50.977Z"
      },
      {
        "duration": 0,
        "start_time": "2024-12-09T09:32:50.978Z"
      },
      {
        "duration": 0,
        "start_time": "2024-12-09T09:32:50.979Z"
      },
      {
        "duration": 0,
        "start_time": "2024-12-09T09:32:50.980Z"
      },
      {
        "duration": 0,
        "start_time": "2024-12-09T09:32:50.981Z"
      },
      {
        "duration": 0,
        "start_time": "2024-12-09T09:32:50.982Z"
      },
      {
        "duration": 0,
        "start_time": "2024-12-09T09:32:50.983Z"
      },
      {
        "duration": 0,
        "start_time": "2024-12-09T09:32:50.984Z"
      },
      {
        "duration": 0,
        "start_time": "2024-12-09T09:32:50.985Z"
      },
      {
        "duration": 0,
        "start_time": "2024-12-09T09:32:50.986Z"
      },
      {
        "duration": 0,
        "start_time": "2024-12-09T09:32:50.987Z"
      },
      {
        "duration": 0,
        "start_time": "2024-12-09T09:32:50.988Z"
      },
      {
        "duration": 0,
        "start_time": "2024-12-09T09:32:50.989Z"
      },
      {
        "duration": 0,
        "start_time": "2024-12-09T09:32:50.990Z"
      },
      {
        "duration": 0,
        "start_time": "2024-12-09T09:32:50.991Z"
      },
      {
        "duration": 0,
        "start_time": "2024-12-09T09:32:50.992Z"
      },
      {
        "duration": 0,
        "start_time": "2024-12-09T09:32:50.994Z"
      },
      {
        "duration": 0,
        "start_time": "2024-12-09T09:32:50.995Z"
      },
      {
        "duration": 0,
        "start_time": "2024-12-09T09:32:50.996Z"
      },
      {
        "duration": 0,
        "start_time": "2024-12-09T09:32:50.997Z"
      },
      {
        "duration": 0,
        "start_time": "2024-12-09T09:32:50.998Z"
      },
      {
        "duration": 419,
        "start_time": "2024-12-09T09:33:29.255Z"
      },
      {
        "duration": 680,
        "start_time": "2024-12-09T09:33:37.517Z"
      },
      {
        "duration": 0,
        "start_time": "2024-12-09T09:33:38.201Z"
      },
      {
        "duration": 0,
        "start_time": "2024-12-09T09:33:38.202Z"
      },
      {
        "duration": 0,
        "start_time": "2024-12-09T09:33:38.203Z"
      },
      {
        "duration": 0,
        "start_time": "2024-12-09T09:33:38.205Z"
      },
      {
        "duration": 0,
        "start_time": "2024-12-09T09:33:38.205Z"
      },
      {
        "duration": 0,
        "start_time": "2024-12-09T09:33:38.207Z"
      },
      {
        "duration": 0,
        "start_time": "2024-12-09T09:33:38.208Z"
      },
      {
        "duration": 0,
        "start_time": "2024-12-09T09:33:38.209Z"
      },
      {
        "duration": 0,
        "start_time": "2024-12-09T09:33:38.210Z"
      },
      {
        "duration": 0,
        "start_time": "2024-12-09T09:33:38.211Z"
      },
      {
        "duration": 0,
        "start_time": "2024-12-09T09:33:38.212Z"
      },
      {
        "duration": 0,
        "start_time": "2024-12-09T09:33:38.213Z"
      },
      {
        "duration": 0,
        "start_time": "2024-12-09T09:33:38.214Z"
      },
      {
        "duration": 0,
        "start_time": "2024-12-09T09:33:38.215Z"
      },
      {
        "duration": 0,
        "start_time": "2024-12-09T09:33:38.216Z"
      },
      {
        "duration": 0,
        "start_time": "2024-12-09T09:33:38.217Z"
      },
      {
        "duration": 0,
        "start_time": "2024-12-09T09:33:38.218Z"
      },
      {
        "duration": 0,
        "start_time": "2024-12-09T09:33:38.220Z"
      },
      {
        "duration": 0,
        "start_time": "2024-12-09T09:33:38.221Z"
      },
      {
        "duration": 0,
        "start_time": "2024-12-09T09:33:38.222Z"
      },
      {
        "duration": 0,
        "start_time": "2024-12-09T09:33:38.223Z"
      },
      {
        "duration": 0,
        "start_time": "2024-12-09T09:33:38.224Z"
      },
      {
        "duration": 0,
        "start_time": "2024-12-09T09:33:38.225Z"
      },
      {
        "duration": 0,
        "start_time": "2024-12-09T09:33:38.227Z"
      },
      {
        "duration": 0,
        "start_time": "2024-12-09T09:33:38.227Z"
      },
      {
        "duration": 0,
        "start_time": "2024-12-09T09:33:38.228Z"
      },
      {
        "duration": 0,
        "start_time": "2024-12-09T09:33:38.229Z"
      },
      {
        "duration": 0,
        "start_time": "2024-12-09T09:33:38.230Z"
      },
      {
        "duration": 0,
        "start_time": "2024-12-09T09:33:38.232Z"
      },
      {
        "duration": 0,
        "start_time": "2024-12-09T09:33:38.233Z"
      },
      {
        "duration": 0,
        "start_time": "2024-12-09T09:33:38.234Z"
      },
      {
        "duration": 0,
        "start_time": "2024-12-09T09:33:38.235Z"
      },
      {
        "duration": 0,
        "start_time": "2024-12-09T09:33:38.236Z"
      },
      {
        "duration": 0,
        "start_time": "2024-12-09T09:33:38.237Z"
      },
      {
        "duration": 0,
        "start_time": "2024-12-09T09:33:38.238Z"
      },
      {
        "duration": 0,
        "start_time": "2024-12-09T09:33:38.262Z"
      },
      {
        "duration": 0,
        "start_time": "2024-12-09T09:33:38.264Z"
      },
      {
        "duration": 0,
        "start_time": "2024-12-09T09:33:38.265Z"
      },
      {
        "duration": 0,
        "start_time": "2024-12-09T09:33:38.266Z"
      },
      {
        "duration": 0,
        "start_time": "2024-12-09T09:33:38.267Z"
      },
      {
        "duration": 0,
        "start_time": "2024-12-09T09:33:38.268Z"
      },
      {
        "duration": 0,
        "start_time": "2024-12-09T09:33:38.270Z"
      },
      {
        "duration": 0,
        "start_time": "2024-12-09T09:33:38.271Z"
      },
      {
        "duration": 0,
        "start_time": "2024-12-09T09:33:38.272Z"
      },
      {
        "duration": 0,
        "start_time": "2024-12-09T09:33:38.273Z"
      },
      {
        "duration": 0,
        "start_time": "2024-12-09T09:33:38.275Z"
      },
      {
        "duration": 0,
        "start_time": "2024-12-09T09:33:38.276Z"
      },
      {
        "duration": 3402,
        "start_time": "2024-12-09T09:34:39.908Z"
      },
      {
        "duration": 0,
        "start_time": "2024-12-09T09:34:43.315Z"
      },
      {
        "duration": 0,
        "start_time": "2024-12-09T09:34:43.316Z"
      },
      {
        "duration": 0,
        "start_time": "2024-12-09T09:34:43.318Z"
      },
      {
        "duration": 0,
        "start_time": "2024-12-09T09:34:43.319Z"
      },
      {
        "duration": 0,
        "start_time": "2024-12-09T09:34:43.321Z"
      },
      {
        "duration": 0,
        "start_time": "2024-12-09T09:34:43.323Z"
      },
      {
        "duration": 0,
        "start_time": "2024-12-09T09:34:43.324Z"
      },
      {
        "duration": 0,
        "start_time": "2024-12-09T09:34:43.326Z"
      },
      {
        "duration": 0,
        "start_time": "2024-12-09T09:34:43.327Z"
      },
      {
        "duration": 0,
        "start_time": "2024-12-09T09:34:43.329Z"
      },
      {
        "duration": 0,
        "start_time": "2024-12-09T09:34:43.330Z"
      },
      {
        "duration": 0,
        "start_time": "2024-12-09T09:34:43.331Z"
      },
      {
        "duration": 0,
        "start_time": "2024-12-09T09:34:43.333Z"
      },
      {
        "duration": 0,
        "start_time": "2024-12-09T09:34:43.334Z"
      },
      {
        "duration": 0,
        "start_time": "2024-12-09T09:34:43.336Z"
      },
      {
        "duration": 0,
        "start_time": "2024-12-09T09:34:43.337Z"
      },
      {
        "duration": 0,
        "start_time": "2024-12-09T09:34:43.339Z"
      },
      {
        "duration": 0,
        "start_time": "2024-12-09T09:34:43.341Z"
      },
      {
        "duration": 0,
        "start_time": "2024-12-09T09:34:43.342Z"
      },
      {
        "duration": 0,
        "start_time": "2024-12-09T09:34:43.344Z"
      },
      {
        "duration": 0,
        "start_time": "2024-12-09T09:34:43.345Z"
      },
      {
        "duration": 0,
        "start_time": "2024-12-09T09:34:43.346Z"
      },
      {
        "duration": 0,
        "start_time": "2024-12-09T09:34:43.347Z"
      },
      {
        "duration": 0,
        "start_time": "2024-12-09T09:34:43.348Z"
      },
      {
        "duration": 0,
        "start_time": "2024-12-09T09:34:43.349Z"
      },
      {
        "duration": 0,
        "start_time": "2024-12-09T09:34:43.351Z"
      },
      {
        "duration": 0,
        "start_time": "2024-12-09T09:34:43.352Z"
      },
      {
        "duration": 0,
        "start_time": "2024-12-09T09:34:43.361Z"
      },
      {
        "duration": 0,
        "start_time": "2024-12-09T09:34:43.363Z"
      },
      {
        "duration": 0,
        "start_time": "2024-12-09T09:34:43.364Z"
      },
      {
        "duration": 0,
        "start_time": "2024-12-09T09:34:43.365Z"
      },
      {
        "duration": 0,
        "start_time": "2024-12-09T09:34:43.367Z"
      },
      {
        "duration": 0,
        "start_time": "2024-12-09T09:34:43.368Z"
      },
      {
        "duration": 0,
        "start_time": "2024-12-09T09:34:43.369Z"
      },
      {
        "duration": 0,
        "start_time": "2024-12-09T09:34:43.370Z"
      },
      {
        "duration": 0,
        "start_time": "2024-12-09T09:34:43.370Z"
      },
      {
        "duration": 0,
        "start_time": "2024-12-09T09:34:43.372Z"
      },
      {
        "duration": 0,
        "start_time": "2024-12-09T09:34:43.372Z"
      },
      {
        "duration": 0,
        "start_time": "2024-12-09T09:34:43.374Z"
      },
      {
        "duration": 0,
        "start_time": "2024-12-09T09:34:43.375Z"
      },
      {
        "duration": 0,
        "start_time": "2024-12-09T09:34:43.376Z"
      },
      {
        "duration": 0,
        "start_time": "2024-12-09T09:34:43.377Z"
      },
      {
        "duration": 0,
        "start_time": "2024-12-09T09:34:43.378Z"
      },
      {
        "duration": 0,
        "start_time": "2024-12-09T09:34:43.379Z"
      },
      {
        "duration": 0,
        "start_time": "2024-12-09T09:34:43.380Z"
      },
      {
        "duration": 0,
        "start_time": "2024-12-09T09:34:43.382Z"
      },
      {
        "duration": 0,
        "start_time": "2024-12-09T09:34:43.383Z"
      },
      {
        "duration": 7624,
        "start_time": "2024-12-09T09:39:12.277Z"
      },
      {
        "duration": 7084,
        "start_time": "2024-12-09T09:39:41.344Z"
      },
      {
        "duration": 4488,
        "start_time": "2024-12-09T09:39:56.089Z"
      },
      {
        "duration": 0,
        "start_time": "2024-12-09T09:40:00.581Z"
      },
      {
        "duration": 0,
        "start_time": "2024-12-09T09:40:00.583Z"
      },
      {
        "duration": 0,
        "start_time": "2024-12-09T09:40:00.584Z"
      },
      {
        "duration": 0,
        "start_time": "2024-12-09T09:40:00.585Z"
      },
      {
        "duration": 0,
        "start_time": "2024-12-09T09:40:00.586Z"
      },
      {
        "duration": 0,
        "start_time": "2024-12-09T09:40:00.588Z"
      },
      {
        "duration": 0,
        "start_time": "2024-12-09T09:40:00.589Z"
      },
      {
        "duration": 0,
        "start_time": "2024-12-09T09:40:00.590Z"
      },
      {
        "duration": 0,
        "start_time": "2024-12-09T09:40:00.591Z"
      },
      {
        "duration": 0,
        "start_time": "2024-12-09T09:40:00.593Z"
      },
      {
        "duration": 0,
        "start_time": "2024-12-09T09:40:00.594Z"
      },
      {
        "duration": 0,
        "start_time": "2024-12-09T09:40:00.595Z"
      },
      {
        "duration": 0,
        "start_time": "2024-12-09T09:40:00.596Z"
      },
      {
        "duration": 0,
        "start_time": "2024-12-09T09:40:00.597Z"
      },
      {
        "duration": 0,
        "start_time": "2024-12-09T09:40:00.598Z"
      },
      {
        "duration": 0,
        "start_time": "2024-12-09T09:40:00.600Z"
      },
      {
        "duration": 0,
        "start_time": "2024-12-09T09:40:00.601Z"
      },
      {
        "duration": 0,
        "start_time": "2024-12-09T09:40:00.602Z"
      },
      {
        "duration": 0,
        "start_time": "2024-12-09T09:40:00.603Z"
      },
      {
        "duration": 1,
        "start_time": "2024-12-09T09:40:00.604Z"
      },
      {
        "duration": 0,
        "start_time": "2024-12-09T09:40:00.606Z"
      },
      {
        "duration": 0,
        "start_time": "2024-12-09T09:40:00.607Z"
      },
      {
        "duration": 0,
        "start_time": "2024-12-09T09:40:00.608Z"
      },
      {
        "duration": 0,
        "start_time": "2024-12-09T09:40:00.609Z"
      },
      {
        "duration": 0,
        "start_time": "2024-12-09T09:40:00.610Z"
      },
      {
        "duration": 0,
        "start_time": "2024-12-09T09:40:00.611Z"
      },
      {
        "duration": 0,
        "start_time": "2024-12-09T09:40:00.612Z"
      },
      {
        "duration": 0,
        "start_time": "2024-12-09T09:40:00.613Z"
      },
      {
        "duration": 0,
        "start_time": "2024-12-09T09:40:00.614Z"
      },
      {
        "duration": 0,
        "start_time": "2024-12-09T09:40:00.615Z"
      },
      {
        "duration": 1,
        "start_time": "2024-12-09T09:40:00.616Z"
      },
      {
        "duration": 0,
        "start_time": "2024-12-09T09:40:00.617Z"
      },
      {
        "duration": 0,
        "start_time": "2024-12-09T09:40:00.662Z"
      },
      {
        "duration": 0,
        "start_time": "2024-12-09T09:40:00.664Z"
      },
      {
        "duration": 0,
        "start_time": "2024-12-09T09:40:00.665Z"
      },
      {
        "duration": 0,
        "start_time": "2024-12-09T09:40:00.666Z"
      },
      {
        "duration": 0,
        "start_time": "2024-12-09T09:40:00.668Z"
      },
      {
        "duration": 0,
        "start_time": "2024-12-09T09:40:00.670Z"
      },
      {
        "duration": 0,
        "start_time": "2024-12-09T09:40:00.671Z"
      },
      {
        "duration": 0,
        "start_time": "2024-12-09T09:40:00.673Z"
      },
      {
        "duration": 0,
        "start_time": "2024-12-09T09:40:00.674Z"
      },
      {
        "duration": 0,
        "start_time": "2024-12-09T09:40:00.676Z"
      },
      {
        "duration": 0,
        "start_time": "2024-12-09T09:40:00.677Z"
      },
      {
        "duration": 0,
        "start_time": "2024-12-09T09:40:00.679Z"
      },
      {
        "duration": 0,
        "start_time": "2024-12-09T09:40:00.680Z"
      },
      {
        "duration": 0,
        "start_time": "2024-12-09T09:40:00.682Z"
      },
      {
        "duration": 0,
        "start_time": "2024-12-09T09:40:00.683Z"
      },
      {
        "duration": 3886,
        "start_time": "2024-12-09T09:52:15.734Z"
      },
      {
        "duration": 646,
        "start_time": "2024-12-09T09:52:44.683Z"
      },
      {
        "duration": 7050,
        "start_time": "2024-12-09T09:52:58.802Z"
      },
      {
        "duration": 9723,
        "start_time": "2024-12-09T09:53:21.397Z"
      },
      {
        "duration": 344,
        "start_time": "2024-12-09T09:53:49.391Z"
      },
      {
        "duration": 17478,
        "start_time": "2024-12-09T09:53:56.005Z"
      },
      {
        "duration": 17273,
        "start_time": "2024-12-09T09:54:30.136Z"
      },
      {
        "duration": 354,
        "start_time": "2024-12-09T09:55:15.165Z"
      },
      {
        "duration": 0,
        "start_time": "2024-12-09T09:55:15.523Z"
      },
      {
        "duration": 0,
        "start_time": "2024-12-09T09:55:15.524Z"
      },
      {
        "duration": 0,
        "start_time": "2024-12-09T09:55:15.525Z"
      },
      {
        "duration": 0,
        "start_time": "2024-12-09T09:55:15.527Z"
      },
      {
        "duration": 0,
        "start_time": "2024-12-09T09:55:15.528Z"
      },
      {
        "duration": 0,
        "start_time": "2024-12-09T09:55:15.529Z"
      },
      {
        "duration": 0,
        "start_time": "2024-12-09T09:55:15.531Z"
      },
      {
        "duration": 0,
        "start_time": "2024-12-09T09:55:15.531Z"
      },
      {
        "duration": 0,
        "start_time": "2024-12-09T09:55:15.532Z"
      },
      {
        "duration": 0,
        "start_time": "2024-12-09T09:55:15.534Z"
      },
      {
        "duration": 0,
        "start_time": "2024-12-09T09:55:15.535Z"
      },
      {
        "duration": 0,
        "start_time": "2024-12-09T09:55:15.536Z"
      },
      {
        "duration": 0,
        "start_time": "2024-12-09T09:55:15.537Z"
      },
      {
        "duration": 0,
        "start_time": "2024-12-09T09:55:15.561Z"
      },
      {
        "duration": 0,
        "start_time": "2024-12-09T09:55:15.563Z"
      },
      {
        "duration": 0,
        "start_time": "2024-12-09T09:55:15.564Z"
      },
      {
        "duration": 0,
        "start_time": "2024-12-09T09:55:15.565Z"
      },
      {
        "duration": 0,
        "start_time": "2024-12-09T09:55:15.566Z"
      },
      {
        "duration": 0,
        "start_time": "2024-12-09T09:55:15.567Z"
      },
      {
        "duration": 0,
        "start_time": "2024-12-09T09:55:15.568Z"
      },
      {
        "duration": 0,
        "start_time": "2024-12-09T09:55:15.569Z"
      },
      {
        "duration": 0,
        "start_time": "2024-12-09T09:55:15.570Z"
      },
      {
        "duration": 0,
        "start_time": "2024-12-09T09:55:15.571Z"
      },
      {
        "duration": 0,
        "start_time": "2024-12-09T09:55:15.572Z"
      },
      {
        "duration": 0,
        "start_time": "2024-12-09T09:55:15.574Z"
      },
      {
        "duration": 0,
        "start_time": "2024-12-09T09:55:15.575Z"
      },
      {
        "duration": 0,
        "start_time": "2024-12-09T09:55:15.576Z"
      },
      {
        "duration": 0,
        "start_time": "2024-12-09T09:55:15.577Z"
      },
      {
        "duration": 0,
        "start_time": "2024-12-09T09:55:15.578Z"
      },
      {
        "duration": 0,
        "start_time": "2024-12-09T09:55:15.579Z"
      },
      {
        "duration": 0,
        "start_time": "2024-12-09T09:55:15.580Z"
      },
      {
        "duration": 0,
        "start_time": "2024-12-09T09:55:15.581Z"
      },
      {
        "duration": 0,
        "start_time": "2024-12-09T09:55:15.582Z"
      },
      {
        "duration": 0,
        "start_time": "2024-12-09T09:55:15.583Z"
      },
      {
        "duration": 0,
        "start_time": "2024-12-09T09:55:15.584Z"
      },
      {
        "duration": 0,
        "start_time": "2024-12-09T09:55:15.585Z"
      },
      {
        "duration": 0,
        "start_time": "2024-12-09T09:55:15.586Z"
      },
      {
        "duration": 0,
        "start_time": "2024-12-09T09:55:15.587Z"
      },
      {
        "duration": 0,
        "start_time": "2024-12-09T09:55:15.588Z"
      },
      {
        "duration": 0,
        "start_time": "2024-12-09T09:55:15.589Z"
      },
      {
        "duration": 0,
        "start_time": "2024-12-09T09:55:15.590Z"
      },
      {
        "duration": 0,
        "start_time": "2024-12-09T09:55:15.591Z"
      },
      {
        "duration": 0,
        "start_time": "2024-12-09T09:55:15.592Z"
      },
      {
        "duration": 0,
        "start_time": "2024-12-09T09:55:15.593Z"
      },
      {
        "duration": 0,
        "start_time": "2024-12-09T09:55:15.594Z"
      },
      {
        "duration": 0,
        "start_time": "2024-12-09T09:55:15.595Z"
      },
      {
        "duration": 0,
        "start_time": "2024-12-09T09:55:15.597Z"
      },
      {
        "duration": 0,
        "start_time": "2024-12-09T09:55:15.662Z"
      },
      {
        "duration": 12157,
        "start_time": "2024-12-09T09:56:43.169Z"
      },
      {
        "duration": 22271,
        "start_time": "2024-12-09T09:57:18.061Z"
      },
      {
        "duration": 1322,
        "start_time": "2024-12-09T09:57:40.335Z"
      },
      {
        "duration": 0,
        "start_time": "2024-12-09T09:57:41.662Z"
      },
      {
        "duration": 0,
        "start_time": "2024-12-09T09:57:41.665Z"
      },
      {
        "duration": 1,
        "start_time": "2024-12-09T09:57:41.666Z"
      },
      {
        "duration": 0,
        "start_time": "2024-12-09T09:57:41.668Z"
      },
      {
        "duration": 0,
        "start_time": "2024-12-09T09:57:41.674Z"
      },
      {
        "duration": 0,
        "start_time": "2024-12-09T09:57:41.675Z"
      },
      {
        "duration": 0,
        "start_time": "2024-12-09T09:57:41.676Z"
      },
      {
        "duration": 0,
        "start_time": "2024-12-09T09:57:41.677Z"
      },
      {
        "duration": 0,
        "start_time": "2024-12-09T09:57:41.678Z"
      },
      {
        "duration": 0,
        "start_time": "2024-12-09T09:57:41.679Z"
      },
      {
        "duration": 0,
        "start_time": "2024-12-09T09:57:41.680Z"
      },
      {
        "duration": 0,
        "start_time": "2024-12-09T09:57:41.681Z"
      },
      {
        "duration": 0,
        "start_time": "2024-12-09T09:57:41.684Z"
      },
      {
        "duration": 0,
        "start_time": "2024-12-09T09:57:41.685Z"
      },
      {
        "duration": 0,
        "start_time": "2024-12-09T09:57:41.686Z"
      },
      {
        "duration": 0,
        "start_time": "2024-12-09T09:57:41.690Z"
      },
      {
        "duration": 0,
        "start_time": "2024-12-09T09:57:41.693Z"
      },
      {
        "duration": 0,
        "start_time": "2024-12-09T09:57:41.695Z"
      },
      {
        "duration": 0,
        "start_time": "2024-12-09T09:57:41.697Z"
      },
      {
        "duration": 0,
        "start_time": "2024-12-09T09:57:41.699Z"
      },
      {
        "duration": 0,
        "start_time": "2024-12-09T09:57:41.701Z"
      },
      {
        "duration": 0,
        "start_time": "2024-12-09T09:57:41.703Z"
      },
      {
        "duration": 0,
        "start_time": "2024-12-09T09:57:41.704Z"
      },
      {
        "duration": 0,
        "start_time": "2024-12-09T09:57:41.764Z"
      },
      {
        "duration": 0,
        "start_time": "2024-12-09T09:57:41.765Z"
      },
      {
        "duration": 0,
        "start_time": "2024-12-09T09:57:41.767Z"
      },
      {
        "duration": 0,
        "start_time": "2024-12-09T09:57:41.768Z"
      },
      {
        "duration": 0,
        "start_time": "2024-12-09T09:57:41.769Z"
      },
      {
        "duration": 0,
        "start_time": "2024-12-09T09:57:41.772Z"
      },
      {
        "duration": 0,
        "start_time": "2024-12-09T09:57:41.773Z"
      },
      {
        "duration": 0,
        "start_time": "2024-12-09T09:57:41.774Z"
      },
      {
        "duration": 0,
        "start_time": "2024-12-09T09:57:41.779Z"
      },
      {
        "duration": 0,
        "start_time": "2024-12-09T09:57:41.784Z"
      },
      {
        "duration": 0,
        "start_time": "2024-12-09T09:57:41.785Z"
      },
      {
        "duration": 0,
        "start_time": "2024-12-09T09:57:41.787Z"
      },
      {
        "duration": 0,
        "start_time": "2024-12-09T09:57:41.789Z"
      },
      {
        "duration": 0,
        "start_time": "2024-12-09T09:57:41.791Z"
      },
      {
        "duration": 0,
        "start_time": "2024-12-09T09:57:41.793Z"
      },
      {
        "duration": 0,
        "start_time": "2024-12-09T09:57:41.794Z"
      },
      {
        "duration": 0,
        "start_time": "2024-12-09T09:57:41.795Z"
      },
      {
        "duration": 0,
        "start_time": "2024-12-09T09:57:41.797Z"
      },
      {
        "duration": 0,
        "start_time": "2024-12-09T09:57:41.798Z"
      },
      {
        "duration": 0,
        "start_time": "2024-12-09T09:57:41.799Z"
      },
      {
        "duration": 0,
        "start_time": "2024-12-09T09:57:41.801Z"
      },
      {
        "duration": 0,
        "start_time": "2024-12-09T09:57:41.802Z"
      },
      {
        "duration": 0,
        "start_time": "2024-12-09T09:57:41.803Z"
      },
      {
        "duration": 0,
        "start_time": "2024-12-09T09:57:41.804Z"
      },
      {
        "duration": 34375,
        "start_time": "2024-12-09T09:58:56.056Z"
      },
      {
        "duration": 1608,
        "start_time": "2024-12-09T09:59:30.434Z"
      },
      {
        "duration": 4,
        "start_time": "2024-12-09T09:59:32.044Z"
      },
      {
        "duration": 108,
        "start_time": "2024-12-09T09:59:32.050Z"
      },
      {
        "duration": 44,
        "start_time": "2024-12-09T09:59:32.160Z"
      },
      {
        "duration": 18,
        "start_time": "2024-12-09T09:59:32.206Z"
      },
      {
        "duration": 44,
        "start_time": "2024-12-09T09:59:32.226Z"
      },
      {
        "duration": 22,
        "start_time": "2024-12-09T09:59:32.273Z"
      },
      {
        "duration": 27,
        "start_time": "2024-12-09T09:59:32.297Z"
      },
      {
        "duration": 36,
        "start_time": "2024-12-09T09:59:32.326Z"
      },
      {
        "duration": 11,
        "start_time": "2024-12-09T09:59:32.366Z"
      },
      {
        "duration": 6,
        "start_time": "2024-12-09T09:59:32.380Z"
      },
      {
        "duration": 32,
        "start_time": "2024-12-09T09:59:32.389Z"
      },
      {
        "duration": 7,
        "start_time": "2024-12-09T09:59:32.424Z"
      },
      {
        "duration": 8,
        "start_time": "2024-12-09T09:59:32.432Z"
      },
      {
        "duration": 46,
        "start_time": "2024-12-09T09:59:32.441Z"
      },
      {
        "duration": 40,
        "start_time": "2024-12-09T09:59:32.489Z"
      },
      {
        "duration": 77,
        "start_time": "2024-12-09T09:59:32.530Z"
      },
      {
        "duration": 9,
        "start_time": "2024-12-09T09:59:32.608Z"
      },
      {
        "duration": 51,
        "start_time": "2024-12-09T09:59:32.619Z"
      },
      {
        "duration": 16,
        "start_time": "2024-12-09T09:59:32.673Z"
      },
      {
        "duration": 28,
        "start_time": "2024-12-09T09:59:32.690Z"
      },
      {
        "duration": 13,
        "start_time": "2024-12-09T09:59:32.720Z"
      },
      {
        "duration": 681,
        "start_time": "2024-12-09T09:59:32.734Z"
      },
      {
        "duration": 0,
        "start_time": "2024-12-09T09:59:33.417Z"
      },
      {
        "duration": 0,
        "start_time": "2024-12-09T09:59:33.418Z"
      },
      {
        "duration": 0,
        "start_time": "2024-12-09T09:59:33.420Z"
      },
      {
        "duration": 0,
        "start_time": "2024-12-09T09:59:33.421Z"
      },
      {
        "duration": 0,
        "start_time": "2024-12-09T09:59:33.422Z"
      },
      {
        "duration": 0,
        "start_time": "2024-12-09T09:59:33.424Z"
      },
      {
        "duration": 0,
        "start_time": "2024-12-09T09:59:33.425Z"
      },
      {
        "duration": 0,
        "start_time": "2024-12-09T09:59:33.428Z"
      },
      {
        "duration": 0,
        "start_time": "2024-12-09T09:59:33.429Z"
      },
      {
        "duration": 0,
        "start_time": "2024-12-09T09:59:33.431Z"
      },
      {
        "duration": 0,
        "start_time": "2024-12-09T09:59:33.462Z"
      },
      {
        "duration": 0,
        "start_time": "2024-12-09T09:59:33.464Z"
      },
      {
        "duration": 1,
        "start_time": "2024-12-09T09:59:33.465Z"
      },
      {
        "duration": 0,
        "start_time": "2024-12-09T09:59:33.467Z"
      },
      {
        "duration": 0,
        "start_time": "2024-12-09T09:59:33.468Z"
      },
      {
        "duration": 0,
        "start_time": "2024-12-09T09:59:33.470Z"
      },
      {
        "duration": 0,
        "start_time": "2024-12-09T09:59:33.478Z"
      },
      {
        "duration": 0,
        "start_time": "2024-12-09T09:59:33.480Z"
      },
      {
        "duration": 0,
        "start_time": "2024-12-09T09:59:33.482Z"
      },
      {
        "duration": 0,
        "start_time": "2024-12-09T09:59:33.483Z"
      },
      {
        "duration": 0,
        "start_time": "2024-12-09T09:59:33.486Z"
      },
      {
        "duration": 0,
        "start_time": "2024-12-09T09:59:33.487Z"
      },
      {
        "duration": 0,
        "start_time": "2024-12-09T09:59:33.494Z"
      },
      {
        "duration": 0,
        "start_time": "2024-12-09T09:59:33.496Z"
      },
      {
        "duration": 0,
        "start_time": "2024-12-09T09:59:33.497Z"
      },
      {
        "duration": 29883,
        "start_time": "2024-12-09T09:59:35.560Z"
      },
      {
        "duration": 1023,
        "start_time": "2024-12-09T10:00:05.447Z"
      },
      {
        "duration": 0,
        "start_time": "2024-12-09T10:00:06.477Z"
      },
      {
        "duration": 0,
        "start_time": "2024-12-09T10:00:06.480Z"
      },
      {
        "duration": 0,
        "start_time": "2024-12-09T10:00:06.482Z"
      },
      {
        "duration": 0,
        "start_time": "2024-12-09T10:00:06.484Z"
      },
      {
        "duration": 0,
        "start_time": "2024-12-09T10:00:06.486Z"
      },
      {
        "duration": 0,
        "start_time": "2024-12-09T10:00:06.488Z"
      },
      {
        "duration": 0,
        "start_time": "2024-12-09T10:00:06.490Z"
      },
      {
        "duration": 0,
        "start_time": "2024-12-09T10:00:06.491Z"
      },
      {
        "duration": 0,
        "start_time": "2024-12-09T10:00:06.493Z"
      },
      {
        "duration": 0,
        "start_time": "2024-12-09T10:00:06.495Z"
      },
      {
        "duration": 0,
        "start_time": "2024-12-09T10:00:06.497Z"
      },
      {
        "duration": 0,
        "start_time": "2024-12-09T10:00:06.498Z"
      },
      {
        "duration": 0,
        "start_time": "2024-12-09T10:00:06.500Z"
      },
      {
        "duration": 0,
        "start_time": "2024-12-09T10:00:06.501Z"
      },
      {
        "duration": 0,
        "start_time": "2024-12-09T10:00:06.503Z"
      },
      {
        "duration": 0,
        "start_time": "2024-12-09T10:00:06.505Z"
      },
      {
        "duration": 1,
        "start_time": "2024-12-09T10:00:06.506Z"
      },
      {
        "duration": 0,
        "start_time": "2024-12-09T10:00:06.509Z"
      },
      {
        "duration": 0,
        "start_time": "2024-12-09T10:00:06.511Z"
      },
      {
        "duration": 0,
        "start_time": "2024-12-09T10:00:06.512Z"
      },
      {
        "duration": 0,
        "start_time": "2024-12-09T10:00:06.514Z"
      },
      {
        "duration": 0,
        "start_time": "2024-12-09T10:00:06.564Z"
      },
      {
        "duration": 0,
        "start_time": "2024-12-09T10:00:06.565Z"
      },
      {
        "duration": 0,
        "start_time": "2024-12-09T10:00:06.567Z"
      },
      {
        "duration": 0,
        "start_time": "2024-12-09T10:00:06.568Z"
      },
      {
        "duration": 0,
        "start_time": "2024-12-09T10:00:06.570Z"
      },
      {
        "duration": 0,
        "start_time": "2024-12-09T10:00:06.571Z"
      },
      {
        "duration": 0,
        "start_time": "2024-12-09T10:00:06.573Z"
      },
      {
        "duration": 0,
        "start_time": "2024-12-09T10:00:06.576Z"
      },
      {
        "duration": 0,
        "start_time": "2024-12-09T10:00:06.578Z"
      },
      {
        "duration": 0,
        "start_time": "2024-12-09T10:00:06.580Z"
      },
      {
        "duration": 0,
        "start_time": "2024-12-09T10:00:06.582Z"
      },
      {
        "duration": 0,
        "start_time": "2024-12-09T10:00:06.583Z"
      },
      {
        "duration": 0,
        "start_time": "2024-12-09T10:00:06.586Z"
      },
      {
        "duration": 0,
        "start_time": "2024-12-09T10:00:06.590Z"
      },
      {
        "duration": 0,
        "start_time": "2024-12-09T10:00:06.592Z"
      },
      {
        "duration": 0,
        "start_time": "2024-12-09T10:00:06.593Z"
      },
      {
        "duration": 0,
        "start_time": "2024-12-09T10:00:06.594Z"
      },
      {
        "duration": 0,
        "start_time": "2024-12-09T10:00:06.595Z"
      },
      {
        "duration": 0,
        "start_time": "2024-12-09T10:00:06.596Z"
      },
      {
        "duration": 0,
        "start_time": "2024-12-09T10:00:06.598Z"
      },
      {
        "duration": 0,
        "start_time": "2024-12-09T10:00:06.599Z"
      },
      {
        "duration": 0,
        "start_time": "2024-12-09T10:00:06.600Z"
      },
      {
        "duration": 0,
        "start_time": "2024-12-09T10:00:06.602Z"
      },
      {
        "duration": 0,
        "start_time": "2024-12-09T10:00:06.603Z"
      },
      {
        "duration": 0,
        "start_time": "2024-12-09T10:00:06.604Z"
      },
      {
        "duration": 0,
        "start_time": "2024-12-09T10:00:06.662Z"
      },
      {
        "duration": 24399,
        "start_time": "2024-12-09T10:01:13.412Z"
      },
      {
        "duration": 28924,
        "start_time": "2024-12-09T10:01:54.098Z"
      },
      {
        "duration": 1177,
        "start_time": "2024-12-09T10:06:10.165Z"
      },
      {
        "duration": 140,
        "start_time": "2024-12-09T10:06:11.345Z"
      },
      {
        "duration": 0,
        "start_time": "2024-12-09T10:06:11.489Z"
      },
      {
        "duration": 0,
        "start_time": "2024-12-09T10:06:11.490Z"
      },
      {
        "duration": 0,
        "start_time": "2024-12-09T10:06:11.491Z"
      },
      {
        "duration": 0,
        "start_time": "2024-12-09T10:06:11.492Z"
      },
      {
        "duration": 0,
        "start_time": "2024-12-09T10:06:11.493Z"
      },
      {
        "duration": 0,
        "start_time": "2024-12-09T10:06:11.494Z"
      },
      {
        "duration": 0,
        "start_time": "2024-12-09T10:06:11.495Z"
      },
      {
        "duration": 0,
        "start_time": "2024-12-09T10:06:11.496Z"
      },
      {
        "duration": 0,
        "start_time": "2024-12-09T10:06:11.497Z"
      },
      {
        "duration": 0,
        "start_time": "2024-12-09T10:06:11.498Z"
      },
      {
        "duration": 0,
        "start_time": "2024-12-09T10:06:11.499Z"
      },
      {
        "duration": 0,
        "start_time": "2024-12-09T10:06:11.500Z"
      },
      {
        "duration": 0,
        "start_time": "2024-12-09T10:06:11.501Z"
      },
      {
        "duration": 0,
        "start_time": "2024-12-09T10:06:11.502Z"
      },
      {
        "duration": 0,
        "start_time": "2024-12-09T10:06:11.503Z"
      },
      {
        "duration": 0,
        "start_time": "2024-12-09T10:06:11.505Z"
      },
      {
        "duration": 0,
        "start_time": "2024-12-09T10:06:11.506Z"
      },
      {
        "duration": 0,
        "start_time": "2024-12-09T10:06:11.507Z"
      },
      {
        "duration": 0,
        "start_time": "2024-12-09T10:06:11.508Z"
      },
      {
        "duration": 0,
        "start_time": "2024-12-09T10:06:11.509Z"
      },
      {
        "duration": 0,
        "start_time": "2024-12-09T10:06:11.510Z"
      },
      {
        "duration": 0,
        "start_time": "2024-12-09T10:06:11.510Z"
      },
      {
        "duration": 0,
        "start_time": "2024-12-09T10:06:11.511Z"
      },
      {
        "duration": 0,
        "start_time": "2024-12-09T10:06:11.512Z"
      },
      {
        "duration": 0,
        "start_time": "2024-12-09T10:06:11.513Z"
      },
      {
        "duration": 1,
        "start_time": "2024-12-09T10:06:11.514Z"
      },
      {
        "duration": 0,
        "start_time": "2024-12-09T10:06:11.515Z"
      },
      {
        "duration": 0,
        "start_time": "2024-12-09T10:06:11.516Z"
      },
      {
        "duration": 0,
        "start_time": "2024-12-09T10:06:11.517Z"
      },
      {
        "duration": 0,
        "start_time": "2024-12-09T10:06:11.563Z"
      },
      {
        "duration": 0,
        "start_time": "2024-12-09T10:06:11.565Z"
      },
      {
        "duration": 0,
        "start_time": "2024-12-09T10:06:11.566Z"
      },
      {
        "duration": 0,
        "start_time": "2024-12-09T10:06:11.567Z"
      },
      {
        "duration": 0,
        "start_time": "2024-12-09T10:06:11.569Z"
      },
      {
        "duration": 0,
        "start_time": "2024-12-09T10:06:11.570Z"
      },
      {
        "duration": 0,
        "start_time": "2024-12-09T10:06:11.571Z"
      },
      {
        "duration": 0,
        "start_time": "2024-12-09T10:06:11.573Z"
      },
      {
        "duration": 0,
        "start_time": "2024-12-09T10:06:11.575Z"
      },
      {
        "duration": 0,
        "start_time": "2024-12-09T10:06:11.577Z"
      },
      {
        "duration": 0,
        "start_time": "2024-12-09T10:06:11.579Z"
      },
      {
        "duration": 0,
        "start_time": "2024-12-09T10:06:11.580Z"
      },
      {
        "duration": 0,
        "start_time": "2024-12-09T10:06:11.586Z"
      },
      {
        "duration": 0,
        "start_time": "2024-12-09T10:06:11.587Z"
      },
      {
        "duration": 0,
        "start_time": "2024-12-09T10:06:11.588Z"
      },
      {
        "duration": 0,
        "start_time": "2024-12-09T10:06:11.589Z"
      },
      {
        "duration": 3,
        "start_time": "2024-12-09T10:06:22.816Z"
      },
      {
        "duration": 2,
        "start_time": "2024-12-09T10:06:34.210Z"
      },
      {
        "duration": 4,
        "start_time": "2024-12-09T10:07:40.566Z"
      },
      {
        "duration": 99,
        "start_time": "2024-12-09T10:07:58.905Z"
      },
      {
        "duration": 3,
        "start_time": "2024-12-09T10:08:17.153Z"
      },
      {
        "duration": 7438,
        "start_time": "2024-12-09T10:08:31.867Z"
      },
      {
        "duration": 4659,
        "start_time": "2024-12-09T10:09:06.493Z"
      },
      {
        "duration": 146,
        "start_time": "2024-12-09T10:09:11.154Z"
      },
      {
        "duration": 99,
        "start_time": "2024-12-09T10:09:11.302Z"
      },
      {
        "duration": 37,
        "start_time": "2024-12-09T10:09:11.403Z"
      },
      {
        "duration": 19,
        "start_time": "2024-12-09T10:09:11.443Z"
      },
      {
        "duration": 24,
        "start_time": "2024-12-09T10:09:11.464Z"
      },
      {
        "duration": 16,
        "start_time": "2024-12-09T10:09:11.490Z"
      },
      {
        "duration": 5,
        "start_time": "2024-12-09T10:09:11.507Z"
      },
      {
        "duration": 79,
        "start_time": "2024-12-09T10:09:11.514Z"
      },
      {
        "duration": 16,
        "start_time": "2024-12-09T10:09:11.596Z"
      },
      {
        "duration": 10,
        "start_time": "2024-12-09T10:09:11.614Z"
      },
      {
        "duration": 5,
        "start_time": "2024-12-09T10:09:11.626Z"
      },
      {
        "duration": 5,
        "start_time": "2024-12-09T10:09:11.633Z"
      },
      {
        "duration": 7,
        "start_time": "2024-12-09T10:09:11.665Z"
      },
      {
        "duration": 22,
        "start_time": "2024-12-09T10:09:11.674Z"
      },
      {
        "duration": 86,
        "start_time": "2024-12-09T10:09:11.698Z"
      },
      {
        "duration": 36,
        "start_time": "2024-12-09T10:09:11.786Z"
      },
      {
        "duration": 48,
        "start_time": "2024-12-09T10:09:11.823Z"
      },
      {
        "duration": 9,
        "start_time": "2024-12-09T10:09:11.874Z"
      },
      {
        "duration": 8,
        "start_time": "2024-12-09T10:09:11.885Z"
      },
      {
        "duration": 15,
        "start_time": "2024-12-09T10:09:11.895Z"
      },
      {
        "duration": 4,
        "start_time": "2024-12-09T10:09:11.912Z"
      },
      {
        "duration": 4680,
        "start_time": "2024-12-09T10:09:11.918Z"
      },
      {
        "duration": 879,
        "start_time": "2024-12-09T10:09:16.600Z"
      },
      {
        "duration": 704,
        "start_time": "2024-12-09T10:09:17.482Z"
      },
      {
        "duration": 975,
        "start_time": "2024-12-09T10:09:18.188Z"
      },
      {
        "duration": 659,
        "start_time": "2024-12-09T10:09:19.166Z"
      },
      {
        "duration": 385,
        "start_time": "2024-12-09T10:09:19.826Z"
      },
      {
        "duration": 10,
        "start_time": "2024-12-09T10:09:20.213Z"
      },
      {
        "duration": 59,
        "start_time": "2024-12-09T10:09:20.224Z"
      },
      {
        "duration": 347,
        "start_time": "2024-12-09T10:09:20.287Z"
      },
      {
        "duration": 9,
        "start_time": "2024-12-09T10:09:20.636Z"
      },
      {
        "duration": 15,
        "start_time": "2024-12-09T10:09:20.662Z"
      },
      {
        "duration": 39,
        "start_time": "2024-12-09T10:09:20.686Z"
      },
      {
        "duration": 55,
        "start_time": "2024-12-09T10:09:20.728Z"
      },
      {
        "duration": 21,
        "start_time": "2024-12-09T10:09:20.786Z"
      },
      {
        "duration": 66,
        "start_time": "2024-12-09T10:09:20.809Z"
      },
      {
        "duration": 33,
        "start_time": "2024-12-09T10:09:20.878Z"
      },
      {
        "duration": 1801,
        "start_time": "2024-12-09T10:09:20.913Z"
      },
      {
        "duration": 17,
        "start_time": "2024-12-09T10:09:22.715Z"
      },
      {
        "duration": 78,
        "start_time": "2024-12-09T10:09:22.736Z"
      },
      {
        "duration": 2,
        "start_time": "2024-12-09T10:09:22.816Z"
      },
      {
        "duration": 37,
        "start_time": "2024-12-09T10:09:22.820Z"
      },
      {
        "duration": 3573,
        "start_time": "2024-12-09T10:09:22.859Z"
      },
      {
        "duration": 35,
        "start_time": "2024-12-09T10:09:26.434Z"
      },
      {
        "duration": 20,
        "start_time": "2024-12-09T10:09:26.470Z"
      },
      {
        "duration": 213,
        "start_time": "2024-12-09T10:09:26.492Z"
      },
      {
        "duration": 0,
        "start_time": "2024-12-09T10:09:26.707Z"
      },
      {
        "duration": 10502,
        "start_time": "2024-12-09T10:09:31.712Z"
      },
      {
        "duration": 17099,
        "start_time": "2024-12-09T10:10:00.679Z"
      },
      {
        "duration": 5,
        "start_time": "2024-12-09T10:10:17.780Z"
      },
      {
        "duration": 116,
        "start_time": "2024-12-09T10:10:17.787Z"
      },
      {
        "duration": 36,
        "start_time": "2024-12-09T10:10:17.905Z"
      },
      {
        "duration": 20,
        "start_time": "2024-12-09T10:10:17.943Z"
      },
      {
        "duration": 29,
        "start_time": "2024-12-09T10:10:17.966Z"
      },
      {
        "duration": 16,
        "start_time": "2024-12-09T10:10:17.997Z"
      },
      {
        "duration": 7,
        "start_time": "2024-12-09T10:10:18.015Z"
      },
      {
        "duration": 64,
        "start_time": "2024-12-09T10:10:18.023Z"
      },
      {
        "duration": 7,
        "start_time": "2024-12-09T10:10:18.089Z"
      },
      {
        "duration": 7,
        "start_time": "2024-12-09T10:10:18.098Z"
      },
      {
        "duration": 13,
        "start_time": "2024-12-09T10:10:18.107Z"
      },
      {
        "duration": 6,
        "start_time": "2024-12-09T10:10:18.162Z"
      },
      {
        "duration": 15,
        "start_time": "2024-12-09T10:10:18.175Z"
      },
      {
        "duration": 17,
        "start_time": "2024-12-09T10:10:18.192Z"
      },
      {
        "duration": 77,
        "start_time": "2024-12-09T10:10:18.211Z"
      },
      {
        "duration": 34,
        "start_time": "2024-12-09T10:10:18.291Z"
      },
      {
        "duration": 52,
        "start_time": "2024-12-09T10:10:18.327Z"
      },
      {
        "duration": 11,
        "start_time": "2024-12-09T10:10:18.381Z"
      },
      {
        "duration": 10,
        "start_time": "2024-12-09T10:10:18.393Z"
      },
      {
        "duration": 8,
        "start_time": "2024-12-09T10:10:18.405Z"
      },
      {
        "duration": 5,
        "start_time": "2024-12-09T10:10:18.415Z"
      },
      {
        "duration": 4431,
        "start_time": "2024-12-09T10:10:18.463Z"
      },
      {
        "duration": 888,
        "start_time": "2024-12-09T10:10:22.896Z"
      },
      {
        "duration": 798,
        "start_time": "2024-12-09T10:10:23.787Z"
      },
      {
        "duration": 708,
        "start_time": "2024-12-09T10:10:24.588Z"
      },
      {
        "duration": 778,
        "start_time": "2024-12-09T10:10:25.369Z"
      },
      {
        "duration": 359,
        "start_time": "2024-12-09T10:10:26.149Z"
      },
      {
        "duration": 8,
        "start_time": "2024-12-09T10:10:26.510Z"
      },
      {
        "duration": 61,
        "start_time": "2024-12-09T10:10:26.520Z"
      },
      {
        "duration": 345,
        "start_time": "2024-12-09T10:10:26.583Z"
      },
      {
        "duration": 9,
        "start_time": "2024-12-09T10:10:26.930Z"
      },
      {
        "duration": 25,
        "start_time": "2024-12-09T10:10:26.941Z"
      },
      {
        "duration": 40,
        "start_time": "2024-12-09T10:10:26.968Z"
      },
      {
        "duration": 21,
        "start_time": "2024-12-09T10:10:27.010Z"
      },
      {
        "duration": 29,
        "start_time": "2024-12-09T10:10:27.061Z"
      },
      {
        "duration": 31,
        "start_time": "2024-12-09T10:10:27.092Z"
      },
      {
        "duration": 69,
        "start_time": "2024-12-09T10:10:27.125Z"
      },
      {
        "duration": 1756,
        "start_time": "2024-12-09T10:10:27.195Z"
      },
      {
        "duration": 33,
        "start_time": "2024-12-09T10:10:28.952Z"
      },
      {
        "duration": 84,
        "start_time": "2024-12-09T10:10:28.991Z"
      },
      {
        "duration": 4,
        "start_time": "2024-12-09T10:10:29.078Z"
      },
      {
        "duration": 21,
        "start_time": "2024-12-09T10:10:29.086Z"
      },
      {
        "duration": 3501,
        "start_time": "2024-12-09T10:10:29.109Z"
      },
      {
        "duration": 22,
        "start_time": "2024-12-09T10:10:32.612Z"
      },
      {
        "duration": 46,
        "start_time": "2024-12-09T10:10:32.636Z"
      },
      {
        "duration": 765,
        "start_time": "2024-12-09T10:10:32.686Z"
      },
      {
        "duration": 1482,
        "start_time": "2024-12-09T10:10:33.453Z"
      },
      {
        "duration": 4,
        "start_time": "2024-12-09T10:10:34.937Z"
      },
      {
        "duration": 18569,
        "start_time": "2024-12-09T10:11:03.399Z"
      },
      {
        "duration": 1450,
        "start_time": "2024-12-09T10:11:27.286Z"
      },
      {
        "duration": 19324,
        "start_time": "2024-12-09T10:11:28.738Z"
      },
      {
        "duration": 8,
        "start_time": "2024-12-09T10:11:48.065Z"
      },
      {
        "duration": 98,
        "start_time": "2024-12-09T10:11:48.076Z"
      },
      {
        "duration": 40,
        "start_time": "2024-12-09T10:11:48.177Z"
      },
      {
        "duration": 18,
        "start_time": "2024-12-09T10:11:48.219Z"
      },
      {
        "duration": 50,
        "start_time": "2024-12-09T10:11:48.239Z"
      },
      {
        "duration": 16,
        "start_time": "2024-12-09T10:11:48.290Z"
      },
      {
        "duration": 21,
        "start_time": "2024-12-09T10:11:48.307Z"
      },
      {
        "duration": 44,
        "start_time": "2024-12-09T10:11:48.330Z"
      },
      {
        "duration": 9,
        "start_time": "2024-12-09T10:11:48.376Z"
      },
      {
        "duration": 37,
        "start_time": "2024-12-09T10:11:48.387Z"
      },
      {
        "duration": 34,
        "start_time": "2024-12-09T10:11:48.426Z"
      },
      {
        "duration": 14,
        "start_time": "2024-12-09T10:11:48.464Z"
      },
      {
        "duration": 27,
        "start_time": "2024-12-09T10:11:48.480Z"
      },
      {
        "duration": 30,
        "start_time": "2024-12-09T10:11:48.508Z"
      },
      {
        "duration": 61,
        "start_time": "2024-12-09T10:11:48.540Z"
      },
      {
        "duration": 61,
        "start_time": "2024-12-09T10:11:48.603Z"
      },
      {
        "duration": 14,
        "start_time": "2024-12-09T10:11:48.667Z"
      },
      {
        "duration": 19,
        "start_time": "2024-12-09T10:11:48.684Z"
      },
      {
        "duration": 30,
        "start_time": "2024-12-09T10:11:48.704Z"
      },
      {
        "duration": 10,
        "start_time": "2024-12-09T10:11:48.736Z"
      },
      {
        "duration": 24,
        "start_time": "2024-12-09T10:11:48.748Z"
      },
      {
        "duration": 4711,
        "start_time": "2024-12-09T10:11:48.775Z"
      },
      {
        "duration": 897,
        "start_time": "2024-12-09T10:11:53.489Z"
      },
      {
        "duration": 692,
        "start_time": "2024-12-09T10:11:54.389Z"
      },
      {
        "duration": 705,
        "start_time": "2024-12-09T10:11:55.084Z"
      },
      {
        "duration": 809,
        "start_time": "2024-12-09T10:11:55.792Z"
      },
      {
        "duration": 399,
        "start_time": "2024-12-09T10:11:56.603Z"
      },
      {
        "duration": 13,
        "start_time": "2024-12-09T10:11:57.005Z"
      },
      {
        "duration": 62,
        "start_time": "2024-12-09T10:11:57.020Z"
      },
      {
        "duration": 340,
        "start_time": "2024-12-09T10:11:57.084Z"
      },
      {
        "duration": 10,
        "start_time": "2024-12-09T10:11:57.425Z"
      },
      {
        "duration": 41,
        "start_time": "2024-12-09T10:11:57.436Z"
      },
      {
        "duration": 46,
        "start_time": "2024-12-09T10:11:57.479Z"
      },
      {
        "duration": 26,
        "start_time": "2024-12-09T10:11:57.527Z"
      },
      {
        "duration": 75,
        "start_time": "2024-12-09T10:11:57.554Z"
      },
      {
        "duration": 29,
        "start_time": "2024-12-09T10:11:57.631Z"
      },
      {
        "duration": 38,
        "start_time": "2024-12-09T10:11:57.665Z"
      },
      {
        "duration": 1748,
        "start_time": "2024-12-09T10:11:57.705Z"
      },
      {
        "duration": 24,
        "start_time": "2024-12-09T10:11:59.467Z"
      },
      {
        "duration": 81,
        "start_time": "2024-12-09T10:11:59.493Z"
      },
      {
        "duration": 5,
        "start_time": "2024-12-09T10:11:59.576Z"
      },
      {
        "duration": 13,
        "start_time": "2024-12-09T10:11:59.584Z"
      },
      {
        "duration": 3504,
        "start_time": "2024-12-09T10:11:59.598Z"
      },
      {
        "duration": 20,
        "start_time": "2024-12-09T10:12:03.104Z"
      },
      {
        "duration": 49,
        "start_time": "2024-12-09T10:12:03.126Z"
      },
      {
        "duration": 781,
        "start_time": "2024-12-09T10:12:03.177Z"
      },
      {
        "duration": 1583,
        "start_time": "2024-12-09T10:12:03.963Z"
      },
      {
        "duration": 1706,
        "start_time": "2024-12-09T10:12:54.135Z"
      },
      {
        "duration": 1353,
        "start_time": "2024-12-09T12:02:00.215Z"
      },
      {
        "duration": 15659,
        "start_time": "2024-12-09T12:02:01.570Z"
      },
      {
        "duration": 4,
        "start_time": "2024-12-09T12:02:17.231Z"
      },
      {
        "duration": 346,
        "start_time": "2024-12-09T12:02:17.236Z"
      },
      {
        "duration": 27,
        "start_time": "2024-12-09T12:02:17.584Z"
      },
      {
        "duration": 14,
        "start_time": "2024-12-09T12:02:17.612Z"
      },
      {
        "duration": 13,
        "start_time": "2024-12-09T12:02:17.627Z"
      },
      {
        "duration": 12,
        "start_time": "2024-12-09T12:02:17.641Z"
      },
      {
        "duration": 4,
        "start_time": "2024-12-09T12:02:17.654Z"
      },
      {
        "duration": 17,
        "start_time": "2024-12-09T12:02:17.660Z"
      },
      {
        "duration": 5,
        "start_time": "2024-12-09T12:02:17.678Z"
      },
      {
        "duration": 6,
        "start_time": "2024-12-09T12:02:17.685Z"
      },
      {
        "duration": 5,
        "start_time": "2024-12-09T12:02:17.692Z"
      },
      {
        "duration": 3,
        "start_time": "2024-12-09T12:02:17.700Z"
      },
      {
        "duration": 9,
        "start_time": "2024-12-09T12:02:17.705Z"
      },
      {
        "duration": 45,
        "start_time": "2024-12-09T12:02:17.716Z"
      },
      {
        "duration": 29,
        "start_time": "2024-12-09T12:02:17.762Z"
      },
      {
        "duration": 26,
        "start_time": "2024-12-09T12:02:17.792Z"
      },
      {
        "duration": 35,
        "start_time": "2024-12-09T12:02:17.820Z"
      },
      {
        "duration": 6,
        "start_time": "2024-12-09T12:02:17.856Z"
      },
      {
        "duration": 21,
        "start_time": "2024-12-09T12:02:17.863Z"
      },
      {
        "duration": 8,
        "start_time": "2024-12-09T12:02:17.885Z"
      },
      {
        "duration": 4,
        "start_time": "2024-12-09T12:02:17.894Z"
      },
      {
        "duration": 2955,
        "start_time": "2024-12-09T12:02:17.899Z"
      },
      {
        "duration": 427,
        "start_time": "2024-12-09T12:02:20.856Z"
      },
      {
        "duration": 474,
        "start_time": "2024-12-09T12:02:21.285Z"
      },
      {
        "duration": 394,
        "start_time": "2024-12-09T12:02:21.760Z"
      },
      {
        "duration": 336,
        "start_time": "2024-12-09T12:02:22.155Z"
      },
      {
        "duration": 152,
        "start_time": "2024-12-09T12:02:22.493Z"
      },
      {
        "duration": 11,
        "start_time": "2024-12-09T12:02:22.646Z"
      },
      {
        "duration": 65,
        "start_time": "2024-12-09T12:02:22.658Z"
      },
      {
        "duration": 158,
        "start_time": "2024-12-09T12:02:22.725Z"
      },
      {
        "duration": 7,
        "start_time": "2024-12-09T12:02:22.885Z"
      },
      {
        "duration": 25,
        "start_time": "2024-12-09T12:02:22.894Z"
      },
      {
        "duration": 50,
        "start_time": "2024-12-09T12:02:22.920Z"
      },
      {
        "duration": 17,
        "start_time": "2024-12-09T12:02:22.971Z"
      },
      {
        "duration": 28,
        "start_time": "2024-12-09T12:02:22.990Z"
      },
      {
        "duration": 26,
        "start_time": "2024-12-09T12:02:23.020Z"
      },
      {
        "duration": 26,
        "start_time": "2024-12-09T12:02:23.048Z"
      },
      {
        "duration": 2557,
        "start_time": "2024-12-09T12:02:23.076Z"
      },
      {
        "duration": 13,
        "start_time": "2024-12-09T12:02:25.637Z"
      },
      {
        "duration": 48,
        "start_time": "2024-12-09T12:02:25.651Z"
      },
      {
        "duration": 3,
        "start_time": "2024-12-09T12:02:25.700Z"
      },
      {
        "duration": 22,
        "start_time": "2024-12-09T12:02:25.704Z"
      },
      {
        "duration": 2901,
        "start_time": "2024-12-09T12:02:25.727Z"
      },
      {
        "duration": 25,
        "start_time": "2024-12-09T12:02:28.630Z"
      },
      {
        "duration": 17,
        "start_time": "2024-12-09T12:02:28.656Z"
      },
      {
        "duration": 359,
        "start_time": "2024-12-09T12:02:28.674Z"
      },
      {
        "duration": 0,
        "start_time": "2024-12-09T12:02:29.034Z"
      },
      {
        "duration": 9,
        "start_time": "2024-12-09T12:08:03.497Z"
      },
      {
        "duration": 8,
        "start_time": "2024-12-09T12:08:10.902Z"
      },
      {
        "duration": 8,
        "start_time": "2024-12-09T12:08:22.812Z"
      },
      {
        "duration": 3,
        "start_time": "2024-12-09T12:10:13.547Z"
      },
      {
        "duration": 9104,
        "start_time": "2024-12-09T12:10:15.833Z"
      },
      {
        "duration": 5,
        "start_time": "2024-12-09T12:10:26.308Z"
      },
      {
        "duration": 85,
        "start_time": "2024-12-09T12:10:27.941Z"
      },
      {
        "duration": 24,
        "start_time": "2024-12-09T12:10:28.544Z"
      },
      {
        "duration": 16,
        "start_time": "2024-12-09T12:10:28.883Z"
      },
      {
        "duration": 14,
        "start_time": "2024-12-09T12:10:29.235Z"
      },
      {
        "duration": 14,
        "start_time": "2024-12-09T12:10:29.498Z"
      },
      {
        "duration": 5,
        "start_time": "2024-12-09T12:10:30.632Z"
      },
      {
        "duration": 15,
        "start_time": "2024-12-09T12:10:31.186Z"
      },
      {
        "duration": 8,
        "start_time": "2024-12-09T12:10:31.956Z"
      },
      {
        "duration": 4,
        "start_time": "2024-12-09T12:10:32.411Z"
      },
      {
        "duration": 4,
        "start_time": "2024-12-09T12:10:32.651Z"
      },
      {
        "duration": 5,
        "start_time": "2024-12-09T12:10:33.050Z"
      },
      {
        "duration": 5,
        "start_time": "2024-12-09T12:10:33.491Z"
      },
      {
        "duration": 20,
        "start_time": "2024-12-09T12:10:33.887Z"
      },
      {
        "duration": 37,
        "start_time": "2024-12-09T12:10:34.071Z"
      },
      {
        "duration": 28,
        "start_time": "2024-12-09T12:10:34.843Z"
      },
      {
        "duration": 7,
        "start_time": "2024-12-09T12:10:35.041Z"
      },
      {
        "duration": 7,
        "start_time": "2024-12-09T12:10:35.247Z"
      },
      {
        "duration": 7,
        "start_time": "2024-12-09T12:10:35.449Z"
      },
      {
        "duration": 6,
        "start_time": "2024-12-09T12:10:35.836Z"
      },
      {
        "duration": 3,
        "start_time": "2024-12-09T12:10:36.032Z"
      },
      {
        "duration": 2979,
        "start_time": "2024-12-09T12:10:36.220Z"
      },
      {
        "duration": 460,
        "start_time": "2024-12-09T12:10:39.201Z"
      },
      {
        "duration": 499,
        "start_time": "2024-12-09T12:10:39.662Z"
      },
      {
        "duration": 454,
        "start_time": "2024-12-09T12:10:40.166Z"
      },
      {
        "duration": 358,
        "start_time": "2024-12-09T12:10:40.621Z"
      },
      {
        "duration": 152,
        "start_time": "2024-12-09T12:10:40.981Z"
      },
      {
        "duration": 8,
        "start_time": "2024-12-09T12:10:41.658Z"
      },
      {
        "duration": 27,
        "start_time": "2024-12-09T12:10:41.980Z"
      },
      {
        "duration": 150,
        "start_time": "2024-12-09T12:10:42.503Z"
      },
      {
        "duration": 8,
        "start_time": "2024-12-09T12:10:43.831Z"
      },
      {
        "duration": 6,
        "start_time": "2024-12-09T12:10:44.447Z"
      },
      {
        "duration": 28,
        "start_time": "2024-12-09T12:10:44.698Z"
      },
      {
        "duration": 19,
        "start_time": "2024-12-09T12:10:45.851Z"
      },
      {
        "duration": 15,
        "start_time": "2024-12-09T12:10:46.093Z"
      },
      {
        "duration": 27,
        "start_time": "2024-12-09T12:10:46.330Z"
      },
      {
        "duration": 26,
        "start_time": "2024-12-09T12:10:46.588Z"
      },
      {
        "duration": 2560,
        "start_time": "2024-12-09T12:10:47.899Z"
      },
      {
        "duration": 15,
        "start_time": "2024-12-09T12:10:53.013Z"
      },
      {
        "duration": 57,
        "start_time": "2024-12-09T12:10:53.925Z"
      },
      {
        "duration": 4,
        "start_time": "2024-12-09T12:10:54.319Z"
      },
      {
        "duration": 4,
        "start_time": "2024-12-09T12:10:55.217Z"
      },
      {
        "duration": 2850,
        "start_time": "2024-12-09T12:10:56.280Z"
      },
      {
        "duration": 18,
        "start_time": "2024-12-09T12:11:01.365Z"
      },
      {
        "duration": 19,
        "start_time": "2024-12-09T12:11:01.995Z"
      },
      {
        "duration": 202,
        "start_time": "2024-12-09T12:11:04.404Z"
      },
      {
        "duration": 8,
        "start_time": "2024-12-09T12:11:15.847Z"
      },
      {
        "duration": 3,
        "start_time": "2024-12-09T12:11:41.982Z"
      },
      {
        "duration": 1111,
        "start_time": "2024-12-09T12:11:47.223Z"
      },
      {
        "duration": 10447,
        "start_time": "2024-12-09T12:11:48.336Z"
      },
      {
        "duration": 4,
        "start_time": "2024-12-09T12:11:58.784Z"
      },
      {
        "duration": 87,
        "start_time": "2024-12-09T12:11:58.790Z"
      },
      {
        "duration": 28,
        "start_time": "2024-12-09T12:11:58.879Z"
      },
      {
        "duration": 15,
        "start_time": "2024-12-09T12:11:58.909Z"
      },
      {
        "duration": 18,
        "start_time": "2024-12-09T12:11:58.925Z"
      },
      {
        "duration": 13,
        "start_time": "2024-12-09T12:11:58.945Z"
      },
      {
        "duration": 13,
        "start_time": "2024-12-09T12:11:58.960Z"
      },
      {
        "duration": 36,
        "start_time": "2024-12-09T12:11:58.975Z"
      },
      {
        "duration": 5,
        "start_time": "2024-12-09T12:11:59.012Z"
      },
      {
        "duration": 6,
        "start_time": "2024-12-09T12:11:59.019Z"
      },
      {
        "duration": 20,
        "start_time": "2024-12-09T12:11:59.026Z"
      },
      {
        "duration": 15,
        "start_time": "2024-12-09T12:11:59.048Z"
      },
      {
        "duration": 6,
        "start_time": "2024-12-09T12:11:59.064Z"
      },
      {
        "duration": 15,
        "start_time": "2024-12-09T12:11:59.071Z"
      },
      {
        "duration": 42,
        "start_time": "2024-12-09T12:11:59.087Z"
      },
      {
        "duration": 46,
        "start_time": "2024-12-09T12:11:59.131Z"
      },
      {
        "duration": 7,
        "start_time": "2024-12-09T12:11:59.180Z"
      },
      {
        "duration": 7,
        "start_time": "2024-12-09T12:11:59.192Z"
      },
      {
        "duration": 17,
        "start_time": "2024-12-09T12:11:59.201Z"
      },
      {
        "duration": 9,
        "start_time": "2024-12-09T12:11:59.220Z"
      },
      {
        "duration": 3,
        "start_time": "2024-12-09T12:11:59.253Z"
      },
      {
        "duration": 3182,
        "start_time": "2024-12-09T12:11:59.257Z"
      },
      {
        "duration": 456,
        "start_time": "2024-12-09T12:12:02.441Z"
      },
      {
        "duration": 484,
        "start_time": "2024-12-09T12:12:02.899Z"
      },
      {
        "duration": 439,
        "start_time": "2024-12-09T12:12:03.385Z"
      },
      {
        "duration": 414,
        "start_time": "2024-12-09T12:12:03.826Z"
      },
      {
        "duration": 170,
        "start_time": "2024-12-09T12:12:04.242Z"
      },
      {
        "duration": 8,
        "start_time": "2024-12-09T12:12:04.413Z"
      },
      {
        "duration": 56,
        "start_time": "2024-12-09T12:12:04.422Z"
      },
      {
        "duration": 177,
        "start_time": "2024-12-09T12:12:04.480Z"
      },
      {
        "duration": 12,
        "start_time": "2024-12-09T12:12:04.659Z"
      },
      {
        "duration": 26,
        "start_time": "2024-12-09T12:12:04.673Z"
      },
      {
        "duration": 37,
        "start_time": "2024-12-09T12:12:04.700Z"
      },
      {
        "duration": 24,
        "start_time": "2024-12-09T12:12:04.740Z"
      },
      {
        "duration": 42,
        "start_time": "2024-12-09T12:12:04.765Z"
      },
      {
        "duration": 71,
        "start_time": "2024-12-09T12:12:04.809Z"
      },
      {
        "duration": 77,
        "start_time": "2024-12-09T12:12:04.882Z"
      },
      {
        "duration": 2725,
        "start_time": "2024-12-09T12:12:04.961Z"
      },
      {
        "duration": 14,
        "start_time": "2024-12-09T12:12:07.690Z"
      },
      {
        "duration": 54,
        "start_time": "2024-12-09T12:12:07.706Z"
      },
      {
        "duration": 3,
        "start_time": "2024-12-09T12:12:07.762Z"
      },
      {
        "duration": 31,
        "start_time": "2024-12-09T12:12:07.767Z"
      },
      {
        "duration": 2945,
        "start_time": "2024-12-09T12:12:07.800Z"
      },
      {
        "duration": 21,
        "start_time": "2024-12-09T12:12:10.746Z"
      },
      {
        "duration": 49,
        "start_time": "2024-12-09T12:12:10.769Z"
      },
      {
        "duration": 353,
        "start_time": "2024-12-09T12:12:10.819Z"
      },
      {
        "duration": 0,
        "start_time": "2024-12-09T12:12:11.173Z"
      },
      {
        "duration": 0,
        "start_time": "2024-12-09T12:12:11.175Z"
      },
      {
        "duration": 4,
        "start_time": "2024-12-09T12:12:14.358Z"
      },
      {
        "duration": 9621,
        "start_time": "2024-12-09T12:12:49.948Z"
      },
      {
        "duration": 4361,
        "start_time": "2024-12-09T12:13:03.374Z"
      },
      {
        "duration": 9597,
        "start_time": "2024-12-09T12:13:07.737Z"
      },
      {
        "duration": 4,
        "start_time": "2024-12-09T12:13:17.335Z"
      },
      {
        "duration": 123,
        "start_time": "2024-12-09T12:13:17.341Z"
      },
      {
        "duration": 27,
        "start_time": "2024-12-09T12:13:17.466Z"
      },
      {
        "duration": 15,
        "start_time": "2024-12-09T12:13:17.495Z"
      },
      {
        "duration": 20,
        "start_time": "2024-12-09T12:13:17.512Z"
      },
      {
        "duration": 32,
        "start_time": "2024-12-09T12:13:17.533Z"
      },
      {
        "duration": 10,
        "start_time": "2024-12-09T12:13:17.566Z"
      },
      {
        "duration": 12,
        "start_time": "2024-12-09T12:13:17.578Z"
      },
      {
        "duration": 5,
        "start_time": "2024-12-09T12:13:17.592Z"
      },
      {
        "duration": 3,
        "start_time": "2024-12-09T12:13:17.599Z"
      },
      {
        "duration": 20,
        "start_time": "2024-12-09T12:13:17.604Z"
      },
      {
        "duration": 14,
        "start_time": "2024-12-09T12:13:17.627Z"
      },
      {
        "duration": 10,
        "start_time": "2024-12-09T12:13:17.643Z"
      },
      {
        "duration": 14,
        "start_time": "2024-12-09T12:13:17.654Z"
      },
      {
        "duration": 30,
        "start_time": "2024-12-09T12:13:17.669Z"
      },
      {
        "duration": 56,
        "start_time": "2024-12-09T12:13:17.701Z"
      },
      {
        "duration": 7,
        "start_time": "2024-12-09T12:13:17.758Z"
      },
      {
        "duration": 7,
        "start_time": "2024-12-09T12:13:17.767Z"
      },
      {
        "duration": 10,
        "start_time": "2024-12-09T12:13:17.775Z"
      },
      {
        "duration": 6,
        "start_time": "2024-12-09T12:13:17.787Z"
      },
      {
        "duration": 4,
        "start_time": "2024-12-09T12:13:17.794Z"
      },
      {
        "duration": 3045,
        "start_time": "2024-12-09T12:13:17.800Z"
      },
      {
        "duration": 309,
        "start_time": "2024-12-09T12:13:20.853Z"
      },
      {
        "duration": 564,
        "start_time": "2024-12-09T12:13:21.163Z"
      },
      {
        "duration": 377,
        "start_time": "2024-12-09T12:13:21.728Z"
      },
      {
        "duration": 356,
        "start_time": "2024-12-09T12:13:22.106Z"
      },
      {
        "duration": 242,
        "start_time": "2024-12-09T12:13:22.464Z"
      },
      {
        "duration": 7,
        "start_time": "2024-12-09T12:13:22.708Z"
      },
      {
        "duration": 44,
        "start_time": "2024-12-09T12:13:22.716Z"
      },
      {
        "duration": 245,
        "start_time": "2024-12-09T12:13:22.762Z"
      },
      {
        "duration": 8,
        "start_time": "2024-12-09T12:13:23.008Z"
      },
      {
        "duration": 24,
        "start_time": "2024-12-09T12:13:23.018Z"
      },
      {
        "duration": 29,
        "start_time": "2024-12-09T12:13:23.044Z"
      },
      {
        "duration": 17,
        "start_time": "2024-12-09T12:13:23.075Z"
      },
      {
        "duration": 21,
        "start_time": "2024-12-09T12:13:23.094Z"
      },
      {
        "duration": 51,
        "start_time": "2024-12-09T12:13:23.117Z"
      },
      {
        "duration": 26,
        "start_time": "2024-12-09T12:13:23.169Z"
      },
      {
        "duration": 2115,
        "start_time": "2024-12-09T12:13:23.196Z"
      },
      {
        "duration": 14,
        "start_time": "2024-12-09T12:13:25.314Z"
      },
      {
        "duration": 45,
        "start_time": "2024-12-09T12:13:25.330Z"
      },
      {
        "duration": 3,
        "start_time": "2024-12-09T12:13:25.377Z"
      },
      {
        "duration": 13,
        "start_time": "2024-12-09T12:13:25.382Z"
      },
      {
        "duration": 2905,
        "start_time": "2024-12-09T12:13:25.397Z"
      },
      {
        "duration": 17,
        "start_time": "2024-12-09T12:13:28.304Z"
      },
      {
        "duration": 32,
        "start_time": "2024-12-09T12:13:28.323Z"
      },
      {
        "duration": 681,
        "start_time": "2024-12-09T12:13:28.356Z"
      },
      {
        "duration": 938,
        "start_time": "2024-12-09T12:13:29.039Z"
      },
      {
        "duration": 4263,
        "start_time": "2024-12-09T12:13:40.363Z"
      },
      {
        "duration": 9418,
        "start_time": "2024-12-09T12:13:44.627Z"
      },
      {
        "duration": 6,
        "start_time": "2024-12-09T12:13:54.047Z"
      },
      {
        "duration": 85,
        "start_time": "2024-12-09T12:13:54.055Z"
      },
      {
        "duration": 27,
        "start_time": "2024-12-09T12:13:54.142Z"
      },
      {
        "duration": 22,
        "start_time": "2024-12-09T12:13:54.170Z"
      },
      {
        "duration": 16,
        "start_time": "2024-12-09T12:13:54.194Z"
      },
      {
        "duration": 41,
        "start_time": "2024-12-09T12:13:54.212Z"
      },
      {
        "duration": 4,
        "start_time": "2024-12-09T12:13:54.255Z"
      },
      {
        "duration": 15,
        "start_time": "2024-12-09T12:13:54.261Z"
      },
      {
        "duration": 6,
        "start_time": "2024-12-09T12:13:54.277Z"
      },
      {
        "duration": 19,
        "start_time": "2024-12-09T12:13:54.284Z"
      },
      {
        "duration": 38,
        "start_time": "2024-12-09T12:13:54.305Z"
      },
      {
        "duration": 4,
        "start_time": "2024-12-09T12:13:54.346Z"
      },
      {
        "duration": 14,
        "start_time": "2024-12-09T12:13:54.351Z"
      },
      {
        "duration": 16,
        "start_time": "2024-12-09T12:13:54.366Z"
      },
      {
        "duration": 35,
        "start_time": "2024-12-09T12:13:54.383Z"
      },
      {
        "duration": 42,
        "start_time": "2024-12-09T12:13:54.419Z"
      },
      {
        "duration": 7,
        "start_time": "2024-12-09T12:13:54.462Z"
      },
      {
        "duration": 28,
        "start_time": "2024-12-09T12:13:54.470Z"
      },
      {
        "duration": 21,
        "start_time": "2024-12-09T12:13:54.499Z"
      },
      {
        "duration": 6,
        "start_time": "2024-12-09T12:13:54.522Z"
      },
      {
        "duration": 8,
        "start_time": "2024-12-09T12:13:54.529Z"
      },
      {
        "duration": 3033,
        "start_time": "2024-12-09T12:13:54.538Z"
      },
      {
        "duration": 300,
        "start_time": "2024-12-09T12:13:57.573Z"
      },
      {
        "duration": 551,
        "start_time": "2024-12-09T12:13:57.875Z"
      },
      {
        "duration": 386,
        "start_time": "2024-12-09T12:13:58.427Z"
      },
      {
        "duration": 357,
        "start_time": "2024-12-09T12:13:58.815Z"
      },
      {
        "duration": 240,
        "start_time": "2024-12-09T12:13:59.174Z"
      },
      {
        "duration": 9,
        "start_time": "2024-12-09T12:13:59.416Z"
      },
      {
        "duration": 44,
        "start_time": "2024-12-09T12:13:59.427Z"
      },
      {
        "duration": 243,
        "start_time": "2024-12-09T12:13:59.473Z"
      },
      {
        "duration": 9,
        "start_time": "2024-12-09T12:13:59.717Z"
      },
      {
        "duration": 13,
        "start_time": "2024-12-09T12:13:59.727Z"
      },
      {
        "duration": 37,
        "start_time": "2024-12-09T12:13:59.741Z"
      },
      {
        "duration": 18,
        "start_time": "2024-12-09T12:13:59.779Z"
      },
      {
        "duration": 52,
        "start_time": "2024-12-09T12:13:59.798Z"
      },
      {
        "duration": 27,
        "start_time": "2024-12-09T12:13:59.851Z"
      },
      {
        "duration": 25,
        "start_time": "2024-12-09T12:13:59.879Z"
      },
      {
        "duration": 2099,
        "start_time": "2024-12-09T12:13:59.906Z"
      },
      {
        "duration": 13,
        "start_time": "2024-12-09T12:14:02.009Z"
      },
      {
        "duration": 51,
        "start_time": "2024-12-09T12:14:02.024Z"
      },
      {
        "duration": 3,
        "start_time": "2024-12-09T12:14:02.077Z"
      },
      {
        "duration": 38,
        "start_time": "2024-12-09T12:14:02.081Z"
      },
      {
        "duration": 2922,
        "start_time": "2024-12-09T12:14:02.120Z"
      },
      {
        "duration": 22,
        "start_time": "2024-12-09T12:14:05.044Z"
      },
      {
        "duration": 46,
        "start_time": "2024-12-09T12:14:05.067Z"
      },
      {
        "duration": 656,
        "start_time": "2024-12-09T12:14:05.114Z"
      },
      {
        "duration": 651,
        "start_time": "2024-12-09T12:14:13.098Z"
      },
      {
        "duration": 4249,
        "start_time": "2024-12-09T12:40:17.304Z"
      },
      {
        "duration": 9983,
        "start_time": "2024-12-09T12:40:21.555Z"
      },
      {
        "duration": 4,
        "start_time": "2024-12-09T12:40:31.540Z"
      },
      {
        "duration": 134,
        "start_time": "2024-12-09T12:40:31.545Z"
      },
      {
        "duration": 29,
        "start_time": "2024-12-09T12:40:31.682Z"
      },
      {
        "duration": 20,
        "start_time": "2024-12-09T12:40:31.713Z"
      },
      {
        "duration": 18,
        "start_time": "2024-12-09T12:40:31.735Z"
      },
      {
        "duration": 16,
        "start_time": "2024-12-09T12:40:31.754Z"
      },
      {
        "duration": 32,
        "start_time": "2024-12-09T12:40:31.772Z"
      },
      {
        "duration": 19,
        "start_time": "2024-12-09T12:40:31.806Z"
      },
      {
        "duration": 24,
        "start_time": "2024-12-09T12:40:31.826Z"
      },
      {
        "duration": 9,
        "start_time": "2024-12-09T12:40:31.851Z"
      },
      {
        "duration": 45,
        "start_time": "2024-12-09T12:40:31.861Z"
      },
      {
        "duration": 17,
        "start_time": "2024-12-09T12:40:31.910Z"
      },
      {
        "duration": 13,
        "start_time": "2024-12-09T12:40:31.929Z"
      },
      {
        "duration": 46,
        "start_time": "2024-12-09T12:40:31.944Z"
      },
      {
        "duration": 80,
        "start_time": "2024-12-09T12:40:31.992Z"
      },
      {
        "duration": 29,
        "start_time": "2024-12-09T12:40:32.074Z"
      },
      {
        "duration": 19,
        "start_time": "2024-12-09T12:40:32.104Z"
      },
      {
        "duration": 30,
        "start_time": "2024-12-09T12:40:32.124Z"
      },
      {
        "duration": 49,
        "start_time": "2024-12-09T12:40:32.156Z"
      },
      {
        "duration": 22,
        "start_time": "2024-12-09T12:40:32.207Z"
      },
      {
        "duration": 8,
        "start_time": "2024-12-09T12:40:32.230Z"
      },
      {
        "duration": 3209,
        "start_time": "2024-12-09T12:40:32.239Z"
      },
      {
        "duration": 317,
        "start_time": "2024-12-09T12:40:35.453Z"
      },
      {
        "duration": 569,
        "start_time": "2024-12-09T12:40:35.771Z"
      },
      {
        "duration": 383,
        "start_time": "2024-12-09T12:40:36.342Z"
      },
      {
        "duration": 362,
        "start_time": "2024-12-09T12:40:36.727Z"
      },
      {
        "duration": 230,
        "start_time": "2024-12-09T12:40:37.091Z"
      },
      {
        "duration": 34,
        "start_time": "2024-12-09T12:40:37.322Z"
      },
      {
        "duration": 105,
        "start_time": "2024-12-09T12:40:37.358Z"
      },
      {
        "duration": 250,
        "start_time": "2024-12-09T12:40:37.465Z"
      },
      {
        "duration": 9,
        "start_time": "2024-12-09T12:40:37.716Z"
      },
      {
        "duration": 23,
        "start_time": "2024-12-09T12:40:37.726Z"
      },
      {
        "duration": 44,
        "start_time": "2024-12-09T12:40:37.752Z"
      },
      {
        "duration": 18,
        "start_time": "2024-12-09T12:40:37.798Z"
      },
      {
        "duration": 15,
        "start_time": "2024-12-09T12:40:37.817Z"
      },
      {
        "duration": 41,
        "start_time": "2024-12-09T12:40:37.834Z"
      },
      {
        "duration": 37,
        "start_time": "2024-12-09T12:40:37.877Z"
      },
      {
        "duration": 2066,
        "start_time": "2024-12-09T12:40:37.916Z"
      },
      {
        "duration": 14,
        "start_time": "2024-12-09T12:40:39.986Z"
      },
      {
        "duration": 78,
        "start_time": "2024-12-09T12:40:40.001Z"
      },
      {
        "duration": 4,
        "start_time": "2024-12-09T12:40:40.081Z"
      },
      {
        "duration": 75,
        "start_time": "2024-12-09T12:40:40.086Z"
      },
      {
        "duration": 2972,
        "start_time": "2024-12-09T12:40:40.162Z"
      },
      {
        "duration": 26,
        "start_time": "2024-12-09T12:40:43.137Z"
      },
      {
        "duration": 17,
        "start_time": "2024-12-09T12:40:43.165Z"
      },
      {
        "duration": 659,
        "start_time": "2024-12-09T12:40:43.183Z"
      },
      {
        "duration": 638,
        "start_time": "2024-12-09T12:41:04.001Z"
      },
      {
        "duration": 862,
        "start_time": "2024-12-09T12:41:07.038Z"
      },
      {
        "duration": 4413,
        "start_time": "2024-12-09T12:41:22.031Z"
      },
      {
        "duration": 10975,
        "start_time": "2024-12-09T12:41:26.446Z"
      },
      {
        "duration": 4,
        "start_time": "2024-12-09T12:41:37.423Z"
      },
      {
        "duration": 100,
        "start_time": "2024-12-09T12:41:37.428Z"
      },
      {
        "duration": 27,
        "start_time": "2024-12-09T12:41:37.530Z"
      },
      {
        "duration": 18,
        "start_time": "2024-12-09T12:41:37.558Z"
      },
      {
        "duration": 22,
        "start_time": "2024-12-09T12:41:37.578Z"
      },
      {
        "duration": 30,
        "start_time": "2024-12-09T12:41:37.602Z"
      },
      {
        "duration": 8,
        "start_time": "2024-12-09T12:41:37.633Z"
      },
      {
        "duration": 27,
        "start_time": "2024-12-09T12:41:37.642Z"
      },
      {
        "duration": 6,
        "start_time": "2024-12-09T12:41:37.671Z"
      },
      {
        "duration": 34,
        "start_time": "2024-12-09T12:41:37.679Z"
      },
      {
        "duration": 35,
        "start_time": "2024-12-09T12:41:37.714Z"
      },
      {
        "duration": 4,
        "start_time": "2024-12-09T12:41:37.751Z"
      },
      {
        "duration": 6,
        "start_time": "2024-12-09T12:41:37.757Z"
      },
      {
        "duration": 31,
        "start_time": "2024-12-09T12:41:37.765Z"
      },
      {
        "duration": 56,
        "start_time": "2024-12-09T12:41:37.797Z"
      },
      {
        "duration": 31,
        "start_time": "2024-12-09T12:41:37.854Z"
      },
      {
        "duration": 28,
        "start_time": "2024-12-09T12:41:37.886Z"
      },
      {
        "duration": 35,
        "start_time": "2024-12-09T12:41:37.915Z"
      },
      {
        "duration": 11,
        "start_time": "2024-12-09T12:41:37.952Z"
      },
      {
        "duration": 8,
        "start_time": "2024-12-09T12:41:37.965Z"
      },
      {
        "duration": 41,
        "start_time": "2024-12-09T12:41:37.975Z"
      },
      {
        "duration": 3140,
        "start_time": "2024-12-09T12:41:38.017Z"
      },
      {
        "duration": 314,
        "start_time": "2024-12-09T12:41:41.158Z"
      },
      {
        "duration": 583,
        "start_time": "2024-12-09T12:41:41.474Z"
      },
      {
        "duration": 451,
        "start_time": "2024-12-09T12:41:42.058Z"
      },
      {
        "duration": 368,
        "start_time": "2024-12-09T12:41:42.511Z"
      },
      {
        "duration": 232,
        "start_time": "2024-12-09T12:41:42.882Z"
      },
      {
        "duration": 9,
        "start_time": "2024-12-09T12:41:43.115Z"
      },
      {
        "duration": 88,
        "start_time": "2024-12-09T12:41:43.125Z"
      },
      {
        "duration": 278,
        "start_time": "2024-12-09T12:41:43.215Z"
      },
      {
        "duration": 9,
        "start_time": "2024-12-09T12:41:43.495Z"
      },
      {
        "duration": 35,
        "start_time": "2024-12-09T12:41:43.506Z"
      },
      {
        "duration": 47,
        "start_time": "2024-12-09T12:41:43.543Z"
      },
      {
        "duration": 33,
        "start_time": "2024-12-09T12:41:43.592Z"
      },
      {
        "duration": 38,
        "start_time": "2024-12-09T12:41:43.627Z"
      },
      {
        "duration": 27,
        "start_time": "2024-12-09T12:41:43.667Z"
      },
      {
        "duration": 29,
        "start_time": "2024-12-09T12:41:43.695Z"
      },
      {
        "duration": 2227,
        "start_time": "2024-12-09T12:41:43.726Z"
      },
      {
        "duration": 20,
        "start_time": "2024-12-09T12:41:45.959Z"
      },
      {
        "duration": 75,
        "start_time": "2024-12-09T12:41:45.981Z"
      },
      {
        "duration": 3,
        "start_time": "2024-12-09T12:41:46.058Z"
      },
      {
        "duration": 20,
        "start_time": "2024-12-09T12:41:46.062Z"
      },
      {
        "duration": 2927,
        "start_time": "2024-12-09T12:41:46.083Z"
      },
      {
        "duration": 18,
        "start_time": "2024-12-09T12:41:49.011Z"
      },
      {
        "duration": 34,
        "start_time": "2024-12-09T12:41:49.031Z"
      },
      {
        "duration": 913,
        "start_time": "2024-12-09T12:41:49.066Z"
      },
      {
        "duration": 898,
        "start_time": "2024-12-09T12:43:44.579Z"
      },
      {
        "duration": 48,
        "start_time": "2024-12-10T13:48:12.719Z"
      },
      {
        "duration": 10807,
        "start_time": "2024-12-10T13:48:17.518Z"
      },
      {
        "duration": 14836,
        "start_time": "2024-12-10T13:48:28.328Z"
      },
      {
        "duration": 5,
        "start_time": "2024-12-10T13:48:43.166Z"
      },
      {
        "duration": 286,
        "start_time": "2024-12-10T13:48:43.173Z"
      },
      {
        "duration": 41,
        "start_time": "2024-12-10T13:48:43.462Z"
      },
      {
        "duration": 19,
        "start_time": "2024-12-10T13:48:43.505Z"
      },
      {
        "duration": 50,
        "start_time": "2024-12-10T13:48:43.526Z"
      },
      {
        "duration": 16,
        "start_time": "2024-12-10T13:48:43.578Z"
      },
      {
        "duration": 5,
        "start_time": "2024-12-10T13:48:43.597Z"
      },
      {
        "duration": 29,
        "start_time": "2024-12-10T13:48:43.604Z"
      },
      {
        "duration": 10,
        "start_time": "2024-12-10T13:48:43.635Z"
      },
      {
        "duration": 13,
        "start_time": "2024-12-10T13:48:43.647Z"
      },
      {
        "duration": 5,
        "start_time": "2024-12-10T13:48:43.663Z"
      },
      {
        "duration": 44,
        "start_time": "2024-12-10T13:48:43.673Z"
      },
      {
        "duration": 9,
        "start_time": "2024-12-10T13:48:43.719Z"
      },
      {
        "duration": 21,
        "start_time": "2024-12-10T13:48:43.730Z"
      },
      {
        "duration": 81,
        "start_time": "2024-12-10T13:48:43.753Z"
      },
      {
        "duration": 43,
        "start_time": "2024-12-10T13:48:43.836Z"
      },
      {
        "duration": 42,
        "start_time": "2024-12-10T13:48:43.881Z"
      },
      {
        "duration": 8,
        "start_time": "2024-12-10T13:48:43.924Z"
      },
      {
        "duration": 10,
        "start_time": "2024-12-10T13:48:43.933Z"
      },
      {
        "duration": 6,
        "start_time": "2024-12-10T13:48:43.945Z"
      },
      {
        "duration": 9,
        "start_time": "2024-12-10T13:48:43.953Z"
      },
      {
        "duration": 3352,
        "start_time": "2024-12-10T13:48:43.964Z"
      },
      {
        "duration": 335,
        "start_time": "2024-12-10T13:48:47.318Z"
      },
      {
        "duration": 641,
        "start_time": "2024-12-10T13:48:47.655Z"
      },
      {
        "duration": 475,
        "start_time": "2024-12-10T13:48:48.297Z"
      },
      {
        "duration": 391,
        "start_time": "2024-12-10T13:48:48.774Z"
      },
      {
        "duration": 293,
        "start_time": "2024-12-10T13:48:49.167Z"
      },
      {
        "duration": 9,
        "start_time": "2024-12-10T13:48:49.461Z"
      },
      {
        "duration": 68,
        "start_time": "2024-12-10T13:48:49.471Z"
      },
      {
        "duration": 275,
        "start_time": "2024-12-10T13:48:49.541Z"
      },
      {
        "duration": 12,
        "start_time": "2024-12-10T13:48:49.819Z"
      },
      {
        "duration": 16,
        "start_time": "2024-12-10T13:48:49.834Z"
      },
      {
        "duration": 68,
        "start_time": "2024-12-10T13:48:49.852Z"
      },
      {
        "duration": 21,
        "start_time": "2024-12-10T13:48:49.923Z"
      },
      {
        "duration": 16,
        "start_time": "2024-12-10T13:48:49.946Z"
      },
      {
        "duration": 63,
        "start_time": "2024-12-10T13:48:49.963Z"
      },
      {
        "duration": 67,
        "start_time": "2024-12-10T13:48:50.028Z"
      },
      {
        "duration": 2377,
        "start_time": "2024-12-10T13:48:50.097Z"
      },
      {
        "duration": 37,
        "start_time": "2024-12-10T13:48:52.478Z"
      },
      {
        "duration": 122,
        "start_time": "2024-12-10T13:48:52.517Z"
      },
      {
        "duration": 3,
        "start_time": "2024-12-10T13:48:52.640Z"
      },
      {
        "duration": 114,
        "start_time": "2024-12-10T13:48:52.645Z"
      },
      {
        "duration": 3119,
        "start_time": "2024-12-10T13:48:52.761Z"
      },
      {
        "duration": 34,
        "start_time": "2024-12-10T13:48:55.882Z"
      },
      {
        "duration": 21,
        "start_time": "2024-12-10T13:48:55.918Z"
      },
      {
        "duration": 694,
        "start_time": "2024-12-10T13:48:55.941Z"
      },
      {
        "duration": 1026,
        "start_time": "2024-12-10T13:48:56.637Z"
      },
      {
        "duration": 5,
        "start_time": "2024-12-10T13:48:57.665Z"
      },
      {
        "duration": 94,
        "start_time": "2024-12-10T13:48:57.672Z"
      },
      {
        "duration": 16,
        "start_time": "2024-12-10T13:49:05.963Z"
      },
      {
        "duration": 4,
        "start_time": "2024-12-10T13:50:24.264Z"
      },
      {
        "duration": 5,
        "start_time": "2024-12-10T13:55:31.025Z"
      },
      {
        "duration": 25,
        "start_time": "2024-12-10T13:56:07.145Z"
      },
      {
        "duration": 11,
        "start_time": "2024-12-10T13:56:08.265Z"
      },
      {
        "duration": 21,
        "start_time": "2024-12-10T13:59:35.182Z"
      },
      {
        "duration": 20,
        "start_time": "2024-12-10T13:59:45.210Z"
      },
      {
        "duration": 4090,
        "start_time": "2024-12-10T13:59:51.946Z"
      },
      {
        "duration": 8821,
        "start_time": "2024-12-10T13:59:56.038Z"
      },
      {
        "duration": 5,
        "start_time": "2024-12-10T14:00:04.860Z"
      },
      {
        "duration": 99,
        "start_time": "2024-12-10T14:00:04.866Z"
      },
      {
        "duration": 33,
        "start_time": "2024-12-10T14:00:04.967Z"
      },
      {
        "duration": 31,
        "start_time": "2024-12-10T14:00:05.005Z"
      },
      {
        "duration": 24,
        "start_time": "2024-12-10T14:00:05.038Z"
      },
      {
        "duration": 54,
        "start_time": "2024-12-10T14:00:05.064Z"
      },
      {
        "duration": 49,
        "start_time": "2024-12-10T14:00:05.119Z"
      },
      {
        "duration": 58,
        "start_time": "2024-12-10T14:00:05.170Z"
      },
      {
        "duration": 62,
        "start_time": "2024-12-10T14:00:05.230Z"
      },
      {
        "duration": 60,
        "start_time": "2024-12-10T14:00:05.294Z"
      },
      {
        "duration": 133,
        "start_time": "2024-12-10T14:00:05.356Z"
      },
      {
        "duration": 24,
        "start_time": "2024-12-10T14:00:05.493Z"
      },
      {
        "duration": 91,
        "start_time": "2024-12-10T14:00:05.518Z"
      },
      {
        "duration": 52,
        "start_time": "2024-12-10T14:00:05.611Z"
      },
      {
        "duration": 52,
        "start_time": "2024-12-10T14:00:05.665Z"
      },
      {
        "duration": 105,
        "start_time": "2024-12-10T14:00:05.719Z"
      },
      {
        "duration": 44,
        "start_time": "2024-12-10T14:00:05.825Z"
      },
      {
        "duration": 9,
        "start_time": "2024-12-10T14:00:05.871Z"
      },
      {
        "duration": 22,
        "start_time": "2024-12-10T14:00:05.881Z"
      },
      {
        "duration": 15,
        "start_time": "2024-12-10T14:00:05.904Z"
      },
      {
        "duration": 52,
        "start_time": "2024-12-10T14:00:05.921Z"
      },
      {
        "duration": 3165,
        "start_time": "2024-12-10T14:00:05.974Z"
      },
      {
        "duration": 340,
        "start_time": "2024-12-10T14:00:09.140Z"
      },
      {
        "duration": 637,
        "start_time": "2024-12-10T14:00:09.481Z"
      },
      {
        "duration": 450,
        "start_time": "2024-12-10T14:00:10.119Z"
      },
      {
        "duration": 378,
        "start_time": "2024-12-10T14:00:10.570Z"
      },
      {
        "duration": 237,
        "start_time": "2024-12-10T14:00:10.949Z"
      },
      {
        "duration": 27,
        "start_time": "2024-12-10T14:00:11.188Z"
      },
      {
        "duration": 31,
        "start_time": "2024-12-10T14:00:11.217Z"
      },
      {
        "duration": 248,
        "start_time": "2024-12-10T14:00:11.250Z"
      },
      {
        "duration": 20,
        "start_time": "2024-12-10T14:00:11.500Z"
      },
      {
        "duration": 31,
        "start_time": "2024-12-10T14:00:11.521Z"
      },
      {
        "duration": 34,
        "start_time": "2024-12-10T14:00:11.553Z"
      },
      {
        "duration": 60,
        "start_time": "2024-12-10T14:00:11.589Z"
      },
      {
        "duration": 17,
        "start_time": "2024-12-10T14:00:11.650Z"
      },
      {
        "duration": 28,
        "start_time": "2024-12-10T14:00:11.668Z"
      },
      {
        "duration": 46,
        "start_time": "2024-12-10T14:00:11.698Z"
      },
      {
        "duration": 2278,
        "start_time": "2024-12-10T14:00:11.746Z"
      },
      {
        "duration": 15,
        "start_time": "2024-12-10T14:00:14.028Z"
      },
      {
        "duration": 99,
        "start_time": "2024-12-10T14:00:14.045Z"
      },
      {
        "duration": 3,
        "start_time": "2024-12-10T14:00:14.146Z"
      },
      {
        "duration": 17,
        "start_time": "2024-12-10T14:00:14.150Z"
      },
      {
        "duration": 3016,
        "start_time": "2024-12-10T14:00:14.169Z"
      },
      {
        "duration": 34,
        "start_time": "2024-12-10T14:00:17.187Z"
      },
      {
        "duration": 21,
        "start_time": "2024-12-10T14:00:17.222Z"
      },
      {
        "duration": 681,
        "start_time": "2024-12-10T14:00:17.245Z"
      },
      {
        "duration": 1018,
        "start_time": "2024-12-10T14:00:17.929Z"
      },
      {
        "duration": 17,
        "start_time": "2024-12-10T14:00:18.949Z"
      },
      {
        "duration": 20,
        "start_time": "2024-12-10T14:00:18.968Z"
      },
      {
        "duration": 37,
        "start_time": "2024-12-10T14:00:18.990Z"
      },
      {
        "duration": 86,
        "start_time": "2024-12-10T14:00:19.028Z"
      },
      {
        "duration": 23,
        "start_time": "2024-12-10T14:06:25.144Z"
      },
      {
        "duration": 3995,
        "start_time": "2024-12-10T14:07:03.428Z"
      },
      {
        "duration": 8610,
        "start_time": "2024-12-10T14:07:07.425Z"
      },
      {
        "duration": 3,
        "start_time": "2024-12-10T14:07:16.037Z"
      },
      {
        "duration": 104,
        "start_time": "2024-12-10T14:07:16.042Z"
      },
      {
        "duration": 29,
        "start_time": "2024-12-10T14:07:16.148Z"
      },
      {
        "duration": 16,
        "start_time": "2024-12-10T14:07:16.178Z"
      },
      {
        "duration": 19,
        "start_time": "2024-12-10T14:07:16.195Z"
      },
      {
        "duration": 18,
        "start_time": "2024-12-10T14:07:16.216Z"
      },
      {
        "duration": 6,
        "start_time": "2024-12-10T14:07:16.235Z"
      },
      {
        "duration": 15,
        "start_time": "2024-12-10T14:07:16.242Z"
      },
      {
        "duration": 6,
        "start_time": "2024-12-10T14:07:16.258Z"
      },
      {
        "duration": 15,
        "start_time": "2024-12-10T14:07:16.265Z"
      },
      {
        "duration": 35,
        "start_time": "2024-12-10T14:07:16.282Z"
      },
      {
        "duration": 4,
        "start_time": "2024-12-10T14:07:16.320Z"
      },
      {
        "duration": 5,
        "start_time": "2024-12-10T14:07:16.325Z"
      },
      {
        "duration": 16,
        "start_time": "2024-12-10T14:07:16.331Z"
      },
      {
        "duration": 76,
        "start_time": "2024-12-10T14:07:16.348Z"
      },
      {
        "duration": 29,
        "start_time": "2024-12-10T14:07:16.426Z"
      },
      {
        "duration": 8,
        "start_time": "2024-12-10T14:07:16.457Z"
      },
      {
        "duration": 12,
        "start_time": "2024-12-10T14:07:16.466Z"
      },
      {
        "duration": 40,
        "start_time": "2024-12-10T14:07:16.480Z"
      },
      {
        "duration": 5,
        "start_time": "2024-12-10T14:07:16.522Z"
      },
      {
        "duration": 5,
        "start_time": "2024-12-10T14:07:16.528Z"
      },
      {
        "duration": 3172,
        "start_time": "2024-12-10T14:07:16.535Z"
      },
      {
        "duration": 323,
        "start_time": "2024-12-10T14:07:19.709Z"
      },
      {
        "duration": 598,
        "start_time": "2024-12-10T14:07:20.033Z"
      },
      {
        "duration": 435,
        "start_time": "2024-12-10T14:07:20.633Z"
      },
      {
        "duration": 369,
        "start_time": "2024-12-10T14:07:21.069Z"
      },
      {
        "duration": 235,
        "start_time": "2024-12-10T14:07:21.440Z"
      },
      {
        "duration": 7,
        "start_time": "2024-12-10T14:07:21.677Z"
      },
      {
        "duration": 48,
        "start_time": "2024-12-10T14:07:21.686Z"
      },
      {
        "duration": 263,
        "start_time": "2024-12-10T14:07:21.736Z"
      },
      {
        "duration": 23,
        "start_time": "2024-12-10T14:07:22.001Z"
      },
      {
        "duration": 21,
        "start_time": "2024-12-10T14:07:22.026Z"
      },
      {
        "duration": 51,
        "start_time": "2024-12-10T14:07:22.049Z"
      },
      {
        "duration": 19,
        "start_time": "2024-12-10T14:07:22.102Z"
      },
      {
        "duration": 15,
        "start_time": "2024-12-10T14:07:22.123Z"
      },
      {
        "duration": 52,
        "start_time": "2024-12-10T14:07:22.140Z"
      },
      {
        "duration": 30,
        "start_time": "2024-12-10T14:07:22.194Z"
      },
      {
        "duration": 2436,
        "start_time": "2024-12-10T14:07:22.225Z"
      },
      {
        "duration": 16,
        "start_time": "2024-12-10T14:07:24.665Z"
      },
      {
        "duration": 104,
        "start_time": "2024-12-10T14:07:24.682Z"
      },
      {
        "duration": 3,
        "start_time": "2024-12-10T14:07:24.787Z"
      },
      {
        "duration": 90,
        "start_time": "2024-12-10T14:07:24.791Z"
      },
      {
        "duration": 2985,
        "start_time": "2024-12-10T14:07:24.883Z"
      },
      {
        "duration": 20,
        "start_time": "2024-12-10T14:07:27.870Z"
      },
      {
        "duration": 39,
        "start_time": "2024-12-10T14:07:27.892Z"
      },
      {
        "duration": 664,
        "start_time": "2024-12-10T14:07:27.933Z"
      },
      {
        "duration": 947,
        "start_time": "2024-12-10T14:07:28.599Z"
      },
      {
        "duration": 17,
        "start_time": "2024-12-10T14:07:29.548Z"
      },
      {
        "duration": 7,
        "start_time": "2024-12-10T14:07:29.566Z"
      },
      {
        "duration": 45,
        "start_time": "2024-12-10T14:07:29.575Z"
      },
      {
        "duration": 18,
        "start_time": "2024-12-10T14:25:47.904Z"
      },
      {
        "duration": 17,
        "start_time": "2024-12-10T14:27:50.043Z"
      },
      {
        "duration": 4205,
        "start_time": "2024-12-10T14:52:14.020Z"
      },
      {
        "duration": 8582,
        "start_time": "2024-12-10T14:52:18.227Z"
      },
      {
        "duration": 5,
        "start_time": "2024-12-10T14:52:26.810Z"
      },
      {
        "duration": 98,
        "start_time": "2024-12-10T14:52:26.816Z"
      },
      {
        "duration": 28,
        "start_time": "2024-12-10T14:52:26.916Z"
      },
      {
        "duration": 42,
        "start_time": "2024-12-10T14:52:26.945Z"
      },
      {
        "duration": 39,
        "start_time": "2024-12-10T14:52:26.988Z"
      },
      {
        "duration": 22,
        "start_time": "2024-12-10T14:52:27.029Z"
      },
      {
        "duration": 22,
        "start_time": "2024-12-10T14:52:27.053Z"
      },
      {
        "duration": 15,
        "start_time": "2024-12-10T14:52:27.077Z"
      },
      {
        "duration": 5,
        "start_time": "2024-12-10T14:52:27.094Z"
      },
      {
        "duration": 5,
        "start_time": "2024-12-10T14:52:27.115Z"
      },
      {
        "duration": 12,
        "start_time": "2024-12-10T14:52:27.121Z"
      },
      {
        "duration": 5,
        "start_time": "2024-12-10T14:52:27.136Z"
      },
      {
        "duration": 9,
        "start_time": "2024-12-10T14:52:27.142Z"
      },
      {
        "duration": 22,
        "start_time": "2024-12-10T14:52:27.153Z"
      },
      {
        "duration": 64,
        "start_time": "2024-12-10T14:52:27.177Z"
      },
      {
        "duration": 31,
        "start_time": "2024-12-10T14:52:27.243Z"
      },
      {
        "duration": 41,
        "start_time": "2024-12-10T14:52:27.275Z"
      },
      {
        "duration": 7,
        "start_time": "2024-12-10T14:52:27.318Z"
      },
      {
        "duration": 24,
        "start_time": "2024-12-10T14:52:27.327Z"
      },
      {
        "duration": 9,
        "start_time": "2024-12-10T14:52:27.353Z"
      },
      {
        "duration": 17,
        "start_time": "2024-12-10T14:52:27.363Z"
      },
      {
        "duration": 3240,
        "start_time": "2024-12-10T14:52:27.381Z"
      },
      {
        "duration": 326,
        "start_time": "2024-12-10T14:52:30.622Z"
      },
      {
        "duration": 582,
        "start_time": "2024-12-10T14:52:30.950Z"
      },
      {
        "duration": 442,
        "start_time": "2024-12-10T14:52:31.533Z"
      },
      {
        "duration": 379,
        "start_time": "2024-12-10T14:52:31.976Z"
      },
      {
        "duration": 222,
        "start_time": "2024-12-10T14:52:32.356Z"
      },
      {
        "duration": 35,
        "start_time": "2024-12-10T14:52:32.580Z"
      },
      {
        "duration": 27,
        "start_time": "2024-12-10T14:52:32.617Z"
      },
      {
        "duration": 250,
        "start_time": "2024-12-10T14:52:32.646Z"
      },
      {
        "duration": 18,
        "start_time": "2024-12-10T14:52:32.898Z"
      },
      {
        "duration": 102,
        "start_time": "2024-12-10T14:52:32.917Z"
      },
      {
        "duration": 54,
        "start_time": "2024-12-10T14:52:33.021Z"
      },
      {
        "duration": 117,
        "start_time": "2024-12-10T14:52:33.076Z"
      },
      {
        "duration": 25,
        "start_time": "2024-12-10T14:52:33.194Z"
      },
      {
        "duration": 34,
        "start_time": "2024-12-10T14:52:33.221Z"
      },
      {
        "duration": 29,
        "start_time": "2024-12-10T14:52:33.257Z"
      },
      {
        "duration": 2248,
        "start_time": "2024-12-10T14:52:33.287Z"
      },
      {
        "duration": 15,
        "start_time": "2024-12-10T14:52:35.539Z"
      },
      {
        "duration": 173,
        "start_time": "2024-12-10T14:52:35.556Z"
      },
      {
        "duration": 60,
        "start_time": "2024-12-10T14:52:35.731Z"
      },
      {
        "duration": 46,
        "start_time": "2024-12-10T14:52:35.793Z"
      },
      {
        "duration": 2910,
        "start_time": "2024-12-10T14:52:35.841Z"
      },
      {
        "duration": 19,
        "start_time": "2024-12-10T14:52:38.753Z"
      },
      {
        "duration": 18,
        "start_time": "2024-12-10T14:52:38.774Z"
      },
      {
        "duration": 703,
        "start_time": "2024-12-10T14:52:38.793Z"
      },
      {
        "duration": 970,
        "start_time": "2024-12-10T14:52:39.498Z"
      },
      {
        "duration": 20,
        "start_time": "2024-12-10T14:52:40.470Z"
      },
      {
        "duration": 10,
        "start_time": "2024-12-10T14:52:40.514Z"
      },
      {
        "duration": 23,
        "start_time": "2024-12-10T14:52:40.526Z"
      },
      {
        "duration": 172,
        "start_time": "2024-12-10T14:52:40.551Z"
      },
      {
        "duration": 0,
        "start_time": "2024-12-10T14:52:40.724Z"
      },
      {
        "duration": 18,
        "start_time": "2024-12-10T15:33:07.855Z"
      },
      {
        "duration": 27,
        "start_time": "2024-12-10T15:33:09.209Z"
      },
      {
        "duration": 5570,
        "start_time": "2024-12-10T19:56:27.538Z"
      },
      {
        "duration": 273,
        "start_time": "2024-12-10T19:56:52.087Z"
      },
      {
        "duration": 5241,
        "start_time": "2024-12-10T20:06:53.898Z"
      },
      {
        "duration": 290,
        "start_time": "2024-12-10T20:06:59.141Z"
      },
      {
        "duration": 12232,
        "start_time": "2024-12-11T08:02:20.228Z"
      },
      {
        "duration": 14848,
        "start_time": "2024-12-11T08:02:32.462Z"
      },
      {
        "duration": 4,
        "start_time": "2024-12-11T08:02:47.312Z"
      },
      {
        "duration": 261,
        "start_time": "2024-12-11T08:02:47.318Z"
      },
      {
        "duration": 28,
        "start_time": "2024-12-11T08:02:47.581Z"
      },
      {
        "duration": 69,
        "start_time": "2024-12-11T08:02:47.611Z"
      },
      {
        "duration": 37,
        "start_time": "2024-12-11T08:02:47.681Z"
      },
      {
        "duration": 22,
        "start_time": "2024-12-11T08:02:47.719Z"
      },
      {
        "duration": 12,
        "start_time": "2024-12-11T08:02:47.743Z"
      },
      {
        "duration": 41,
        "start_time": "2024-12-11T08:02:47.758Z"
      },
      {
        "duration": 16,
        "start_time": "2024-12-11T08:02:47.801Z"
      },
      {
        "duration": 35,
        "start_time": "2024-12-11T08:02:47.819Z"
      },
      {
        "duration": 7,
        "start_time": "2024-12-11T08:02:47.856Z"
      },
      {
        "duration": 5,
        "start_time": "2024-12-11T08:02:47.865Z"
      },
      {
        "duration": 15,
        "start_time": "2024-12-11T08:02:47.872Z"
      },
      {
        "duration": 24,
        "start_time": "2024-12-11T08:02:47.889Z"
      },
      {
        "duration": 44,
        "start_time": "2024-12-11T08:02:47.915Z"
      },
      {
        "duration": 33,
        "start_time": "2024-12-11T08:02:47.960Z"
      },
      {
        "duration": 7,
        "start_time": "2024-12-11T08:02:47.995Z"
      },
      {
        "duration": 8,
        "start_time": "2024-12-11T08:02:48.037Z"
      },
      {
        "duration": 8,
        "start_time": "2024-12-11T08:02:48.046Z"
      },
      {
        "duration": 12,
        "start_time": "2024-12-11T08:02:48.055Z"
      },
      {
        "duration": 9,
        "start_time": "2024-12-11T08:02:48.068Z"
      },
      {
        "duration": 3461,
        "start_time": "2024-12-11T08:02:48.078Z"
      },
      {
        "duration": 354,
        "start_time": "2024-12-11T08:02:51.540Z"
      },
      {
        "duration": 643,
        "start_time": "2024-12-11T08:02:51.896Z"
      },
      {
        "duration": 471,
        "start_time": "2024-12-11T08:02:52.541Z"
      },
      {
        "duration": 444,
        "start_time": "2024-12-11T08:02:53.016Z"
      },
      {
        "duration": 253,
        "start_time": "2024-12-11T08:02:53.462Z"
      },
      {
        "duration": 20,
        "start_time": "2024-12-11T08:02:53.717Z"
      },
      {
        "duration": 35,
        "start_time": "2024-12-11T08:02:53.739Z"
      },
      {
        "duration": 266,
        "start_time": "2024-12-11T08:02:53.776Z"
      },
      {
        "duration": 8,
        "start_time": "2024-12-11T08:02:54.044Z"
      },
      {
        "duration": 6,
        "start_time": "2024-12-11T08:02:54.054Z"
      },
      {
        "duration": 29,
        "start_time": "2024-12-11T08:02:54.062Z"
      },
      {
        "duration": 53,
        "start_time": "2024-12-11T08:02:54.092Z"
      },
      {
        "duration": 17,
        "start_time": "2024-12-11T08:02:54.147Z"
      },
      {
        "duration": 35,
        "start_time": "2024-12-11T08:02:54.166Z"
      },
      {
        "duration": 57,
        "start_time": "2024-12-11T08:02:54.203Z"
      },
      {
        "duration": 2354,
        "start_time": "2024-12-11T08:02:54.262Z"
      },
      {
        "duration": 32,
        "start_time": "2024-12-11T08:02:56.618Z"
      },
      {
        "duration": 59,
        "start_time": "2024-12-11T08:02:56.652Z"
      },
      {
        "duration": 3,
        "start_time": "2024-12-11T08:02:56.737Z"
      },
      {
        "duration": 26,
        "start_time": "2024-12-11T08:02:56.742Z"
      },
      {
        "duration": 3061,
        "start_time": "2024-12-11T08:02:56.770Z"
      },
      {
        "duration": 21,
        "start_time": "2024-12-11T08:02:59.837Z"
      },
      {
        "duration": 39,
        "start_time": "2024-12-11T08:02:59.860Z"
      },
      {
        "duration": 741,
        "start_time": "2024-12-11T08:02:59.901Z"
      },
      {
        "duration": 1059,
        "start_time": "2024-12-11T08:03:00.643Z"
      },
      {
        "duration": 34,
        "start_time": "2024-12-11T08:03:01.704Z"
      },
      {
        "duration": 8,
        "start_time": "2024-12-11T08:03:01.740Z"
      },
      {
        "duration": 55,
        "start_time": "2024-12-11T08:03:01.750Z"
      },
      {
        "duration": 35,
        "start_time": "2024-12-11T08:03:01.807Z"
      },
      {
        "duration": 40,
        "start_time": "2024-12-11T08:03:01.844Z"
      },
      {
        "duration": 5776,
        "start_time": "2024-12-11T08:03:01.885Z"
      },
      {
        "duration": 313,
        "start_time": "2024-12-11T08:03:07.663Z"
      },
      {
        "duration": 5673,
        "start_time": "2024-12-11T08:03:07.979Z"
      },
      {
        "duration": 307,
        "start_time": "2024-12-11T08:03:13.654Z"
      },
      {
        "duration": 11081,
        "start_time": "2024-12-11T10:06:05.198Z"
      },
      {
        "duration": 15145,
        "start_time": "2024-12-11T10:06:16.281Z"
      },
      {
        "duration": 5,
        "start_time": "2024-12-11T10:06:31.428Z"
      },
      {
        "duration": 288,
        "start_time": "2024-12-11T10:06:31.438Z"
      },
      {
        "duration": 30,
        "start_time": "2024-12-11T10:06:31.728Z"
      },
      {
        "duration": 51,
        "start_time": "2024-12-11T10:06:31.759Z"
      },
      {
        "duration": 21,
        "start_time": "2024-12-11T10:06:31.811Z"
      },
      {
        "duration": 47,
        "start_time": "2024-12-11T10:06:31.834Z"
      },
      {
        "duration": 7,
        "start_time": "2024-12-11T10:06:31.883Z"
      },
      {
        "duration": 44,
        "start_time": "2024-12-11T10:06:31.893Z"
      },
      {
        "duration": 5,
        "start_time": "2024-12-11T10:06:31.939Z"
      },
      {
        "duration": 21,
        "start_time": "2024-12-11T10:06:31.946Z"
      },
      {
        "duration": 7,
        "start_time": "2024-12-11T10:06:31.969Z"
      },
      {
        "duration": 19,
        "start_time": "2024-12-11T10:06:31.977Z"
      },
      {
        "duration": 28,
        "start_time": "2024-12-11T10:06:31.998Z"
      },
      {
        "duration": 39,
        "start_time": "2024-12-11T10:06:32.028Z"
      },
      {
        "duration": 34,
        "start_time": "2024-12-11T10:06:32.069Z"
      },
      {
        "duration": 38,
        "start_time": "2024-12-11T10:06:32.105Z"
      },
      {
        "duration": 22,
        "start_time": "2024-12-11T10:06:32.145Z"
      },
      {
        "duration": 7,
        "start_time": "2024-12-11T10:06:32.169Z"
      },
      {
        "duration": 28,
        "start_time": "2024-12-11T10:06:32.178Z"
      },
      {
        "duration": 20,
        "start_time": "2024-12-11T10:06:32.207Z"
      },
      {
        "duration": 49,
        "start_time": "2024-12-11T10:06:32.229Z"
      },
      {
        "duration": 3362,
        "start_time": "2024-12-11T10:06:32.280Z"
      },
      {
        "duration": 341,
        "start_time": "2024-12-11T10:06:35.644Z"
      },
      {
        "duration": 586,
        "start_time": "2024-12-11T10:06:35.986Z"
      },
      {
        "duration": 465,
        "start_time": "2024-12-11T10:06:36.573Z"
      },
      {
        "duration": 418,
        "start_time": "2024-12-11T10:06:37.042Z"
      },
      {
        "duration": 252,
        "start_time": "2024-12-11T10:06:37.461Z"
      },
      {
        "duration": 8,
        "start_time": "2024-12-11T10:06:37.714Z"
      },
      {
        "duration": 53,
        "start_time": "2024-12-11T10:06:37.724Z"
      },
      {
        "duration": 272,
        "start_time": "2024-12-11T10:06:37.778Z"
      },
      {
        "duration": 10,
        "start_time": "2024-12-11T10:06:38.052Z"
      },
      {
        "duration": 7,
        "start_time": "2024-12-11T10:06:38.064Z"
      },
      {
        "duration": 30,
        "start_time": "2024-12-11T10:06:38.072Z"
      },
      {
        "duration": 45,
        "start_time": "2024-12-11T10:06:38.104Z"
      },
      {
        "duration": 17,
        "start_time": "2024-12-11T10:06:38.150Z"
      },
      {
        "duration": 28,
        "start_time": "2024-12-11T10:06:38.168Z"
      },
      {
        "duration": 69,
        "start_time": "2024-12-11T10:06:38.198Z"
      },
      {
        "duration": 2421,
        "start_time": "2024-12-11T10:06:38.269Z"
      },
      {
        "duration": 14,
        "start_time": "2024-12-11T10:06:40.692Z"
      },
      {
        "duration": 50,
        "start_time": "2024-12-11T10:06:40.708Z"
      },
      {
        "duration": 31,
        "start_time": "2024-12-11T10:06:40.760Z"
      },
      {
        "duration": 7,
        "start_time": "2024-12-11T10:06:40.793Z"
      },
      {
        "duration": 3021,
        "start_time": "2024-12-11T10:06:40.802Z"
      },
      {
        "duration": 29,
        "start_time": "2024-12-11T10:06:43.825Z"
      },
      {
        "duration": 20,
        "start_time": "2024-12-11T10:06:43.855Z"
      },
      {
        "duration": 696,
        "start_time": "2024-12-11T10:06:43.876Z"
      },
      {
        "duration": 1025,
        "start_time": "2024-12-11T10:06:44.573Z"
      },
      {
        "duration": 19,
        "start_time": "2024-12-11T10:06:45.600Z"
      },
      {
        "duration": 23,
        "start_time": "2024-12-11T10:06:45.621Z"
      },
      {
        "duration": 25,
        "start_time": "2024-12-11T10:06:45.646Z"
      },
      {
        "duration": 19,
        "start_time": "2024-12-11T10:06:45.673Z"
      },
      {
        "duration": 56,
        "start_time": "2024-12-11T10:06:45.694Z"
      },
      {
        "duration": 5801,
        "start_time": "2024-12-11T10:06:45.752Z"
      },
      {
        "duration": 302,
        "start_time": "2024-12-11T10:06:51.554Z"
      },
      {
        "duration": 5593,
        "start_time": "2024-12-11T10:06:51.857Z"
      },
      {
        "duration": 294,
        "start_time": "2024-12-11T10:06:57.452Z"
      },
      {
        "duration": 170,
        "start_time": "2024-12-11T10:54:14.621Z"
      },
      {
        "duration": 4887,
        "start_time": "2024-12-11T10:54:23.279Z"
      },
      {
        "duration": 9218,
        "start_time": "2024-12-11T10:54:28.169Z"
      },
      {
        "duration": 5,
        "start_time": "2024-12-11T10:54:37.389Z"
      },
      {
        "duration": 106,
        "start_time": "2024-12-11T10:54:37.395Z"
      },
      {
        "duration": 30,
        "start_time": "2024-12-11T10:54:37.503Z"
      },
      {
        "duration": 44,
        "start_time": "2024-12-11T10:54:37.535Z"
      },
      {
        "duration": 26,
        "start_time": "2024-12-11T10:54:37.581Z"
      },
      {
        "duration": 16,
        "start_time": "2024-12-11T10:54:37.609Z"
      },
      {
        "duration": 15,
        "start_time": "2024-12-11T10:54:37.626Z"
      },
      {
        "duration": 21,
        "start_time": "2024-12-11T10:54:37.642Z"
      },
      {
        "duration": 9,
        "start_time": "2024-12-11T10:54:37.664Z"
      },
      {
        "duration": 8,
        "start_time": "2024-12-11T10:54:37.674Z"
      },
      {
        "duration": 16,
        "start_time": "2024-12-11T10:54:37.684Z"
      },
      {
        "duration": 31,
        "start_time": "2024-12-11T10:54:37.706Z"
      },
      {
        "duration": 14,
        "start_time": "2024-12-11T10:54:37.740Z"
      },
      {
        "duration": 29,
        "start_time": "2024-12-11T10:54:37.756Z"
      },
      {
        "duration": 59,
        "start_time": "2024-12-11T10:54:37.786Z"
      },
      {
        "duration": 32,
        "start_time": "2024-12-11T10:54:37.846Z"
      },
      {
        "duration": 8,
        "start_time": "2024-12-11T10:54:37.879Z"
      },
      {
        "duration": 9,
        "start_time": "2024-12-11T10:54:37.889Z"
      },
      {
        "duration": 45,
        "start_time": "2024-12-11T10:54:37.900Z"
      },
      {
        "duration": 7,
        "start_time": "2024-12-11T10:54:37.947Z"
      },
      {
        "duration": 7,
        "start_time": "2024-12-11T10:54:37.956Z"
      },
      {
        "duration": 3387,
        "start_time": "2024-12-11T10:54:37.964Z"
      },
      {
        "duration": 367,
        "start_time": "2024-12-11T10:54:41.354Z"
      },
      {
        "duration": 675,
        "start_time": "2024-12-11T10:54:41.723Z"
      },
      {
        "duration": 454,
        "start_time": "2024-12-11T10:54:42.400Z"
      },
      {
        "duration": 415,
        "start_time": "2024-12-11T10:54:42.856Z"
      },
      {
        "duration": 266,
        "start_time": "2024-12-11T10:54:43.273Z"
      },
      {
        "duration": 10,
        "start_time": "2024-12-11T10:54:43.542Z"
      },
      {
        "duration": 51,
        "start_time": "2024-12-11T10:54:43.554Z"
      },
      {
        "duration": 303,
        "start_time": "2024-12-11T10:54:43.608Z"
      },
      {
        "duration": 10,
        "start_time": "2024-12-11T10:54:43.913Z"
      },
      {
        "duration": 10,
        "start_time": "2024-12-11T10:54:43.938Z"
      },
      {
        "duration": 57,
        "start_time": "2024-12-11T10:54:43.949Z"
      },
      {
        "duration": 32,
        "start_time": "2024-12-11T10:54:44.008Z"
      },
      {
        "duration": 20,
        "start_time": "2024-12-11T10:54:44.042Z"
      },
      {
        "duration": 33,
        "start_time": "2024-12-11T10:54:44.064Z"
      },
      {
        "duration": 30,
        "start_time": "2024-12-11T10:54:44.136Z"
      },
      {
        "duration": 2455,
        "start_time": "2024-12-11T10:54:44.168Z"
      },
      {
        "duration": 25,
        "start_time": "2024-12-11T10:54:46.627Z"
      },
      {
        "duration": 51,
        "start_time": "2024-12-11T10:54:46.654Z"
      },
      {
        "duration": 33,
        "start_time": "2024-12-11T10:54:46.707Z"
      },
      {
        "duration": 18,
        "start_time": "2024-12-11T10:54:46.741Z"
      },
      {
        "duration": 3200,
        "start_time": "2024-12-11T10:54:46.761Z"
      },
      {
        "duration": 194,
        "start_time": "2024-12-11T10:54:49.963Z"
      },
      {
        "duration": 0,
        "start_time": "2024-12-11T10:54:50.159Z"
      },
      {
        "duration": 0,
        "start_time": "2024-12-11T10:54:50.161Z"
      },
      {
        "duration": 0,
        "start_time": "2024-12-11T10:54:50.162Z"
      },
      {
        "duration": 0,
        "start_time": "2024-12-11T10:54:50.163Z"
      },
      {
        "duration": 0,
        "start_time": "2024-12-11T10:54:50.164Z"
      },
      {
        "duration": 0,
        "start_time": "2024-12-11T10:54:50.165Z"
      },
      {
        "duration": 0,
        "start_time": "2024-12-11T10:54:50.166Z"
      },
      {
        "duration": 0,
        "start_time": "2024-12-11T10:54:50.167Z"
      },
      {
        "duration": 0,
        "start_time": "2024-12-11T10:54:50.169Z"
      },
      {
        "duration": 0,
        "start_time": "2024-12-11T10:54:50.170Z"
      },
      {
        "duration": 0,
        "start_time": "2024-12-11T10:54:50.171Z"
      },
      {
        "duration": 0,
        "start_time": "2024-12-11T10:54:50.172Z"
      },
      {
        "duration": 21,
        "start_time": "2024-12-11T11:00:33.437Z"
      },
      {
        "duration": 763,
        "start_time": "2024-12-11T11:00:36.783Z"
      },
      {
        "duration": 1052,
        "start_time": "2024-12-11T11:00:38.645Z"
      },
      {
        "duration": 19,
        "start_time": "2024-12-11T11:00:41.917Z"
      },
      {
        "duration": 9,
        "start_time": "2024-12-11T11:00:42.247Z"
      },
      {
        "duration": 26,
        "start_time": "2024-12-11T11:00:42.700Z"
      },
      {
        "duration": 28,
        "start_time": "2024-12-11T11:00:44.100Z"
      },
      {
        "duration": 26,
        "start_time": "2024-12-11T11:00:44.411Z"
      },
      {
        "duration": 5785,
        "start_time": "2024-12-11T11:00:44.669Z"
      },
      {
        "duration": 308,
        "start_time": "2024-12-11T11:00:50.456Z"
      },
      {
        "duration": 5793,
        "start_time": "2024-12-11T11:00:50.766Z"
      },
      {
        "duration": 477,
        "start_time": "2024-12-11T11:00:56.561Z"
      },
      {
        "duration": 18,
        "start_time": "2024-12-11T11:09:21.757Z"
      },
      {
        "duration": 4085,
        "start_time": "2024-12-11T11:10:56.485Z"
      },
      {
        "duration": 9319,
        "start_time": "2024-12-11T11:11:00.573Z"
      },
      {
        "duration": 4,
        "start_time": "2024-12-11T11:11:09.893Z"
      },
      {
        "duration": 104,
        "start_time": "2024-12-11T11:11:09.899Z"
      },
      {
        "duration": 29,
        "start_time": "2024-12-11T11:11:10.005Z"
      },
      {
        "duration": 40,
        "start_time": "2024-12-11T11:11:10.036Z"
      },
      {
        "duration": 36,
        "start_time": "2024-12-11T11:11:10.078Z"
      },
      {
        "duration": 24,
        "start_time": "2024-12-11T11:11:10.116Z"
      },
      {
        "duration": 22,
        "start_time": "2024-12-11T11:11:10.142Z"
      },
      {
        "duration": 22,
        "start_time": "2024-12-11T11:11:10.166Z"
      },
      {
        "duration": 8,
        "start_time": "2024-12-11T11:11:10.190Z"
      },
      {
        "duration": 15,
        "start_time": "2024-12-11T11:11:10.199Z"
      },
      {
        "duration": 7,
        "start_time": "2024-12-11T11:11:10.216Z"
      },
      {
        "duration": 13,
        "start_time": "2024-12-11T11:11:10.224Z"
      },
      {
        "duration": 13,
        "start_time": "2024-12-11T11:11:10.239Z"
      },
      {
        "duration": 43,
        "start_time": "2024-12-11T11:11:10.253Z"
      },
      {
        "duration": 48,
        "start_time": "2024-12-11T11:11:10.298Z"
      },
      {
        "duration": 5,
        "start_time": "2024-12-11T11:11:10.348Z"
      },
      {
        "duration": 165,
        "start_time": "2024-12-11T11:11:10.354Z"
      },
      {
        "duration": 0,
        "start_time": "2024-12-11T11:11:10.522Z"
      },
      {
        "duration": 0,
        "start_time": "2024-12-11T11:11:10.523Z"
      },
      {
        "duration": 0,
        "start_time": "2024-12-11T11:11:10.524Z"
      },
      {
        "duration": 0,
        "start_time": "2024-12-11T11:11:10.536Z"
      },
      {
        "duration": 0,
        "start_time": "2024-12-11T11:11:10.538Z"
      },
      {
        "duration": 1,
        "start_time": "2024-12-11T11:11:10.538Z"
      },
      {
        "duration": 0,
        "start_time": "2024-12-11T11:11:10.539Z"
      },
      {
        "duration": 0,
        "start_time": "2024-12-11T11:11:10.541Z"
      },
      {
        "duration": 0,
        "start_time": "2024-12-11T11:11:10.542Z"
      },
      {
        "duration": 0,
        "start_time": "2024-12-11T11:11:10.543Z"
      },
      {
        "duration": 0,
        "start_time": "2024-12-11T11:11:10.544Z"
      },
      {
        "duration": 0,
        "start_time": "2024-12-11T11:11:10.545Z"
      },
      {
        "duration": 0,
        "start_time": "2024-12-11T11:11:10.546Z"
      },
      {
        "duration": 0,
        "start_time": "2024-12-11T11:11:10.548Z"
      },
      {
        "duration": 0,
        "start_time": "2024-12-11T11:11:10.549Z"
      },
      {
        "duration": 0,
        "start_time": "2024-12-11T11:11:10.550Z"
      },
      {
        "duration": 0,
        "start_time": "2024-12-11T11:11:10.551Z"
      },
      {
        "duration": 0,
        "start_time": "2024-12-11T11:11:10.552Z"
      },
      {
        "duration": 0,
        "start_time": "2024-12-11T11:11:10.553Z"
      },
      {
        "duration": 0,
        "start_time": "2024-12-11T11:11:10.554Z"
      },
      {
        "duration": 0,
        "start_time": "2024-12-11T11:11:10.556Z"
      },
      {
        "duration": 0,
        "start_time": "2024-12-11T11:11:10.556Z"
      },
      {
        "duration": 0,
        "start_time": "2024-12-11T11:11:10.558Z"
      },
      {
        "duration": 0,
        "start_time": "2024-12-11T11:11:10.559Z"
      },
      {
        "duration": 0,
        "start_time": "2024-12-11T11:11:10.560Z"
      },
      {
        "duration": 0,
        "start_time": "2024-12-11T11:11:10.561Z"
      },
      {
        "duration": 0,
        "start_time": "2024-12-11T11:11:10.562Z"
      },
      {
        "duration": 0,
        "start_time": "2024-12-11T11:11:10.563Z"
      },
      {
        "duration": 0,
        "start_time": "2024-12-11T11:11:10.565Z"
      },
      {
        "duration": 0,
        "start_time": "2024-12-11T11:11:10.567Z"
      },
      {
        "duration": 0,
        "start_time": "2024-12-11T11:11:10.568Z"
      },
      {
        "duration": 0,
        "start_time": "2024-12-11T11:11:10.568Z"
      },
      {
        "duration": 0,
        "start_time": "2024-12-11T11:11:10.569Z"
      },
      {
        "duration": 0,
        "start_time": "2024-12-11T11:11:10.571Z"
      },
      {
        "duration": 0,
        "start_time": "2024-12-11T11:11:10.572Z"
      },
      {
        "duration": 0,
        "start_time": "2024-12-11T11:11:10.573Z"
      },
      {
        "duration": 0,
        "start_time": "2024-12-11T11:11:10.574Z"
      },
      {
        "duration": 0,
        "start_time": "2024-12-11T11:11:10.638Z"
      },
      {
        "duration": 0,
        "start_time": "2024-12-11T11:11:10.639Z"
      },
      {
        "duration": 30,
        "start_time": "2024-12-11T11:11:59.547Z"
      },
      {
        "duration": 55,
        "start_time": "2024-12-11T11:12:48.214Z"
      },
      {
        "duration": 4183,
        "start_time": "2024-12-11T11:15:00.291Z"
      },
      {
        "duration": 8993,
        "start_time": "2024-12-11T11:15:04.476Z"
      },
      {
        "duration": 4,
        "start_time": "2024-12-11T11:15:13.470Z"
      },
      {
        "duration": 115,
        "start_time": "2024-12-11T11:15:13.476Z"
      },
      {
        "duration": 31,
        "start_time": "2024-12-11T11:15:13.594Z"
      },
      {
        "duration": 19,
        "start_time": "2024-12-11T11:15:13.627Z"
      },
      {
        "duration": 25,
        "start_time": "2024-12-11T11:15:13.648Z"
      },
      {
        "duration": 28,
        "start_time": "2024-12-11T11:15:13.675Z"
      },
      {
        "duration": 12,
        "start_time": "2024-12-11T11:15:13.705Z"
      },
      {
        "duration": 32,
        "start_time": "2024-12-11T11:15:13.719Z"
      },
      {
        "duration": 15,
        "start_time": "2024-12-11T11:15:13.753Z"
      },
      {
        "duration": 11,
        "start_time": "2024-12-11T11:15:13.770Z"
      },
      {
        "duration": 17,
        "start_time": "2024-12-11T11:15:13.783Z"
      },
      {
        "duration": 25,
        "start_time": "2024-12-11T11:15:13.805Z"
      },
      {
        "duration": 10,
        "start_time": "2024-12-11T11:15:13.832Z"
      },
      {
        "duration": 18,
        "start_time": "2024-12-11T11:15:13.843Z"
      },
      {
        "duration": 34,
        "start_time": "2024-12-11T11:15:13.863Z"
      },
      {
        "duration": 70,
        "start_time": "2024-12-11T11:15:13.899Z"
      },
      {
        "duration": 31,
        "start_time": "2024-12-11T11:15:13.970Z"
      },
      {
        "duration": 39,
        "start_time": "2024-12-11T11:15:14.003Z"
      },
      {
        "duration": 7,
        "start_time": "2024-12-11T11:15:14.043Z"
      },
      {
        "duration": 20,
        "start_time": "2024-12-11T11:15:14.052Z"
      },
      {
        "duration": 12,
        "start_time": "2024-12-11T11:15:14.074Z"
      },
      {
        "duration": 25,
        "start_time": "2024-12-11T11:15:14.087Z"
      },
      {
        "duration": 3430,
        "start_time": "2024-12-11T11:15:14.114Z"
      },
      {
        "duration": 349,
        "start_time": "2024-12-11T11:15:17.546Z"
      },
      {
        "duration": 657,
        "start_time": "2024-12-11T11:15:17.896Z"
      },
      {
        "duration": 461,
        "start_time": "2024-12-11T11:15:18.555Z"
      },
      {
        "duration": 444,
        "start_time": "2024-12-11T11:15:19.017Z"
      },
      {
        "duration": 248,
        "start_time": "2024-12-11T11:15:19.463Z"
      },
      {
        "duration": 7,
        "start_time": "2024-12-11T11:15:19.713Z"
      },
      {
        "duration": 44,
        "start_time": "2024-12-11T11:15:19.722Z"
      },
      {
        "duration": 263,
        "start_time": "2024-12-11T11:15:19.767Z"
      },
      {
        "duration": 8,
        "start_time": "2024-12-11T11:15:20.037Z"
      },
      {
        "duration": 12,
        "start_time": "2024-12-11T11:15:20.047Z"
      },
      {
        "duration": 47,
        "start_time": "2024-12-11T11:15:20.060Z"
      },
      {
        "duration": 30,
        "start_time": "2024-12-11T11:15:20.108Z"
      },
      {
        "duration": 16,
        "start_time": "2024-12-11T11:15:20.139Z"
      },
      {
        "duration": 36,
        "start_time": "2024-12-11T11:15:20.157Z"
      },
      {
        "duration": 59,
        "start_time": "2024-12-11T11:15:20.195Z"
      },
      {
        "duration": 2367,
        "start_time": "2024-12-11T11:15:20.260Z"
      },
      {
        "duration": 17,
        "start_time": "2024-12-11T11:15:22.629Z"
      },
      {
        "duration": 75,
        "start_time": "2024-12-11T11:15:22.648Z"
      },
      {
        "duration": 4,
        "start_time": "2024-12-11T11:15:22.725Z"
      },
      {
        "duration": 10,
        "start_time": "2024-12-11T11:15:22.730Z"
      },
      {
        "duration": 3907,
        "start_time": "2024-12-11T11:15:22.741Z"
      },
      {
        "duration": 22,
        "start_time": "2024-12-11T11:15:26.650Z"
      },
      {
        "duration": 704,
        "start_time": "2024-12-11T11:15:26.674Z"
      },
      {
        "duration": 1057,
        "start_time": "2024-12-11T11:15:27.380Z"
      },
      {
        "duration": 18,
        "start_time": "2024-12-11T11:15:28.439Z"
      },
      {
        "duration": 47,
        "start_time": "2024-12-11T11:15:28.459Z"
      },
      {
        "duration": 52,
        "start_time": "2024-12-11T11:15:28.507Z"
      },
      {
        "duration": 28,
        "start_time": "2024-12-11T11:15:28.560Z"
      },
      {
        "duration": 23,
        "start_time": "2024-12-11T11:15:28.590Z"
      },
      {
        "duration": 5734,
        "start_time": "2024-12-11T11:15:28.615Z"
      },
      {
        "duration": 301,
        "start_time": "2024-12-11T11:15:34.350Z"
      },
      {
        "duration": 5717,
        "start_time": "2024-12-11T11:15:34.653Z"
      },
      {
        "duration": 296,
        "start_time": "2024-12-11T11:15:40.371Z"
      }
    ],
    "colab": {
      "provenance": []
    },
    "toc": {
      "base_numbering": 1,
      "nav_menu": {},
      "number_sections": true,
      "sideBar": true,
      "skip_h1_title": true,
      "title_cell": "Table of Contents",
      "title_sidebar": "Contents",
      "toc_cell": false,
      "toc_position": {},
      "toc_section_display": true,
      "toc_window_display": false
    }
  },
  "nbformat_minor": 4,
  "nbformat": 4,
  "cells": [
    {
      "cell_type": "markdown",
      "source": "# Проект: Обучение с учителем: качество модели  \n  \n  \n# Описание проекта  \n  \nИнтернет-магазин «В один клик» продаёт разные товары: для детей, для дома, мелкую бытовую технику, косметику и даже продукты. Отчёт магазина за прошлый период показал, что активность покупателей начала снижаться. Привлекать новых клиентов уже не так эффективно: о магазине и так знает большая часть целевой аудитории. Возможный выход — удерживать активность постоянных клиентов. Сделать это можно с помощью персонализированных предложений.  \n  \n«В один клик» — современная компания, поэтому её руководство не хочет принимать решения просто так — только на основе анализа данных и бизнес-моделирования. У компании есть небольшой отдел цифровых технологий, и нам предстоит побыть в роли стажёра в этом отделе.   \n  \nИтак, нашему отделу поручили разработать решение, которое позволит персонализировать предложения постоянным клиентам, чтобы увеличить их покупательскую активность.  \n  \n# Цель исследования  \n  \nНужно построить модель, которая предскажет вероятность снижения покупательской активности клиента в следующие три месяца.  \nИспользуя данные модели и данные о прибыльности клиентов, нужно выделить сегменты покупателей и разработать для них персонализированные предложения.",
      "metadata": {
        "id": "H6cQIZr3ElW1"
      }
    },
    {
      "cell_type": "markdown",
      "source": "# Краткий план исследования  \n  \n1. Загрузка и проверка данных\n2. Предобработка данных\n3. Исследовательский анализ данных\n4. Объединение таблиц\n5. Корреляционный анализ всех признаков\n6. Использование пайплайнов\n7. Анализ важности признаков\n8. Сегментация покупателей\n9. Общий вывод по исследованию",
      "metadata": {}
    },
    {
      "cell_type": "markdown",
      "source": "# Импортируем библиотеки",
      "metadata": {}
    },
    {
      "cell_type": "code",
      "source": "import pandas as pd\nimport numpy as np\n!pip install matplotlib==3.5 -q\nimport matplotlib\nimport matplotlib.pyplot as plt\nimport seaborn as sns\nfrom scipy import stats as st\nimport re",
      "metadata": {
        "trusted": true
      },
      "outputs": [
        {
          "ename": "<class 'OSError'>",
          "evalue": "Not available",
          "traceback": [
            "\u001b[0;31m---------------------------------------------------------------------------\u001b[0m",
            "\u001b[0;31mOSError\u001b[0m                                   Traceback (most recent call last)",
            "Cell \u001b[0;32mIn[1], line 3\u001b[0m\n\u001b[1;32m      1\u001b[0m \u001b[38;5;28;01mimport\u001b[39;00m \u001b[38;5;21;01mpandas\u001b[39;00m \u001b[38;5;28;01mas\u001b[39;00m \u001b[38;5;21;01mpd\u001b[39;00m\n\u001b[1;32m      2\u001b[0m \u001b[38;5;28;01mimport\u001b[39;00m \u001b[38;5;21;01mnumpy\u001b[39;00m \u001b[38;5;28;01mas\u001b[39;00m \u001b[38;5;21;01mnp\u001b[39;00m\n\u001b[0;32m----> 3\u001b[0m \u001b[43mget_ipython\u001b[49m\u001b[43m(\u001b[49m\u001b[43m)\u001b[49m\u001b[38;5;241;43m.\u001b[39;49m\u001b[43msystem\u001b[49m\u001b[43m(\u001b[49m\u001b[38;5;124;43m'\u001b[39;49m\u001b[38;5;124;43mpip install matplotlib==3.5 -q\u001b[39;49m\u001b[38;5;124;43m'\u001b[39;49m\u001b[43m)\u001b[49m\n\u001b[1;32m      4\u001b[0m \u001b[38;5;28;01mimport\u001b[39;00m \u001b[38;5;21;01mmatplotlib\u001b[39;00m\n\u001b[1;32m      5\u001b[0m \u001b[38;5;28;01mimport\u001b[39;00m \u001b[38;5;21;01mmatplotlib\u001b[39;00m\u001b[38;5;21;01m.\u001b[39;00m\u001b[38;5;21;01mpyplot\u001b[39;00m \u001b[38;5;28;01mas\u001b[39;00m \u001b[38;5;21;01mplt\u001b[39;00m\n",
            "File \u001b[0;32m/lib/python3.12/site-packages/IPython/core/interactiveshell.py:2653\u001b[0m, in \u001b[0;36mInteractiveShell.system_piped\u001b[0;34m(self, cmd)\u001b[0m\n\u001b[1;32m   2648\u001b[0m     \u001b[38;5;28;01mraise\u001b[39;00m \u001b[38;5;167;01mOSError\u001b[39;00m(\u001b[38;5;124m\"\u001b[39m\u001b[38;5;124mBackground processes not supported.\u001b[39m\u001b[38;5;124m\"\u001b[39m)\n\u001b[1;32m   2650\u001b[0m \u001b[38;5;66;03m# we explicitly do NOT return the subprocess status code, because\u001b[39;00m\n\u001b[1;32m   2651\u001b[0m \u001b[38;5;66;03m# a non-None value would trigger :func:`sys.displayhook` calls.\u001b[39;00m\n\u001b[1;32m   2652\u001b[0m \u001b[38;5;66;03m# Instead, we store the exit_code in user_ns.\u001b[39;00m\n\u001b[0;32m-> 2653\u001b[0m \u001b[38;5;28mself\u001b[39m\u001b[38;5;241m.\u001b[39muser_ns[\u001b[38;5;124m'\u001b[39m\u001b[38;5;124m_exit_code\u001b[39m\u001b[38;5;124m'\u001b[39m] \u001b[38;5;241m=\u001b[39m \u001b[43msystem\u001b[49m\u001b[43m(\u001b[49m\u001b[38;5;28;43mself\u001b[39;49m\u001b[38;5;241;43m.\u001b[39;49m\u001b[43mvar_expand\u001b[49m\u001b[43m(\u001b[49m\u001b[43mcmd\u001b[49m\u001b[43m,\u001b[49m\u001b[43m \u001b[49m\u001b[43mdepth\u001b[49m\u001b[38;5;241;43m=\u001b[39;49m\u001b[38;5;241;43m1\u001b[39;49m\u001b[43m)\u001b[49m\u001b[43m)\u001b[49m\n",
            "File \u001b[0;32m/lib/python3.12/site-packages/IPython/utils/_process_emscripten.py:11\u001b[0m, in \u001b[0;36msystem\u001b[0;34m(cmd)\u001b[0m\n\u001b[1;32m     10\u001b[0m \u001b[38;5;28;01mdef\u001b[39;00m \u001b[38;5;21msystem\u001b[39m(cmd):\n\u001b[0;32m---> 11\u001b[0m     \u001b[38;5;28;01mraise\u001b[39;00m \u001b[38;5;167;01mOSError\u001b[39;00m(\u001b[38;5;124m\"\u001b[39m\u001b[38;5;124mNot available\u001b[39m\u001b[38;5;124m\"\u001b[39m)\n",
            "\u001b[0;31mOSError\u001b[0m: Not available"
          ],
          "output_type": "error"
        }
      ],
      "execution_count": 1
    },
    {
      "cell_type": "code",
      "source": "!pip install --upgrade scikit-learn -q\nimport sklearn\n!pip install phik -q\nimport phik\n!pip install shap -q\nimport shap",
      "metadata": {
        "trusted": true
      },
      "outputs": [
        {
          "ename": "<class 'OSError'>",
          "evalue": "Not available",
          "traceback": [
            "\u001b[0;31m---------------------------------------------------------------------------\u001b[0m",
            "\u001b[0;31mOSError\u001b[0m                                   Traceback (most recent call last)",
            "Cell \u001b[0;32mIn[2], line 1\u001b[0m\n\u001b[0;32m----> 1\u001b[0m \u001b[43mget_ipython\u001b[49m\u001b[43m(\u001b[49m\u001b[43m)\u001b[49m\u001b[38;5;241;43m.\u001b[39;49m\u001b[43msystem\u001b[49m\u001b[43m(\u001b[49m\u001b[38;5;124;43m'\u001b[39;49m\u001b[38;5;124;43mpip install --upgrade scikit-learn -q\u001b[39;49m\u001b[38;5;124;43m'\u001b[39;49m\u001b[43m)\u001b[49m\n\u001b[1;32m      2\u001b[0m \u001b[38;5;28;01mimport\u001b[39;00m \u001b[38;5;21;01msklearn\u001b[39;00m\n\u001b[1;32m      3\u001b[0m get_ipython()\u001b[38;5;241m.\u001b[39msystem(\u001b[38;5;124m'\u001b[39m\u001b[38;5;124mpip install phik -q\u001b[39m\u001b[38;5;124m'\u001b[39m)\n",
            "File \u001b[0;32m/lib/python3.12/site-packages/IPython/core/interactiveshell.py:2653\u001b[0m, in \u001b[0;36mInteractiveShell.system_piped\u001b[0;34m(self, cmd)\u001b[0m\n\u001b[1;32m   2648\u001b[0m     \u001b[38;5;28;01mraise\u001b[39;00m \u001b[38;5;167;01mOSError\u001b[39;00m(\u001b[38;5;124m\"\u001b[39m\u001b[38;5;124mBackground processes not supported.\u001b[39m\u001b[38;5;124m\"\u001b[39m)\n\u001b[1;32m   2650\u001b[0m \u001b[38;5;66;03m# we explicitly do NOT return the subprocess status code, because\u001b[39;00m\n\u001b[1;32m   2651\u001b[0m \u001b[38;5;66;03m# a non-None value would trigger :func:`sys.displayhook` calls.\u001b[39;00m\n\u001b[1;32m   2652\u001b[0m \u001b[38;5;66;03m# Instead, we store the exit_code in user_ns.\u001b[39;00m\n\u001b[0;32m-> 2653\u001b[0m \u001b[38;5;28mself\u001b[39m\u001b[38;5;241m.\u001b[39muser_ns[\u001b[38;5;124m'\u001b[39m\u001b[38;5;124m_exit_code\u001b[39m\u001b[38;5;124m'\u001b[39m] \u001b[38;5;241m=\u001b[39m \u001b[43msystem\u001b[49m\u001b[43m(\u001b[49m\u001b[38;5;28;43mself\u001b[39;49m\u001b[38;5;241;43m.\u001b[39;49m\u001b[43mvar_expand\u001b[49m\u001b[43m(\u001b[49m\u001b[43mcmd\u001b[49m\u001b[43m,\u001b[49m\u001b[43m \u001b[49m\u001b[43mdepth\u001b[49m\u001b[38;5;241;43m=\u001b[39;49m\u001b[38;5;241;43m1\u001b[39;49m\u001b[43m)\u001b[49m\u001b[43m)\u001b[49m\n",
            "File \u001b[0;32m/lib/python3.12/site-packages/IPython/utils/_process_emscripten.py:11\u001b[0m, in \u001b[0;36msystem\u001b[0;34m(cmd)\u001b[0m\n\u001b[1;32m     10\u001b[0m \u001b[38;5;28;01mdef\u001b[39;00m \u001b[38;5;21msystem\u001b[39m(cmd):\n\u001b[0;32m---> 11\u001b[0m     \u001b[38;5;28;01mraise\u001b[39;00m \u001b[38;5;167;01mOSError\u001b[39;00m(\u001b[38;5;124m\"\u001b[39m\u001b[38;5;124mNot available\u001b[39m\u001b[38;5;124m\"\u001b[39m)\n",
            "\u001b[0;31mOSError\u001b[0m: Not available"
          ],
          "output_type": "error"
        }
      ],
      "execution_count": 2
    },
    {
      "cell_type": "code",
      "source": "from sklearn.model_selection import train_test_split, RandomizedSearchCV, GridSearchCV, cross_val_score\nfrom sklearn.linear_model import LogisticRegression, LinearRegression\nfrom sklearn.preprocessing import OneHotEncoder, OrdinalEncoder, StandardScaler, MinMaxScaler\nfrom sklearn.tree import DecisionTreeClassifier\nfrom sklearn.neighbors import KNeighborsClassifier\nfrom sklearn.svm import SVC\nfrom sklearn.metrics import roc_auc_score, accuracy_score, confusion_matrix\nfrom sklearn.pipeline import Pipeline\nfrom sklearn.compose import ColumnTransformer\nfrom sklearn.impute import SimpleImputer",
      "metadata": {
        "trusted": true
      },
      "outputs": [],
      "execution_count": 3
    },
    {
      "cell_type": "markdown",
      "source": "## Загрузим данные",
      "metadata": {}
    },
    {
      "cell_type": "code",
      "source": "df_market_file = pd.read_csv('/datasets/market_file.csv', sep=',')\ndf_market_money = pd.read_csv('/datasets/market_money.csv', sep=',')\ndf_market_time = pd.read_csv('/datasets/market_time.csv', sep=',')\ndf_money = pd.read_csv('/datasets/money.csv', sep=';')",
      "metadata": {
        "trusted": true
      },
      "outputs": [
        {
          "ename": "<class 'FileNotFoundError'>",
          "evalue": "[Errno 44] No such file or directory: '/datasets/market_file.csv'",
          "traceback": [
            "\u001b[0;31m---------------------------------------------------------------------------\u001b[0m",
            "\u001b[0;31mFileNotFoundError\u001b[0m                         Traceback (most recent call last)",
            "Cell \u001b[0;32mIn[4], line 1\u001b[0m\n\u001b[0;32m----> 1\u001b[0m df_market_file \u001b[38;5;241m=\u001b[39m \u001b[43mpd\u001b[49m\u001b[38;5;241;43m.\u001b[39;49m\u001b[43mread_csv\u001b[49m\u001b[43m(\u001b[49m\u001b[38;5;124;43m'\u001b[39;49m\u001b[38;5;124;43m/datasets/market_file.csv\u001b[39;49m\u001b[38;5;124;43m'\u001b[39;49m\u001b[43m,\u001b[49m\u001b[43m \u001b[49m\u001b[43msep\u001b[49m\u001b[38;5;241;43m=\u001b[39;49m\u001b[38;5;124;43m'\u001b[39;49m\u001b[38;5;124;43m,\u001b[39;49m\u001b[38;5;124;43m'\u001b[39;49m\u001b[43m)\u001b[49m\n\u001b[1;32m      2\u001b[0m df_market_money \u001b[38;5;241m=\u001b[39m pd\u001b[38;5;241m.\u001b[39mread_csv(\u001b[38;5;124m'\u001b[39m\u001b[38;5;124m/datasets/market_money.csv\u001b[39m\u001b[38;5;124m'\u001b[39m, sep\u001b[38;5;241m=\u001b[39m\u001b[38;5;124m'\u001b[39m\u001b[38;5;124m,\u001b[39m\u001b[38;5;124m'\u001b[39m)\n\u001b[1;32m      3\u001b[0m df_market_time \u001b[38;5;241m=\u001b[39m pd\u001b[38;5;241m.\u001b[39mread_csv(\u001b[38;5;124m'\u001b[39m\u001b[38;5;124m/datasets/market_time.csv\u001b[39m\u001b[38;5;124m'\u001b[39m, sep\u001b[38;5;241m=\u001b[39m\u001b[38;5;124m'\u001b[39m\u001b[38;5;124m,\u001b[39m\u001b[38;5;124m'\u001b[39m)\n",
            "File \u001b[0;32m/lib/python3.12/site-packages/pandas/io/parsers/readers.py:1026\u001b[0m, in \u001b[0;36mread_csv\u001b[0;34m(filepath_or_buffer, sep, delimiter, header, names, index_col, usecols, dtype, engine, converters, true_values, false_values, skipinitialspace, skiprows, skipfooter, nrows, na_values, keep_default_na, na_filter, verbose, skip_blank_lines, parse_dates, infer_datetime_format, keep_date_col, date_parser, date_format, dayfirst, cache_dates, iterator, chunksize, compression, thousands, decimal, lineterminator, quotechar, quoting, doublequote, escapechar, comment, encoding, encoding_errors, dialect, on_bad_lines, delim_whitespace, low_memory, memory_map, float_precision, storage_options, dtype_backend)\u001b[0m\n\u001b[1;32m   1013\u001b[0m kwds_defaults \u001b[38;5;241m=\u001b[39m _refine_defaults_read(\n\u001b[1;32m   1014\u001b[0m     dialect,\n\u001b[1;32m   1015\u001b[0m     delimiter,\n\u001b[0;32m   (...)\u001b[0m\n\u001b[1;32m   1022\u001b[0m     dtype_backend\u001b[38;5;241m=\u001b[39mdtype_backend,\n\u001b[1;32m   1023\u001b[0m )\n\u001b[1;32m   1024\u001b[0m kwds\u001b[38;5;241m.\u001b[39mupdate(kwds_defaults)\n\u001b[0;32m-> 1026\u001b[0m \u001b[38;5;28;01mreturn\u001b[39;00m \u001b[43m_read\u001b[49m\u001b[43m(\u001b[49m\u001b[43mfilepath_or_buffer\u001b[49m\u001b[43m,\u001b[49m\u001b[43m \u001b[49m\u001b[43mkwds\u001b[49m\u001b[43m)\u001b[49m\n",
            "File \u001b[0;32m/lib/python3.12/site-packages/pandas/io/parsers/readers.py:620\u001b[0m, in \u001b[0;36m_read\u001b[0;34m(filepath_or_buffer, kwds)\u001b[0m\n\u001b[1;32m    617\u001b[0m _validate_names(kwds\u001b[38;5;241m.\u001b[39mget(\u001b[38;5;124m\"\u001b[39m\u001b[38;5;124mnames\u001b[39m\u001b[38;5;124m\"\u001b[39m, \u001b[38;5;28;01mNone\u001b[39;00m))\n\u001b[1;32m    619\u001b[0m \u001b[38;5;66;03m# Create the parser.\u001b[39;00m\n\u001b[0;32m--> 620\u001b[0m parser \u001b[38;5;241m=\u001b[39m \u001b[43mTextFileReader\u001b[49m\u001b[43m(\u001b[49m\u001b[43mfilepath_or_buffer\u001b[49m\u001b[43m,\u001b[49m\u001b[43m \u001b[49m\u001b[38;5;241;43m*\u001b[39;49m\u001b[38;5;241;43m*\u001b[39;49m\u001b[43mkwds\u001b[49m\u001b[43m)\u001b[49m\n\u001b[1;32m    622\u001b[0m \u001b[38;5;28;01mif\u001b[39;00m chunksize \u001b[38;5;129;01mor\u001b[39;00m iterator:\n\u001b[1;32m    623\u001b[0m     \u001b[38;5;28;01mreturn\u001b[39;00m parser\n",
            "File \u001b[0;32m/lib/python3.12/site-packages/pandas/io/parsers/readers.py:1620\u001b[0m, in \u001b[0;36mTextFileReader.__init__\u001b[0;34m(self, f, engine, **kwds)\u001b[0m\n\u001b[1;32m   1617\u001b[0m     \u001b[38;5;28mself\u001b[39m\u001b[38;5;241m.\u001b[39moptions[\u001b[38;5;124m\"\u001b[39m\u001b[38;5;124mhas_index_names\u001b[39m\u001b[38;5;124m\"\u001b[39m] \u001b[38;5;241m=\u001b[39m kwds[\u001b[38;5;124m\"\u001b[39m\u001b[38;5;124mhas_index_names\u001b[39m\u001b[38;5;124m\"\u001b[39m]\n\u001b[1;32m   1619\u001b[0m \u001b[38;5;28mself\u001b[39m\u001b[38;5;241m.\u001b[39mhandles: IOHandles \u001b[38;5;241m|\u001b[39m \u001b[38;5;28;01mNone\u001b[39;00m \u001b[38;5;241m=\u001b[39m \u001b[38;5;28;01mNone\u001b[39;00m\n\u001b[0;32m-> 1620\u001b[0m \u001b[38;5;28mself\u001b[39m\u001b[38;5;241m.\u001b[39m_engine \u001b[38;5;241m=\u001b[39m \u001b[38;5;28;43mself\u001b[39;49m\u001b[38;5;241;43m.\u001b[39;49m\u001b[43m_make_engine\u001b[49m\u001b[43m(\u001b[49m\u001b[43mf\u001b[49m\u001b[43m,\u001b[49m\u001b[43m \u001b[49m\u001b[38;5;28;43mself\u001b[39;49m\u001b[38;5;241;43m.\u001b[39;49m\u001b[43mengine\u001b[49m\u001b[43m)\u001b[49m\n",
            "File \u001b[0;32m/lib/python3.12/site-packages/pandas/io/parsers/readers.py:1880\u001b[0m, in \u001b[0;36mTextFileReader._make_engine\u001b[0;34m(self, f, engine)\u001b[0m\n\u001b[1;32m   1878\u001b[0m     \u001b[38;5;28;01mif\u001b[39;00m \u001b[38;5;124m\"\u001b[39m\u001b[38;5;124mb\u001b[39m\u001b[38;5;124m\"\u001b[39m \u001b[38;5;129;01mnot\u001b[39;00m \u001b[38;5;129;01min\u001b[39;00m mode:\n\u001b[1;32m   1879\u001b[0m         mode \u001b[38;5;241m+\u001b[39m\u001b[38;5;241m=\u001b[39m \u001b[38;5;124m\"\u001b[39m\u001b[38;5;124mb\u001b[39m\u001b[38;5;124m\"\u001b[39m\n\u001b[0;32m-> 1880\u001b[0m \u001b[38;5;28mself\u001b[39m\u001b[38;5;241m.\u001b[39mhandles \u001b[38;5;241m=\u001b[39m \u001b[43mget_handle\u001b[49m\u001b[43m(\u001b[49m\n\u001b[1;32m   1881\u001b[0m \u001b[43m    \u001b[49m\u001b[43mf\u001b[49m\u001b[43m,\u001b[49m\n\u001b[1;32m   1882\u001b[0m \u001b[43m    \u001b[49m\u001b[43mmode\u001b[49m\u001b[43m,\u001b[49m\n\u001b[1;32m   1883\u001b[0m \u001b[43m    \u001b[49m\u001b[43mencoding\u001b[49m\u001b[38;5;241;43m=\u001b[39;49m\u001b[38;5;28;43mself\u001b[39;49m\u001b[38;5;241;43m.\u001b[39;49m\u001b[43moptions\u001b[49m\u001b[38;5;241;43m.\u001b[39;49m\u001b[43mget\u001b[49m\u001b[43m(\u001b[49m\u001b[38;5;124;43m\"\u001b[39;49m\u001b[38;5;124;43mencoding\u001b[39;49m\u001b[38;5;124;43m\"\u001b[39;49m\u001b[43m,\u001b[49m\u001b[43m \u001b[49m\u001b[38;5;28;43;01mNone\u001b[39;49;00m\u001b[43m)\u001b[49m\u001b[43m,\u001b[49m\n\u001b[1;32m   1884\u001b[0m \u001b[43m    \u001b[49m\u001b[43mcompression\u001b[49m\u001b[38;5;241;43m=\u001b[39;49m\u001b[38;5;28;43mself\u001b[39;49m\u001b[38;5;241;43m.\u001b[39;49m\u001b[43moptions\u001b[49m\u001b[38;5;241;43m.\u001b[39;49m\u001b[43mget\u001b[49m\u001b[43m(\u001b[49m\u001b[38;5;124;43m\"\u001b[39;49m\u001b[38;5;124;43mcompression\u001b[39;49m\u001b[38;5;124;43m\"\u001b[39;49m\u001b[43m,\u001b[49m\u001b[43m \u001b[49m\u001b[38;5;28;43;01mNone\u001b[39;49;00m\u001b[43m)\u001b[49m\u001b[43m,\u001b[49m\n\u001b[1;32m   1885\u001b[0m \u001b[43m    \u001b[49m\u001b[43mmemory_map\u001b[49m\u001b[38;5;241;43m=\u001b[39;49m\u001b[38;5;28;43mself\u001b[39;49m\u001b[38;5;241;43m.\u001b[39;49m\u001b[43moptions\u001b[49m\u001b[38;5;241;43m.\u001b[39;49m\u001b[43mget\u001b[49m\u001b[43m(\u001b[49m\u001b[38;5;124;43m\"\u001b[39;49m\u001b[38;5;124;43mmemory_map\u001b[39;49m\u001b[38;5;124;43m\"\u001b[39;49m\u001b[43m,\u001b[49m\u001b[43m \u001b[49m\u001b[38;5;28;43;01mFalse\u001b[39;49;00m\u001b[43m)\u001b[49m\u001b[43m,\u001b[49m\n\u001b[1;32m   1886\u001b[0m \u001b[43m    \u001b[49m\u001b[43mis_text\u001b[49m\u001b[38;5;241;43m=\u001b[39;49m\u001b[43mis_text\u001b[49m\u001b[43m,\u001b[49m\n\u001b[1;32m   1887\u001b[0m \u001b[43m    \u001b[49m\u001b[43merrors\u001b[49m\u001b[38;5;241;43m=\u001b[39;49m\u001b[38;5;28;43mself\u001b[39;49m\u001b[38;5;241;43m.\u001b[39;49m\u001b[43moptions\u001b[49m\u001b[38;5;241;43m.\u001b[39;49m\u001b[43mget\u001b[49m\u001b[43m(\u001b[49m\u001b[38;5;124;43m\"\u001b[39;49m\u001b[38;5;124;43mencoding_errors\u001b[39;49m\u001b[38;5;124;43m\"\u001b[39;49m\u001b[43m,\u001b[49m\u001b[43m \u001b[49m\u001b[38;5;124;43m\"\u001b[39;49m\u001b[38;5;124;43mstrict\u001b[39;49m\u001b[38;5;124;43m\"\u001b[39;49m\u001b[43m)\u001b[49m\u001b[43m,\u001b[49m\n\u001b[1;32m   1888\u001b[0m \u001b[43m    \u001b[49m\u001b[43mstorage_options\u001b[49m\u001b[38;5;241;43m=\u001b[39;49m\u001b[38;5;28;43mself\u001b[39;49m\u001b[38;5;241;43m.\u001b[39;49m\u001b[43moptions\u001b[49m\u001b[38;5;241;43m.\u001b[39;49m\u001b[43mget\u001b[49m\u001b[43m(\u001b[49m\u001b[38;5;124;43m\"\u001b[39;49m\u001b[38;5;124;43mstorage_options\u001b[39;49m\u001b[38;5;124;43m\"\u001b[39;49m\u001b[43m,\u001b[49m\u001b[43m \u001b[49m\u001b[38;5;28;43;01mNone\u001b[39;49;00m\u001b[43m)\u001b[49m\u001b[43m,\u001b[49m\n\u001b[1;32m   1889\u001b[0m \u001b[43m\u001b[49m\u001b[43m)\u001b[49m\n\u001b[1;32m   1890\u001b[0m \u001b[38;5;28;01massert\u001b[39;00m \u001b[38;5;28mself\u001b[39m\u001b[38;5;241m.\u001b[39mhandles \u001b[38;5;129;01mis\u001b[39;00m \u001b[38;5;129;01mnot\u001b[39;00m \u001b[38;5;28;01mNone\u001b[39;00m\n\u001b[1;32m   1891\u001b[0m f \u001b[38;5;241m=\u001b[39m \u001b[38;5;28mself\u001b[39m\u001b[38;5;241m.\u001b[39mhandles\u001b[38;5;241m.\u001b[39mhandle\n",
            "File \u001b[0;32m/lib/python3.12/site-packages/pandas/io/common.py:873\u001b[0m, in \u001b[0;36mget_handle\u001b[0;34m(path_or_buf, mode, encoding, compression, memory_map, is_text, errors, storage_options)\u001b[0m\n\u001b[1;32m    868\u001b[0m \u001b[38;5;28;01melif\u001b[39;00m \u001b[38;5;28misinstance\u001b[39m(handle, \u001b[38;5;28mstr\u001b[39m):\n\u001b[1;32m    869\u001b[0m     \u001b[38;5;66;03m# Check whether the filename is to be opened in binary mode.\u001b[39;00m\n\u001b[1;32m    870\u001b[0m     \u001b[38;5;66;03m# Binary mode does not support 'encoding' and 'newline'.\u001b[39;00m\n\u001b[1;32m    871\u001b[0m     \u001b[38;5;28;01mif\u001b[39;00m ioargs\u001b[38;5;241m.\u001b[39mencoding \u001b[38;5;129;01mand\u001b[39;00m \u001b[38;5;124m\"\u001b[39m\u001b[38;5;124mb\u001b[39m\u001b[38;5;124m\"\u001b[39m \u001b[38;5;129;01mnot\u001b[39;00m \u001b[38;5;129;01min\u001b[39;00m ioargs\u001b[38;5;241m.\u001b[39mmode:\n\u001b[1;32m    872\u001b[0m         \u001b[38;5;66;03m# Encoding\u001b[39;00m\n\u001b[0;32m--> 873\u001b[0m         handle \u001b[38;5;241m=\u001b[39m \u001b[38;5;28;43mopen\u001b[39;49m\u001b[43m(\u001b[49m\n\u001b[1;32m    874\u001b[0m \u001b[43m            \u001b[49m\u001b[43mhandle\u001b[49m\u001b[43m,\u001b[49m\n\u001b[1;32m    875\u001b[0m \u001b[43m            \u001b[49m\u001b[43mioargs\u001b[49m\u001b[38;5;241;43m.\u001b[39;49m\u001b[43mmode\u001b[49m\u001b[43m,\u001b[49m\n\u001b[1;32m    876\u001b[0m \u001b[43m            \u001b[49m\u001b[43mencoding\u001b[49m\u001b[38;5;241;43m=\u001b[39;49m\u001b[43mioargs\u001b[49m\u001b[38;5;241;43m.\u001b[39;49m\u001b[43mencoding\u001b[49m\u001b[43m,\u001b[49m\n\u001b[1;32m    877\u001b[0m \u001b[43m            \u001b[49m\u001b[43merrors\u001b[49m\u001b[38;5;241;43m=\u001b[39;49m\u001b[43merrors\u001b[49m\u001b[43m,\u001b[49m\n\u001b[1;32m    878\u001b[0m \u001b[43m            \u001b[49m\u001b[43mnewline\u001b[49m\u001b[38;5;241;43m=\u001b[39;49m\u001b[38;5;124;43m\"\u001b[39;49m\u001b[38;5;124;43m\"\u001b[39;49m\u001b[43m,\u001b[49m\n\u001b[1;32m    879\u001b[0m \u001b[43m        \u001b[49m\u001b[43m)\u001b[49m\n\u001b[1;32m    880\u001b[0m     \u001b[38;5;28;01melse\u001b[39;00m:\n\u001b[1;32m    881\u001b[0m         \u001b[38;5;66;03m# Binary mode\u001b[39;00m\n\u001b[1;32m    882\u001b[0m         handle \u001b[38;5;241m=\u001b[39m \u001b[38;5;28mopen\u001b[39m(handle, ioargs\u001b[38;5;241m.\u001b[39mmode)\n",
            "\u001b[0;31mFileNotFoundError\u001b[0m: [Errno 44] No such file or directory: '/datasets/market_file.csv'"
          ],
          "output_type": "error"
        }
      ],
      "execution_count": 4
    },
    {
      "cell_type": "code",
      "source": "display(df_market_file.head(15))\ndf_market_file.info()",
      "metadata": {
        "trusted": true
      },
      "outputs": [
        {
          "ename": "<class 'NameError'>",
          "evalue": "name 'df_market_file' is not defined",
          "traceback": [
            "\u001b[0;31m---------------------------------------------------------------------------\u001b[0m",
            "\u001b[0;31mNameError\u001b[0m                                 Traceback (most recent call last)",
            "Cell \u001b[0;32mIn[5], line 1\u001b[0m\n\u001b[0;32m----> 1\u001b[0m display(\u001b[43mdf_market_file\u001b[49m\u001b[38;5;241m.\u001b[39mhead(\u001b[38;5;241m15\u001b[39m))\n\u001b[1;32m      2\u001b[0m df_market_file\u001b[38;5;241m.\u001b[39minfo()\n",
            "\u001b[0;31mNameError\u001b[0m: name 'df_market_file' is not defined"
          ],
          "output_type": "error"
        }
      ],
      "execution_count": 5
    },
    {
      "cell_type": "code",
      "source": "display(df_market_money.head(15))\ndf_market_money.info()",
      "metadata": {
        "trusted": true
      },
      "outputs": [
        {
          "ename": "<class 'NameError'>",
          "evalue": "name 'df_market_money' is not defined",
          "traceback": [
            "\u001b[0;31m---------------------------------------------------------------------------\u001b[0m",
            "\u001b[0;31mNameError\u001b[0m                                 Traceback (most recent call last)",
            "Cell \u001b[0;32mIn[6], line 1\u001b[0m\n\u001b[0;32m----> 1\u001b[0m display(\u001b[43mdf_market_money\u001b[49m\u001b[38;5;241m.\u001b[39mhead(\u001b[38;5;241m15\u001b[39m))\n\u001b[1;32m      2\u001b[0m df_market_money\u001b[38;5;241m.\u001b[39minfo()\n",
            "\u001b[0;31mNameError\u001b[0m: name 'df_market_money' is not defined"
          ],
          "output_type": "error"
        }
      ],
      "execution_count": 6
    },
    {
      "cell_type": "code",
      "source": "display(df_market_time.head(15))\ndf_market_time.info()",
      "metadata": {
        "trusted": true
      },
      "outputs": [
        {
          "ename": "<class 'NameError'>",
          "evalue": "name 'df_market_time' is not defined",
          "traceback": [
            "\u001b[0;31m---------------------------------------------------------------------------\u001b[0m",
            "\u001b[0;31mNameError\u001b[0m                                 Traceback (most recent call last)",
            "Cell \u001b[0;32mIn[7], line 1\u001b[0m\n\u001b[0;32m----> 1\u001b[0m display(\u001b[43mdf_market_time\u001b[49m\u001b[38;5;241m.\u001b[39mhead(\u001b[38;5;241m15\u001b[39m))\n\u001b[1;32m      2\u001b[0m df_market_time\u001b[38;5;241m.\u001b[39minfo()\n",
            "\u001b[0;31mNameError\u001b[0m: name 'df_market_time' is not defined"
          ],
          "output_type": "error"
        }
      ],
      "execution_count": 7
    },
    {
      "cell_type": "code",
      "source": "display(df_money.head(15))\ndf_money.info()",
      "metadata": {
        "trusted": true
      },
      "outputs": [
        {
          "ename": "<class 'NameError'>",
          "evalue": "name 'df_money' is not defined",
          "traceback": [
            "\u001b[0;31m---------------------------------------------------------------------------\u001b[0m",
            "\u001b[0;31mNameError\u001b[0m                                 Traceback (most recent call last)",
            "Cell \u001b[0;32mIn[8], line 1\u001b[0m\n\u001b[0;32m----> 1\u001b[0m display(\u001b[43mdf_money\u001b[49m\u001b[38;5;241m.\u001b[39mhead(\u001b[38;5;241m15\u001b[39m))\n\u001b[1;32m      2\u001b[0m df_money\u001b[38;5;241m.\u001b[39minfo()\n",
            "\u001b[0;31mNameError\u001b[0m: name 'df_money' is not defined"
          ],
          "output_type": "error"
        }
      ],
      "execution_count": 8
    },
    {
      "cell_type": "markdown",
      "source": "**Вывод:**  \n  \n**Мы загрузили данные и вывели первые строки и общую информацию каждого датафрейма**  \n  \n1. **df_market_file:**  \n  - В таблице 1300 записей и 13 столбцов, пропуски в данных отсутствуют.  \n  - В данных столбца тип занятости есть опечатка. Нужно будет ее исправить.  \n  - В датафрейме присутствуют такие данные, как:  \n    - **id** - номер покупателя в корпоративной базе данных.\n    - **Покупательская активность** - рассчитанный класс покупательской активности (целевой признак): «снизилась» или «прежний уровень».\n    - **Тип сервиса** - уровень сервиса, например «премиум» и «стандарт».\n    - **Разрешить сообщать** - информация о том, можно ли присылать покупателю дополнительные предложения о товаре. Согласие на это даёт покупатель.\n    - **Маркет_актив_6_мес** - среднемесячное значение маркетинговых коммуникаций компании, которое приходилось на покупателя за последние 6 месяцев. Это значение показывает, какое число рассылок, звонков, показов рекламы и прочего приходилось на клиента.\n    - **Маркет_актив_тек_мес** - количество маркетинговых коммуникаций в текущем месяце.\n    - **Длительность** - значение, которое показывает, сколько дней прошло с момента регистрации покупателя на сайте.\n    - **Акционные_покупки** - среднемесячная доля покупок по акции от общего числа покупок за последние 6 месяцев.\n    - **Популярная_категория** - самая популярная категория товаров у покупателя за последние 6 месяцев.\n    - **Средний_просмотр_категорий_за_визит** - показывает, сколько в среднем категорий покупатель просмотрел за визит в течение последнего месяца.\n    - **Неоплаченные_продукты_штук_квартал** - общее число неоплаченных товаров в корзине за последние 3 месяца.\n    - **Ошибка_сервиса** - число сбоев, которые коснулись покупателя во время посещения сайта.\n    - **Страниц_за_визит** - среднее количество страниц, которые просмотрел покупатель за один визит на сайт за последние 3 месяца.\n  \n2. **df_market_money:**  \n  - В таблице 3900 записей и 3 столбца, пропусков так же нет.\n  - В датафрейме присутствуют такие данные, как: \n    - **id** - номер покупателя в корпоративной базе данных.\n    - **Период** - название периода, во время которого зафиксирована выручка. Например, 'текущий_месяц' или 'предыдущий_месяц'.\n    - **Выручка** - сумма выручки за период.\n  \n3. **df_market_time:**  \n  - В таблице 2600 строк и 3 столбца, пропусков в данных нет.  \n  - В столбце с периодом тоже есть опечатки в значениях.  \n  - В датафрейме присутствуют такие данные, как:  \n    - **id** - номер покупателя в корпоративной базе данных.\n    - **Период** -  название периода, во время которого зафиксировано общее время.\n    - **минут** -  значение времени, проведённого на сайте, в минутах.\n  \n4. **df_money:**  \n  - В таблице 1300 строк и 2 столбца, пропуски отсутствуют.\n  - В столбце с прибылью неверной указан тип данных, нужно будет сменить его с object на float64.\n  - В датафрейме присутствуют такие данные, как:  \n    - **id** - номер покупателя в корпоративной базе данных.\n    - **Прибыль** - значение прибыли.",
      "metadata": {}
    },
    {
      "cell_type": "markdown",
      "source": "## Предобработка данных",
      "metadata": {}
    },
    {
      "cell_type": "markdown",
      "source": "Наименования столбцов в датафреймах оставим русскими, только в таблице **df_money** поменяем разделитель значений в столбце **\"Прибыль\"** с **\",\"** на **\".\"**. Так же изменим тип данных в столбце **\"Прибыль\"** с **object** на **float64**.",
      "metadata": {}
    },
    {
      "cell_type": "code",
      "source": "df_money['Прибыль'] = df_money['Прибыль'].str.replace(',', '.').astype('float64')",
      "metadata": {
        "trusted": true
      },
      "outputs": [
        {
          "ename": "<class 'NameError'>",
          "evalue": "name 'df_money' is not defined",
          "traceback": [
            "\u001b[0;31m---------------------------------------------------------------------------\u001b[0m",
            "\u001b[0;31mNameError\u001b[0m                                 Traceback (most recent call last)",
            "Cell \u001b[0;32mIn[9], line 1\u001b[0m\n\u001b[0;32m----> 1\u001b[0m df_money[\u001b[38;5;124m'\u001b[39m\u001b[38;5;124mПрибыль\u001b[39m\u001b[38;5;124m'\u001b[39m] \u001b[38;5;241m=\u001b[39m \u001b[43mdf_money\u001b[49m[\u001b[38;5;124m'\u001b[39m\u001b[38;5;124mПрибыль\u001b[39m\u001b[38;5;124m'\u001b[39m]\u001b[38;5;241m.\u001b[39mstr\u001b[38;5;241m.\u001b[39mreplace(\u001b[38;5;124m'\u001b[39m\u001b[38;5;124m,\u001b[39m\u001b[38;5;124m'\u001b[39m, \u001b[38;5;124m'\u001b[39m\u001b[38;5;124m.\u001b[39m\u001b[38;5;124m'\u001b[39m)\u001b[38;5;241m.\u001b[39mastype(\u001b[38;5;124m'\u001b[39m\u001b[38;5;124mfloat64\u001b[39m\u001b[38;5;124m'\u001b[39m)\n",
            "\u001b[0;31mNameError\u001b[0m: name 'df_money' is not defined"
          ],
          "output_type": "error"
        }
      ],
      "execution_count": 9
    },
    {
      "cell_type": "markdown",
      "source": "### Найдем явные и неявные дубликаты",
      "metadata": {}
    },
    {
      "cell_type": "code",
      "source": "display(df_market_file.duplicated().sum())\ndisplay(df_market_money.duplicated().sum())\ndisplay(df_market_time.duplicated().sum())\ndf_money.duplicated().sum()",
      "metadata": {
        "trusted": true
      },
      "outputs": [
        {
          "ename": "<class 'NameError'>",
          "evalue": "name 'df_market_file' is not defined",
          "traceback": [
            "\u001b[0;31m---------------------------------------------------------------------------\u001b[0m",
            "\u001b[0;31mNameError\u001b[0m                                 Traceback (most recent call last)",
            "Cell \u001b[0;32mIn[10], line 1\u001b[0m\n\u001b[0;32m----> 1\u001b[0m display(\u001b[43mdf_market_file\u001b[49m\u001b[38;5;241m.\u001b[39mduplicated()\u001b[38;5;241m.\u001b[39msum())\n\u001b[1;32m      2\u001b[0m display(df_market_money\u001b[38;5;241m.\u001b[39mduplicated()\u001b[38;5;241m.\u001b[39msum())\n\u001b[1;32m      3\u001b[0m display(df_market_time\u001b[38;5;241m.\u001b[39mduplicated()\u001b[38;5;241m.\u001b[39msum())\n",
            "\u001b[0;31mNameError\u001b[0m: name 'df_market_file' is not defined"
          ],
          "output_type": "error"
        }
      ],
      "execution_count": 10
    },
    {
      "cell_type": "markdown",
      "source": "Явные дубликаты отсутствуют.",
      "metadata": {}
    },
    {
      "cell_type": "markdown",
      "source": "#### Проверим уникальные значения типа object во всех столбцах.",
      "metadata": {}
    },
    {
      "cell_type": "code",
      "source": "print('Уникальные значения в столбце \"Покупательская активность\":', df_market_file['Покупательская активность'].unique())\nprint('Уникальные значения в столбце \"Тип сервиса\":', df_market_file['Тип сервиса'].unique())\nprint('Уникальные значения в столбце \"Разрешить сообщать\":', df_market_file['Разрешить сообщать'].unique())\nprint('Уникальные значения в столбце \"Популярная_категория\":', df_market_file['Популярная_категория'].unique())",
      "metadata": {
        "trusted": true
      },
      "outputs": [
        {
          "ename": "<class 'NameError'>",
          "evalue": "name 'df_market_file' is not defined",
          "traceback": [
            "\u001b[0;31m---------------------------------------------------------------------------\u001b[0m",
            "\u001b[0;31mNameError\u001b[0m                                 Traceback (most recent call last)",
            "Cell \u001b[0;32mIn[11], line 1\u001b[0m\n\u001b[0;32m----> 1\u001b[0m \u001b[38;5;28mprint\u001b[39m(\u001b[38;5;124m'\u001b[39m\u001b[38;5;124mУникальные значения в столбце \u001b[39m\u001b[38;5;124m\"\u001b[39m\u001b[38;5;124mПокупательская активность\u001b[39m\u001b[38;5;124m\"\u001b[39m\u001b[38;5;124m:\u001b[39m\u001b[38;5;124m'\u001b[39m, \u001b[43mdf_market_file\u001b[49m[\u001b[38;5;124m'\u001b[39m\u001b[38;5;124mПокупательская активность\u001b[39m\u001b[38;5;124m'\u001b[39m]\u001b[38;5;241m.\u001b[39munique())\n\u001b[1;32m      2\u001b[0m \u001b[38;5;28mprint\u001b[39m(\u001b[38;5;124m'\u001b[39m\u001b[38;5;124mУникальные значения в столбце \u001b[39m\u001b[38;5;124m\"\u001b[39m\u001b[38;5;124mТип сервиса\u001b[39m\u001b[38;5;124m\"\u001b[39m\u001b[38;5;124m:\u001b[39m\u001b[38;5;124m'\u001b[39m, df_market_file[\u001b[38;5;124m'\u001b[39m\u001b[38;5;124mТип сервиса\u001b[39m\u001b[38;5;124m'\u001b[39m]\u001b[38;5;241m.\u001b[39munique())\n\u001b[1;32m      3\u001b[0m \u001b[38;5;28mprint\u001b[39m(\u001b[38;5;124m'\u001b[39m\u001b[38;5;124mУникальные значения в столбце \u001b[39m\u001b[38;5;124m\"\u001b[39m\u001b[38;5;124mРазрешить сообщать\u001b[39m\u001b[38;5;124m\"\u001b[39m\u001b[38;5;124m:\u001b[39m\u001b[38;5;124m'\u001b[39m, df_market_file[\u001b[38;5;124m'\u001b[39m\u001b[38;5;124mРазрешить сообщать\u001b[39m\u001b[38;5;124m'\u001b[39m]\u001b[38;5;241m.\u001b[39munique())\n",
            "\u001b[0;31mNameError\u001b[0m: name 'df_market_file' is not defined"
          ],
          "output_type": "error"
        }
      ],
      "execution_count": 11
    },
    {
      "cell_type": "markdown",
      "source": "В столбце с типом сервиса есть значение с опечаткой, исправим ее.",
      "metadata": {}
    },
    {
      "cell_type": "code",
      "source": "df_market_file['Тип сервиса'] = df_market_file['Тип сервиса'].str.replace('стандартт', 'стандарт')",
      "metadata": {
        "trusted": true
      },
      "outputs": [
        {
          "ename": "<class 'NameError'>",
          "evalue": "name 'df_market_file' is not defined",
          "traceback": [
            "\u001b[0;31m---------------------------------------------------------------------------\u001b[0m",
            "\u001b[0;31mNameError\u001b[0m                                 Traceback (most recent call last)",
            "Cell \u001b[0;32mIn[12], line 1\u001b[0m\n\u001b[0;32m----> 1\u001b[0m df_market_file[\u001b[38;5;124m'\u001b[39m\u001b[38;5;124mТип сервиса\u001b[39m\u001b[38;5;124m'\u001b[39m] \u001b[38;5;241m=\u001b[39m \u001b[43mdf_market_file\u001b[49m[\u001b[38;5;124m'\u001b[39m\u001b[38;5;124mТип сервиса\u001b[39m\u001b[38;5;124m'\u001b[39m]\u001b[38;5;241m.\u001b[39mstr\u001b[38;5;241m.\u001b[39mreplace(\u001b[38;5;124m'\u001b[39m\u001b[38;5;124mстандартт\u001b[39m\u001b[38;5;124m'\u001b[39m, \u001b[38;5;124m'\u001b[39m\u001b[38;5;124mстандарт\u001b[39m\u001b[38;5;124m'\u001b[39m)\n",
            "\u001b[0;31mNameError\u001b[0m: name 'df_market_file' is not defined"
          ],
          "output_type": "error"
        }
      ],
      "execution_count": 12
    },
    {
      "cell_type": "code",
      "source": "print('Уникальные значения в столбце \"Период\":', df_market_money['Период'].unique())",
      "metadata": {
        "trusted": true
      },
      "outputs": [
        {
          "ename": "<class 'NameError'>",
          "evalue": "name 'df_market_money' is not defined",
          "traceback": [
            "\u001b[0;31m---------------------------------------------------------------------------\u001b[0m",
            "\u001b[0;31mNameError\u001b[0m                                 Traceback (most recent call last)",
            "Cell \u001b[0;32mIn[13], line 1\u001b[0m\n\u001b[0;32m----> 1\u001b[0m \u001b[38;5;28mprint\u001b[39m(\u001b[38;5;124m'\u001b[39m\u001b[38;5;124mУникальные значения в столбце \u001b[39m\u001b[38;5;124m\"\u001b[39m\u001b[38;5;124mПериод\u001b[39m\u001b[38;5;124m\"\u001b[39m\u001b[38;5;124m:\u001b[39m\u001b[38;5;124m'\u001b[39m, \u001b[43mdf_market_money\u001b[49m[\u001b[38;5;124m'\u001b[39m\u001b[38;5;124mПериод\u001b[39m\u001b[38;5;124m'\u001b[39m]\u001b[38;5;241m.\u001b[39munique())\n",
            "\u001b[0;31mNameError\u001b[0m: name 'df_market_money' is not defined"
          ],
          "output_type": "error"
        }
      ],
      "execution_count": 13
    },
    {
      "cell_type": "markdown",
      "source": "В данном столбце нет опечаток и дубликатов.",
      "metadata": {}
    },
    {
      "cell_type": "code",
      "source": "print('Уникальные значения в столбце \"Период\":', df_market_time['Период'].unique())",
      "metadata": {
        "trusted": true
      },
      "outputs": [
        {
          "ename": "<class 'NameError'>",
          "evalue": "name 'df_market_time' is not defined",
          "traceback": [
            "\u001b[0;31m---------------------------------------------------------------------------\u001b[0m",
            "\u001b[0;31mNameError\u001b[0m                                 Traceback (most recent call last)",
            "Cell \u001b[0;32mIn[14], line 1\u001b[0m\n\u001b[0;32m----> 1\u001b[0m \u001b[38;5;28mprint\u001b[39m(\u001b[38;5;124m'\u001b[39m\u001b[38;5;124mУникальные значения в столбце \u001b[39m\u001b[38;5;124m\"\u001b[39m\u001b[38;5;124mПериод\u001b[39m\u001b[38;5;124m\"\u001b[39m\u001b[38;5;124m:\u001b[39m\u001b[38;5;124m'\u001b[39m, \u001b[43mdf_market_time\u001b[49m[\u001b[38;5;124m'\u001b[39m\u001b[38;5;124mПериод\u001b[39m\u001b[38;5;124m'\u001b[39m]\u001b[38;5;241m.\u001b[39munique())\n",
            "\u001b[0;31mNameError\u001b[0m: name 'df_market_time' is not defined"
          ],
          "output_type": "error"
        }
      ],
      "execution_count": 14
    },
    {
      "cell_type": "markdown",
      "source": "Здесь присутствует опечатка в значении 'предыдущий месяц'",
      "metadata": {}
    },
    {
      "cell_type": "code",
      "source": "df_market_time['Период'] = df_market_time['Период'].str.replace('предыдцщий_месяц', 'предыдущий_месяц')",
      "metadata": {
        "trusted": true
      },
      "outputs": [
        {
          "ename": "<class 'NameError'>",
          "evalue": "name 'df_market_time' is not defined",
          "traceback": [
            "\u001b[0;31m---------------------------------------------------------------------------\u001b[0m",
            "\u001b[0;31mNameError\u001b[0m                                 Traceback (most recent call last)",
            "Cell \u001b[0;32mIn[15], line 1\u001b[0m\n\u001b[0;32m----> 1\u001b[0m df_market_time[\u001b[38;5;124m'\u001b[39m\u001b[38;5;124mПериод\u001b[39m\u001b[38;5;124m'\u001b[39m] \u001b[38;5;241m=\u001b[39m \u001b[43mdf_market_time\u001b[49m[\u001b[38;5;124m'\u001b[39m\u001b[38;5;124mПериод\u001b[39m\u001b[38;5;124m'\u001b[39m]\u001b[38;5;241m.\u001b[39mstr\u001b[38;5;241m.\u001b[39mreplace(\u001b[38;5;124m'\u001b[39m\u001b[38;5;124mпредыдцщий_месяц\u001b[39m\u001b[38;5;124m'\u001b[39m, \u001b[38;5;124m'\u001b[39m\u001b[38;5;124mпредыдущий_месяц\u001b[39m\u001b[38;5;124m'\u001b[39m)\n",
            "\u001b[0;31mNameError\u001b[0m: name 'df_market_time' is not defined"
          ],
          "output_type": "error"
        }
      ],
      "execution_count": 15
    },
    {
      "cell_type": "markdown",
      "source": "**Проверим, не появились ли явные дубликаты в ходе исправлений и все ли теперь правильно указано.**",
      "metadata": {}
    },
    {
      "cell_type": "code",
      "source": "display(df_market_file.duplicated().sum())\ndisplay(df_market_money.duplicated().sum())\ndisplay(df_market_time.duplicated().sum())\ndf_money.duplicated().sum()",
      "metadata": {
        "trusted": true
      },
      "outputs": [
        {
          "ename": "<class 'NameError'>",
          "evalue": "name 'df_market_file' is not defined",
          "traceback": [
            "\u001b[0;31m---------------------------------------------------------------------------\u001b[0m",
            "\u001b[0;31mNameError\u001b[0m                                 Traceback (most recent call last)",
            "Cell \u001b[0;32mIn[16], line 1\u001b[0m\n\u001b[0;32m----> 1\u001b[0m display(\u001b[43mdf_market_file\u001b[49m\u001b[38;5;241m.\u001b[39mduplicated()\u001b[38;5;241m.\u001b[39msum())\n\u001b[1;32m      2\u001b[0m display(df_market_money\u001b[38;5;241m.\u001b[39mduplicated()\u001b[38;5;241m.\u001b[39msum())\n\u001b[1;32m      3\u001b[0m display(df_market_time\u001b[38;5;241m.\u001b[39mduplicated()\u001b[38;5;241m.\u001b[39msum())\n",
            "\u001b[0;31mNameError\u001b[0m: name 'df_market_file' is not defined"
          ],
          "output_type": "error"
        }
      ],
      "execution_count": 16
    },
    {
      "cell_type": "code",
      "source": "display(df_market_file.info())\ndisplay(df_market_money.info())\ndisplay(df_market_time.info())\ndf_money.info()",
      "metadata": {
        "trusted": true
      },
      "outputs": [
        {
          "ename": "<class 'NameError'>",
          "evalue": "name 'df_market_file' is not defined",
          "traceback": [
            "\u001b[0;31m---------------------------------------------------------------------------\u001b[0m",
            "\u001b[0;31mNameError\u001b[0m                                 Traceback (most recent call last)",
            "Cell \u001b[0;32mIn[17], line 1\u001b[0m\n\u001b[0;32m----> 1\u001b[0m display(\u001b[43mdf_market_file\u001b[49m\u001b[38;5;241m.\u001b[39minfo())\n\u001b[1;32m      2\u001b[0m display(df_market_money\u001b[38;5;241m.\u001b[39minfo())\n\u001b[1;32m      3\u001b[0m display(df_market_time\u001b[38;5;241m.\u001b[39minfo())\n",
            "\u001b[0;31mNameError\u001b[0m: name 'df_market_file' is not defined"
          ],
          "output_type": "error"
        }
      ],
      "execution_count": 17
    },
    {
      "cell_type": "markdown",
      "source": "**Вывод:**  \n  \nМы устранили все опечатки и ошибки в данных. Явных дубликатов нет, пропуски тоже отсутствуют. Судя по данным везде количество клиентов одинаковое, просто где-то записей больше в 2-3 раза, поскольку по каждому клиенту информация указана например за 3 периода. Для объединения данных будем за основу брать столбец с id клиентов.",
      "metadata": {}
    },
    {
      "cell_type": "markdown",
      "source": "**Так же приведем названия столбцов к нижнему регистру.**",
      "metadata": {}
    },
    {
      "cell_type": "code",
      "source": "df_market_file.columns = [re.sub(r'(?<!^)(?=[A-Z])', '_', i).lower() for i in df_market_file.columns]\ndf_market_time.columns = [re.sub(r'(?<!^)(?=[A-Z])', '_', i).lower() for i in df_market_time.columns]\ndf_market_money.columns = [re.sub(r'(?<!^)(?=[A-Z])', '_', i).lower() for i in df_market_money.columns]\ndf_money.columns = [re.sub(r'(?<!^)(?=[A-Z])', '_', i).lower() for i in df_money.columns]\ndisplay(df_market_file.info())\ndisplay(df_market_time.info())\ndisplay(df_market_money.info())\ndf_money.info()",
      "metadata": {
        "trusted": true
      },
      "outputs": [
        {
          "ename": "<class 'NameError'>",
          "evalue": "name 'df_market_file' is not defined",
          "traceback": [
            "\u001b[0;31m---------------------------------------------------------------------------\u001b[0m",
            "\u001b[0;31mNameError\u001b[0m                                 Traceback (most recent call last)",
            "Cell \u001b[0;32mIn[18], line 1\u001b[0m\n\u001b[0;32m----> 1\u001b[0m df_market_file\u001b[38;5;241m.\u001b[39mcolumns \u001b[38;5;241m=\u001b[39m [re\u001b[38;5;241m.\u001b[39msub(\u001b[38;5;124mr\u001b[39m\u001b[38;5;124m'\u001b[39m\u001b[38;5;124m(?<!^)(?=[A-Z])\u001b[39m\u001b[38;5;124m'\u001b[39m, \u001b[38;5;124m'\u001b[39m\u001b[38;5;124m_\u001b[39m\u001b[38;5;124m'\u001b[39m, i)\u001b[38;5;241m.\u001b[39mlower() \u001b[38;5;28;01mfor\u001b[39;00m i \u001b[38;5;129;01min\u001b[39;00m \u001b[43mdf_market_file\u001b[49m\u001b[38;5;241m.\u001b[39mcolumns]\n\u001b[1;32m      2\u001b[0m df_market_time\u001b[38;5;241m.\u001b[39mcolumns \u001b[38;5;241m=\u001b[39m [re\u001b[38;5;241m.\u001b[39msub(\u001b[38;5;124mr\u001b[39m\u001b[38;5;124m'\u001b[39m\u001b[38;5;124m(?<!^)(?=[A-Z])\u001b[39m\u001b[38;5;124m'\u001b[39m, \u001b[38;5;124m'\u001b[39m\u001b[38;5;124m_\u001b[39m\u001b[38;5;124m'\u001b[39m, i)\u001b[38;5;241m.\u001b[39mlower() \u001b[38;5;28;01mfor\u001b[39;00m i \u001b[38;5;129;01min\u001b[39;00m df_market_time\u001b[38;5;241m.\u001b[39mcolumns]\n\u001b[1;32m      3\u001b[0m df_market_money\u001b[38;5;241m.\u001b[39mcolumns \u001b[38;5;241m=\u001b[39m [re\u001b[38;5;241m.\u001b[39msub(\u001b[38;5;124mr\u001b[39m\u001b[38;5;124m'\u001b[39m\u001b[38;5;124m(?<!^)(?=[A-Z])\u001b[39m\u001b[38;5;124m'\u001b[39m, \u001b[38;5;124m'\u001b[39m\u001b[38;5;124m_\u001b[39m\u001b[38;5;124m'\u001b[39m, i)\u001b[38;5;241m.\u001b[39mlower() \u001b[38;5;28;01mfor\u001b[39;00m i \u001b[38;5;129;01min\u001b[39;00m df_market_money\u001b[38;5;241m.\u001b[39mcolumns]\n",
            "\u001b[0;31mNameError\u001b[0m: name 'df_market_file' is not defined"
          ],
          "output_type": "error"
        }
      ],
      "execution_count": 18
    },
    {
      "cell_type": "markdown",
      "source": "## Исследовательский анализ данных",
      "metadata": {}
    },
    {
      "cell_type": "markdown",
      "source": "### Выведем статистические данные по всем численным признакам, после построим гистограмы и \"ящики с усами\" и круговые диаграммы.",
      "metadata": {}
    },
    {
      "cell_type": "code",
      "source": "display(df_market_file[['маркет_актив_6_мес', 'маркет_актив_тек_мес', 'длительность', 'акционные_покупки', \n   'средний_просмотр_категорий_за_визит', 'неоплаченные_продукты_штук_квартал', \n   'ошибка_сервиса', 'страниц_за_визит']].describe())",
      "metadata": {
        "trusted": true
      },
      "outputs": [
        {
          "ename": "<class 'NameError'>",
          "evalue": "name 'df_market_file' is not defined",
          "traceback": [
            "\u001b[0;31m---------------------------------------------------------------------------\u001b[0m",
            "\u001b[0;31mNameError\u001b[0m                                 Traceback (most recent call last)",
            "Cell \u001b[0;32mIn[19], line 1\u001b[0m\n\u001b[0;32m----> 1\u001b[0m display(\u001b[43mdf_market_file\u001b[49m[[\u001b[38;5;124m'\u001b[39m\u001b[38;5;124mмаркет_актив_6_мес\u001b[39m\u001b[38;5;124m'\u001b[39m, \u001b[38;5;124m'\u001b[39m\u001b[38;5;124mмаркет_актив_тек_мес\u001b[39m\u001b[38;5;124m'\u001b[39m, \u001b[38;5;124m'\u001b[39m\u001b[38;5;124mдлительность\u001b[39m\u001b[38;5;124m'\u001b[39m, \u001b[38;5;124m'\u001b[39m\u001b[38;5;124mакционные_покупки\u001b[39m\u001b[38;5;124m'\u001b[39m, \n\u001b[1;32m      2\u001b[0m    \u001b[38;5;124m'\u001b[39m\u001b[38;5;124mсредний_просмотр_категорий_за_визит\u001b[39m\u001b[38;5;124m'\u001b[39m, \u001b[38;5;124m'\u001b[39m\u001b[38;5;124mнеоплаченные_продукты_штук_квартал\u001b[39m\u001b[38;5;124m'\u001b[39m, \n\u001b[1;32m      3\u001b[0m    \u001b[38;5;124m'\u001b[39m\u001b[38;5;124mошибка_сервиса\u001b[39m\u001b[38;5;124m'\u001b[39m, \u001b[38;5;124m'\u001b[39m\u001b[38;5;124mстраниц_за_визит\u001b[39m\u001b[38;5;124m'\u001b[39m]]\u001b[38;5;241m.\u001b[39mdescribe())\n",
            "\u001b[0;31mNameError\u001b[0m: name 'df_market_file' is not defined"
          ],
          "output_type": "error"
        }
      ],
      "execution_count": 19
    },
    {
      "cell_type": "code",
      "source": "display(df_market_money['выручка'].describe())",
      "metadata": {
        "scrolled": true,
        "trusted": true
      },
      "outputs": [
        {
          "ename": "<class 'NameError'>",
          "evalue": "name 'df_market_money' is not defined",
          "traceback": [
            "\u001b[0;31m---------------------------------------------------------------------------\u001b[0m",
            "\u001b[0;31mNameError\u001b[0m                                 Traceback (most recent call last)",
            "Cell \u001b[0;32mIn[20], line 1\u001b[0m\n\u001b[0;32m----> 1\u001b[0m display(\u001b[43mdf_market_money\u001b[49m[\u001b[38;5;124m'\u001b[39m\u001b[38;5;124mвыручка\u001b[39m\u001b[38;5;124m'\u001b[39m]\u001b[38;5;241m.\u001b[39mdescribe())\n",
            "\u001b[0;31mNameError\u001b[0m: name 'df_market_money' is not defined"
          ],
          "output_type": "error"
        }
      ],
      "execution_count": 20
    },
    {
      "cell_type": "code",
      "source": "display(df_market_time['минут'].describe())",
      "metadata": {
        "trusted": true
      },
      "outputs": [
        {
          "ename": "<class 'NameError'>",
          "evalue": "name 'df_market_time' is not defined",
          "traceback": [
            "\u001b[0;31m---------------------------------------------------------------------------\u001b[0m",
            "\u001b[0;31mNameError\u001b[0m                                 Traceback (most recent call last)",
            "Cell \u001b[0;32mIn[21], line 1\u001b[0m\n\u001b[0;32m----> 1\u001b[0m display(\u001b[43mdf_market_time\u001b[49m[\u001b[38;5;124m'\u001b[39m\u001b[38;5;124mминут\u001b[39m\u001b[38;5;124m'\u001b[39m]\u001b[38;5;241m.\u001b[39mdescribe())\n",
            "\u001b[0;31mNameError\u001b[0m: name 'df_market_time' is not defined"
          ],
          "output_type": "error"
        }
      ],
      "execution_count": 21
    },
    {
      "cell_type": "code",
      "source": "display(df_money['прибыль'].describe())",
      "metadata": {
        "trusted": true
      },
      "outputs": [
        {
          "ename": "<class 'NameError'>",
          "evalue": "name 'df_money' is not defined",
          "traceback": [
            "\u001b[0;31m---------------------------------------------------------------------------\u001b[0m",
            "\u001b[0;31mNameError\u001b[0m                                 Traceback (most recent call last)",
            "Cell \u001b[0;32mIn[22], line 1\u001b[0m\n\u001b[0;32m----> 1\u001b[0m display(\u001b[43mdf_money\u001b[49m[\u001b[38;5;124m'\u001b[39m\u001b[38;5;124mприбыль\u001b[39m\u001b[38;5;124m'\u001b[39m]\u001b[38;5;241m.\u001b[39mdescribe())\n",
            "\u001b[0;31mNameError\u001b[0m: name 'df_money' is not defined"
          ],
          "output_type": "error"
        }
      ],
      "execution_count": 22
    },
    {
      "cell_type": "markdown",
      "source": "**Вывод:**  \n  \nСудя по показателям во всех данных датафреймов распределения довольно нормальные, везде медиана довольно близка с средним значением. Лишь в столбце с выручкой датафрейма df_market_money есть довольно высокое максимальное значение, дальше на графиках увидим подробнее, как оно влияет на качество данных.",
      "metadata": {}
    },
    {
      "cell_type": "code",
      "source": "def df_visualization(df):\n    for column in df.columns:\n        column_type = df[column].dtype\n        \n        if column_type in ['int64', 'float64'] and column !='id':\n            fig, axes = plt.subplots(nrows = 1, ncols = 2, figsize=(10, 5))\n            axes = axes.ravel()\n            sns.histplot(data = df[column], kde=True, bins = 30, ax=axes[0])\n            axes[0].set_title(column)\n            mean = df[column].mean()\n            axes[0].axvline(mean, color = 'red', linestyle = '-', label = f'Mean: {mean:.2f}' )\n            median = df[column].median()\n            axes[0].axvline(median, color = 'yellow', linestyle = '--', label = f'Median: {median:.2f}')\n            axes[0].legend()\n            axes[0].legend(loc = 'upper right')\n            \n            sns.boxplot(x=df[column], ax=axes[1])\n            axes[1].set_title(f'{column}')\n            axes[1].set_xlabel(column)\n            plt.show()",
      "metadata": {
        "trusted": true
      },
      "outputs": [],
      "execution_count": 23
    },
    {
      "cell_type": "code",
      "source": "def df_visualization2(df):\n    for column in df.columns:\n        column_type = df[column].dtypes\n        \n        if column_type == 'object':\n            value_counts = df[column].value_counts()\n            value_counts.plot.pie(autopct='%1.2f%%')\n            plt.title(f'{column}')\n            plt.show()",
      "metadata": {
        "trusted": true
      },
      "outputs": [],
      "execution_count": 24
    },
    {
      "cell_type": "code",
      "source": "df_visualization2(df_market_file)",
      "metadata": {
        "trusted": true
      },
      "outputs": [
        {
          "ename": "<class 'NameError'>",
          "evalue": "name 'df_market_file' is not defined",
          "traceback": [
            "\u001b[0;31m---------------------------------------------------------------------------\u001b[0m",
            "\u001b[0;31mNameError\u001b[0m                                 Traceback (most recent call last)",
            "Cell \u001b[0;32mIn[25], line 1\u001b[0m\n\u001b[0;32m----> 1\u001b[0m df_visualization2(\u001b[43mdf_market_file\u001b[49m)\n",
            "\u001b[0;31mNameError\u001b[0m: name 'df_market_file' is not defined"
          ],
          "output_type": "error"
        }
      ],
      "execution_count": 25
    },
    {
      "cell_type": "code",
      "source": "display(df_visualization(df_market_money))\ndf_visualization2(df_market_money)",
      "metadata": {
        "trusted": true
      },
      "outputs": [
        {
          "ename": "<class 'NameError'>",
          "evalue": "name 'df_market_money' is not defined",
          "traceback": [
            "\u001b[0;31m---------------------------------------------------------------------------\u001b[0m",
            "\u001b[0;31mNameError\u001b[0m                                 Traceback (most recent call last)",
            "Cell \u001b[0;32mIn[26], line 1\u001b[0m\n\u001b[0;32m----> 1\u001b[0m display(df_visualization(\u001b[43mdf_market_money\u001b[49m))\n\u001b[1;32m      2\u001b[0m df_visualization2(df_market_money)\n",
            "\u001b[0;31mNameError\u001b[0m: name 'df_market_money' is not defined"
          ],
          "output_type": "error"
        }
      ],
      "execution_count": 26
    },
    {
      "cell_type": "code",
      "source": "display(df_visualization(df_market_time))\ndf_visualization2(df_market_time)",
      "metadata": {
        "trusted": true
      },
      "outputs": [
        {
          "ename": "<class 'NameError'>",
          "evalue": "name 'df_market_time' is not defined",
          "traceback": [
            "\u001b[0;31m---------------------------------------------------------------------------\u001b[0m",
            "\u001b[0;31mNameError\u001b[0m                                 Traceback (most recent call last)",
            "Cell \u001b[0;32mIn[27], line 1\u001b[0m\n\u001b[0;32m----> 1\u001b[0m display(df_visualization(\u001b[43mdf_market_time\u001b[49m))\n\u001b[1;32m      2\u001b[0m df_visualization2(df_market_time)\n",
            "\u001b[0;31mNameError\u001b[0m: name 'df_market_time' is not defined"
          ],
          "output_type": "error"
        }
      ],
      "execution_count": 27
    },
    {
      "cell_type": "code",
      "source": "df_visualization(df_money)",
      "metadata": {
        "trusted": true
      },
      "outputs": [
        {
          "ename": "<class 'NameError'>",
          "evalue": "name 'df_money' is not defined",
          "traceback": [
            "\u001b[0;31m---------------------------------------------------------------------------\u001b[0m",
            "\u001b[0;31mNameError\u001b[0m                                 Traceback (most recent call last)",
            "Cell \u001b[0;32mIn[28], line 1\u001b[0m\n\u001b[0;32m----> 1\u001b[0m df_visualization(\u001b[43mdf_money\u001b[49m)\n",
            "\u001b[0;31mNameError\u001b[0m: name 'df_money' is not defined"
          ],
          "output_type": "error"
        }
      ],
      "execution_count": 28
    },
    {
      "cell_type": "markdown",
      "source": "**Вывод:**  \n  \nМы вывели гистограммы и \"ящики с усами\" по всем количественным признакам и круговые диаграммы по категориальным признакам. Во всех графиках довольно нормальное распределение, где-то присутствует распределение Пуассона. В датафрейме df_market_money в столбце \"Выручка\" присутствует явный выброс, думаю, стоит удалить во всех таблицах данного клиента, чтобы в дальнейшем эти данные не сказались плохо на результатах.",
      "metadata": {}
    },
    {
      "cell_type": "code",
      "source": "display(df_market_money['выручка'].describe())\ndf_market_money['выручка'].plot.hist(bins=30)\nplt.title('Выручка')\nplt.xlabel('Выручка')\nplt.ylabel('Количество клиентов')\nplt.show()",
      "metadata": {
        "trusted": true
      },
      "outputs": [
        {
          "ename": "<class 'NameError'>",
          "evalue": "name 'df_market_money' is not defined",
          "traceback": [
            "\u001b[0;31m---------------------------------------------------------------------------\u001b[0m",
            "\u001b[0;31mNameError\u001b[0m                                 Traceback (most recent call last)",
            "Cell \u001b[0;32mIn[29], line 1\u001b[0m\n\u001b[0;32m----> 1\u001b[0m display(\u001b[43mdf_market_money\u001b[49m[\u001b[38;5;124m'\u001b[39m\u001b[38;5;124mвыручка\u001b[39m\u001b[38;5;124m'\u001b[39m]\u001b[38;5;241m.\u001b[39mdescribe())\n\u001b[1;32m      2\u001b[0m df_market_money[\u001b[38;5;124m'\u001b[39m\u001b[38;5;124mвыручка\u001b[39m\u001b[38;5;124m'\u001b[39m]\u001b[38;5;241m.\u001b[39mplot\u001b[38;5;241m.\u001b[39mhist(bins\u001b[38;5;241m=\u001b[39m\u001b[38;5;241m30\u001b[39m)\n\u001b[1;32m      3\u001b[0m plt\u001b[38;5;241m.\u001b[39mtitle(\u001b[38;5;124m'\u001b[39m\u001b[38;5;124mВыручка\u001b[39m\u001b[38;5;124m'\u001b[39m)\n",
            "\u001b[0;31mNameError\u001b[0m: name 'df_market_money' is not defined"
          ],
          "output_type": "error"
        }
      ],
      "execution_count": 29
    },
    {
      "cell_type": "code",
      "source": "drop_id = df_market_money[df_market_money['выручка'] == 106862.2]['id']\ndf_market_file = df_market_file[~df_market_file['id'].isin(drop_id)]\ndf_market_money = df_market_money[~df_market_money['id'].isin(drop_id)]\ndf_market_time = df_market_time[~df_market_time['id'].isin(drop_id)]\ndf_money = df_money[~df_money['id'].isin(drop_id)]",
      "metadata": {
        "trusted": true
      },
      "outputs": [
        {
          "ename": "<class 'NameError'>",
          "evalue": "name 'df_market_money' is not defined",
          "traceback": [
            "\u001b[0;31m---------------------------------------------------------------------------\u001b[0m",
            "\u001b[0;31mNameError\u001b[0m                                 Traceback (most recent call last)",
            "Cell \u001b[0;32mIn[30], line 1\u001b[0m\n\u001b[0;32m----> 1\u001b[0m drop_id \u001b[38;5;241m=\u001b[39m \u001b[43mdf_market_money\u001b[49m[df_market_money[\u001b[38;5;124m'\u001b[39m\u001b[38;5;124mвыручка\u001b[39m\u001b[38;5;124m'\u001b[39m] \u001b[38;5;241m==\u001b[39m \u001b[38;5;241m106862.2\u001b[39m][\u001b[38;5;124m'\u001b[39m\u001b[38;5;124mid\u001b[39m\u001b[38;5;124m'\u001b[39m]\n\u001b[1;32m      2\u001b[0m df_market_file \u001b[38;5;241m=\u001b[39m df_market_file[\u001b[38;5;241m~\u001b[39mdf_market_file[\u001b[38;5;124m'\u001b[39m\u001b[38;5;124mid\u001b[39m\u001b[38;5;124m'\u001b[39m]\u001b[38;5;241m.\u001b[39misin(drop_id)]\n\u001b[1;32m      3\u001b[0m df_market_money \u001b[38;5;241m=\u001b[39m df_market_money[\u001b[38;5;241m~\u001b[39mdf_market_money[\u001b[38;5;124m'\u001b[39m\u001b[38;5;124mid\u001b[39m\u001b[38;5;124m'\u001b[39m]\u001b[38;5;241m.\u001b[39misin(drop_id)]\n",
            "\u001b[0;31mNameError\u001b[0m: name 'df_market_money' is not defined"
          ],
          "output_type": "error"
        }
      ],
      "execution_count": 30
    },
    {
      "cell_type": "code",
      "source": "df_market_file.info()\ndf_market_money.info()\ndf_market_time.info()\ndf_money.info()",
      "metadata": {
        "trusted": true
      },
      "outputs": [
        {
          "ename": "<class 'NameError'>",
          "evalue": "name 'df_market_file' is not defined",
          "traceback": [
            "\u001b[0;31m---------------------------------------------------------------------------\u001b[0m",
            "\u001b[0;31mNameError\u001b[0m                                 Traceback (most recent call last)",
            "Cell \u001b[0;32mIn[31], line 1\u001b[0m\n\u001b[0;32m----> 1\u001b[0m \u001b[43mdf_market_file\u001b[49m\u001b[38;5;241m.\u001b[39minfo()\n\u001b[1;32m      2\u001b[0m df_market_money\u001b[38;5;241m.\u001b[39minfo()\n\u001b[1;32m      3\u001b[0m df_market_time\u001b[38;5;241m.\u001b[39minfo()\n",
            "\u001b[0;31mNameError\u001b[0m: name 'df_market_file' is not defined"
          ],
          "output_type": "error"
        }
      ],
      "execution_count": 31
    },
    {
      "cell_type": "code",
      "source": "df_market_money['выручка'].plot.hist(bins=30)\nplt.title('Выручка')\nplt.xlabel('Выручка')\nplt.ylabel('Количество клиентов')\nplt.show()",
      "metadata": {
        "trusted": true
      },
      "outputs": [
        {
          "ename": "<class 'NameError'>",
          "evalue": "name 'df_market_money' is not defined",
          "traceback": [
            "\u001b[0;31m---------------------------------------------------------------------------\u001b[0m",
            "\u001b[0;31mNameError\u001b[0m                                 Traceback (most recent call last)",
            "Cell \u001b[0;32mIn[32], line 1\u001b[0m\n\u001b[0;32m----> 1\u001b[0m \u001b[43mdf_market_money\u001b[49m[\u001b[38;5;124m'\u001b[39m\u001b[38;5;124mвыручка\u001b[39m\u001b[38;5;124m'\u001b[39m]\u001b[38;5;241m.\u001b[39mplot\u001b[38;5;241m.\u001b[39mhist(bins\u001b[38;5;241m=\u001b[39m\u001b[38;5;241m30\u001b[39m)\n\u001b[1;32m      2\u001b[0m plt\u001b[38;5;241m.\u001b[39mtitle(\u001b[38;5;124m'\u001b[39m\u001b[38;5;124mВыручка\u001b[39m\u001b[38;5;124m'\u001b[39m)\n\u001b[1;32m      3\u001b[0m plt\u001b[38;5;241m.\u001b[39mxlabel(\u001b[38;5;124m'\u001b[39m\u001b[38;5;124mВыручка\u001b[39m\u001b[38;5;124m'\u001b[39m)\n",
            "\u001b[0;31mNameError\u001b[0m: name 'df_market_money' is not defined"
          ],
          "output_type": "error"
        }
      ],
      "execution_count": 32
    },
    {
      "cell_type": "markdown",
      "source": "Клиента с аномальным значением в показателе \"Выручка\" убрали из всех датафреймов. ",
      "metadata": {}
    },
    {
      "cell_type": "markdown",
      "source": "### Теперь отберем клиентов с покупательской активностью не менее трёх месяцев",
      "metadata": {}
    },
    {
      "cell_type": "markdown",
      "source": "Данные о клиентах с покупательской активностью указаны только в одном датафрейме, это df_market_money. В нем есть такие признаки, как \"Выручка\" и \"Период\". Проверим, присутствуют ли клиенты с недостаточной покупательской активностью.",
      "metadata": {}
    },
    {
      "cell_type": "code",
      "source": "df_market_money[df_market_money['выручка'] == 0]",
      "metadata": {
        "trusted": true
      },
      "outputs": [
        {
          "ename": "<class 'NameError'>",
          "evalue": "name 'df_market_money' is not defined",
          "traceback": [
            "\u001b[0;31m---------------------------------------------------------------------------\u001b[0m",
            "\u001b[0;31mNameError\u001b[0m                                 Traceback (most recent call last)",
            "Cell \u001b[0;32mIn[33], line 1\u001b[0m\n\u001b[0;32m----> 1\u001b[0m \u001b[43mdf_market_money\u001b[49m[df_market_money[\u001b[38;5;124m'\u001b[39m\u001b[38;5;124mвыручка\u001b[39m\u001b[38;5;124m'\u001b[39m] \u001b[38;5;241m==\u001b[39m \u001b[38;5;241m0\u001b[39m]\n",
            "\u001b[0;31mNameError\u001b[0m: name 'df_market_money' is not defined"
          ],
          "output_type": "error"
        }
      ],
      "execution_count": 33
    },
    {
      "cell_type": "markdown",
      "source": "Всего 3 клиента, которые за последние 3 месяца не принесли прибыли. Поскольку в дальнейшем исследовании эти клиенты бесполезны, то стоит исключить их из данных.",
      "metadata": {}
    },
    {
      "cell_type": "code",
      "source": "drop_id2 = [215348, 215357, 215359]\ndf_market_file = df_market_file[~df_market_file['id'].isin(drop_id2)]\ndf_market_money = df_market_money[~df_market_money['id'].isin(drop_id2)]\ndf_market_time = df_market_time[~df_market_time['id'].isin(drop_id2)]\ndf_money = df_money[~df_money['id'].isin(drop_id2)]",
      "metadata": {
        "trusted": true
      },
      "outputs": [
        {
          "ename": "<class 'NameError'>",
          "evalue": "name 'df_market_file' is not defined",
          "traceback": [
            "\u001b[0;31m---------------------------------------------------------------------------\u001b[0m",
            "\u001b[0;31mNameError\u001b[0m                                 Traceback (most recent call last)",
            "Cell \u001b[0;32mIn[34], line 2\u001b[0m\n\u001b[1;32m      1\u001b[0m drop_id2 \u001b[38;5;241m=\u001b[39m [\u001b[38;5;241m215348\u001b[39m, \u001b[38;5;241m215357\u001b[39m, \u001b[38;5;241m215359\u001b[39m]\n\u001b[0;32m----> 2\u001b[0m df_market_file \u001b[38;5;241m=\u001b[39m \u001b[43mdf_market_file\u001b[49m[\u001b[38;5;241m~\u001b[39mdf_market_file[\u001b[38;5;124m'\u001b[39m\u001b[38;5;124mid\u001b[39m\u001b[38;5;124m'\u001b[39m]\u001b[38;5;241m.\u001b[39misin(drop_id2)]\n\u001b[1;32m      3\u001b[0m df_market_money \u001b[38;5;241m=\u001b[39m df_market_money[\u001b[38;5;241m~\u001b[39mdf_market_money[\u001b[38;5;124m'\u001b[39m\u001b[38;5;124mid\u001b[39m\u001b[38;5;124m'\u001b[39m]\u001b[38;5;241m.\u001b[39misin(drop_id2)]\n\u001b[1;32m      4\u001b[0m df_market_time \u001b[38;5;241m=\u001b[39m df_market_time[\u001b[38;5;241m~\u001b[39mdf_market_time[\u001b[38;5;124m'\u001b[39m\u001b[38;5;124mid\u001b[39m\u001b[38;5;124m'\u001b[39m]\u001b[38;5;241m.\u001b[39misin(drop_id2)]\n",
            "\u001b[0;31mNameError\u001b[0m: name 'df_market_file' is not defined"
          ],
          "output_type": "error"
        }
      ],
      "execution_count": 34
    },
    {
      "cell_type": "code",
      "source": "df_market_file.info()\ndf_market_money.info()\ndf_market_time.info()\ndf_money.info()",
      "metadata": {
        "trusted": true
      },
      "outputs": [
        {
          "ename": "<class 'NameError'>",
          "evalue": "name 'df_market_file' is not defined",
          "traceback": [
            "\u001b[0;31m---------------------------------------------------------------------------\u001b[0m",
            "\u001b[0;31mNameError\u001b[0m                                 Traceback (most recent call last)",
            "Cell \u001b[0;32mIn[35], line 1\u001b[0m\n\u001b[0;32m----> 1\u001b[0m \u001b[43mdf_market_file\u001b[49m\u001b[38;5;241m.\u001b[39minfo()\n\u001b[1;32m      2\u001b[0m df_market_money\u001b[38;5;241m.\u001b[39minfo()\n\u001b[1;32m      3\u001b[0m df_market_time\u001b[38;5;241m.\u001b[39minfo()\n",
            "\u001b[0;31mNameError\u001b[0m: name 'df_market_file' is not defined"
          ],
          "output_type": "error"
        }
      ],
      "execution_count": 35
    },
    {
      "cell_type": "markdown",
      "source": "### Общий вывод по исследовательскому анализу  \n  \nМы провели анализ всех признаков во всех датафреймах, вывели гистограммы, \"ящики с усами\" и круговые диаграммы.  \n  \nРаспределение большинства данных соответствует нормальному. Некоторые количественные признаки имеют распределение Пуассона. Так же из данных были удалены 4 клиента, 3 из которых за последние 3 месяца принесли сервису нулевую выручку, другой же клиент был исключен из данных по причине наличия аномального значения в признаке \"Выручка\".  \n  \nПри анализе круговых диаграмм было замечено, что распределение некоторых категориальных признаков соответствует соотношению 1:3. Соотношение остальных признаков равномерное.",
      "metadata": {}
    },
    {
      "cell_type": "markdown",
      "source": "## Объединение таблиц",
      "metadata": {}
    },
    {
      "cell_type": "markdown",
      "source": "В основном датафрейме df_market_file всего 1296 строк, в df_market_money 3888 строк и в df_market_time 2592. Чтобы объединить эти датафреймы, их нужно привести к общему количеству строк.",
      "metadata": {}
    },
    {
      "cell_type": "code",
      "source": "df_market_money = df_market_money.pivot_table(index='id', columns='период', values='выручка')\ndf_market_money.columns = ['выручка_предыдущий_месяц', 'выручка_препредыдущий_месяц', 'выручка_текущий_месяц']\ndf_market_money.head(10)",
      "metadata": {
        "trusted": true
      },
      "outputs": [
        {
          "ename": "<class 'NameError'>",
          "evalue": "name 'df_market_money' is not defined",
          "traceback": [
            "\u001b[0;31m---------------------------------------------------------------------------\u001b[0m",
            "\u001b[0;31mNameError\u001b[0m                                 Traceback (most recent call last)",
            "Cell \u001b[0;32mIn[36], line 1\u001b[0m\n\u001b[0;32m----> 1\u001b[0m df_market_money \u001b[38;5;241m=\u001b[39m \u001b[43mdf_market_money\u001b[49m\u001b[38;5;241m.\u001b[39mpivot_table(index\u001b[38;5;241m=\u001b[39m\u001b[38;5;124m'\u001b[39m\u001b[38;5;124mid\u001b[39m\u001b[38;5;124m'\u001b[39m, columns\u001b[38;5;241m=\u001b[39m\u001b[38;5;124m'\u001b[39m\u001b[38;5;124mпериод\u001b[39m\u001b[38;5;124m'\u001b[39m, values\u001b[38;5;241m=\u001b[39m\u001b[38;5;124m'\u001b[39m\u001b[38;5;124mвыручка\u001b[39m\u001b[38;5;124m'\u001b[39m)\n\u001b[1;32m      2\u001b[0m df_market_money\u001b[38;5;241m.\u001b[39mcolumns \u001b[38;5;241m=\u001b[39m [\u001b[38;5;124m'\u001b[39m\u001b[38;5;124mвыручка_предыдущий_месяц\u001b[39m\u001b[38;5;124m'\u001b[39m, \u001b[38;5;124m'\u001b[39m\u001b[38;5;124mвыручка_препредыдущий_месяц\u001b[39m\u001b[38;5;124m'\u001b[39m, \u001b[38;5;124m'\u001b[39m\u001b[38;5;124mвыручка_текущий_месяц\u001b[39m\u001b[38;5;124m'\u001b[39m]\n\u001b[1;32m      3\u001b[0m df_market_money\u001b[38;5;241m.\u001b[39mhead(\u001b[38;5;241m10\u001b[39m)\n",
            "\u001b[0;31mNameError\u001b[0m: name 'df_market_money' is not defined"
          ],
          "output_type": "error"
        }
      ],
      "execution_count": 36
    },
    {
      "cell_type": "code",
      "source": "df_market_time = df_market_time.pivot_table(index='id', columns='период', values='минут')\ndf_market_time.columns = ['минуты_предыдущий_месяц', 'минуты_текущий_месяц']\ndf_market_time.head(10)",
      "metadata": {
        "trusted": true
      },
      "outputs": [
        {
          "ename": "<class 'NameError'>",
          "evalue": "name 'df_market_time' is not defined",
          "traceback": [
            "\u001b[0;31m---------------------------------------------------------------------------\u001b[0m",
            "\u001b[0;31mNameError\u001b[0m                                 Traceback (most recent call last)",
            "Cell \u001b[0;32mIn[37], line 1\u001b[0m\n\u001b[0;32m----> 1\u001b[0m df_market_time \u001b[38;5;241m=\u001b[39m \u001b[43mdf_market_time\u001b[49m\u001b[38;5;241m.\u001b[39mpivot_table(index\u001b[38;5;241m=\u001b[39m\u001b[38;5;124m'\u001b[39m\u001b[38;5;124mid\u001b[39m\u001b[38;5;124m'\u001b[39m, columns\u001b[38;5;241m=\u001b[39m\u001b[38;5;124m'\u001b[39m\u001b[38;5;124mпериод\u001b[39m\u001b[38;5;124m'\u001b[39m, values\u001b[38;5;241m=\u001b[39m\u001b[38;5;124m'\u001b[39m\u001b[38;5;124mминут\u001b[39m\u001b[38;5;124m'\u001b[39m)\n\u001b[1;32m      2\u001b[0m df_market_time\u001b[38;5;241m.\u001b[39mcolumns \u001b[38;5;241m=\u001b[39m [\u001b[38;5;124m'\u001b[39m\u001b[38;5;124mминуты_предыдущий_месяц\u001b[39m\u001b[38;5;124m'\u001b[39m, \u001b[38;5;124m'\u001b[39m\u001b[38;5;124mминуты_текущий_месяц\u001b[39m\u001b[38;5;124m'\u001b[39m]\n\u001b[1;32m      3\u001b[0m df_market_time\u001b[38;5;241m.\u001b[39mhead(\u001b[38;5;241m10\u001b[39m)\n",
            "\u001b[0;31mNameError\u001b[0m: name 'df_market_time' is not defined"
          ],
          "output_type": "error"
        }
      ],
      "execution_count": 37
    },
    {
      "cell_type": "code",
      "source": "merged_df = df_market_file.merge(df_market_money, on='id', how='inner')\ndisplay(merged_df.info())\nmerged_df.head()",
      "metadata": {
        "trusted": true
      },
      "outputs": [
        {
          "ename": "<class 'NameError'>",
          "evalue": "name 'df_market_file' is not defined",
          "traceback": [
            "\u001b[0;31m---------------------------------------------------------------------------\u001b[0m",
            "\u001b[0;31mNameError\u001b[0m                                 Traceback (most recent call last)",
            "Cell \u001b[0;32mIn[38], line 1\u001b[0m\n\u001b[0;32m----> 1\u001b[0m merged_df \u001b[38;5;241m=\u001b[39m \u001b[43mdf_market_file\u001b[49m\u001b[38;5;241m.\u001b[39mmerge(df_market_money, on\u001b[38;5;241m=\u001b[39m\u001b[38;5;124m'\u001b[39m\u001b[38;5;124mid\u001b[39m\u001b[38;5;124m'\u001b[39m, how\u001b[38;5;241m=\u001b[39m\u001b[38;5;124m'\u001b[39m\u001b[38;5;124minner\u001b[39m\u001b[38;5;124m'\u001b[39m)\n\u001b[1;32m      2\u001b[0m display(merged_df\u001b[38;5;241m.\u001b[39minfo())\n\u001b[1;32m      3\u001b[0m merged_df\u001b[38;5;241m.\u001b[39mhead()\n",
            "\u001b[0;31mNameError\u001b[0m: name 'df_market_file' is not defined"
          ],
          "output_type": "error"
        }
      ],
      "execution_count": 38
    },
    {
      "cell_type": "code",
      "source": "df = merged_df.merge(df_market_time, on='id', how='inner')\ndisplay(df.info())\ndf.head()",
      "metadata": {
        "trusted": true
      },
      "outputs": [
        {
          "ename": "<class 'NameError'>",
          "evalue": "name 'merged_df' is not defined",
          "traceback": [
            "\u001b[0;31m---------------------------------------------------------------------------\u001b[0m",
            "\u001b[0;31mNameError\u001b[0m                                 Traceback (most recent call last)",
            "Cell \u001b[0;32mIn[39], line 1\u001b[0m\n\u001b[0;32m----> 1\u001b[0m df \u001b[38;5;241m=\u001b[39m \u001b[43mmerged_df\u001b[49m\u001b[38;5;241m.\u001b[39mmerge(df_market_time, on\u001b[38;5;241m=\u001b[39m\u001b[38;5;124m'\u001b[39m\u001b[38;5;124mid\u001b[39m\u001b[38;5;124m'\u001b[39m, how\u001b[38;5;241m=\u001b[39m\u001b[38;5;124m'\u001b[39m\u001b[38;5;124minner\u001b[39m\u001b[38;5;124m'\u001b[39m)\n\u001b[1;32m      2\u001b[0m display(df\u001b[38;5;241m.\u001b[39minfo())\n\u001b[1;32m      3\u001b[0m df\u001b[38;5;241m.\u001b[39mhead()\n",
            "\u001b[0;31mNameError\u001b[0m: name 'merged_df' is not defined"
          ],
          "output_type": "error"
        }
      ],
      "execution_count": 39
    },
    {
      "cell_type": "markdown",
      "source": "**Вывод:**  \n  \nВсе таблицы успешно объединены, количество строк одинаковое и пропусков нет. В данном датафрейме теперь хранятся данные о всех актинвых пользователях за последние 3 месяца.",
      "metadata": {}
    },
    {
      "cell_type": "markdown",
      "source": "## Корреляционный анализ всех признаков",
      "metadata": {}
    },
    {
      "cell_type": "markdown",
      "source": "Нам необходимо провести корреляционный анализ признаков в количественной шкале в итоговой таблице для моделирования. Проверим зависимости между всеми признаками.  \n  \nДля начала заложим признаки с непрерывными значениями в переменную, чтобы при построении матрицы не было ошибок.",
      "metadata": {}
    },
    {
      "cell_type": "code",
      "source": "df_correlation = df.drop('id', axis=1)\ninterval_cols = df_correlation.select_dtypes(include=['int64', 'float64']).columns.tolist()\n\nphik_matrix = df_correlation.phik_matrix(interval_cols=interval_cols)\nplt.figure(figsize=(20, 15))\nsns.heatmap(phik_matrix, annot=True)\nplt.show()",
      "metadata": {
        "trusted": true
      },
      "outputs": [
        {
          "ename": "<class 'NameError'>",
          "evalue": "name 'df' is not defined",
          "traceback": [
            "\u001b[0;31m---------------------------------------------------------------------------\u001b[0m",
            "\u001b[0;31mNameError\u001b[0m                                 Traceback (most recent call last)",
            "Cell \u001b[0;32mIn[40], line 1\u001b[0m\n\u001b[0;32m----> 1\u001b[0m df_correlation \u001b[38;5;241m=\u001b[39m \u001b[43mdf\u001b[49m\u001b[38;5;241m.\u001b[39mdrop(\u001b[38;5;124m'\u001b[39m\u001b[38;5;124mid\u001b[39m\u001b[38;5;124m'\u001b[39m, axis\u001b[38;5;241m=\u001b[39m\u001b[38;5;241m1\u001b[39m)\n\u001b[1;32m      2\u001b[0m interval_cols \u001b[38;5;241m=\u001b[39m df_correlation\u001b[38;5;241m.\u001b[39mselect_dtypes(include\u001b[38;5;241m=\u001b[39m[\u001b[38;5;124m'\u001b[39m\u001b[38;5;124mint64\u001b[39m\u001b[38;5;124m'\u001b[39m, \u001b[38;5;124m'\u001b[39m\u001b[38;5;124mfloat64\u001b[39m\u001b[38;5;124m'\u001b[39m])\u001b[38;5;241m.\u001b[39mcolumns\u001b[38;5;241m.\u001b[39mtolist()\n\u001b[1;32m      4\u001b[0m phik_matrix \u001b[38;5;241m=\u001b[39m df_correlation\u001b[38;5;241m.\u001b[39mphik_matrix(interval_cols\u001b[38;5;241m=\u001b[39minterval_cols)\n",
            "\u001b[0;31mNameError\u001b[0m: name 'df' is not defined"
          ],
          "output_type": "error"
        }
      ],
      "execution_count": 40
    },
    {
      "cell_type": "markdown",
      "source": "**Вывод:**  \n  \nМы вывели матрицу корреляции по всем количественным признакам и теперь можем увидеть все зависимости между целевым признаком и другими.  \n  \nЦеловой признак имеет наиболее высокую корреляцию с следующими признаками:  \n  \n  - **Страниц_за_визит** - процент корреляции 0.75  \n  - **минуты_предыдущий_месяц** - процент корреляции 0.69  \n  - **минуты_текущий_месяц** - процент корреляции 0.58  \n  - **Средний_просмотр_категорий_за_визит** - процент корреляции 0.54  \n  - **Маркет_актив_6_мес** - процент корреляции 0.54  \n  - **Акционные_покупки** - процент корреляции 0.51  \n  - **Неоплаченные_продукты_штук_квартал** - процент корреляции 0.51  \n  - **выручка_предыдущий_месяц** - процент корреляции 0.5  \n  \nМультиколлинеарность между признаками не обнаружена.  ",
      "metadata": {}
    },
    {
      "cell_type": "markdown",
      "source": "## Использование пайплайнов",
      "metadata": {}
    },
    {
      "cell_type": "markdown",
      "source": "### Пайплайн с подготовкой данных  \n  \nВо время подготовки данных будем использовать ColumnTransformer. Количественные и категориальные признаки обработаем в пайплайне раздельно. Для кодирования категориальных признаков будем использовать два кодировщика, для масштабирования количественных — два скейлера.",
      "metadata": {}
    },
    {
      "cell_type": "code",
      "source": "df_without_id = df.drop('id', axis=1)\ndf_without_id['покупательская активность'] = df_without_id['покупательская активность'].replace({'Снизилась': 1, 'Прежний уровень': 0})\n\ntarget_attribute = ['покупательская активность']\nfeatures = df_without_id.columns.drop(target_attribute)\n\nnum_cols = df_without_id.select_dtypes(include=['int64', 'float64']).columns.tolist()\ncat_cols = df_without_id.select_dtypes(include=['object']).columns.tolist()\n\nfor i in cat_cols:\n    unique_cat_cols = df_without_id[i].unique()\n    print(f'Уникальные значения в столбце \"{i}\": {unique_cat_cols}')\n\nprint()\nprint('Все столбцы с количественными значениями:')\nnum_cols",
      "metadata": {
        "scrolled": true,
        "trusted": true
      },
      "outputs": [
        {
          "ename": "<class 'NameError'>",
          "evalue": "name 'df' is not defined",
          "traceback": [
            "\u001b[0;31m---------------------------------------------------------------------------\u001b[0m",
            "\u001b[0;31mNameError\u001b[0m                                 Traceback (most recent call last)",
            "Cell \u001b[0;32mIn[41], line 1\u001b[0m\n\u001b[0;32m----> 1\u001b[0m df_without_id \u001b[38;5;241m=\u001b[39m \u001b[43mdf\u001b[49m\u001b[38;5;241m.\u001b[39mdrop(\u001b[38;5;124m'\u001b[39m\u001b[38;5;124mid\u001b[39m\u001b[38;5;124m'\u001b[39m, axis\u001b[38;5;241m=\u001b[39m\u001b[38;5;241m1\u001b[39m)\n\u001b[1;32m      2\u001b[0m df_without_id[\u001b[38;5;124m'\u001b[39m\u001b[38;5;124mпокупательская активность\u001b[39m\u001b[38;5;124m'\u001b[39m] \u001b[38;5;241m=\u001b[39m df_without_id[\u001b[38;5;124m'\u001b[39m\u001b[38;5;124mпокупательская активность\u001b[39m\u001b[38;5;124m'\u001b[39m]\u001b[38;5;241m.\u001b[39mreplace({\u001b[38;5;124m'\u001b[39m\u001b[38;5;124mСнизилась\u001b[39m\u001b[38;5;124m'\u001b[39m: \u001b[38;5;241m1\u001b[39m, \u001b[38;5;124m'\u001b[39m\u001b[38;5;124mПрежний уровень\u001b[39m\u001b[38;5;124m'\u001b[39m: \u001b[38;5;241m0\u001b[39m})\n\u001b[1;32m      4\u001b[0m target_attribute \u001b[38;5;241m=\u001b[39m [\u001b[38;5;124m'\u001b[39m\u001b[38;5;124mпокупательская активность\u001b[39m\u001b[38;5;124m'\u001b[39m]\n",
            "\u001b[0;31mNameError\u001b[0m: name 'df' is not defined"
          ],
          "output_type": "error"
        }
      ],
      "execution_count": 41
    },
    {
      "cell_type": "markdown",
      "source": "**Создадим первый пайплайн с обработкой данных. Зафиксируем значения random_state и test_size и разделим датафрейм на тренировочные и тестовую выборки.**",
      "metadata": {}
    },
    {
      "cell_type": "code",
      "source": "RANDOM_STATE = 77\nTEST_SIZE = 0.25\n\nX_train, X_test, y_train, y_test = train_test_split(\n    df_without_id.drop(target_attribute, axis=1),\n    df_without_id[target_attribute],\n    random_state=RANDOM_STATE,\n    test_size=TEST_SIZE,\n    stratify = df_without_id[target_attribute]\n)\n\nohe_cols = ['разрешить сообщать', 'популярная_категория']\nord_cols = ['тип сервиса']\nnum_cols = ['маркет_актив_6_мес', 'маркет_актив_тек_мес', 'длительность', 'акционные_покупки', \n            'средний_просмотр_категорий_за_визит', 'неоплаченные_продукты_штук_квартал', \n            'ошибка_сервиса', 'страниц_за_визит', 'минуты_предыдущий_месяц', 'минуты_текущий_месяц']\n\nohe_pipe = Pipeline(\n    [\n        (\n            'simpleImputer_ohe', \n            SimpleImputer(missing_values=np.nan, strategy='most_frequent')\n        ),\n        (\n            'ohe', \n            OneHotEncoder(drop='first', handle_unknown='error')\n        )\n    ]\n)\n\nord_pipe = Pipeline(\n    [\n        (\n            'simpleImputer_before_ord', \n            SimpleImputer(missing_values=np.nan, strategy='most_frequent')\n        ),\n        (\n            'ord',  \n            OrdinalEncoder(\n                categories=[\n                    ['премиум', 'стандарт'], \n                ], \n                handle_unknown='use_encoded_value', unknown_value=np.nan\n            )\n        ),\n        (\n            'simpleImputer_after_ord', \n            SimpleImputer(missing_values=np.nan, strategy='most_frequent')\n        )\n    ]\n)\n\ndata_preprocessor = ColumnTransformer(\n    [\n        ('ohe', ohe_pipe, ohe_cols),\n        ('ord', ord_pipe, ord_cols),\n        ('num', MinMaxScaler(), num_cols)\n    ], \n    remainder='passthrough'\n) \n\ndata_preprocessor",
      "metadata": {
        "trusted": true
      },
      "outputs": [
        {
          "ename": "<class 'NameError'>",
          "evalue": "name 'df_without_id' is not defined",
          "traceback": [
            "\u001b[0;31m---------------------------------------------------------------------------\u001b[0m",
            "\u001b[0;31mNameError\u001b[0m                                 Traceback (most recent call last)",
            "Cell \u001b[0;32mIn[42], line 5\u001b[0m\n\u001b[1;32m      1\u001b[0m RANDOM_STATE \u001b[38;5;241m=\u001b[39m \u001b[38;5;241m77\u001b[39m\n\u001b[1;32m      2\u001b[0m TEST_SIZE \u001b[38;5;241m=\u001b[39m \u001b[38;5;241m0.25\u001b[39m\n\u001b[1;32m      4\u001b[0m X_train, X_test, y_train, y_test \u001b[38;5;241m=\u001b[39m train_test_split(\n\u001b[0;32m----> 5\u001b[0m     \u001b[43mdf_without_id\u001b[49m\u001b[38;5;241m.\u001b[39mdrop(target_attribute, axis\u001b[38;5;241m=\u001b[39m\u001b[38;5;241m1\u001b[39m),\n\u001b[1;32m      6\u001b[0m     df_without_id[target_attribute],\n\u001b[1;32m      7\u001b[0m     random_state\u001b[38;5;241m=\u001b[39mRANDOM_STATE,\n\u001b[1;32m      8\u001b[0m     test_size\u001b[38;5;241m=\u001b[39mTEST_SIZE,\n\u001b[1;32m      9\u001b[0m     stratify \u001b[38;5;241m=\u001b[39m df_without_id[target_attribute]\n\u001b[1;32m     10\u001b[0m )\n\u001b[1;32m     12\u001b[0m ohe_cols \u001b[38;5;241m=\u001b[39m [\u001b[38;5;124m'\u001b[39m\u001b[38;5;124mразрешить сообщать\u001b[39m\u001b[38;5;124m'\u001b[39m, \u001b[38;5;124m'\u001b[39m\u001b[38;5;124mпопулярная_категория\u001b[39m\u001b[38;5;124m'\u001b[39m]\n\u001b[1;32m     13\u001b[0m ord_cols \u001b[38;5;241m=\u001b[39m [\u001b[38;5;124m'\u001b[39m\u001b[38;5;124mтип сервиса\u001b[39m\u001b[38;5;124m'\u001b[39m]\n",
            "\u001b[0;31mNameError\u001b[0m: name 'df_without_id' is not defined"
          ],
          "output_type": "error"
        }
      ],
      "execution_count": 42
    },
    {
      "cell_type": "code",
      "source": "pipe_final = Pipeline(\n    [\n        ('preprocessor', data_preprocessor),\n        ('models', DecisionTreeClassifier(random_state=RANDOM_STATE))\n    ]\n) ",
      "metadata": {
        "trusted": true
      },
      "outputs": [
        {
          "ename": "<class 'NameError'>",
          "evalue": "name 'data_preprocessor' is not defined",
          "traceback": [
            "\u001b[0;31m---------------------------------------------------------------------------\u001b[0m",
            "\u001b[0;31mNameError\u001b[0m                                 Traceback (most recent call last)",
            "Cell \u001b[0;32mIn[43], line 3\u001b[0m\n\u001b[1;32m      1\u001b[0m pipe_final \u001b[38;5;241m=\u001b[39m Pipeline(\n\u001b[1;32m      2\u001b[0m     [\n\u001b[0;32m----> 3\u001b[0m         (\u001b[38;5;124m'\u001b[39m\u001b[38;5;124mpreprocessor\u001b[39m\u001b[38;5;124m'\u001b[39m, \u001b[43mdata_preprocessor\u001b[49m),\n\u001b[1;32m      4\u001b[0m         (\u001b[38;5;124m'\u001b[39m\u001b[38;5;124mmodels\u001b[39m\u001b[38;5;124m'\u001b[39m, DecisionTreeClassifier(random_state\u001b[38;5;241m=\u001b[39mRANDOM_STATE))\n\u001b[1;32m      5\u001b[0m     ]\n\u001b[1;32m      6\u001b[0m ) \n",
            "\u001b[0;31mNameError\u001b[0m: name 'data_preprocessor' is not defined"
          ],
          "output_type": "error"
        }
      ],
      "execution_count": 43
    },
    {
      "cell_type": "markdown",
      "source": "Мы создали пайплайн с подготовкой данных и поместили его в итоговый вместе с моделью. Теперь создадим словарь с несколькими моделями и укажем гиперпараметры.",
      "metadata": {}
    },
    {
      "cell_type": "code",
      "source": "param_grid = [\n    {\n        # словарь для модели KNeighborsClassifier() \n        'models': [KNeighborsClassifier()],\n        'models__n_neighbors': range(1, 6),\n        'preprocessor__num': [StandardScaler(), MinMaxScaler(), 'passthrough']\n    },\n    {\n        # словарь для модели DecisionTreeClassifier()\n        'models': [DecisionTreeClassifier(random_state=RANDOM_STATE)],\n        'models__max_depth': range(2, 10),\n        'models__max_features': range(2, 10),\n        'preprocessor__num': [StandardScaler(), MinMaxScaler(), 'passthrough']\n    },\n    {\n        # словарь для модели LogisticRegression()\n        'models': [LogisticRegression(random_state=RANDOM_STATE, solver='liblinear', penalty='l1')],\n        'models__C': range(1, 8),\n        'preprocessor__num': [StandardScaler(), MinMaxScaler(), 'passthrough']\n    },\n    {\n        # словарь для модели SVC()\n        'models': [SVC(random_state=RANDOM_STATE, probability=True)],\n        'models__kernel': ('sigmoid', 'linear', 'rbf'),\n        'preprocessor__num': [StandardScaler(), 'passthrough']\n    }\n]",
      "metadata": {
        "trusted": true
      },
      "outputs": [],
      "execution_count": 44
    },
    {
      "cell_type": "markdown",
      "source": "Для анализа моделей будем использовать метрику ROC_AUC, поскольку она лучше справляется с дисбалансом классов.",
      "metadata": {}
    },
    {
      "cell_type": "code",
      "source": "randomized_search = RandomizedSearchCV(\n    pipe_final, \n    param_grid, \n    cv=5,\n    scoring='roc_auc',\n    random_state=RANDOM_STATE,\n    n_jobs=-1\n)\n\nrandomized_search.fit(X_train, y_train)\n\nprint('Лучшая модель и её параметры:\\n\\n', randomized_search.best_estimator_)\nprint ('Метрика лучшей модели на тренировочной выборке:', randomized_search.best_score_)",
      "metadata": {
        "trusted": true
      },
      "outputs": [
        {
          "ename": "<class 'NameError'>",
          "evalue": "name 'pipe_final' is not defined",
          "traceback": [
            "\u001b[0;31m---------------------------------------------------------------------------\u001b[0m",
            "\u001b[0;31mNameError\u001b[0m                                 Traceback (most recent call last)",
            "Cell \u001b[0;32mIn[45], line 2\u001b[0m\n\u001b[1;32m      1\u001b[0m randomized_search \u001b[38;5;241m=\u001b[39m RandomizedSearchCV(\n\u001b[0;32m----> 2\u001b[0m     \u001b[43mpipe_final\u001b[49m, \n\u001b[1;32m      3\u001b[0m     param_grid, \n\u001b[1;32m      4\u001b[0m     cv\u001b[38;5;241m=\u001b[39m\u001b[38;5;241m5\u001b[39m,\n\u001b[1;32m      5\u001b[0m     scoring\u001b[38;5;241m=\u001b[39m\u001b[38;5;124m'\u001b[39m\u001b[38;5;124mroc_auc\u001b[39m\u001b[38;5;124m'\u001b[39m,\n\u001b[1;32m      6\u001b[0m     random_state\u001b[38;5;241m=\u001b[39mRANDOM_STATE,\n\u001b[1;32m      7\u001b[0m     n_jobs\u001b[38;5;241m=\u001b[39m\u001b[38;5;241m-\u001b[39m\u001b[38;5;241m1\u001b[39m\n\u001b[1;32m      8\u001b[0m )\n\u001b[1;32m     10\u001b[0m randomized_search\u001b[38;5;241m.\u001b[39mfit(X_train, y_train)\n\u001b[1;32m     12\u001b[0m \u001b[38;5;28mprint\u001b[39m(\u001b[38;5;124m'\u001b[39m\u001b[38;5;124mЛучшая модель и её параметры:\u001b[39m\u001b[38;5;130;01m\\n\u001b[39;00m\u001b[38;5;130;01m\\n\u001b[39;00m\u001b[38;5;124m'\u001b[39m, randomized_search\u001b[38;5;241m.\u001b[39mbest_estimator_)\n",
            "\u001b[0;31mNameError\u001b[0m: name 'pipe_final' is not defined"
          ],
          "output_type": "error"
        }
      ],
      "execution_count": 45
    },
    {
      "cell_type": "code",
      "source": "probabilities = randomized_search.predict_proba(X_test)\n\nprobabilities_1 = probabilities[:, 1]\ny_test_roc_auc = roc_auc_score(y_test, probabilities_1)\n\nprint(f'Метрика ROC-AUC на тестовой выборке для класса 1: {y_test_roc_auc}')",
      "metadata": {
        "trusted": true
      },
      "outputs": [
        {
          "ename": "<class 'NameError'>",
          "evalue": "name 'randomized_search' is not defined",
          "traceback": [
            "\u001b[0;31m---------------------------------------------------------------------------\u001b[0m",
            "\u001b[0;31mNameError\u001b[0m                                 Traceback (most recent call last)",
            "Cell \u001b[0;32mIn[46], line 1\u001b[0m\n\u001b[0;32m----> 1\u001b[0m probabilities \u001b[38;5;241m=\u001b[39m \u001b[43mrandomized_search\u001b[49m\u001b[38;5;241m.\u001b[39mpredict_proba(X_test)\n\u001b[1;32m      3\u001b[0m probabilities_1 \u001b[38;5;241m=\u001b[39m probabilities[:, \u001b[38;5;241m1\u001b[39m]\n\u001b[1;32m      4\u001b[0m y_test_roc_auc \u001b[38;5;241m=\u001b[39m roc_auc_score(y_test, probabilities_1)\n",
            "\u001b[0;31mNameError\u001b[0m: name 'randomized_search' is not defined"
          ],
          "output_type": "error"
        }
      ],
      "execution_count": 46
    },
    {
      "cell_type": "markdown",
      "source": "### Вывод по лучшей модели  \n  \nСамой лучшей моделью оказалась LogisticRegression с гиперпараметрами (C=1, penalty='l1', random_state=77, solver='liblinear').  \nЕе качество на тренировочной выборке составляет 0.91, на тестовой 0.85 и при классовом предсказании она показала результат 0.89. Это довольно высокие показатели, значит модель редко делает ошибки, а значит ее можно использовать для предсказания покупательской активности.",
      "metadata": {}
    },
    {
      "cell_type": "markdown",
      "source": "## Анализ важности признаков",
      "metadata": {}
    },
    {
      "cell_type": "code",
      "source": "X_train_2 = pipe_final.named_steps['preprocessor'].fit_transform(X_train)\nX_test_2 = pipe_final.named_steps['preprocessor'].transform(X_test)\n\nexplainer = shap.Explainer(randomized_search.best_estimator_.named_steps['models'], X_train_2)\n\nfeature_names = pipe_final.named_steps['preprocessor'].get_feature_names_out()\n\nX_test_2 = pd.DataFrame(X_test_2, columns=feature_names)\nshap_values = explainer(X_test_2)\n\nshap.plots.bar(shap_values, max_display=50)",
      "metadata": {
        "scrolled": true,
        "trusted": true
      },
      "outputs": [
        {
          "ename": "<class 'NameError'>",
          "evalue": "name 'pipe_final' is not defined",
          "traceback": [
            "\u001b[0;31m---------------------------------------------------------------------------\u001b[0m",
            "\u001b[0;31mNameError\u001b[0m                                 Traceback (most recent call last)",
            "Cell \u001b[0;32mIn[47], line 1\u001b[0m\n\u001b[0;32m----> 1\u001b[0m X_train_2 \u001b[38;5;241m=\u001b[39m \u001b[43mpipe_final\u001b[49m\u001b[38;5;241m.\u001b[39mnamed_steps[\u001b[38;5;124m'\u001b[39m\u001b[38;5;124mpreprocessor\u001b[39m\u001b[38;5;124m'\u001b[39m]\u001b[38;5;241m.\u001b[39mfit_transform(X_train)\n\u001b[1;32m      2\u001b[0m X_test_2 \u001b[38;5;241m=\u001b[39m pipe_final\u001b[38;5;241m.\u001b[39mnamed_steps[\u001b[38;5;124m'\u001b[39m\u001b[38;5;124mpreprocessor\u001b[39m\u001b[38;5;124m'\u001b[39m]\u001b[38;5;241m.\u001b[39mtransform(X_test)\n\u001b[1;32m      4\u001b[0m explainer \u001b[38;5;241m=\u001b[39m shap\u001b[38;5;241m.\u001b[39mExplainer(randomized_search\u001b[38;5;241m.\u001b[39mbest_estimator_\u001b[38;5;241m.\u001b[39mnamed_steps[\u001b[38;5;124m'\u001b[39m\u001b[38;5;124mmodels\u001b[39m\u001b[38;5;124m'\u001b[39m], X_train_2)\n",
            "\u001b[0;31mNameError\u001b[0m: name 'pipe_final' is not defined"
          ],
          "output_type": "error"
        }
      ],
      "execution_count": 47
    },
    {
      "cell_type": "code",
      "source": "shap.plots.beeswarm(shap_values, max_display=250)",
      "metadata": {
        "trusted": true
      },
      "outputs": [
        {
          "ename": "<class 'NameError'>",
          "evalue": "name 'shap' is not defined",
          "traceback": [
            "\u001b[0;31m---------------------------------------------------------------------------\u001b[0m",
            "\u001b[0;31mNameError\u001b[0m                                 Traceback (most recent call last)",
            "Cell \u001b[0;32mIn[48], line 1\u001b[0m\n\u001b[0;32m----> 1\u001b[0m \u001b[43mshap\u001b[49m\u001b[38;5;241m.\u001b[39mplots\u001b[38;5;241m.\u001b[39mbeeswarm(shap_values, max_display\u001b[38;5;241m=\u001b[39m\u001b[38;5;241m250\u001b[39m)\n",
            "\u001b[0;31mNameError\u001b[0m: name 'shap' is not defined"
          ],
          "output_type": "error"
        }
      ],
      "execution_count": 48
    },
    {
      "cell_type": "markdown",
      "source": "**Вывод:**  \n  \nМы вывели 2 графика, показывающих влияние признаков на целевой.  \n  \nПризнаки, имеющие положительное значение SHAP на втором графике повышают вероятность снижения активности клиента, а признаки, имеющие отрицательное значение SHAP наоборот понижают вероятность снижения активности.\n  \n  \nСудя по показателям почти никакого влияния не оказывают такие признаки, как Популярная_категория_Товары для детей, Макрет_актив_тек_мес и Ошибка_сервиса. Все эти 3 признака влияют на целевой меньше чем на 0.01. Соответственно их можно считайть бесполезными.    \n  \n**Более высокое влияние на целевой признак оказывают следующие признаки:**  \n  \n - **Средний_просмотр_категорий_за_визит** - Данный признак показывает то, сколько различных категорий товаров пользователь просматривал в среднем за визит за последний месяц. Показатель его влияния на целевой признак равен 0.59 и на втором графике видно, что он имеет отрицательное значение.  \n - **минуты_предыдущий_месяц** - Этот признак показывает, сколько пользователь проводил времени на сайте за предыдущий месяц. Показатель влияния этого признака на целевой составляет 0.57. Значение SHAP так же отрицательное.  \n - **Страниц_за_визит** - Этот признак показывает, сколько пользователь просмотрел страниц за один визит. Показатель этого признака равен 0.55. У этого признака самое большое отрицательное значение SHAP.  \n - **минуты_текущий_месяц** - Этот признак показывает , сколько пользователь проводил времени на сайте за текущий месяц. Показатель влияния этого признака на целевой составляет 0.42. Значение SHAP отрицательное.  ",
      "metadata": {}
    },
    {
      "cell_type": "markdown",
      "source": "## Сегментация покупателей",
      "metadata": {}
    },
    {
      "cell_type": "code",
      "source": "display(df.shape)\ndf.head()",
      "metadata": {
        "trusted": true
      },
      "outputs": [
        {
          "ename": "<class 'NameError'>",
          "evalue": "name 'df' is not defined",
          "traceback": [
            "\u001b[0;31m---------------------------------------------------------------------------\u001b[0m",
            "\u001b[0;31mNameError\u001b[0m                                 Traceback (most recent call last)",
            "Cell \u001b[0;32mIn[49], line 1\u001b[0m\n\u001b[0;32m----> 1\u001b[0m display(\u001b[43mdf\u001b[49m\u001b[38;5;241m.\u001b[39mshape)\n\u001b[1;32m      2\u001b[0m df\u001b[38;5;241m.\u001b[39mhead()\n",
            "\u001b[0;31mNameError\u001b[0m: name 'df' is not defined"
          ],
          "output_type": "error"
        }
      ],
      "execution_count": 49
    },
    {
      "cell_type": "code",
      "source": "display(df_money.shape)\ndf_money.head()",
      "metadata": {
        "trusted": true
      },
      "outputs": [
        {
          "ename": "<class 'NameError'>",
          "evalue": "name 'df_money' is not defined",
          "traceback": [
            "\u001b[0;31m---------------------------------------------------------------------------\u001b[0m",
            "\u001b[0;31mNameError\u001b[0m                                 Traceback (most recent call last)",
            "Cell \u001b[0;32mIn[50], line 1\u001b[0m\n\u001b[0;32m----> 1\u001b[0m display(\u001b[43mdf_money\u001b[49m\u001b[38;5;241m.\u001b[39mshape)\n\u001b[1;32m      2\u001b[0m df_money\u001b[38;5;241m.\u001b[39mhead()\n",
            "\u001b[0;31mNameError\u001b[0m: name 'df_money' is not defined"
          ],
          "output_type": "error"
        }
      ],
      "execution_count": 50
    },
    {
      "cell_type": "code",
      "source": "df = df.merge(df_money, on='id', how='inner')\ndisplay(df.shape)\ndf.head()",
      "metadata": {
        "trusted": true
      },
      "outputs": [
        {
          "ename": "<class 'NameError'>",
          "evalue": "name 'df' is not defined",
          "traceback": [
            "\u001b[0;31m---------------------------------------------------------------------------\u001b[0m",
            "\u001b[0;31mNameError\u001b[0m                                 Traceback (most recent call last)",
            "Cell \u001b[0;32mIn[51], line 1\u001b[0m\n\u001b[0;32m----> 1\u001b[0m df \u001b[38;5;241m=\u001b[39m \u001b[43mdf\u001b[49m\u001b[38;5;241m.\u001b[39mmerge(df_money, on\u001b[38;5;241m=\u001b[39m\u001b[38;5;124m'\u001b[39m\u001b[38;5;124mid\u001b[39m\u001b[38;5;124m'\u001b[39m, how\u001b[38;5;241m=\u001b[39m\u001b[38;5;124m'\u001b[39m\u001b[38;5;124minner\u001b[39m\u001b[38;5;124m'\u001b[39m)\n\u001b[1;32m      2\u001b[0m display(df\u001b[38;5;241m.\u001b[39mshape)\n\u001b[1;32m      3\u001b[0m df\u001b[38;5;241m.\u001b[39mhead()\n",
            "\u001b[0;31mNameError\u001b[0m: name 'df' is not defined"
          ],
          "output_type": "error"
        }
      ],
      "execution_count": 51
    },
    {
      "cell_type": "markdown",
      "source": "На этапе исследовательского анализа мы выяснили, что самыми популярными категориями являются Товары для детей и Домашний текстиль. Так что дальше будем работать с данным сегментом покупателей.  \n  \nПроведем графическое и аналитическое исследование групп покупателей и сделаем предложения по работе с сегментом для увеличения покупательской активности.",
      "metadata": {}
    },
    {
      "cell_type": "code",
      "source": "df_childrens_products = df[df['популярная_категория'] == 'Товары для детей']\ndisplay(df_childrens_products.shape)\ndf_childrens_products.head()",
      "metadata": {
        "trusted": true
      },
      "outputs": [
        {
          "ename": "<class 'NameError'>",
          "evalue": "name 'df' is not defined",
          "traceback": [
            "\u001b[0;31m---------------------------------------------------------------------------\u001b[0m",
            "\u001b[0;31mNameError\u001b[0m                                 Traceback (most recent call last)",
            "Cell \u001b[0;32mIn[52], line 1\u001b[0m\n\u001b[0;32m----> 1\u001b[0m df_childrens_products \u001b[38;5;241m=\u001b[39m \u001b[43mdf\u001b[49m[df[\u001b[38;5;124m'\u001b[39m\u001b[38;5;124mпопулярная_категория\u001b[39m\u001b[38;5;124m'\u001b[39m] \u001b[38;5;241m==\u001b[39m \u001b[38;5;124m'\u001b[39m\u001b[38;5;124mТовары для детей\u001b[39m\u001b[38;5;124m'\u001b[39m]\n\u001b[1;32m      2\u001b[0m display(df_childrens_products\u001b[38;5;241m.\u001b[39mshape)\n\u001b[1;32m      3\u001b[0m df_childrens_products\u001b[38;5;241m.\u001b[39mhead()\n",
            "\u001b[0;31mNameError\u001b[0m: name 'df' is not defined"
          ],
          "output_type": "error"
        }
      ],
      "execution_count": 52
    },
    {
      "cell_type": "code",
      "source": "df_home_textiles = df[df['популярная_категория'] == 'Домашний текстиль']\ndisplay(df_home_textiles.shape)\ndf_home_textiles.head()",
      "metadata": {
        "trusted": true
      },
      "outputs": [
        {
          "ename": "<class 'NameError'>",
          "evalue": "name 'df' is not defined",
          "traceback": [
            "\u001b[0;31m---------------------------------------------------------------------------\u001b[0m",
            "\u001b[0;31mNameError\u001b[0m                                 Traceback (most recent call last)",
            "Cell \u001b[0;32mIn[53], line 1\u001b[0m\n\u001b[0;32m----> 1\u001b[0m df_home_textiles \u001b[38;5;241m=\u001b[39m \u001b[43mdf\u001b[49m[df[\u001b[38;5;124m'\u001b[39m\u001b[38;5;124mпопулярная_категория\u001b[39m\u001b[38;5;124m'\u001b[39m] \u001b[38;5;241m==\u001b[39m \u001b[38;5;124m'\u001b[39m\u001b[38;5;124mДомашний текстиль\u001b[39m\u001b[38;5;124m'\u001b[39m]\n\u001b[1;32m      2\u001b[0m display(df_home_textiles\u001b[38;5;241m.\u001b[39mshape)\n\u001b[1;32m      3\u001b[0m df_home_textiles\u001b[38;5;241m.\u001b[39mhead()\n",
            "\u001b[0;31mNameError\u001b[0m: name 'df' is not defined"
          ],
          "output_type": "error"
        }
      ],
      "execution_count": 53
    },
    {
      "cell_type": "code",
      "source": "df_visualization(df_childrens_products)",
      "metadata": {
        "trusted": true
      },
      "outputs": [
        {
          "ename": "<class 'NameError'>",
          "evalue": "name 'df_childrens_products' is not defined",
          "traceback": [
            "\u001b[0;31m---------------------------------------------------------------------------\u001b[0m",
            "\u001b[0;31mNameError\u001b[0m                                 Traceback (most recent call last)",
            "Cell \u001b[0;32mIn[54], line 1\u001b[0m\n\u001b[0;32m----> 1\u001b[0m df_visualization(\u001b[43mdf_childrens_products\u001b[49m)\n",
            "\u001b[0;31mNameError\u001b[0m: name 'df_childrens_products' is not defined"
          ],
          "output_type": "error"
        }
      ],
      "execution_count": 54
    },
    {
      "cell_type": "code",
      "source": "df_visualization2(df_childrens_products)",
      "metadata": {
        "trusted": true
      },
      "outputs": [
        {
          "ename": "<class 'NameError'>",
          "evalue": "name 'df_childrens_products' is not defined",
          "traceback": [
            "\u001b[0;31m---------------------------------------------------------------------------\u001b[0m",
            "\u001b[0;31mNameError\u001b[0m                                 Traceback (most recent call last)",
            "Cell \u001b[0;32mIn[55], line 1\u001b[0m\n\u001b[0;32m----> 1\u001b[0m df_visualization2(\u001b[43mdf_childrens_products\u001b[49m)\n",
            "\u001b[0;31mNameError\u001b[0m: name 'df_childrens_products' is not defined"
          ],
          "output_type": "error"
        }
      ],
      "execution_count": 55
    },
    {
      "cell_type": "code",
      "source": "df_visualization(df_home_textiles)",
      "metadata": {
        "trusted": true
      },
      "outputs": [
        {
          "ename": "<class 'NameError'>",
          "evalue": "name 'df_home_textiles' is not defined",
          "traceback": [
            "\u001b[0;31m---------------------------------------------------------------------------\u001b[0m",
            "\u001b[0;31mNameError\u001b[0m                                 Traceback (most recent call last)",
            "Cell \u001b[0;32mIn[56], line 1\u001b[0m\n\u001b[0;32m----> 1\u001b[0m df_visualization(\u001b[43mdf_home_textiles\u001b[49m)\n",
            "\u001b[0;31mNameError\u001b[0m: name 'df_home_textiles' is not defined"
          ],
          "output_type": "error"
        }
      ],
      "execution_count": 56
    },
    {
      "cell_type": "code",
      "source": "df_visualization2(df_home_textiles)",
      "metadata": {
        "trusted": true
      },
      "outputs": [
        {
          "ename": "<class 'NameError'>",
          "evalue": "name 'df_home_textiles' is not defined",
          "traceback": [
            "\u001b[0;31m---------------------------------------------------------------------------\u001b[0m",
            "\u001b[0;31mNameError\u001b[0m                                 Traceback (most recent call last)",
            "Cell \u001b[0;32mIn[57], line 1\u001b[0m\n\u001b[0;32m----> 1\u001b[0m df_visualization2(\u001b[43mdf_home_textiles\u001b[49m)\n",
            "\u001b[0;31mNameError\u001b[0m: name 'df_home_textiles' is not defined"
          ],
          "output_type": "error"
        }
      ],
      "execution_count": 57
    },
    {
      "cell_type": "markdown",
      "source": "**Вывод по сегментации покупателей:**  \n  \nПроанализировав графики обоих сегментов мы видим, что покупательская активность чаще снижается, чем в общем датафрейме, а если точнее, то в общей выборке в 38% случаев покупательская активность снизилась, а в самых популярных категориях Товаря для детей и Домашний текстиль покупательская активность снизилась в 44% и 40% случаев соответственно.  \n  \n**Увеличить покупательскую активность в данных категориях покупателей можно следующими методами:**  \n  - Для категории \"Товары для детей\" можно проводить сезонные распродажы, к примеру, к началу учебного года. Так же можно реализовать программу бонусов за покупки, делать дополнительные скидки в праздники и таким образом покупательская активность может возрасти.  \n  - С категорией \"Домашний текстиль\" почти тоже самое, можно проводить распродажы в зависимости от сезона и так же предоставлять скидки, например, на наборы товаров, чтобы заинтересовать клиентов покупать большее количество товаров.",
      "metadata": {}
    },
    {
      "cell_type": "markdown",
      "source": "## Итоговый вывод по исследованию",
      "metadata": {}
    },
    {
      "cell_type": "markdown",
      "source": "**Описание задачи:**  \n  \nУ нас была задача разработать решение, которое позволит персонализировать предложения постоянным клиентам, чтобы увеличить их покупательскую активность. Необходимо было построить модель, которая предскажет вероятность снижения покупательской активности клиента в следующие три месяца. Используя данные модели и данные о прибыльности клиентов, нужно было выделить сегменты покупателей и разработать для них персонализированные предложения.  \n  \nВ исследовании мы использовали 4 таблицы с данными:  \n - В первой таблице была информация о поведении покупателя на сайте, о коммуникациях с покупателем и его продуктовом поведении. \n - Вторая таблица включала в себя данные о выручке, которую получает магазин с покупателя, то есть сколько покупатель всего потратил за период взаимодействия с сайтом.  \n - В третьей таблицы были данные о времени (в минутах), которое покупатель провёл на сайте в течение периода.  \n - И последняя таблица содержала данные о среднемесячной прибыли покупателя за последние 3 месяца: какую прибыль получает магазин от продаж каждому покупателю.  \n  \nВ данных остутствовали пропуски и так же не было дубликатов. Во всех таблицах была информация о 1300 пользователях. Было несколько опечаток, которые в итоге были исправленны и все таблицы объединены в один датафрейм.  \n  \n**Лучшая модель:**  \n  \nЛучшей моделью получилась Логистическая регрессия с такими гиперпараметрами как, random_state=77, C=1, penalty='l1', solver='liblinear'. Показатели метрик качества модели на тренировочной и тестовой выборке были равны 0.89.  \n  \nНаиболее влиятельными признаками на покупательскую активность оказались **\"Средний_просмотр_категорий_за_визит\"**, **\"минуты_предыдущий_месяц\"**, **\"Страниц_за_визит\"**, **\"минуты_текущий_месяц\"**.  \n  \n**Выводы и дополнительные предложения для выбранного сегмента покупателей:**  \n  \nПроанализировав графики обоих сегментов мы видим, что покупательская активность чаще снижается, чем в общем датафрейме, а если точнее, то в общей выборке в 38% случаев покупательская активность снизилась, а в самых популярных категориях Товаря для детей и Домашний текстиль покупательская активность снизилась в 44% и 40% случаев соответственно.  \n  \nУвеличить покупательскую активность в данных категориях покупателей можно следующими методами:  \n  - Для категории \"Товары для детей\" можно проводить сезонные распродажы, к примеру, к началу учебного года. Так же можно реализовать программу бонусов за покупки, делать дополнительные скидки в праздники и таким образом покупательская активность может возрасти.  \n  - С категорией \"Домашний текстиль\" почти тоже самое, можно проводить распродажы в зависимости от сезона и так же предоставлять скидки, например, на наборы товаров, чтобы заинтересовать клиентов покупать большее количество товаров.",
      "metadata": {}
    }
  ]
}